{
 "cells": [
  {
   "cell_type": "markdown",
   "metadata": {},
   "source": [
    "## Convirtiendo tramas de datos de pandas a conjuntos de numpy o diccionarios\n",
    "Muchas veces se va a requerir trabajar con tramas de datos en numpy debirdo a que muchas librerias no aceptan pandas, en especial las estadisticas.\n",
    "para hacer esto, solo hay que hacer \n",
    "df.to_numpy "
   ]
  },
  {
   "cell_type": "code",
   "execution_count": 1,
   "metadata": {},
   "outputs": [],
   "source": [
    "import pandas as pd\n",
    "filename='/Users/matiasinostrozacifuentes/Desktop/python_intro/DataScienceUnilever2022/Track 1/Clases/2-Pandas/data/linear.csv'\n",
    "df=pd.read_csv(filename)"
   ]
  },
  {
   "cell_type": "code",
   "execution_count": 2,
   "metadata": {},
   "outputs": [
    {
     "data": {
      "text/html": [
       "<div>\n",
       "<style scoped>\n",
       "    .dataframe tbody tr th:only-of-type {\n",
       "        vertical-align: middle;\n",
       "    }\n",
       "\n",
       "    .dataframe tbody tr th {\n",
       "        vertical-align: top;\n",
       "    }\n",
       "\n",
       "    .dataframe thead th {\n",
       "        text-align: right;\n",
       "    }\n",
       "</style>\n",
       "<table border=\"1\" class=\"dataframe\">\n",
       "  <thead>\n",
       "    <tr style=\"text-align: right;\">\n",
       "      <th></th>\n",
       "      <th>x</th>\n",
       "      <th>y</th>\n",
       "    </tr>\n",
       "  </thead>\n",
       "  <tbody>\n",
       "    <tr>\n",
       "      <th>0</th>\n",
       "      <td>0.000000</td>\n",
       "      <td>-51.000000</td>\n",
       "    </tr>\n",
       "    <tr>\n",
       "      <th>1</th>\n",
       "      <td>25.000000</td>\n",
       "      <td>-12.000000</td>\n",
       "    </tr>\n",
       "    <tr>\n",
       "      <th>2</th>\n",
       "      <td>117.583220</td>\n",
       "      <td>134.907414</td>\n",
       "    </tr>\n",
       "    <tr>\n",
       "      <th>3</th>\n",
       "      <td>108.922466</td>\n",
       "      <td>134.085180</td>\n",
       "    </tr>\n",
       "    <tr>\n",
       "      <th>4</th>\n",
       "      <td>69.887445</td>\n",
       "      <td>NaN</td>\n",
       "    </tr>\n",
       "    <tr>\n",
       "      <th>...</th>\n",
       "      <td>...</td>\n",
       "      <td>...</td>\n",
       "    </tr>\n",
       "    <tr>\n",
       "      <th>97</th>\n",
       "      <td>120.740859</td>\n",
       "      <td>133.922297</td>\n",
       "    </tr>\n",
       "    <tr>\n",
       "      <th>98</th>\n",
       "      <td>100.179788</td>\n",
       "      <td>126.827116</td>\n",
       "    </tr>\n",
       "    <tr>\n",
       "      <th>99</th>\n",
       "      <td>59.333765</td>\n",
       "      <td>50.257797</td>\n",
       "    </tr>\n",
       "    <tr>\n",
       "      <th>100</th>\n",
       "      <td>120.157757</td>\n",
       "      <td>144.754676</td>\n",
       "    </tr>\n",
       "    <tr>\n",
       "      <th>101</th>\n",
       "      <td>115.539152</td>\n",
       "      <td>120.697309</td>\n",
       "    </tr>\n",
       "  </tbody>\n",
       "</table>\n",
       "<p>102 rows × 2 columns</p>\n",
       "</div>"
      ],
      "text/plain": [
       "              x           y\n",
       "0      0.000000  -51.000000\n",
       "1     25.000000  -12.000000\n",
       "2    117.583220  134.907414\n",
       "3    108.922466  134.085180\n",
       "4     69.887445         NaN\n",
       "..          ...         ...\n",
       "97   120.740859  133.922297\n",
       "98   100.179788  126.827116\n",
       "99    59.333765   50.257797\n",
       "100  120.157757  144.754676\n",
       "101  115.539152  120.697309\n",
       "\n",
       "[102 rows x 2 columns]"
      ]
     },
     "execution_count": 2,
     "metadata": {},
     "output_type": "execute_result"
    }
   ],
   "source": [
    "df"
   ]
  },
  {
   "cell_type": "code",
   "execution_count": 3,
   "metadata": {},
   "outputs": [
    {
     "data": {
      "text/plain": [
       "array([[  0.        , -51.        ],\n",
       "       [ 25.        , -12.        ],\n",
       "       [117.5832198 , 134.9074137 ],\n",
       "       [108.9224662 , 134.0851795 ],\n",
       "       [ 69.88744536,          nan],\n",
       "       [ 96.83998269, 114.5306376 ],\n",
       "       [ 51.77594025,  31.37643731],\n",
       "       [ 35.01673734,   8.76463417],\n",
       "       [ 79.45764646,  73.28534128],\n",
       "       [ 45.3449093 ,  18.85986466],\n",
       "       [ 77.76713229,  72.9466086 ],\n",
       "       [ 55.85663802,  28.63728633],\n",
       "       [ 51.8290553 ,  27.18413784],\n",
       "       [ 36.07902502,  15.46895475],\n",
       "       [ 80.63255196,  77.25552457],\n",
       "       [124.4126644 , 147.817536  ],\n",
       "       [ 38.88238694,  29.62914801],\n",
       "       [ 85.24501874,  92.31571653],\n",
       "       [105.4849878 , 111.063745  ],\n",
       "       [ 36.82741469,   2.79748519],\n",
       "       [ 98.61682009,  98.22796195],\n",
       "       [102.1309415 , 117.0827211 ],\n",
       "       [101.9740862 , 111.1555591 ],\n",
       "       [122.5816416 , 147.0235042 ],\n",
       "       [ 96.36839009,  99.62870641],\n",
       "       [ 64.89044698,  47.94620302],\n",
       "       [ 81.87156504,  80.51588907],\n",
       "       [ 83.46634106,  76.65159462],\n",
       "       [129.9988213 , 155.5832066 ],\n",
       "       [129.5934245 , 155.830527  ],\n",
       "       [ 71.30088195,  52.64410294],\n",
       "       [ 89.63463319, 100.3291952 ],\n",
       "       [ 82.74502445,  67.03050817],\n",
       "       [ 84.29777124,  80.8896434 ],\n",
       "       [ 93.6549342 ,  96.20409384],\n",
       "       [ 37.33160529,  -6.2362947 ],\n",
       "       [ 52.16604202,  23.5571594 ],\n",
       "       [104.833943  , 107.7810191 ],\n",
       "       [106.4639932 , 112.883657  ],\n",
       "       [ 79.51558318,  72.00317212],\n",
       "       [ 41.4999434 ,  20.25934009],\n",
       "       [113.6214443 , 131.04384   ],\n",
       "       [ 90.20451127,  94.77986788],\n",
       "       [ 52.56692661,  28.21059566],\n",
       "       [ 40.50463433,  14.17040121],\n",
       "       [ 43.45292157,  23.19979105],\n",
       "       [122.1252001 , 147.1272496 ],\n",
       "       [ 55.16828222,  46.89089049],\n",
       "       [ 96.44691123, 105.7562824 ],\n",
       "       [119.2731974 , 126.4660848 ],\n",
       "       [ 52.19022426,  42.06951797],\n",
       "       [114.8983489 , 138.6278072 ],\n",
       "       [126.0412086 , 139.406306  ],\n",
       "       [ 93.14307012,          nan],\n",
       "       [131.1618641 , 163.3539583 ],\n",
       "       [ 55.35872543,  38.22375858],\n",
       "       [ 94.59612783, 105.0461097 ],\n",
       "       [ 75.91878744,  68.54098922],\n",
       "       [ 96.9481879 , 100.2372769 ],\n",
       "       [ 40.11139299,  15.2017754 ],\n",
       "       [ 95.54238786,          nan],\n",
       "       [ 66.46740141,  60.2143421 ],\n",
       "       [120.6995729 ,          nan],\n",
       "       [104.2402942 , 113.9349495 ],\n",
       "       [ 82.65762179,          nan],\n",
       "       [105.5341749 ,          nan],\n",
       "       [ 87.34855969,  85.16272742],\n",
       "       [ 69.40200784,  53.37775696],\n",
       "       [127.3248623 , 160.4954569 ],\n",
       "       [ 64.43689333,  43.39435848],\n",
       "       [ 66.26465895,  58.1736831 ],\n",
       "       [ 90.30720045,  81.64306345],\n",
       "       [ 89.4048535 ,  87.64350868],\n",
       "       [114.4503884 , 135.3976986 ],\n",
       "       [134.4322939 , 159.0736094 ],\n",
       "       [131.7902232 , 161.3630997 ],\n",
       "       [ 99.56304732,  91.64481237],\n",
       "       [132.7401928 , 166.1645443 ],\n",
       "       [ 70.99088679,  54.86400482],\n",
       "       [ 87.9094701 ,  78.97916469],\n",
       "       [123.5807212 , 141.1303998 ],\n",
       "       [107.6435614 , 119.0882793 ],\n",
       "       [116.3612443 , 136.2293706 ],\n",
       "       [ 62.73766606,  35.03959082],\n",
       "       [112.0489047 , 130.8072421 ],\n",
       "       [119.861603  , 136.2239313 ],\n",
       "       [ 59.14093284,  43.34977918],\n",
       "       [ 95.30589341, 106.1847674 ],\n",
       "       [103.0198215 , 121.2744298 ],\n",
       "       [109.2183446 , 115.1818431 ],\n",
       "       [117.360594  , 137.4299149 ],\n",
       "       [ 39.5196786 ,  16.02640021],\n",
       "       [ 37.54642469,          nan],\n",
       "       [129.9626909 , 141.0131341 ],\n",
       "       [ 35.91420463,          nan],\n",
       "       [ 43.85421968,  13.45049208],\n",
       "       [ 72.88414185,  61.50699688],\n",
       "       [120.7408594 , 133.9222973 ],\n",
       "       [100.1797881 , 126.8271164 ],\n",
       "       [ 59.33376537,  50.25779685],\n",
       "       [120.1577567 , 144.7546765 ],\n",
       "       [115.5391524 , 120.6973091 ]])"
      ]
     },
     "execution_count": 3,
     "metadata": {},
     "output_type": "execute_result"
    }
   ],
   "source": [
    "df.to_numpy()"
   ]
  },
  {
   "cell_type": "markdown",
   "metadata": {},
   "source": [
    "otra forma de hacerlo"
   ]
  },
  {
   "cell_type": "code",
   "execution_count": 4,
   "metadata": {},
   "outputs": [
    {
     "data": {
      "text/plain": [
       "array([[  0.        , -51.        ],\n",
       "       [ 25.        , -12.        ],\n",
       "       [117.5832198 , 134.9074137 ],\n",
       "       [108.9224662 , 134.0851795 ],\n",
       "       [ 69.88744536,          nan],\n",
       "       [ 96.83998269, 114.5306376 ],\n",
       "       [ 51.77594025,  31.37643731],\n",
       "       [ 35.01673734,   8.76463417],\n",
       "       [ 79.45764646,  73.28534128],\n",
       "       [ 45.3449093 ,  18.85986466],\n",
       "       [ 77.76713229,  72.9466086 ],\n",
       "       [ 55.85663802,  28.63728633],\n",
       "       [ 51.8290553 ,  27.18413784],\n",
       "       [ 36.07902502,  15.46895475],\n",
       "       [ 80.63255196,  77.25552457],\n",
       "       [124.4126644 , 147.817536  ],\n",
       "       [ 38.88238694,  29.62914801],\n",
       "       [ 85.24501874,  92.31571653],\n",
       "       [105.4849878 , 111.063745  ],\n",
       "       [ 36.82741469,   2.79748519],\n",
       "       [ 98.61682009,  98.22796195],\n",
       "       [102.1309415 , 117.0827211 ],\n",
       "       [101.9740862 , 111.1555591 ],\n",
       "       [122.5816416 , 147.0235042 ],\n",
       "       [ 96.36839009,  99.62870641],\n",
       "       [ 64.89044698,  47.94620302],\n",
       "       [ 81.87156504,  80.51588907],\n",
       "       [ 83.46634106,  76.65159462],\n",
       "       [129.9988213 , 155.5832066 ],\n",
       "       [129.5934245 , 155.830527  ],\n",
       "       [ 71.30088195,  52.64410294],\n",
       "       [ 89.63463319, 100.3291952 ],\n",
       "       [ 82.74502445,  67.03050817],\n",
       "       [ 84.29777124,  80.8896434 ],\n",
       "       [ 93.6549342 ,  96.20409384],\n",
       "       [ 37.33160529,  -6.2362947 ],\n",
       "       [ 52.16604202,  23.5571594 ],\n",
       "       [104.833943  , 107.7810191 ],\n",
       "       [106.4639932 , 112.883657  ],\n",
       "       [ 79.51558318,  72.00317212],\n",
       "       [ 41.4999434 ,  20.25934009],\n",
       "       [113.6214443 , 131.04384   ],\n",
       "       [ 90.20451127,  94.77986788],\n",
       "       [ 52.56692661,  28.21059566],\n",
       "       [ 40.50463433,  14.17040121],\n",
       "       [ 43.45292157,  23.19979105],\n",
       "       [122.1252001 , 147.1272496 ],\n",
       "       [ 55.16828222,  46.89089049],\n",
       "       [ 96.44691123, 105.7562824 ],\n",
       "       [119.2731974 , 126.4660848 ],\n",
       "       [ 52.19022426,  42.06951797],\n",
       "       [114.8983489 , 138.6278072 ],\n",
       "       [126.0412086 , 139.406306  ],\n",
       "       [ 93.14307012,          nan],\n",
       "       [131.1618641 , 163.3539583 ],\n",
       "       [ 55.35872543,  38.22375858],\n",
       "       [ 94.59612783, 105.0461097 ],\n",
       "       [ 75.91878744,  68.54098922],\n",
       "       [ 96.9481879 , 100.2372769 ],\n",
       "       [ 40.11139299,  15.2017754 ],\n",
       "       [ 95.54238786,          nan],\n",
       "       [ 66.46740141,  60.2143421 ],\n",
       "       [120.6995729 ,          nan],\n",
       "       [104.2402942 , 113.9349495 ],\n",
       "       [ 82.65762179,          nan],\n",
       "       [105.5341749 ,          nan],\n",
       "       [ 87.34855969,  85.16272742],\n",
       "       [ 69.40200784,  53.37775696],\n",
       "       [127.3248623 , 160.4954569 ],\n",
       "       [ 64.43689333,  43.39435848],\n",
       "       [ 66.26465895,  58.1736831 ],\n",
       "       [ 90.30720045,  81.64306345],\n",
       "       [ 89.4048535 ,  87.64350868],\n",
       "       [114.4503884 , 135.3976986 ],\n",
       "       [134.4322939 , 159.0736094 ],\n",
       "       [131.7902232 , 161.3630997 ],\n",
       "       [ 99.56304732,  91.64481237],\n",
       "       [132.7401928 , 166.1645443 ],\n",
       "       [ 70.99088679,  54.86400482],\n",
       "       [ 87.9094701 ,  78.97916469],\n",
       "       [123.5807212 , 141.1303998 ],\n",
       "       [107.6435614 , 119.0882793 ],\n",
       "       [116.3612443 , 136.2293706 ],\n",
       "       [ 62.73766606,  35.03959082],\n",
       "       [112.0489047 , 130.8072421 ],\n",
       "       [119.861603  , 136.2239313 ],\n",
       "       [ 59.14093284,  43.34977918],\n",
       "       [ 95.30589341, 106.1847674 ],\n",
       "       [103.0198215 , 121.2744298 ],\n",
       "       [109.2183446 , 115.1818431 ],\n",
       "       [117.360594  , 137.4299149 ],\n",
       "       [ 39.5196786 ,  16.02640021],\n",
       "       [ 37.54642469,          nan],\n",
       "       [129.9626909 , 141.0131341 ],\n",
       "       [ 35.91420463,          nan],\n",
       "       [ 43.85421968,  13.45049208],\n",
       "       [ 72.88414185,  61.50699688],\n",
       "       [120.7408594 , 133.9222973 ],\n",
       "       [100.1797881 , 126.8271164 ],\n",
       "       [ 59.33376537,  50.25779685],\n",
       "       [120.1577567 , 144.7546765 ],\n",
       "       [115.5391524 , 120.6973091 ]])"
      ]
     },
     "execution_count": 4,
     "metadata": {},
     "output_type": "execute_result"
    }
   ],
   "source": [
    "df.values"
   ]
  },
  {
   "cell_type": "markdown",
   "metadata": {},
   "source": [
    "## Tranformandolo a un diccionario"
   ]
  },
  {
   "cell_type": "code",
   "execution_count": 7,
   "metadata": {},
   "outputs": [
    {
     "data": {
      "text/plain": [
       "{'x': {0: 0.0,\n",
       "  1: 25.0,\n",
       "  2: 117.5832198,\n",
       "  3: 108.9224662,\n",
       "  4: 69.88744536,\n",
       "  5: 96.83998269,\n",
       "  6: 51.77594025,\n",
       "  7: 35.01673734,\n",
       "  8: 79.45764646,\n",
       "  9: 45.3449093,\n",
       "  10: 77.76713229,\n",
       "  11: 55.85663802,\n",
       "  12: 51.8290553,\n",
       "  13: 36.07902502,\n",
       "  14: 80.63255196,\n",
       "  15: 124.4126644,\n",
       "  16: 38.88238694,\n",
       "  17: 85.24501874,\n",
       "  18: 105.4849878,\n",
       "  19: 36.82741469,\n",
       "  20: 98.61682009,\n",
       "  21: 102.1309415,\n",
       "  22: 101.9740862,\n",
       "  23: 122.5816416,\n",
       "  24: 96.36839009,\n",
       "  25: 64.89044698,\n",
       "  26: 81.87156504,\n",
       "  27: 83.46634106,\n",
       "  28: 129.9988213,\n",
       "  29: 129.5934245,\n",
       "  30: 71.30088195,\n",
       "  31: 89.63463319,\n",
       "  32: 82.74502445,\n",
       "  33: 84.29777124,\n",
       "  34: 93.6549342,\n",
       "  35: 37.33160529,\n",
       "  36: 52.16604202,\n",
       "  37: 104.833943,\n",
       "  38: 106.4639932,\n",
       "  39: 79.51558318,\n",
       "  40: 41.4999434,\n",
       "  41: 113.6214443,\n",
       "  42: 90.20451127,\n",
       "  43: 52.56692661,\n",
       "  44: 40.50463433,\n",
       "  45: 43.45292157,\n",
       "  46: 122.1252001,\n",
       "  47: 55.16828222,\n",
       "  48: 96.44691123,\n",
       "  49: 119.2731974,\n",
       "  50: 52.19022426,\n",
       "  51: 114.8983489,\n",
       "  52: 126.0412086,\n",
       "  53: 93.14307012,\n",
       "  54: 131.1618641,\n",
       "  55: 55.35872543,\n",
       "  56: 94.59612783,\n",
       "  57: 75.91878744,\n",
       "  58: 96.9481879,\n",
       "  59: 40.11139299,\n",
       "  60: 95.54238786,\n",
       "  61: 66.46740141,\n",
       "  62: 120.6995729,\n",
       "  63: 104.2402942,\n",
       "  64: 82.65762179,\n",
       "  65: 105.5341749,\n",
       "  66: 87.34855969,\n",
       "  67: 69.40200784,\n",
       "  68: 127.3248623,\n",
       "  69: 64.43689333,\n",
       "  70: 66.26465895,\n",
       "  71: 90.30720045,\n",
       "  72: 89.4048535,\n",
       "  73: 114.4503884,\n",
       "  74: 134.4322939,\n",
       "  75: 131.7902232,\n",
       "  76: 99.56304732,\n",
       "  77: 132.7401928,\n",
       "  78: 70.99088679,\n",
       "  79: 87.9094701,\n",
       "  80: 123.5807212,\n",
       "  81: 107.6435614,\n",
       "  82: 116.3612443,\n",
       "  83: 62.73766606,\n",
       "  84: 112.0489047,\n",
       "  85: 119.861603,\n",
       "  86: 59.14093284,\n",
       "  87: 95.30589341,\n",
       "  88: 103.0198215,\n",
       "  89: 109.2183446,\n",
       "  90: 117.360594,\n",
       "  91: 39.5196786,\n",
       "  92: 37.54642469,\n",
       "  93: 129.9626909,\n",
       "  94: 35.91420463,\n",
       "  95: 43.85421968,\n",
       "  96: 72.88414185,\n",
       "  97: 120.7408594,\n",
       "  98: 100.1797881,\n",
       "  99: 59.33376537,\n",
       "  100: 120.1577567,\n",
       "  101: 115.5391524},\n",
       " 'y': {0: -51.0,\n",
       "  1: -12.0,\n",
       "  2: 134.9074137,\n",
       "  3: 134.0851795,\n",
       "  4: nan,\n",
       "  5: 114.5306376,\n",
       "  6: 31.37643731,\n",
       "  7: 8.764634165,\n",
       "  8: 73.28534128,\n",
       "  9: 18.85986466,\n",
       "  10: 72.9466086,\n",
       "  11: 28.63728633,\n",
       "  12: 27.18413784,\n",
       "  13: 15.46895475,\n",
       "  14: 77.25552457,\n",
       "  15: 147.817536,\n",
       "  16: 29.62914801,\n",
       "  17: 92.31571653,\n",
       "  18: 111.063745,\n",
       "  19: 2.797485194,\n",
       "  20: 98.22796195,\n",
       "  21: 117.0827211,\n",
       "  22: 111.1555591,\n",
       "  23: 147.0235042,\n",
       "  24: 99.62870641,\n",
       "  25: 47.94620302,\n",
       "  26: 80.51588907,\n",
       "  27: 76.65159462,\n",
       "  28: 155.5832066,\n",
       "  29: 155.830527,\n",
       "  30: 52.64410294,\n",
       "  31: 100.3291952,\n",
       "  32: 67.03050817,\n",
       "  33: 80.8896434,\n",
       "  34: 96.20409384,\n",
       "  35: -6.236294705,\n",
       "  36: 23.5571594,\n",
       "  37: 107.7810191,\n",
       "  38: 112.883657,\n",
       "  39: 72.00317212,\n",
       "  40: 20.25934009,\n",
       "  41: 131.04384,\n",
       "  42: 94.77986788,\n",
       "  43: 28.21059566,\n",
       "  44: 14.17040121,\n",
       "  45: 23.19979105,\n",
       "  46: 147.1272496,\n",
       "  47: 46.89089049,\n",
       "  48: 105.7562824,\n",
       "  49: 126.4660848,\n",
       "  50: 42.06951797,\n",
       "  51: 138.6278072,\n",
       "  52: 139.406306,\n",
       "  53: nan,\n",
       "  54: 163.3539583,\n",
       "  55: 38.22375858,\n",
       "  56: 105.0461097,\n",
       "  57: 68.54098922,\n",
       "  58: 100.2372769,\n",
       "  59: 15.2017754,\n",
       "  60: nan,\n",
       "  61: 60.2143421,\n",
       "  62: nan,\n",
       "  63: 113.9349495,\n",
       "  64: nan,\n",
       "  65: nan,\n",
       "  66: 85.16272742,\n",
       "  67: 53.37775696,\n",
       "  68: 160.4954569,\n",
       "  69: 43.39435848,\n",
       "  70: 58.1736831,\n",
       "  71: 81.64306345,\n",
       "  72: 87.64350868,\n",
       "  73: 135.3976986,\n",
       "  74: 159.0736094,\n",
       "  75: 161.3630997,\n",
       "  76: 91.64481237,\n",
       "  77: 166.1645443,\n",
       "  78: 54.86400482,\n",
       "  79: 78.97916469,\n",
       "  80: 141.1303998,\n",
       "  81: 119.0882793,\n",
       "  82: 136.2293706,\n",
       "  83: 35.03959082,\n",
       "  84: 130.8072421,\n",
       "  85: 136.2239313,\n",
       "  86: 43.34977918,\n",
       "  87: 106.1847674,\n",
       "  88: 121.2744298,\n",
       "  89: 115.1818431,\n",
       "  90: 137.4299149,\n",
       "  91: 16.02640021,\n",
       "  92: nan,\n",
       "  93: 141.0131341,\n",
       "  94: nan,\n",
       "  95: 13.45049208,\n",
       "  96: 61.50699688,\n",
       "  97: 133.9222973,\n",
       "  98: 126.8271164,\n",
       "  99: 50.25779685,\n",
       "  100: 144.7546765,\n",
       "  101: 120.6973091}}"
      ]
     },
     "execution_count": 7,
     "metadata": {},
     "output_type": "execute_result"
    }
   ],
   "source": [
    "df.to_dict()"
   ]
  },
  {
   "cell_type": "markdown",
   "metadata": {},
   "source": [
    "para suprimir una salida automatica solo hay que agregar el \";\""
   ]
  },
  {
   "cell_type": "code",
   "execution_count": 8,
   "metadata": {},
   "outputs": [],
   "source": [
    "df.to_dict();"
   ]
  },
  {
   "cell_type": "markdown",
   "metadata": {},
   "source": [
    "---\n",
    "### Exportando tramas de datos a csv o excel\n",
    "Imagina que en un principio cargas una base, luego la filtras y posterior a eso quieres que la nueva base te quede guardada en un nuevo tipo de archivo, esto se hace con:\n",
    "\n",
    "* df.to_csv()\n",
    "* df.to_excel()"
   ]
  },
  {
   "cell_type": "code",
   "execution_count": 9,
   "metadata": {},
   "outputs": [],
   "source": [
    "filename1=\"/Users/matiasinostrozacifuentes/Desktop/python_intro/DataScienceUnilever2022/Track 1/Clases/2-Pandas/data/mortgages.csv\"\n",
    "df1=pd.read_csv(filename1)"
   ]
  },
  {
   "cell_type": "markdown",
   "metadata": {},
   "source": [
    "Filtrando la trama de datos"
   ]
  },
  {
   "cell_type": "code",
   "execution_count": 11,
   "metadata": {},
   "outputs": [
    {
     "data": {
      "text/html": [
       "<div>\n",
       "<style scoped>\n",
       "    .dataframe tbody tr th:only-of-type {\n",
       "        vertical-align: middle;\n",
       "    }\n",
       "\n",
       "    .dataframe tbody tr th {\n",
       "        vertical-align: top;\n",
       "    }\n",
       "\n",
       "    .dataframe thead th {\n",
       "        text-align: right;\n",
       "    }\n",
       "</style>\n",
       "<table border=\"1\" class=\"dataframe\">\n",
       "  <thead>\n",
       "    <tr style=\"text-align: right;\">\n",
       "      <th></th>\n",
       "      <th>Month</th>\n",
       "      <th>Starting Balance</th>\n",
       "      <th>Repayment</th>\n",
       "      <th>Interest Paid</th>\n",
       "      <th>Principal Paid</th>\n",
       "      <th>New Balance</th>\n",
       "      <th>Mortgage Name</th>\n",
       "      <th>Interest Rate</th>\n",
       "    </tr>\n",
       "  </thead>\n",
       "  <tbody>\n",
       "    <tr>\n",
       "      <th>0</th>\n",
       "      <td>1</td>\n",
       "      <td>400000.00</td>\n",
       "      <td>1686.42</td>\n",
       "      <td>1000.00</td>\n",
       "      <td>686.42</td>\n",
       "      <td>399313.58</td>\n",
       "      <td>30 Year</td>\n",
       "      <td>0.03</td>\n",
       "    </tr>\n",
       "    <tr>\n",
       "      <th>1</th>\n",
       "      <td>2</td>\n",
       "      <td>399313.58</td>\n",
       "      <td>1686.42</td>\n",
       "      <td>998.28</td>\n",
       "      <td>688.14</td>\n",
       "      <td>398625.44</td>\n",
       "      <td>30 Year</td>\n",
       "      <td>0.03</td>\n",
       "    </tr>\n",
       "    <tr>\n",
       "      <th>2</th>\n",
       "      <td>3</td>\n",
       "      <td>398625.44</td>\n",
       "      <td>1686.42</td>\n",
       "      <td>996.56</td>\n",
       "      <td>689.86</td>\n",
       "      <td>397935.58</td>\n",
       "      <td>30 Year</td>\n",
       "      <td>0.03</td>\n",
       "    </tr>\n",
       "    <tr>\n",
       "      <th>3</th>\n",
       "      <td>4</td>\n",
       "      <td>397935.58</td>\n",
       "      <td>1686.42</td>\n",
       "      <td>994.83</td>\n",
       "      <td>691.59</td>\n",
       "      <td>397243.99</td>\n",
       "      <td>30 Year</td>\n",
       "      <td>0.03</td>\n",
       "    </tr>\n",
       "    <tr>\n",
       "      <th>4</th>\n",
       "      <td>5</td>\n",
       "      <td>397243.99</td>\n",
       "      <td>1686.42</td>\n",
       "      <td>993.10</td>\n",
       "      <td>693.32</td>\n",
       "      <td>396550.67</td>\n",
       "      <td>30 Year</td>\n",
       "      <td>0.03</td>\n",
       "    </tr>\n",
       "    <tr>\n",
       "      <th>...</th>\n",
       "      <td>...</td>\n",
       "      <td>...</td>\n",
       "      <td>...</td>\n",
       "      <td>...</td>\n",
       "      <td>...</td>\n",
       "      <td>...</td>\n",
       "      <td>...</td>\n",
       "      <td>...</td>\n",
       "    </tr>\n",
       "    <tr>\n",
       "      <th>355</th>\n",
       "      <td>356</td>\n",
       "      <td>8364.12</td>\n",
       "      <td>1686.42</td>\n",
       "      <td>20.91</td>\n",
       "      <td>1665.51</td>\n",
       "      <td>6698.61</td>\n",
       "      <td>30 Year</td>\n",
       "      <td>0.03</td>\n",
       "    </tr>\n",
       "    <tr>\n",
       "      <th>356</th>\n",
       "      <td>357</td>\n",
       "      <td>6698.61</td>\n",
       "      <td>1686.42</td>\n",
       "      <td>16.74</td>\n",
       "      <td>1669.68</td>\n",
       "      <td>5028.93</td>\n",
       "      <td>30 Year</td>\n",
       "      <td>0.03</td>\n",
       "    </tr>\n",
       "    <tr>\n",
       "      <th>357</th>\n",
       "      <td>358</td>\n",
       "      <td>5028.93</td>\n",
       "      <td>1686.42</td>\n",
       "      <td>12.57</td>\n",
       "      <td>1673.85</td>\n",
       "      <td>3355.08</td>\n",
       "      <td>30 Year</td>\n",
       "      <td>0.03</td>\n",
       "    </tr>\n",
       "    <tr>\n",
       "      <th>358</th>\n",
       "      <td>359</td>\n",
       "      <td>3355.08</td>\n",
       "      <td>1686.42</td>\n",
       "      <td>8.38</td>\n",
       "      <td>1678.04</td>\n",
       "      <td>1677.04</td>\n",
       "      <td>30 Year</td>\n",
       "      <td>0.03</td>\n",
       "    </tr>\n",
       "    <tr>\n",
       "      <th>359</th>\n",
       "      <td>360</td>\n",
       "      <td>1677.04</td>\n",
       "      <td>1686.42</td>\n",
       "      <td>4.19</td>\n",
       "      <td>1682.23</td>\n",
       "      <td>-5.19</td>\n",
       "      <td>30 Year</td>\n",
       "      <td>0.03</td>\n",
       "    </tr>\n",
       "  </tbody>\n",
       "</table>\n",
       "<p>360 rows × 8 columns</p>\n",
       "</div>"
      ],
      "text/plain": [
       "     Month  Starting Balance  Repayment  Interest Paid  Principal Paid  \\\n",
       "0        1         400000.00    1686.42        1000.00          686.42   \n",
       "1        2         399313.58    1686.42         998.28          688.14   \n",
       "2        3         398625.44    1686.42         996.56          689.86   \n",
       "3        4         397935.58    1686.42         994.83          691.59   \n",
       "4        5         397243.99    1686.42         993.10          693.32   \n",
       "..     ...               ...        ...            ...             ...   \n",
       "355    356           8364.12    1686.42          20.91         1665.51   \n",
       "356    357           6698.61    1686.42          16.74         1669.68   \n",
       "357    358           5028.93    1686.42          12.57         1673.85   \n",
       "358    359           3355.08    1686.42           8.38         1678.04   \n",
       "359    360           1677.04    1686.42           4.19         1682.23   \n",
       "\n",
       "     New Balance Mortgage Name  Interest Rate  \n",
       "0      399313.58       30 Year           0.03  \n",
       "1      398625.44       30 Year           0.03  \n",
       "2      397935.58       30 Year           0.03  \n",
       "3      397243.99       30 Year           0.03  \n",
       "4      396550.67       30 Year           0.03  \n",
       "..           ...           ...            ...  \n",
       "355      6698.61       30 Year           0.03  \n",
       "356      5028.93       30 Year           0.03  \n",
       "357      3355.08       30 Year           0.03  \n",
       "358      1677.04       30 Year           0.03  \n",
       "359        -5.19       30 Year           0.03  \n",
       "\n",
       "[360 rows x 8 columns]"
      ]
     },
     "execution_count": 11,
     "metadata": {},
     "output_type": "execute_result"
    }
   ],
   "source": [
    "mortgage_filter = df1['Mortgage Name']=='30 Year'\n",
    "interest_filter = df1['Interest Rate']==0.03\n",
    "df1 = df1.loc[mortgage_filter & interest_filter, :]\n",
    "df1"
   ]
  },
  {
   "cell_type": "code",
   "execution_count": 12,
   "metadata": {},
   "outputs": [],
   "source": [
    "# Exportando a csv\n",
    "df1.to_csv(path_or_buf='oneMortage.csv',index=False)"
   ]
  },
  {
   "cell_type": "code",
   "execution_count": 13,
   "metadata": {},
   "outputs": [],
   "source": [
    "#exportando a excel\n",
    "df1.to_excel(excel_writer='oneMortage.xlsx',index=False)"
   ]
  },
  {
   "cell_type": "markdown",
   "metadata": {},
   "source": [
    "para obtener ayuda con los parametros de un metodo, solo hay que poner \n",
    "help(metodo):"
   ]
  },
  {
   "cell_type": "code",
   "execution_count": 14,
   "metadata": {},
   "outputs": [
    {
     "name": "stdout",
     "output_type": "stream",
     "text": [
      "Help on method to_csv in module pandas.core.generic:\n",
      "\n",
      "to_csv(path_or_buf: 'FilePathOrBuffer[AnyStr] | None' = None, sep: 'str' = ',', na_rep: 'str' = '', float_format: 'str | None' = None, columns: 'Sequence[Hashable] | None' = None, header: 'bool_t | list[str]' = True, index: 'bool_t' = True, index_label: 'IndexLabel | None' = None, mode: 'str' = 'w', encoding: 'str | None' = None, compression: 'CompressionOptions' = 'infer', quoting: 'int | None' = None, quotechar: 'str' = '\"', line_terminator: 'str | None' = None, chunksize: 'int | None' = None, date_format: 'str | None' = None, doublequote: 'bool_t' = True, escapechar: 'str | None' = None, decimal: 'str' = '.', errors: 'str' = 'strict', storage_options: 'StorageOptions' = None) -> 'str | None' method of pandas.core.frame.DataFrame instance\n",
      "    Write object to a comma-separated values (csv) file.\n",
      "    \n",
      "    Parameters\n",
      "    ----------\n",
      "    path_or_buf : str or file handle, default None\n",
      "        File path or object, if None is provided the result is returned as\n",
      "        a string.  If a non-binary file object is passed, it should be opened\n",
      "        with `newline=''`, disabling universal newlines. If a binary\n",
      "        file object is passed, `mode` might need to contain a `'b'`.\n",
      "    \n",
      "        .. versionchanged:: 1.2.0\n",
      "    \n",
      "           Support for binary file objects was introduced.\n",
      "    \n",
      "    sep : str, default ','\n",
      "        String of length 1. Field delimiter for the output file.\n",
      "    na_rep : str, default ''\n",
      "        Missing data representation.\n",
      "    float_format : str, default None\n",
      "        Format string for floating point numbers.\n",
      "    columns : sequence, optional\n",
      "        Columns to write.\n",
      "    header : bool or list of str, default True\n",
      "        Write out the column names. If a list of strings is given it is\n",
      "        assumed to be aliases for the column names.\n",
      "    index : bool, default True\n",
      "        Write row names (index).\n",
      "    index_label : str or sequence, or False, default None\n",
      "        Column label for index column(s) if desired. If None is given, and\n",
      "        `header` and `index` are True, then the index names are used. A\n",
      "        sequence should be given if the object uses MultiIndex. If\n",
      "        False do not print fields for index names. Use index_label=False\n",
      "        for easier importing in R.\n",
      "    mode : str\n",
      "        Python write mode, default 'w'.\n",
      "    encoding : str, optional\n",
      "        A string representing the encoding to use in the output file,\n",
      "        defaults to 'utf-8'. `encoding` is not supported if `path_or_buf`\n",
      "        is a non-binary file object.\n",
      "    compression : str or dict, default 'infer'\n",
      "        If str, represents compression mode. If dict, value at 'method' is\n",
      "        the compression mode. Compression mode may be any of the following\n",
      "        possible values: {'infer', 'gzip', 'bz2', 'zip', 'xz', None}. If\n",
      "        compression mode is 'infer' and `path_or_buf` is path-like, then\n",
      "        detect compression mode from the following extensions: '.gz',\n",
      "        '.bz2', '.zip' or '.xz'. (otherwise no compression). If dict given\n",
      "        and mode is one of {'zip', 'gzip', 'bz2'}, or inferred as\n",
      "        one of the above, other entries passed as\n",
      "        additional compression options.\n",
      "    \n",
      "        .. versionchanged:: 1.0.0\n",
      "    \n",
      "           May now be a dict with key 'method' as compression mode\n",
      "           and other entries as additional compression options if\n",
      "           compression mode is 'zip'.\n",
      "    \n",
      "        .. versionchanged:: 1.1.0\n",
      "    \n",
      "           Passing compression options as keys in dict is\n",
      "           supported for compression modes 'gzip' and 'bz2'\n",
      "           as well as 'zip'.\n",
      "    \n",
      "        .. versionchanged:: 1.2.0\n",
      "    \n",
      "            Compression is supported for binary file objects.\n",
      "    \n",
      "        .. versionchanged:: 1.2.0\n",
      "    \n",
      "            Previous versions forwarded dict entries for 'gzip' to\n",
      "            `gzip.open` instead of `gzip.GzipFile` which prevented\n",
      "            setting `mtime`.\n",
      "    \n",
      "    quoting : optional constant from csv module\n",
      "        Defaults to csv.QUOTE_MINIMAL. If you have set a `float_format`\n",
      "        then floats are converted to strings and thus csv.QUOTE_NONNUMERIC\n",
      "        will treat them as non-numeric.\n",
      "    quotechar : str, default '\\\"'\n",
      "        String of length 1. Character used to quote fields.\n",
      "    line_terminator : str, optional\n",
      "        The newline character or character sequence to use in the output\n",
      "        file. Defaults to `os.linesep`, which depends on the OS in which\n",
      "        this method is called ('\\\\n' for linux, '\\\\r\\\\n' for Windows, i.e.).\n",
      "    chunksize : int or None\n",
      "        Rows to write at a time.\n",
      "    date_format : str, default None\n",
      "        Format string for datetime objects.\n",
      "    doublequote : bool, default True\n",
      "        Control quoting of `quotechar` inside a field.\n",
      "    escapechar : str, default None\n",
      "        String of length 1. Character used to escape `sep` and `quotechar`\n",
      "        when appropriate.\n",
      "    decimal : str, default '.'\n",
      "        Character recognized as decimal separator. E.g. use ',' for\n",
      "        European data.\n",
      "    errors : str, default 'strict'\n",
      "        Specifies how encoding and decoding errors are to be handled.\n",
      "        See the errors argument for :func:`open` for a full list\n",
      "        of options.\n",
      "    \n",
      "        .. versionadded:: 1.1.0\n",
      "    \n",
      "    storage_options : dict, optional\n",
      "        Extra options that make sense for a particular storage connection, e.g.\n",
      "        host, port, username, password, etc. For HTTP(S) URLs the key-value pairs\n",
      "        are forwarded to ``urllib`` as header options. For other URLs (e.g.\n",
      "        starting with \"s3://\", and \"gcs://\") the key-value pairs are forwarded to\n",
      "        ``fsspec``. Please see ``fsspec`` and ``urllib`` for more details.\n",
      "    \n",
      "        .. versionadded:: 1.2.0\n",
      "    \n",
      "    Returns\n",
      "    -------\n",
      "    None or str\n",
      "        If path_or_buf is None, returns the resulting csv format as a\n",
      "        string. Otherwise returns None.\n",
      "    \n",
      "    See Also\n",
      "    --------\n",
      "    read_csv : Load a CSV file into a DataFrame.\n",
      "    to_excel : Write DataFrame to an Excel file.\n",
      "    \n",
      "    Examples\n",
      "    --------\n",
      "    >>> df = pd.DataFrame({'name': ['Raphael', 'Donatello'],\n",
      "    ...                    'mask': ['red', 'purple'],\n",
      "    ...                    'weapon': ['sai', 'bo staff']})\n",
      "    >>> df.to_csv(index=False)\n",
      "    'name,mask,weapon\\nRaphael,red,sai\\nDonatello,purple,bo staff\\n'\n",
      "    \n",
      "    Create 'out.zip' containing 'out.csv'\n",
      "    \n",
      "    >>> compression_opts = dict(method='zip',\n",
      "    ...                         archive_name='out.csv')  # doctest: +SKIP\n",
      "    >>> df.to_csv('out.zip', index=False,\n",
      "    ...           compression=compression_opts)  # doctest: +SKIP\n",
      "\n"
     ]
    }
   ],
   "source": [
    "help(df.to_csv)"
   ]
  },
  {
   "cell_type": "markdown",
   "metadata": {},
   "source": [
    "---\n",
    "## Métodos de agregación\n",
    "Son resumenes estadisticos que permite entender de mejor manera y veloz los datos que se muestran\n",
    "estos pueden ser:\n",
    "*sum\n",
    "*cumsum\n",
    "*mean\n",
    "*median\n",
    "*min\n",
    "*max\n",
    "*mode\n",
    "*std\n",
    "*var\n",
    "*quantile\n",
    "pero siempre debes revisar la .shape para ver que los datos tengan sentido"
   ]
  },
  {
   "cell_type": "code",
   "execution_count": 15,
   "metadata": {},
   "outputs": [
    {
     "data": {
      "text/plain": [
       "(360, 8)"
      ]
     },
     "execution_count": 15,
     "metadata": {},
     "output_type": "execute_result"
    }
   ],
   "source": [
    "df1.shape #360 pagos y 8 columnas"
   ]
  },
  {
   "cell_type": "code",
   "execution_count": 16,
   "metadata": {},
   "outputs": [
    {
     "data": {
      "text/plain": [
       "207106.01"
      ]
     },
     "execution_count": 16,
     "metadata": {},
     "output_type": "execute_result"
    }
   ],
   "source": [
    "df1['Interest Paid'].sum()"
   ]
  },
  {
   "cell_type": "code",
   "execution_count": 17,
   "metadata": {},
   "outputs": [
    {
     "data": {
      "text/plain": [
       "0        1000.00\n",
       "1        1998.28\n",
       "2        2994.84\n",
       "3        3989.67\n",
       "4        4982.77\n",
       "         ...    \n",
       "355    207064.13\n",
       "356    207080.87\n",
       "357    207093.44\n",
       "358    207101.82\n",
       "359    207106.01\n",
       "Name: Interest Paid, Length: 360, dtype: float64"
      ]
     },
     "execution_count": 17,
     "metadata": {},
     "output_type": "execute_result"
    }
   ],
   "source": [
    "df1['Interest Paid'].cumsum()"
   ]
  },
  {
   "cell_type": "code",
   "execution_count": 18,
   "metadata": {},
   "outputs": [
    {
     "data": {
      "text/plain": [
       "575.294472222222"
      ]
     },
     "execution_count": 18,
     "metadata": {},
     "output_type": "execute_result"
    }
   ],
   "source": [
    "df1['Interest Paid'].mean()"
   ]
  },
  {
   "cell_type": "code",
   "execution_count": 19,
   "metadata": {},
   "outputs": [
    {
     "data": {
      "text/plain": [
       "611.8399999999999"
      ]
     },
     "execution_count": 19,
     "metadata": {},
     "output_type": "execute_result"
    }
   ],
   "source": [
    "df1['Interest Paid'].median()"
   ]
  },
  {
   "cell_type": "code",
   "execution_count": 20,
   "metadata": {},
   "outputs": [
    {
     "data": {
      "text/plain": [
       "0         4.19\n",
       "1         8.38\n",
       "2        12.57\n",
       "3        16.74\n",
       "4        20.91\n",
       "        ...   \n",
       "355     993.10\n",
       "356     994.83\n",
       "357     996.56\n",
       "358     998.28\n",
       "359    1000.00\n",
       "Length: 360, dtype: float64"
      ]
     },
     "execution_count": 20,
     "metadata": {},
     "output_type": "execute_result"
    }
   ],
   "source": [
    "df1['Interest Paid'].mode()"
   ]
  },
  {
   "cell_type": "code",
   "execution_count": 21,
   "metadata": {},
   "outputs": [
    {
     "data": {
      "text/plain": [
       "4.19"
      ]
     },
     "execution_count": 21,
     "metadata": {},
     "output_type": "execute_result"
    }
   ],
   "source": [
    "df1['Interest Paid'].min()"
   ]
  },
  {
   "cell_type": "code",
   "execution_count": 22,
   "metadata": {},
   "outputs": [
    {
     "data": {
      "text/plain": [
       "1000.0"
      ]
     },
     "execution_count": 22,
     "metadata": {},
     "output_type": "execute_result"
    }
   ],
   "source": [
    "df1['Interest Paid'].max()"
   ]
  },
  {
   "cell_type": "code",
   "execution_count": 23,
   "metadata": {},
   "outputs": [
    {
     "data": {
      "text/plain": [
       "286.80504676983196"
      ]
     },
     "execution_count": 23,
     "metadata": {},
     "output_type": "execute_result"
    }
   ],
   "source": [
    "df1['Interest Paid'].std()"
   ]
  },
  {
   "cell_type": "code",
   "execution_count": 24,
   "metadata": {},
   "outputs": [
    {
     "data": {
      "text/plain": [
       "82257.13485264548"
      ]
     },
     "execution_count": 24,
     "metadata": {},
     "output_type": "execute_result"
    }
   ],
   "source": [
    "df1['Interest Paid'].var()"
   ]
  },
  {
   "cell_type": "code",
   "execution_count": 27,
   "metadata": {},
   "outputs": [
    {
     "data": {
      "text/plain": [
       "341.90999999999997"
      ]
     },
     "execution_count": 27,
     "metadata": {},
     "output_type": "execute_result"
    }
   ],
   "source": [
    "df1['Interest Paid'].quantile(q=0.25) #default 0.5"
   ]
  },
  {
   "cell_type": "markdown",
   "metadata": {},
   "source": [
    "para un resumen de todas las columnas"
   ]
  },
  {
   "cell_type": "code",
   "execution_count": 28,
   "metadata": {},
   "outputs": [
    {
     "data": {
      "text/plain": [
       "Month                                                           64980\n",
       "Starting Balance                                          82843130.97\n",
       "Repayment                                                    607111.2\n",
       "Interest Paid                                               207106.01\n",
       "Principal Paid                                              400005.19\n",
       "New Balance                                               82443125.78\n",
       "Mortgage Name       30 Year30 Year30 Year30 Year30 Year30 Year30 Y...\n",
       "Interest Rate                                                    10.8\n",
       "dtype: object"
      ]
     },
     "execution_count": 28,
     "metadata": {},
     "output_type": "execute_result"
    }
   ],
   "source": [
    "df1.sum()"
   ]
  },
  {
   "cell_type": "markdown",
   "metadata": {},
   "source": [
    "Notar que en mortgage name se ve así pq son strings"
   ]
  },
  {
   "cell_type": "markdown",
   "metadata": {},
   "source": [
    "---\n",
    "## GroupBy\n",
    "esto al igual que en sql sirve para agrupar resultados, pero en r y python se usa para dividir, aplicar algun metodo y luego se combinan los datos"
   ]
  },
  {
   "cell_type": "markdown",
   "metadata": {},
   "source": [
    "ejemplo"
   ]
  },
  {
   "cell_type": "code",
   "execution_count": 30,
   "metadata": {},
   "outputs": [],
   "source": [
    "df_cities=pd.DataFrame(data=[['Seattle',1], \n",
    "['Kirkland',2],\n",
    "['Redmond',3],\n",
    "['Seattle',4],\n",
    "['Kirkland',5],\n",
    "['Redmond',6]],columns=['key','data'])"
   ]
  },
  {
   "cell_type": "markdown",
   "metadata": {},
   "source": [
    "sumando gracias a la agregación con la llave de ciudad,\n",
    "en otras palabras, sumando por ciudad"
   ]
  },
  {
   "cell_type": "code",
   "execution_count": 31,
   "metadata": {},
   "outputs": [
    {
     "data": {
      "text/html": [
       "<div>\n",
       "<style scoped>\n",
       "    .dataframe tbody tr th:only-of-type {\n",
       "        vertical-align: middle;\n",
       "    }\n",
       "\n",
       "    .dataframe tbody tr th {\n",
       "        vertical-align: top;\n",
       "    }\n",
       "\n",
       "    .dataframe thead th {\n",
       "        text-align: right;\n",
       "    }\n",
       "</style>\n",
       "<table border=\"1\" class=\"dataframe\">\n",
       "  <thead>\n",
       "    <tr style=\"text-align: right;\">\n",
       "      <th></th>\n",
       "      <th>data</th>\n",
       "    </tr>\n",
       "    <tr>\n",
       "      <th>key</th>\n",
       "      <th></th>\n",
       "    </tr>\n",
       "  </thead>\n",
       "  <tbody>\n",
       "    <tr>\n",
       "      <th>Kirkland</th>\n",
       "      <td>7</td>\n",
       "    </tr>\n",
       "    <tr>\n",
       "      <th>Redmond</th>\n",
       "      <td>9</td>\n",
       "    </tr>\n",
       "    <tr>\n",
       "      <th>Seattle</th>\n",
       "      <td>5</td>\n",
       "    </tr>\n",
       "  </tbody>\n",
       "</table>\n",
       "</div>"
      ],
      "text/plain": [
       "          data\n",
       "key           \n",
       "Kirkland     7\n",
       "Redmond      9\n",
       "Seattle      5"
      ]
     },
     "execution_count": 31,
     "metadata": {},
     "output_type": "execute_result"
    }
   ],
   "source": [
    "df_cities.groupby(['key']).sum()\n",
    "#base.agrupalo_por([la llave]).aplicar_la_agregación()"
   ]
  },
  {
   "cell_type": "code",
   "execution_count": 32,
   "metadata": {},
   "outputs": [
    {
     "data": {
      "text/html": [
       "<div>\n",
       "<style scoped>\n",
       "    .dataframe tbody tr th:only-of-type {\n",
       "        vertical-align: middle;\n",
       "    }\n",
       "\n",
       "    .dataframe tbody tr th {\n",
       "        vertical-align: top;\n",
       "    }\n",
       "\n",
       "    .dataframe thead th {\n",
       "        text-align: right;\n",
       "    }\n",
       "</style>\n",
       "<table border=\"1\" class=\"dataframe\">\n",
       "  <thead>\n",
       "    <tr style=\"text-align: right;\">\n",
       "      <th></th>\n",
       "      <th>data</th>\n",
       "    </tr>\n",
       "    <tr>\n",
       "      <th>key</th>\n",
       "      <th></th>\n",
       "    </tr>\n",
       "  </thead>\n",
       "  <tbody>\n",
       "    <tr>\n",
       "      <th>Kirkland</th>\n",
       "      <td>7</td>\n",
       "    </tr>\n",
       "    <tr>\n",
       "      <th>Redmond</th>\n",
       "      <td>9</td>\n",
       "    </tr>\n",
       "    <tr>\n",
       "      <th>Seattle</th>\n",
       "      <td>5</td>\n",
       "    </tr>\n",
       "  </tbody>\n",
       "</table>\n",
       "</div>"
      ],
      "text/plain": [
       "          data\n",
       "key           \n",
       "Kirkland     7\n",
       "Redmond      9\n",
       "Seattle      5"
      ]
     },
     "execution_count": 32,
     "metadata": {},
     "output_type": "execute_result"
    }
   ],
   "source": [
    "#especificando la columna para hacer la agregación\n",
    "df_cities.groupby(['key'])[['data']].sum()"
   ]
  },
  {
   "cell_type": "code",
   "execution_count": 36,
   "metadata": {},
   "outputs": [
    {
     "data": {
      "text/plain": [
       "Index(['Month', 'Starting Balance', 'Repayment', 'Interest Paid',\n",
       "       'Principal Paid', 'New Balance', 'Mortgage Name', 'Interest Rate'],\n",
       "      dtype='object')"
      ]
     },
     "execution_count": 36,
     "metadata": {},
     "output_type": "execute_result"
    }
   ],
   "source": [
    "filename2=\"/Users/matiasinostrozacifuentes/Desktop/python_intro/DataScienceUnilever2022/Track 1/Clases/2-Pandas/data/mortgages.csv\"\n",
    "df2=pd.read_csv(filename2)\n",
    "df2.columns"
   ]
  },
  {
   "cell_type": "code",
   "execution_count": 38,
   "metadata": {},
   "outputs": [
    {
     "data": {
      "text/html": [
       "<div>\n",
       "<style scoped>\n",
       "    .dataframe tbody tr th:only-of-type {\n",
       "        vertical-align: middle;\n",
       "    }\n",
       "\n",
       "    .dataframe tbody tr th {\n",
       "        vertical-align: top;\n",
       "    }\n",
       "\n",
       "    .dataframe thead th {\n",
       "        text-align: right;\n",
       "    }\n",
       "</style>\n",
       "<table border=\"1\" class=\"dataframe\">\n",
       "  <thead>\n",
       "    <tr style=\"text-align: right;\">\n",
       "      <th></th>\n",
       "      <th></th>\n",
       "      <th>Interest Paid</th>\n",
       "    </tr>\n",
       "    <tr>\n",
       "      <th>Mortgage Name</th>\n",
       "      <th>Interest Rate</th>\n",
       "      <th></th>\n",
       "    </tr>\n",
       "  </thead>\n",
       "  <tbody>\n",
       "    <tr>\n",
       "      <th rowspan=\"2\" valign=\"top\">15 Year</th>\n",
       "      <th>0.03</th>\n",
       "      <td>97217.42</td>\n",
       "    </tr>\n",
       "    <tr>\n",
       "      <th>0.05</th>\n",
       "      <td>169370.43</td>\n",
       "    </tr>\n",
       "    <tr>\n",
       "      <th rowspan=\"2\" valign=\"top\">30 Year</th>\n",
       "      <th>0.03</th>\n",
       "      <td>207106.01</td>\n",
       "    </tr>\n",
       "    <tr>\n",
       "      <th>0.05</th>\n",
       "      <td>373017.23</td>\n",
       "    </tr>\n",
       "  </tbody>\n",
       "</table>\n",
       "</div>"
      ],
      "text/plain": [
       "                             Interest Paid\n",
       "Mortgage Name Interest Rate               \n",
       "15 Year       0.03                97217.42\n",
       "              0.05               169370.43\n",
       "30 Year       0.03               207106.01\n",
       "              0.05               373017.23"
      ]
     },
     "execution_count": 38,
     "metadata": {},
     "output_type": "execute_result"
    }
   ],
   "source": [
    "#quiero la suma de los intereses pagados por tasa de interes \n",
    "# y por mortgage name\n",
    "df2.groupby(['Mortgage Name','Interest Rate'])[['Interest Paid']].sum()"
   ]
  }
 ],
 "metadata": {
  "interpreter": {
   "hash": "97f7225dcf674d32e3840b94e0b97c696ce2dd48955058b7daa1a6e223346e32"
  },
  "kernelspec": {
   "display_name": "Python 3.9.7 ('base')",
   "language": "python",
   "name": "python3"
  },
  "language_info": {
   "codemirror_mode": {
    "name": "ipython",
    "version": 3
   },
   "file_extension": ".py",
   "mimetype": "text/x-python",
   "name": "python",
   "nbconvert_exporter": "python",
   "pygments_lexer": "ipython3",
   "version": "3.9.7"
  },
  "orig_nbformat": 4
 },
 "nbformat": 4,
 "nbformat_minor": 2
}
