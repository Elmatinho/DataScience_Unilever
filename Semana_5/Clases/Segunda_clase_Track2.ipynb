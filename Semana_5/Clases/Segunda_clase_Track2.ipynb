{
 "cells": [
  {
   "cell_type": "code",
   "execution_count": null,
   "metadata": {},
   "outputs": [],
   "source": []
  }
 ],
 "metadata": {
  "interpreter": {
   "hash": "82f297aed5a1f891a9c998abd3debcb12192d16a341539449b62f39c7e199530"
  },
  "kernelspec": {
   "display_name": "Python 3.9.11 ('myenv')",
   "language": "python",
   "name": "python3"
  },
  "language_info": {
   "name": "python",
   "version": "3.9.11"
  },
  "orig_nbformat": 4
 },
 "nbformat": 4,
 "nbformat_minor": 2
}
