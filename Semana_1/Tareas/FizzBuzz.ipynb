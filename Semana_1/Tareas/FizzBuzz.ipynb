{
 "cells": [
  {
   "cell_type": "code",
   "execution_count": 1,
   "metadata": {},
   "outputs": [],
   "source": [
    "def FizzBuzz(Valores):\n",
    "    for contador in range(1,Valores+1):\n",
    "        if contador%3==0 and contador%5==0:\n",
    "            print(\"FizzBuzz\")\n",
    "        elif contador%3==0:\n",
    "            print(\"Fizz\")\n",
    "        elif contador%5==0:\n",
    "            print(\"Buzz\")\n",
    "        else:\n",
    "            print(contador)"
   ]
  },
  {
   "cell_type": "code",
   "execution_count": 2,
   "metadata": {},
   "outputs": [
    {
     "name": "stdout",
     "output_type": "stream",
     "text": [
      "1\n",
      "2\n",
      "Fizz\n",
      "4\n",
      "Buzz\n",
      "Fizz\n",
      "7\n",
      "8\n",
      "Fizz\n",
      "Buzz\n",
      "11\n",
      "Fizz\n",
      "13\n",
      "14\n",
      "FizzBuzz\n",
      "16\n",
      "17\n",
      "Fizz\n",
      "19\n",
      "Buzz\n"
     ]
    }
   ],
   "source": [
    "FizzBuzz(20)"
   ]
  }
 ],
 "metadata": {
  "interpreter": {
   "hash": "97f7225dcf674d32e3840b94e0b97c696ce2dd48955058b7daa1a6e223346e32"
  },
  "kernelspec": {
   "display_name": "Python 3.9.7 ('base')",
   "language": "python",
   "name": "python3"
  },
  "language_info": {
   "codemirror_mode": {
    "name": "ipython",
    "version": 3
   },
   "file_extension": ".py",
   "mimetype": "text/x-python",
   "name": "python",
   "nbconvert_exporter": "python",
   "pygments_lexer": "ipython3",
   "version": "3.9.7"
  },
  "orig_nbformat": 4
 },
 "nbformat": 4,
 "nbformat_minor": 2
}
