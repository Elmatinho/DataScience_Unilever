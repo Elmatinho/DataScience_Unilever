{
 "cells": [
  {
   "cell_type": "markdown",
   "metadata": {},
   "source": [
    "## pata hoy\n",
    "curvas roc\n",
    "ridge\n"
   ]
  },
  {
   "cell_type": "markdown",
   "metadata": {},
   "source": [
    "Regresion ridge\n",
    "es como la lineal, pero le genera algunas penalizaciones a los theta par evitar el overfitting\n",
    "este sirve para hacer regresiones y clasificador\n",
    "donde el hiperparametro es el alpha y este se va ajustando\n"
   ]
  },
  {
   "cell_type": "markdown",
   "metadata": {},
   "source": [
    "por el momento hemos visto\n",
    "clasificación\n",
    "knn, arboles, random forest, ridge classifier, bagging tree\n",
    "\n",
    "tienen los mismos pasos:\n",
    "crear el objeto\n",
    "entrenar\n",
    "se evalua\n",
    "y se usa con el predict"
   ]
  },
  {
   "cell_type": "markdown",
   "metadata": {},
   "source": [
    "la curva roc\n",
    "es una curva que muestra la relacion entre la tasa de TP y la tasa de FP \n",
    "este sirve en su mayoria para binarios\n",
    "baseline es = a 0.5 pq el clasificador es aleatorio\n",
    "donde esto muestra los posibles errores que pueda tener el clasificador\n",
    "AUC es la intercección con la curva e indica si el modelo es bueno\n",
    "\n",
    "para plotear la curva\n",
    "plt_roc_curve(el regresor, x_test,y_test)\n",
    "obviamente hay que traer la libreria para esto"
   ]
  },
  {
   "cell_type": "markdown",
   "metadata": {},
   "source": [
    "## ejercicio\n",
    "aplicar todos los modelos de clasificación\n",
    "con optimizacion, reporte, matriz de confusion y curva ROC\n",
    "el archivo: '/Users/matiasinostrozacifuentes/Desktop/python_intro/DataScience_Unilever/Semana_7/Data/Invistico_Airline.csv'"
   ]
  },
  {
   "cell_type": "markdown",
   "metadata": {},
   "source": [
    "## importando las librerias"
   ]
  },
  {
   "cell_type": "code",
   "execution_count": 13,
   "metadata": {},
   "outputs": [],
   "source": [
    "import pandas as pd\n",
    "import numpy as np\n",
    "import seaborn as sns\n",
    "import matplotlib.pyplot as plt\n",
    "\n"
   ]
  },
  {
   "cell_type": "code",
   "execution_count": 108,
   "metadata": {},
   "outputs": [],
   "source": [
    "from sklearn.model_selection import train_test_split\n",
    "from sklearn.metrics import classification_report\n",
    "from sklearn import metrics\n",
    "from sklearn.preprocessing import StandardScaler\n",
    "\n",
    "from sklearn.tree import DecisionTreeClassifier\n",
    "from sklearn.ensemble import RandomForestClassifier,BaggingClassifier\n",
    "from sklearn.neighbors import KNeighborsClassifier\n",
    "from sklearn.linear_model import LogisticRegression,RidgeClassifier\n",
    "from sklearn.metrics import roc_auc_score, plot_roc_curve\n",
    "\n",
    "\n",
    "from sklearn.model_selection import GridSearchCV"
   ]
  },
  {
   "cell_type": "code",
   "execution_count": null,
   "metadata": {},
   "outputs": [],
   "source": []
  },
  {
   "cell_type": "markdown",
   "metadata": {},
   "source": [
    "## cargando la data"
   ]
  },
  {
   "cell_type": "code",
   "execution_count": 15,
   "metadata": {},
   "outputs": [],
   "source": [
    "archivo='/Users/matiasinostrozacifuentes/Desktop/python_intro/DataScience_Unilever/Semana_7/Data/Invistico_Airline.csv'\n",
    "data_invistico=pd.read_csv(archivo)"
   ]
  },
  {
   "cell_type": "markdown",
   "metadata": {},
   "source": [
    "## primeras impresiones"
   ]
  },
  {
   "cell_type": "code",
   "execution_count": 16,
   "metadata": {},
   "outputs": [
    {
     "data": {
      "text/html": [
       "<div>\n",
       "<style scoped>\n",
       "    .dataframe tbody tr th:only-of-type {\n",
       "        vertical-align: middle;\n",
       "    }\n",
       "\n",
       "    .dataframe tbody tr th {\n",
       "        vertical-align: top;\n",
       "    }\n",
       "\n",
       "    .dataframe thead th {\n",
       "        text-align: right;\n",
       "    }\n",
       "</style>\n",
       "<table border=\"1\" class=\"dataframe\">\n",
       "  <thead>\n",
       "    <tr style=\"text-align: right;\">\n",
       "      <th></th>\n",
       "      <th>satisfaction</th>\n",
       "      <th>Gender</th>\n",
       "      <th>Customer Type</th>\n",
       "      <th>Age</th>\n",
       "      <th>Type of Travel</th>\n",
       "      <th>Class</th>\n",
       "      <th>Flight Distance</th>\n",
       "      <th>Seat comfort</th>\n",
       "      <th>Departure/Arrival time convenient</th>\n",
       "      <th>Food and drink</th>\n",
       "      <th>...</th>\n",
       "      <th>Online support</th>\n",
       "      <th>Ease of Online booking</th>\n",
       "      <th>On-board service</th>\n",
       "      <th>Leg room service</th>\n",
       "      <th>Baggage handling</th>\n",
       "      <th>Checkin service</th>\n",
       "      <th>Cleanliness</th>\n",
       "      <th>Online boarding</th>\n",
       "      <th>Departure Delay in Minutes</th>\n",
       "      <th>Arrival Delay in Minutes</th>\n",
       "    </tr>\n",
       "  </thead>\n",
       "  <tbody>\n",
       "    <tr>\n",
       "      <th>0</th>\n",
       "      <td>satisfied</td>\n",
       "      <td>Female</td>\n",
       "      <td>Loyal Customer</td>\n",
       "      <td>65</td>\n",
       "      <td>Personal Travel</td>\n",
       "      <td>Eco</td>\n",
       "      <td>265</td>\n",
       "      <td>0</td>\n",
       "      <td>0</td>\n",
       "      <td>0</td>\n",
       "      <td>...</td>\n",
       "      <td>2</td>\n",
       "      <td>3</td>\n",
       "      <td>3</td>\n",
       "      <td>0</td>\n",
       "      <td>3</td>\n",
       "      <td>5</td>\n",
       "      <td>3</td>\n",
       "      <td>2</td>\n",
       "      <td>0</td>\n",
       "      <td>0.0</td>\n",
       "    </tr>\n",
       "    <tr>\n",
       "      <th>1</th>\n",
       "      <td>satisfied</td>\n",
       "      <td>Male</td>\n",
       "      <td>Loyal Customer</td>\n",
       "      <td>47</td>\n",
       "      <td>Personal Travel</td>\n",
       "      <td>Business</td>\n",
       "      <td>2464</td>\n",
       "      <td>0</td>\n",
       "      <td>0</td>\n",
       "      <td>0</td>\n",
       "      <td>...</td>\n",
       "      <td>2</td>\n",
       "      <td>3</td>\n",
       "      <td>4</td>\n",
       "      <td>4</td>\n",
       "      <td>4</td>\n",
       "      <td>2</td>\n",
       "      <td>3</td>\n",
       "      <td>2</td>\n",
       "      <td>310</td>\n",
       "      <td>305.0</td>\n",
       "    </tr>\n",
       "    <tr>\n",
       "      <th>2</th>\n",
       "      <td>satisfied</td>\n",
       "      <td>Female</td>\n",
       "      <td>Loyal Customer</td>\n",
       "      <td>15</td>\n",
       "      <td>Personal Travel</td>\n",
       "      <td>Eco</td>\n",
       "      <td>2138</td>\n",
       "      <td>0</td>\n",
       "      <td>0</td>\n",
       "      <td>0</td>\n",
       "      <td>...</td>\n",
       "      <td>2</td>\n",
       "      <td>2</td>\n",
       "      <td>3</td>\n",
       "      <td>3</td>\n",
       "      <td>4</td>\n",
       "      <td>4</td>\n",
       "      <td>4</td>\n",
       "      <td>2</td>\n",
       "      <td>0</td>\n",
       "      <td>0.0</td>\n",
       "    </tr>\n",
       "    <tr>\n",
       "      <th>3</th>\n",
       "      <td>satisfied</td>\n",
       "      <td>Female</td>\n",
       "      <td>Loyal Customer</td>\n",
       "      <td>60</td>\n",
       "      <td>Personal Travel</td>\n",
       "      <td>Eco</td>\n",
       "      <td>623</td>\n",
       "      <td>0</td>\n",
       "      <td>0</td>\n",
       "      <td>0</td>\n",
       "      <td>...</td>\n",
       "      <td>3</td>\n",
       "      <td>1</td>\n",
       "      <td>1</td>\n",
       "      <td>0</td>\n",
       "      <td>1</td>\n",
       "      <td>4</td>\n",
       "      <td>1</td>\n",
       "      <td>3</td>\n",
       "      <td>0</td>\n",
       "      <td>0.0</td>\n",
       "    </tr>\n",
       "    <tr>\n",
       "      <th>4</th>\n",
       "      <td>satisfied</td>\n",
       "      <td>Female</td>\n",
       "      <td>Loyal Customer</td>\n",
       "      <td>70</td>\n",
       "      <td>Personal Travel</td>\n",
       "      <td>Eco</td>\n",
       "      <td>354</td>\n",
       "      <td>0</td>\n",
       "      <td>0</td>\n",
       "      <td>0</td>\n",
       "      <td>...</td>\n",
       "      <td>4</td>\n",
       "      <td>2</td>\n",
       "      <td>2</td>\n",
       "      <td>0</td>\n",
       "      <td>2</td>\n",
       "      <td>4</td>\n",
       "      <td>2</td>\n",
       "      <td>5</td>\n",
       "      <td>0</td>\n",
       "      <td>0.0</td>\n",
       "    </tr>\n",
       "    <tr>\n",
       "      <th>...</th>\n",
       "      <td>...</td>\n",
       "      <td>...</td>\n",
       "      <td>...</td>\n",
       "      <td>...</td>\n",
       "      <td>...</td>\n",
       "      <td>...</td>\n",
       "      <td>...</td>\n",
       "      <td>...</td>\n",
       "      <td>...</td>\n",
       "      <td>...</td>\n",
       "      <td>...</td>\n",
       "      <td>...</td>\n",
       "      <td>...</td>\n",
       "      <td>...</td>\n",
       "      <td>...</td>\n",
       "      <td>...</td>\n",
       "      <td>...</td>\n",
       "      <td>...</td>\n",
       "      <td>...</td>\n",
       "      <td>...</td>\n",
       "      <td>...</td>\n",
       "    </tr>\n",
       "    <tr>\n",
       "      <th>129875</th>\n",
       "      <td>satisfied</td>\n",
       "      <td>Female</td>\n",
       "      <td>disloyal Customer</td>\n",
       "      <td>29</td>\n",
       "      <td>Personal Travel</td>\n",
       "      <td>Eco</td>\n",
       "      <td>1731</td>\n",
       "      <td>5</td>\n",
       "      <td>5</td>\n",
       "      <td>5</td>\n",
       "      <td>...</td>\n",
       "      <td>2</td>\n",
       "      <td>2</td>\n",
       "      <td>3</td>\n",
       "      <td>3</td>\n",
       "      <td>4</td>\n",
       "      <td>4</td>\n",
       "      <td>4</td>\n",
       "      <td>2</td>\n",
       "      <td>0</td>\n",
       "      <td>0.0</td>\n",
       "    </tr>\n",
       "    <tr>\n",
       "      <th>129876</th>\n",
       "      <td>dissatisfied</td>\n",
       "      <td>Male</td>\n",
       "      <td>disloyal Customer</td>\n",
       "      <td>63</td>\n",
       "      <td>Personal Travel</td>\n",
       "      <td>Business</td>\n",
       "      <td>2087</td>\n",
       "      <td>2</td>\n",
       "      <td>3</td>\n",
       "      <td>2</td>\n",
       "      <td>...</td>\n",
       "      <td>1</td>\n",
       "      <td>3</td>\n",
       "      <td>2</td>\n",
       "      <td>3</td>\n",
       "      <td>3</td>\n",
       "      <td>1</td>\n",
       "      <td>2</td>\n",
       "      <td>1</td>\n",
       "      <td>174</td>\n",
       "      <td>172.0</td>\n",
       "    </tr>\n",
       "    <tr>\n",
       "      <th>129877</th>\n",
       "      <td>dissatisfied</td>\n",
       "      <td>Male</td>\n",
       "      <td>disloyal Customer</td>\n",
       "      <td>69</td>\n",
       "      <td>Personal Travel</td>\n",
       "      <td>Eco</td>\n",
       "      <td>2320</td>\n",
       "      <td>3</td>\n",
       "      <td>0</td>\n",
       "      <td>3</td>\n",
       "      <td>...</td>\n",
       "      <td>2</td>\n",
       "      <td>4</td>\n",
       "      <td>4</td>\n",
       "      <td>3</td>\n",
       "      <td>4</td>\n",
       "      <td>2</td>\n",
       "      <td>3</td>\n",
       "      <td>2</td>\n",
       "      <td>155</td>\n",
       "      <td>163.0</td>\n",
       "    </tr>\n",
       "    <tr>\n",
       "      <th>129878</th>\n",
       "      <td>dissatisfied</td>\n",
       "      <td>Male</td>\n",
       "      <td>disloyal Customer</td>\n",
       "      <td>66</td>\n",
       "      <td>Personal Travel</td>\n",
       "      <td>Eco</td>\n",
       "      <td>2450</td>\n",
       "      <td>3</td>\n",
       "      <td>2</td>\n",
       "      <td>3</td>\n",
       "      <td>...</td>\n",
       "      <td>2</td>\n",
       "      <td>3</td>\n",
       "      <td>3</td>\n",
       "      <td>2</td>\n",
       "      <td>3</td>\n",
       "      <td>2</td>\n",
       "      <td>1</td>\n",
       "      <td>2</td>\n",
       "      <td>193</td>\n",
       "      <td>205.0</td>\n",
       "    </tr>\n",
       "    <tr>\n",
       "      <th>129879</th>\n",
       "      <td>dissatisfied</td>\n",
       "      <td>Female</td>\n",
       "      <td>disloyal Customer</td>\n",
       "      <td>38</td>\n",
       "      <td>Personal Travel</td>\n",
       "      <td>Eco</td>\n",
       "      <td>4307</td>\n",
       "      <td>3</td>\n",
       "      <td>4</td>\n",
       "      <td>3</td>\n",
       "      <td>...</td>\n",
       "      <td>3</td>\n",
       "      <td>4</td>\n",
       "      <td>5</td>\n",
       "      <td>5</td>\n",
       "      <td>5</td>\n",
       "      <td>3</td>\n",
       "      <td>3</td>\n",
       "      <td>3</td>\n",
       "      <td>185</td>\n",
       "      <td>186.0</td>\n",
       "    </tr>\n",
       "  </tbody>\n",
       "</table>\n",
       "<p>129880 rows × 23 columns</p>\n",
       "</div>"
      ],
      "text/plain": [
       "        satisfaction  Gender      Customer Type  Age   Type of Travel  \\\n",
       "0          satisfied  Female     Loyal Customer   65  Personal Travel   \n",
       "1          satisfied    Male     Loyal Customer   47  Personal Travel   \n",
       "2          satisfied  Female     Loyal Customer   15  Personal Travel   \n",
       "3          satisfied  Female     Loyal Customer   60  Personal Travel   \n",
       "4          satisfied  Female     Loyal Customer   70  Personal Travel   \n",
       "...              ...     ...                ...  ...              ...   \n",
       "129875     satisfied  Female  disloyal Customer   29  Personal Travel   \n",
       "129876  dissatisfied    Male  disloyal Customer   63  Personal Travel   \n",
       "129877  dissatisfied    Male  disloyal Customer   69  Personal Travel   \n",
       "129878  dissatisfied    Male  disloyal Customer   66  Personal Travel   \n",
       "129879  dissatisfied  Female  disloyal Customer   38  Personal Travel   \n",
       "\n",
       "           Class  Flight Distance  Seat comfort  \\\n",
       "0            Eco              265             0   \n",
       "1       Business             2464             0   \n",
       "2            Eco             2138             0   \n",
       "3            Eco              623             0   \n",
       "4            Eco              354             0   \n",
       "...          ...              ...           ...   \n",
       "129875       Eco             1731             5   \n",
       "129876  Business             2087             2   \n",
       "129877       Eco             2320             3   \n",
       "129878       Eco             2450             3   \n",
       "129879       Eco             4307             3   \n",
       "\n",
       "        Departure/Arrival time convenient  Food and drink  ...  \\\n",
       "0                                       0               0  ...   \n",
       "1                                       0               0  ...   \n",
       "2                                       0               0  ...   \n",
       "3                                       0               0  ...   \n",
       "4                                       0               0  ...   \n",
       "...                                   ...             ...  ...   \n",
       "129875                                  5               5  ...   \n",
       "129876                                  3               2  ...   \n",
       "129877                                  0               3  ...   \n",
       "129878                                  2               3  ...   \n",
       "129879                                  4               3  ...   \n",
       "\n",
       "        Online support  Ease of Online booking  On-board service  \\\n",
       "0                    2                       3                 3   \n",
       "1                    2                       3                 4   \n",
       "2                    2                       2                 3   \n",
       "3                    3                       1                 1   \n",
       "4                    4                       2                 2   \n",
       "...                ...                     ...               ...   \n",
       "129875               2                       2                 3   \n",
       "129876               1                       3                 2   \n",
       "129877               2                       4                 4   \n",
       "129878               2                       3                 3   \n",
       "129879               3                       4                 5   \n",
       "\n",
       "        Leg room service  Baggage handling  Checkin service  Cleanliness  \\\n",
       "0                      0                 3                5            3   \n",
       "1                      4                 4                2            3   \n",
       "2                      3                 4                4            4   \n",
       "3                      0                 1                4            1   \n",
       "4                      0                 2                4            2   \n",
       "...                  ...               ...              ...          ...   \n",
       "129875                 3                 4                4            4   \n",
       "129876                 3                 3                1            2   \n",
       "129877                 3                 4                2            3   \n",
       "129878                 2                 3                2            1   \n",
       "129879                 5                 5                3            3   \n",
       "\n",
       "        Online boarding  Departure Delay in Minutes  Arrival Delay in Minutes  \n",
       "0                     2                           0                       0.0  \n",
       "1                     2                         310                     305.0  \n",
       "2                     2                           0                       0.0  \n",
       "3                     3                           0                       0.0  \n",
       "4                     5                           0                       0.0  \n",
       "...                 ...                         ...                       ...  \n",
       "129875                2                           0                       0.0  \n",
       "129876                1                         174                     172.0  \n",
       "129877                2                         155                     163.0  \n",
       "129878                2                         193                     205.0  \n",
       "129879                3                         185                     186.0  \n",
       "\n",
       "[129880 rows x 23 columns]"
      ]
     },
     "execution_count": 16,
     "metadata": {},
     "output_type": "execute_result"
    }
   ],
   "source": [
    "data_invistico"
   ]
  },
  {
   "cell_type": "markdown",
   "metadata": {},
   "source": [
    "Se ven variables categoricas en formato string, hay que transformarlas a numero"
   ]
  },
  {
   "cell_type": "markdown",
   "metadata": {},
   "source": [
    "Revisando más a detalle "
   ]
  },
  {
   "cell_type": "code",
   "execution_count": 17,
   "metadata": {},
   "outputs": [
    {
     "name": "stdout",
     "output_type": "stream",
     "text": [
      "<class 'pandas.core.frame.DataFrame'>\n",
      "RangeIndex: 129880 entries, 0 to 129879\n",
      "Data columns (total 23 columns):\n",
      " #   Column                             Non-Null Count   Dtype  \n",
      "---  ------                             --------------   -----  \n",
      " 0   satisfaction                       129880 non-null  object \n",
      " 1   Gender                             129880 non-null  object \n",
      " 2   Customer Type                      129880 non-null  object \n",
      " 3   Age                                129880 non-null  int64  \n",
      " 4   Type of Travel                     129880 non-null  object \n",
      " 5   Class                              129880 non-null  object \n",
      " 6   Flight Distance                    129880 non-null  int64  \n",
      " 7   Seat comfort                       129880 non-null  int64  \n",
      " 8   Departure/Arrival time convenient  129880 non-null  int64  \n",
      " 9   Food and drink                     129880 non-null  int64  \n",
      " 10  Gate location                      129880 non-null  int64  \n",
      " 11  Inflight wifi service              129880 non-null  int64  \n",
      " 12  Inflight entertainment             129880 non-null  int64  \n",
      " 13  Online support                     129880 non-null  int64  \n",
      " 14  Ease of Online booking             129880 non-null  int64  \n",
      " 15  On-board service                   129880 non-null  int64  \n",
      " 16  Leg room service                   129880 non-null  int64  \n",
      " 17  Baggage handling                   129880 non-null  int64  \n",
      " 18  Checkin service                    129880 non-null  int64  \n",
      " 19  Cleanliness                        129880 non-null  int64  \n",
      " 20  Online boarding                    129880 non-null  int64  \n",
      " 21  Departure Delay in Minutes         129880 non-null  int64  \n",
      " 22  Arrival Delay in Minutes           129487 non-null  float64\n",
      "dtypes: float64(1), int64(17), object(5)\n",
      "memory usage: 22.8+ MB\n"
     ]
    }
   ],
   "source": [
    "data_invistico.info()"
   ]
  },
  {
   "cell_type": "markdown",
   "metadata": {},
   "source": [
    "pueden haber más NAN"
   ]
  },
  {
   "cell_type": "code",
   "execution_count": 18,
   "metadata": {},
   "outputs": [
    {
     "data": {
      "text/plain": [
       "satisfaction                           0\n",
       "Gender                                 0\n",
       "Customer Type                          0\n",
       "Age                                    0\n",
       "Type of Travel                         0\n",
       "Class                                  0\n",
       "Flight Distance                        0\n",
       "Seat comfort                           0\n",
       "Departure/Arrival time convenient      0\n",
       "Food and drink                         0\n",
       "Gate location                          0\n",
       "Inflight wifi service                  0\n",
       "Inflight entertainment                 0\n",
       "Online support                         0\n",
       "Ease of Online booking                 0\n",
       "On-board service                       0\n",
       "Leg room service                       0\n",
       "Baggage handling                       0\n",
       "Checkin service                        0\n",
       "Cleanliness                            0\n",
       "Online boarding                        0\n",
       "Departure Delay in Minutes             0\n",
       "Arrival Delay in Minutes             393\n",
       "dtype: int64"
      ]
     },
     "execution_count": 18,
     "metadata": {},
     "output_type": "execute_result"
    }
   ],
   "source": [
    "data_invistico.isna().sum()"
   ]
  },
  {
   "cell_type": "markdown",
   "metadata": {},
   "source": [
    "solo la ultima columna tiene NaN"
   ]
  },
  {
   "cell_type": "code",
   "execution_count": 19,
   "metadata": {},
   "outputs": [
    {
     "data": {
      "text/plain": [
       "0           0.0\n",
       "1         305.0\n",
       "2           0.0\n",
       "3           0.0\n",
       "4           0.0\n",
       "          ...  \n",
       "129875      0.0\n",
       "129876    172.0\n",
       "129877    163.0\n",
       "129878    205.0\n",
       "129879    186.0\n",
       "Name: Arrival Delay in Minutes, Length: 129880, dtype: float64"
      ]
     },
     "execution_count": 19,
     "metadata": {},
     "output_type": "execute_result"
    }
   ],
   "source": [
    "data_invistico['Arrival Delay in Minutes']"
   ]
  },
  {
   "cell_type": "code",
   "execution_count": null,
   "metadata": {},
   "outputs": [],
   "source": []
  },
  {
   "cell_type": "code",
   "execution_count": 20,
   "metadata": {},
   "outputs": [
    {
     "data": {
      "text/html": [
       "<div>\n",
       "<style scoped>\n",
       "    .dataframe tbody tr th:only-of-type {\n",
       "        vertical-align: middle;\n",
       "    }\n",
       "\n",
       "    .dataframe tbody tr th {\n",
       "        vertical-align: top;\n",
       "    }\n",
       "\n",
       "    .dataframe thead th {\n",
       "        text-align: right;\n",
       "    }\n",
       "</style>\n",
       "<table border=\"1\" class=\"dataframe\">\n",
       "  <thead>\n",
       "    <tr style=\"text-align: right;\">\n",
       "      <th></th>\n",
       "      <th>satisfaction</th>\n",
       "      <th>Gender</th>\n",
       "      <th>Customer Type</th>\n",
       "      <th>Age</th>\n",
       "      <th>Type of Travel</th>\n",
       "      <th>Class</th>\n",
       "      <th>Flight Distance</th>\n",
       "      <th>Seat comfort</th>\n",
       "      <th>Departure/Arrival time convenient</th>\n",
       "      <th>Food and drink</th>\n",
       "      <th>...</th>\n",
       "      <th>Online support</th>\n",
       "      <th>Ease of Online booking</th>\n",
       "      <th>On-board service</th>\n",
       "      <th>Leg room service</th>\n",
       "      <th>Baggage handling</th>\n",
       "      <th>Checkin service</th>\n",
       "      <th>Cleanliness</th>\n",
       "      <th>Online boarding</th>\n",
       "      <th>Departure Delay in Minutes</th>\n",
       "      <th>Arrival Delay in Minutes</th>\n",
       "    </tr>\n",
       "  </thead>\n",
       "  <tbody>\n",
       "    <tr>\n",
       "      <th>145</th>\n",
       "      <td>satisfied</td>\n",
       "      <td>Female</td>\n",
       "      <td>Loyal Customer</td>\n",
       "      <td>21</td>\n",
       "      <td>Personal Travel</td>\n",
       "      <td>Eco</td>\n",
       "      <td>4804</td>\n",
       "      <td>0</td>\n",
       "      <td>2</td>\n",
       "      <td>0</td>\n",
       "      <td>...</td>\n",
       "      <td>5</td>\n",
       "      <td>5</td>\n",
       "      <td>4</td>\n",
       "      <td>1</td>\n",
       "      <td>4</td>\n",
       "      <td>2</td>\n",
       "      <td>3</td>\n",
       "      <td>5</td>\n",
       "      <td>20</td>\n",
       "      <td>NaN</td>\n",
       "    </tr>\n",
       "    <tr>\n",
       "      <th>246</th>\n",
       "      <td>satisfied</td>\n",
       "      <td>Male</td>\n",
       "      <td>Loyal Customer</td>\n",
       "      <td>28</td>\n",
       "      <td>Personal Travel</td>\n",
       "      <td>Eco</td>\n",
       "      <td>1364</td>\n",
       "      <td>0</td>\n",
       "      <td>3</td>\n",
       "      <td>0</td>\n",
       "      <td>...</td>\n",
       "      <td>4</td>\n",
       "      <td>2</td>\n",
       "      <td>1</td>\n",
       "      <td>1</td>\n",
       "      <td>3</td>\n",
       "      <td>4</td>\n",
       "      <td>3</td>\n",
       "      <td>2</td>\n",
       "      <td>0</td>\n",
       "      <td>NaN</td>\n",
       "    </tr>\n",
       "    <tr>\n",
       "      <th>710</th>\n",
       "      <td>satisfied</td>\n",
       "      <td>Male</td>\n",
       "      <td>Loyal Customer</td>\n",
       "      <td>28</td>\n",
       "      <td>Personal Travel</td>\n",
       "      <td>Eco</td>\n",
       "      <td>1792</td>\n",
       "      <td>0</td>\n",
       "      <td>5</td>\n",
       "      <td>0</td>\n",
       "      <td>...</td>\n",
       "      <td>5</td>\n",
       "      <td>5</td>\n",
       "      <td>4</td>\n",
       "      <td>4</td>\n",
       "      <td>5</td>\n",
       "      <td>3</td>\n",
       "      <td>4</td>\n",
       "      <td>5</td>\n",
       "      <td>24</td>\n",
       "      <td>NaN</td>\n",
       "    </tr>\n",
       "    <tr>\n",
       "      <th>736</th>\n",
       "      <td>satisfied</td>\n",
       "      <td>Male</td>\n",
       "      <td>Loyal Customer</td>\n",
       "      <td>9</td>\n",
       "      <td>Personal Travel</td>\n",
       "      <td>Eco</td>\n",
       "      <td>1862</td>\n",
       "      <td>0</td>\n",
       "      <td>5</td>\n",
       "      <td>0</td>\n",
       "      <td>...</td>\n",
       "      <td>3</td>\n",
       "      <td>3</td>\n",
       "      <td>5</td>\n",
       "      <td>3</td>\n",
       "      <td>4</td>\n",
       "      <td>4</td>\n",
       "      <td>4</td>\n",
       "      <td>3</td>\n",
       "      <td>0</td>\n",
       "      <td>NaN</td>\n",
       "    </tr>\n",
       "    <tr>\n",
       "      <th>818</th>\n",
       "      <td>dissatisfied</td>\n",
       "      <td>Male</td>\n",
       "      <td>Loyal Customer</td>\n",
       "      <td>9</td>\n",
       "      <td>Personal Travel</td>\n",
       "      <td>Eco</td>\n",
       "      <td>1668</td>\n",
       "      <td>1</td>\n",
       "      <td>0</td>\n",
       "      <td>1</td>\n",
       "      <td>...</td>\n",
       "      <td>4</td>\n",
       "      <td>4</td>\n",
       "      <td>4</td>\n",
       "      <td>5</td>\n",
       "      <td>1</td>\n",
       "      <td>5</td>\n",
       "      <td>1</td>\n",
       "      <td>4</td>\n",
       "      <td>0</td>\n",
       "      <td>NaN</td>\n",
       "    </tr>\n",
       "    <tr>\n",
       "      <th>...</th>\n",
       "      <td>...</td>\n",
       "      <td>...</td>\n",
       "      <td>...</td>\n",
       "      <td>...</td>\n",
       "      <td>...</td>\n",
       "      <td>...</td>\n",
       "      <td>...</td>\n",
       "      <td>...</td>\n",
       "      <td>...</td>\n",
       "      <td>...</td>\n",
       "      <td>...</td>\n",
       "      <td>...</td>\n",
       "      <td>...</td>\n",
       "      <td>...</td>\n",
       "      <td>...</td>\n",
       "      <td>...</td>\n",
       "      <td>...</td>\n",
       "      <td>...</td>\n",
       "      <td>...</td>\n",
       "      <td>...</td>\n",
       "      <td>...</td>\n",
       "    </tr>\n",
       "    <tr>\n",
       "      <th>127739</th>\n",
       "      <td>satisfied</td>\n",
       "      <td>Male</td>\n",
       "      <td>Loyal Customer</td>\n",
       "      <td>44</td>\n",
       "      <td>Business travel</td>\n",
       "      <td>Business</td>\n",
       "      <td>3431</td>\n",
       "      <td>2</td>\n",
       "      <td>2</td>\n",
       "      <td>3</td>\n",
       "      <td>...</td>\n",
       "      <td>4</td>\n",
       "      <td>5</td>\n",
       "      <td>5</td>\n",
       "      <td>5</td>\n",
       "      <td>5</td>\n",
       "      <td>5</td>\n",
       "      <td>5</td>\n",
       "      <td>4</td>\n",
       "      <td>70</td>\n",
       "      <td>NaN</td>\n",
       "    </tr>\n",
       "    <tr>\n",
       "      <th>128131</th>\n",
       "      <td>satisfied</td>\n",
       "      <td>Male</td>\n",
       "      <td>Loyal Customer</td>\n",
       "      <td>39</td>\n",
       "      <td>Business travel</td>\n",
       "      <td>Business</td>\n",
       "      <td>1595</td>\n",
       "      <td>4</td>\n",
       "      <td>4</td>\n",
       "      <td>4</td>\n",
       "      <td>...</td>\n",
       "      <td>5</td>\n",
       "      <td>5</td>\n",
       "      <td>5</td>\n",
       "      <td>5</td>\n",
       "      <td>5</td>\n",
       "      <td>3</td>\n",
       "      <td>5</td>\n",
       "      <td>5</td>\n",
       "      <td>0</td>\n",
       "      <td>NaN</td>\n",
       "    </tr>\n",
       "    <tr>\n",
       "      <th>128710</th>\n",
       "      <td>satisfied</td>\n",
       "      <td>Female</td>\n",
       "      <td>Loyal Customer</td>\n",
       "      <td>45</td>\n",
       "      <td>Business travel</td>\n",
       "      <td>Eco</td>\n",
       "      <td>871</td>\n",
       "      <td>5</td>\n",
       "      <td>1</td>\n",
       "      <td>1</td>\n",
       "      <td>...</td>\n",
       "      <td>2</td>\n",
       "      <td>5</td>\n",
       "      <td>5</td>\n",
       "      <td>5</td>\n",
       "      <td>5</td>\n",
       "      <td>1</td>\n",
       "      <td>5</td>\n",
       "      <td>5</td>\n",
       "      <td>100</td>\n",
       "      <td>NaN</td>\n",
       "    </tr>\n",
       "    <tr>\n",
       "      <th>129774</th>\n",
       "      <td>satisfied</td>\n",
       "      <td>Male</td>\n",
       "      <td>disloyal Customer</td>\n",
       "      <td>49</td>\n",
       "      <td>Personal Travel</td>\n",
       "      <td>Eco</td>\n",
       "      <td>1594</td>\n",
       "      <td>5</td>\n",
       "      <td>4</td>\n",
       "      <td>5</td>\n",
       "      <td>...</td>\n",
       "      <td>3</td>\n",
       "      <td>3</td>\n",
       "      <td>1</td>\n",
       "      <td>4</td>\n",
       "      <td>3</td>\n",
       "      <td>3</td>\n",
       "      <td>4</td>\n",
       "      <td>3</td>\n",
       "      <td>0</td>\n",
       "      <td>NaN</td>\n",
       "    </tr>\n",
       "    <tr>\n",
       "      <th>129873</th>\n",
       "      <td>satisfied</td>\n",
       "      <td>Female</td>\n",
       "      <td>disloyal Customer</td>\n",
       "      <td>63</td>\n",
       "      <td>Personal Travel</td>\n",
       "      <td>Eco</td>\n",
       "      <td>1942</td>\n",
       "      <td>5</td>\n",
       "      <td>5</td>\n",
       "      <td>4</td>\n",
       "      <td>...</td>\n",
       "      <td>3</td>\n",
       "      <td>3</td>\n",
       "      <td>5</td>\n",
       "      <td>2</td>\n",
       "      <td>5</td>\n",
       "      <td>3</td>\n",
       "      <td>5</td>\n",
       "      <td>3</td>\n",
       "      <td>7</td>\n",
       "      <td>NaN</td>\n",
       "    </tr>\n",
       "  </tbody>\n",
       "</table>\n",
       "<p>393 rows × 23 columns</p>\n",
       "</div>"
      ],
      "text/plain": [
       "        satisfaction  Gender      Customer Type  Age   Type of Travel  \\\n",
       "145        satisfied  Female     Loyal Customer   21  Personal Travel   \n",
       "246        satisfied    Male     Loyal Customer   28  Personal Travel   \n",
       "710        satisfied    Male     Loyal Customer   28  Personal Travel   \n",
       "736        satisfied    Male     Loyal Customer    9  Personal Travel   \n",
       "818     dissatisfied    Male     Loyal Customer    9  Personal Travel   \n",
       "...              ...     ...                ...  ...              ...   \n",
       "127739     satisfied    Male     Loyal Customer   44  Business travel   \n",
       "128131     satisfied    Male     Loyal Customer   39  Business travel   \n",
       "128710     satisfied  Female     Loyal Customer   45  Business travel   \n",
       "129774     satisfied    Male  disloyal Customer   49  Personal Travel   \n",
       "129873     satisfied  Female  disloyal Customer   63  Personal Travel   \n",
       "\n",
       "           Class  Flight Distance  Seat comfort  \\\n",
       "145          Eco             4804             0   \n",
       "246          Eco             1364             0   \n",
       "710          Eco             1792             0   \n",
       "736          Eco             1862             0   \n",
       "818          Eco             1668             1   \n",
       "...          ...              ...           ...   \n",
       "127739  Business             3431             2   \n",
       "128131  Business             1595             4   \n",
       "128710       Eco              871             5   \n",
       "129774       Eco             1594             5   \n",
       "129873       Eco             1942             5   \n",
       "\n",
       "        Departure/Arrival time convenient  Food and drink  ...  \\\n",
       "145                                     2               0  ...   \n",
       "246                                     3               0  ...   \n",
       "710                                     5               0  ...   \n",
       "736                                     5               0  ...   \n",
       "818                                     0               1  ...   \n",
       "...                                   ...             ...  ...   \n",
       "127739                                  2               3  ...   \n",
       "128131                                  4               4  ...   \n",
       "128710                                  1               1  ...   \n",
       "129774                                  4               5  ...   \n",
       "129873                                  5               4  ...   \n",
       "\n",
       "        Online support  Ease of Online booking  On-board service  \\\n",
       "145                  5                       5                 4   \n",
       "246                  4                       2                 1   \n",
       "710                  5                       5                 4   \n",
       "736                  3                       3                 5   \n",
       "818                  4                       4                 4   \n",
       "...                ...                     ...               ...   \n",
       "127739               4                       5                 5   \n",
       "128131               5                       5                 5   \n",
       "128710               2                       5                 5   \n",
       "129774               3                       3                 1   \n",
       "129873               3                       3                 5   \n",
       "\n",
       "        Leg room service  Baggage handling  Checkin service  Cleanliness  \\\n",
       "145                    1                 4                2            3   \n",
       "246                    1                 3                4            3   \n",
       "710                    4                 5                3            4   \n",
       "736                    3                 4                4            4   \n",
       "818                    5                 1                5            1   \n",
       "...                  ...               ...              ...          ...   \n",
       "127739                 5                 5                5            5   \n",
       "128131                 5                 5                3            5   \n",
       "128710                 5                 5                1            5   \n",
       "129774                 4                 3                3            4   \n",
       "129873                 2                 5                3            5   \n",
       "\n",
       "        Online boarding  Departure Delay in Minutes  Arrival Delay in Minutes  \n",
       "145                   5                          20                       NaN  \n",
       "246                   2                           0                       NaN  \n",
       "710                   5                          24                       NaN  \n",
       "736                   3                           0                       NaN  \n",
       "818                   4                           0                       NaN  \n",
       "...                 ...                         ...                       ...  \n",
       "127739                4                          70                       NaN  \n",
       "128131                5                           0                       NaN  \n",
       "128710                5                         100                       NaN  \n",
       "129774                3                           0                       NaN  \n",
       "129873                3                           7                       NaN  \n",
       "\n",
       "[393 rows x 23 columns]"
      ]
     },
     "execution_count": 20,
     "metadata": {},
     "output_type": "execute_result"
    }
   ],
   "source": [
    "data_invistico.loc[data_invistico['Arrival Delay in Minutes'].isna(),:]"
   ]
  },
  {
   "cell_type": "markdown",
   "metadata": {},
   "source": [
    "se asumira que el tiempo de retraso de salida es igual al tiempo de retraso de llegada"
   ]
  },
  {
   "cell_type": "code",
   "execution_count": 21,
   "metadata": {},
   "outputs": [
    {
     "data": {
      "text/html": [
       "<div>\n",
       "<style scoped>\n",
       "    .dataframe tbody tr th:only-of-type {\n",
       "        vertical-align: middle;\n",
       "    }\n",
       "\n",
       "    .dataframe tbody tr th {\n",
       "        vertical-align: top;\n",
       "    }\n",
       "\n",
       "    .dataframe thead th {\n",
       "        text-align: right;\n",
       "    }\n",
       "</style>\n",
       "<table border=\"1\" class=\"dataframe\">\n",
       "  <thead>\n",
       "    <tr style=\"text-align: right;\">\n",
       "      <th></th>\n",
       "      <th>Age</th>\n",
       "      <th>Flight Distance</th>\n",
       "      <th>Seat comfort</th>\n",
       "      <th>Departure/Arrival time convenient</th>\n",
       "      <th>Food and drink</th>\n",
       "      <th>Gate location</th>\n",
       "      <th>Inflight wifi service</th>\n",
       "      <th>Inflight entertainment</th>\n",
       "      <th>Online support</th>\n",
       "      <th>Ease of Online booking</th>\n",
       "      <th>On-board service</th>\n",
       "      <th>Leg room service</th>\n",
       "      <th>Baggage handling</th>\n",
       "      <th>Checkin service</th>\n",
       "      <th>Cleanliness</th>\n",
       "      <th>Online boarding</th>\n",
       "      <th>Departure Delay in Minutes</th>\n",
       "      <th>Arrival Delay in Minutes</th>\n",
       "    </tr>\n",
       "  </thead>\n",
       "  <tbody>\n",
       "    <tr>\n",
       "      <th>Age</th>\n",
       "      <td>1.000000</td>\n",
       "      <td>-0.249625</td>\n",
       "      <td>0.008784</td>\n",
       "      <td>0.039055</td>\n",
       "      <td>0.015749</td>\n",
       "      <td>-0.000547</td>\n",
       "      <td>0.013965</td>\n",
       "      <td>0.130511</td>\n",
       "      <td>0.121201</td>\n",
       "      <td>0.071594</td>\n",
       "      <td>0.066704</td>\n",
       "      <td>0.083762</td>\n",
       "      <td>-0.015452</td>\n",
       "      <td>0.031845</td>\n",
       "      <td>-0.018271</td>\n",
       "      <td>0.037973</td>\n",
       "      <td>-0.009041</td>\n",
       "      <td>-0.011248</td>\n",
       "    </tr>\n",
       "    <tr>\n",
       "      <th>Flight Distance</th>\n",
       "      <td>-0.249625</td>\n",
       "      <td>1.000000</td>\n",
       "      <td>-0.042409</td>\n",
       "      <td>0.001350</td>\n",
       "      <td>-0.004649</td>\n",
       "      <td>-0.002409</td>\n",
       "      <td>0.012230</td>\n",
       "      <td>-0.027542</td>\n",
       "      <td>-0.032022</td>\n",
       "      <td>-0.022299</td>\n",
       "      <td>-0.032559</td>\n",
       "      <td>-0.030316</td>\n",
       "      <td>0.019768</td>\n",
       "      <td>0.002456</td>\n",
       "      <td>0.009432</td>\n",
       "      <td>0.009604</td>\n",
       "      <td>0.112555</td>\n",
       "      <td>0.110103</td>\n",
       "    </tr>\n",
       "    <tr>\n",
       "      <th>Seat comfort</th>\n",
       "      <td>0.008784</td>\n",
       "      <td>-0.042409</td>\n",
       "      <td>1.000000</td>\n",
       "      <td>0.434951</td>\n",
       "      <td>0.715997</td>\n",
       "      <td>0.405300</td>\n",
       "      <td>0.129131</td>\n",
       "      <td>0.426447</td>\n",
       "      <td>0.120278</td>\n",
       "      <td>0.211531</td>\n",
       "      <td>0.121149</td>\n",
       "      <td>0.136136</td>\n",
       "      <td>0.118489</td>\n",
       "      <td>0.041214</td>\n",
       "      <td>0.108475</td>\n",
       "      <td>0.130396</td>\n",
       "      <td>-0.023817</td>\n",
       "      <td>-0.025506</td>\n",
       "    </tr>\n",
       "    <tr>\n",
       "      <th>Departure/Arrival time convenient</th>\n",
       "      <td>0.039055</td>\n",
       "      <td>0.001350</td>\n",
       "      <td>0.434951</td>\n",
       "      <td>1.000000</td>\n",
       "      <td>0.527381</td>\n",
       "      <td>0.544259</td>\n",
       "      <td>-0.001974</td>\n",
       "      <td>0.077203</td>\n",
       "      <td>-0.000546</td>\n",
       "      <td>0.001755</td>\n",
       "      <td>0.060446</td>\n",
       "      <td>0.029422</td>\n",
       "      <td>0.067396</td>\n",
       "      <td>0.062794</td>\n",
       "      <td>0.067126</td>\n",
       "      <td>-0.000623</td>\n",
       "      <td>0.004395</td>\n",
       "      <td>0.002599</td>\n",
       "    </tr>\n",
       "    <tr>\n",
       "      <th>Food and drink</th>\n",
       "      <td>0.015749</td>\n",
       "      <td>-0.004649</td>\n",
       "      <td>0.715997</td>\n",
       "      <td>0.527381</td>\n",
       "      <td>1.000000</td>\n",
       "      <td>0.523328</td>\n",
       "      <td>0.025917</td>\n",
       "      <td>0.367669</td>\n",
       "      <td>0.028554</td>\n",
       "      <td>0.041189</td>\n",
       "      <td>0.038646</td>\n",
       "      <td>0.074161</td>\n",
       "      <td>0.036370</td>\n",
       "      <td>0.011898</td>\n",
       "      <td>0.033416</td>\n",
       "      <td>0.013587</td>\n",
       "      <td>-0.013433</td>\n",
       "      <td>-0.014881</td>\n",
       "    </tr>\n",
       "    <tr>\n",
       "      <th>Gate location</th>\n",
       "      <td>-0.000547</td>\n",
       "      <td>-0.002409</td>\n",
       "      <td>0.405300</td>\n",
       "      <td>0.544259</td>\n",
       "      <td>0.523328</td>\n",
       "      <td>1.000000</td>\n",
       "      <td>-0.004086</td>\n",
       "      <td>-0.000280</td>\n",
       "      <td>0.002908</td>\n",
       "      <td>0.001442</td>\n",
       "      <td>-0.025132</td>\n",
       "      <td>-0.007407</td>\n",
       "      <td>-0.000401</td>\n",
       "      <td>-0.031859</td>\n",
       "      <td>-0.001705</td>\n",
       "      <td>-0.003043</td>\n",
       "      <td>0.003962</td>\n",
       "      <td>0.003640</td>\n",
       "    </tr>\n",
       "    <tr>\n",
       "      <th>Inflight wifi service</th>\n",
       "      <td>0.013965</td>\n",
       "      <td>0.012230</td>\n",
       "      <td>0.129131</td>\n",
       "      <td>-0.001974</td>\n",
       "      <td>0.025917</td>\n",
       "      <td>-0.004086</td>\n",
       "      <td>1.000000</td>\n",
       "      <td>0.253823</td>\n",
       "      <td>0.557340</td>\n",
       "      <td>0.601100</td>\n",
       "      <td>0.060794</td>\n",
       "      <td>0.033589</td>\n",
       "      <td>0.038251</td>\n",
       "      <td>0.092508</td>\n",
       "      <td>0.038263</td>\n",
       "      <td>0.631786</td>\n",
       "      <td>-0.032900</td>\n",
       "      <td>-0.035270</td>\n",
       "    </tr>\n",
       "    <tr>\n",
       "      <th>Inflight entertainment</th>\n",
       "      <td>0.130511</td>\n",
       "      <td>-0.027542</td>\n",
       "      <td>0.426447</td>\n",
       "      <td>0.077203</td>\n",
       "      <td>0.367669</td>\n",
       "      <td>-0.000280</td>\n",
       "      <td>0.253823</td>\n",
       "      <td>1.000000</td>\n",
       "      <td>0.441957</td>\n",
       "      <td>0.321731</td>\n",
       "      <td>0.183912</td>\n",
       "      <td>0.160731</td>\n",
       "      <td>0.117213</td>\n",
       "      <td>0.224120</td>\n",
       "      <td>0.109451</td>\n",
       "      <td>0.355714</td>\n",
       "      <td>-0.030491</td>\n",
       "      <td>-0.033321</td>\n",
       "    </tr>\n",
       "    <tr>\n",
       "      <th>Online support</th>\n",
       "      <td>0.121201</td>\n",
       "      <td>-0.032022</td>\n",
       "      <td>0.120278</td>\n",
       "      <td>-0.000546</td>\n",
       "      <td>0.028554</td>\n",
       "      <td>0.002908</td>\n",
       "      <td>0.557340</td>\n",
       "      <td>0.441957</td>\n",
       "      <td>1.000000</td>\n",
       "      <td>0.617489</td>\n",
       "      <td>0.157930</td>\n",
       "      <td>0.138433</td>\n",
       "      <td>0.102444</td>\n",
       "      <td>0.206824</td>\n",
       "      <td>0.095726</td>\n",
       "      <td>0.669843</td>\n",
       "      <td>-0.034018</td>\n",
       "      <td>-0.036087</td>\n",
       "    </tr>\n",
       "    <tr>\n",
       "      <th>Ease of Online booking</th>\n",
       "      <td>0.071594</td>\n",
       "      <td>-0.022299</td>\n",
       "      <td>0.211531</td>\n",
       "      <td>0.001755</td>\n",
       "      <td>0.041189</td>\n",
       "      <td>0.001442</td>\n",
       "      <td>0.601100</td>\n",
       "      <td>0.321731</td>\n",
       "      <td>0.617489</td>\n",
       "      <td>1.000000</td>\n",
       "      <td>0.436264</td>\n",
       "      <td>0.355122</td>\n",
       "      <td>0.398322</td>\n",
       "      <td>0.137744</td>\n",
       "      <td>0.417675</td>\n",
       "      <td>0.684320</td>\n",
       "      <td>-0.036545</td>\n",
       "      <td>-0.039806</td>\n",
       "    </tr>\n",
       "    <tr>\n",
       "      <th>On-board service</th>\n",
       "      <td>0.066704</td>\n",
       "      <td>-0.032559</td>\n",
       "      <td>0.121149</td>\n",
       "      <td>0.060446</td>\n",
       "      <td>0.038646</td>\n",
       "      <td>-0.025132</td>\n",
       "      <td>0.060794</td>\n",
       "      <td>0.183912</td>\n",
       "      <td>0.157930</td>\n",
       "      <td>0.436264</td>\n",
       "      <td>1.000000</td>\n",
       "      <td>0.411746</td>\n",
       "      <td>0.530448</td>\n",
       "      <td>0.250839</td>\n",
       "      <td>0.551294</td>\n",
       "      <td>0.139506</td>\n",
       "      <td>-0.037641</td>\n",
       "      <td>-0.041456</td>\n",
       "    </tr>\n",
       "    <tr>\n",
       "      <th>Leg room service</th>\n",
       "      <td>0.083762</td>\n",
       "      <td>-0.030316</td>\n",
       "      <td>0.136136</td>\n",
       "      <td>0.029422</td>\n",
       "      <td>0.074161</td>\n",
       "      <td>-0.007407</td>\n",
       "      <td>0.033589</td>\n",
       "      <td>0.160731</td>\n",
       "      <td>0.138433</td>\n",
       "      <td>0.355122</td>\n",
       "      <td>0.411746</td>\n",
       "      <td>1.000000</td>\n",
       "      <td>0.411640</td>\n",
       "      <td>0.167942</td>\n",
       "      <td>0.411505</td>\n",
       "      <td>0.112900</td>\n",
       "      <td>0.003660</td>\n",
       "      <td>0.000472</td>\n",
       "    </tr>\n",
       "    <tr>\n",
       "      <th>Baggage handling</th>\n",
       "      <td>-0.015452</td>\n",
       "      <td>0.019768</td>\n",
       "      <td>0.118489</td>\n",
       "      <td>0.067396</td>\n",
       "      <td>0.036370</td>\n",
       "      <td>-0.000401</td>\n",
       "      <td>0.038251</td>\n",
       "      <td>0.117213</td>\n",
       "      <td>0.102444</td>\n",
       "      <td>0.398322</td>\n",
       "      <td>0.530448</td>\n",
       "      <td>0.411640</td>\n",
       "      <td>1.000000</td>\n",
       "      <td>0.240858</td>\n",
       "      <td>0.631803</td>\n",
       "      <td>0.111920</td>\n",
       "      <td>-0.009985</td>\n",
       "      <td>-0.014164</td>\n",
       "    </tr>\n",
       "    <tr>\n",
       "      <th>Checkin service</th>\n",
       "      <td>0.031845</td>\n",
       "      <td>0.002456</td>\n",
       "      <td>0.041214</td>\n",
       "      <td>0.062794</td>\n",
       "      <td>0.011898</td>\n",
       "      <td>-0.031859</td>\n",
       "      <td>0.092508</td>\n",
       "      <td>0.224120</td>\n",
       "      <td>0.206824</td>\n",
       "      <td>0.137744</td>\n",
       "      <td>0.250839</td>\n",
       "      <td>0.167942</td>\n",
       "      <td>0.240858</td>\n",
       "      <td>1.000000</td>\n",
       "      <td>0.241734</td>\n",
       "      <td>0.184344</td>\n",
       "      <td>-0.020896</td>\n",
       "      <td>-0.023860</td>\n",
       "    </tr>\n",
       "    <tr>\n",
       "      <th>Cleanliness</th>\n",
       "      <td>-0.018271</td>\n",
       "      <td>0.009432</td>\n",
       "      <td>0.108475</td>\n",
       "      <td>0.067126</td>\n",
       "      <td>0.033416</td>\n",
       "      <td>-0.001705</td>\n",
       "      <td>0.038263</td>\n",
       "      <td>0.109451</td>\n",
       "      <td>0.095726</td>\n",
       "      <td>0.417675</td>\n",
       "      <td>0.551294</td>\n",
       "      <td>0.411505</td>\n",
       "      <td>0.631803</td>\n",
       "      <td>0.241734</td>\n",
       "      <td>1.000000</td>\n",
       "      <td>0.106238</td>\n",
       "      <td>-0.062134</td>\n",
       "      <td>-0.067208</td>\n",
       "    </tr>\n",
       "    <tr>\n",
       "      <th>Online boarding</th>\n",
       "      <td>0.037973</td>\n",
       "      <td>0.009604</td>\n",
       "      <td>0.130396</td>\n",
       "      <td>-0.000623</td>\n",
       "      <td>0.013587</td>\n",
       "      <td>-0.003043</td>\n",
       "      <td>0.631786</td>\n",
       "      <td>0.355714</td>\n",
       "      <td>0.669843</td>\n",
       "      <td>0.684320</td>\n",
       "      <td>0.139506</td>\n",
       "      <td>0.112900</td>\n",
       "      <td>0.111920</td>\n",
       "      <td>0.184344</td>\n",
       "      <td>0.106238</td>\n",
       "      <td>1.000000</td>\n",
       "      <td>-0.020045</td>\n",
       "      <td>-0.021784</td>\n",
       "    </tr>\n",
       "    <tr>\n",
       "      <th>Departure Delay in Minutes</th>\n",
       "      <td>-0.009041</td>\n",
       "      <td>0.112555</td>\n",
       "      <td>-0.023817</td>\n",
       "      <td>0.004395</td>\n",
       "      <td>-0.013433</td>\n",
       "      <td>0.003962</td>\n",
       "      <td>-0.032900</td>\n",
       "      <td>-0.030491</td>\n",
       "      <td>-0.034018</td>\n",
       "      <td>-0.036545</td>\n",
       "      <td>-0.037641</td>\n",
       "      <td>0.003660</td>\n",
       "      <td>-0.009985</td>\n",
       "      <td>-0.020896</td>\n",
       "      <td>-0.062134</td>\n",
       "      <td>-0.020045</td>\n",
       "      <td>1.000000</td>\n",
       "      <td>0.965291</td>\n",
       "    </tr>\n",
       "    <tr>\n",
       "      <th>Arrival Delay in Minutes</th>\n",
       "      <td>-0.011248</td>\n",
       "      <td>0.110103</td>\n",
       "      <td>-0.025506</td>\n",
       "      <td>0.002599</td>\n",
       "      <td>-0.014881</td>\n",
       "      <td>0.003640</td>\n",
       "      <td>-0.035270</td>\n",
       "      <td>-0.033321</td>\n",
       "      <td>-0.036087</td>\n",
       "      <td>-0.039806</td>\n",
       "      <td>-0.041456</td>\n",
       "      <td>0.000472</td>\n",
       "      <td>-0.014164</td>\n",
       "      <td>-0.023860</td>\n",
       "      <td>-0.067208</td>\n",
       "      <td>-0.021784</td>\n",
       "      <td>0.965291</td>\n",
       "      <td>1.000000</td>\n",
       "    </tr>\n",
       "  </tbody>\n",
       "</table>\n",
       "</div>"
      ],
      "text/plain": [
       "                                        Age  Flight Distance  Seat comfort  \\\n",
       "Age                                1.000000        -0.249625      0.008784   \n",
       "Flight Distance                   -0.249625         1.000000     -0.042409   \n",
       "Seat comfort                       0.008784        -0.042409      1.000000   \n",
       "Departure/Arrival time convenient  0.039055         0.001350      0.434951   \n",
       "Food and drink                     0.015749        -0.004649      0.715997   \n",
       "Gate location                     -0.000547        -0.002409      0.405300   \n",
       "Inflight wifi service              0.013965         0.012230      0.129131   \n",
       "Inflight entertainment             0.130511        -0.027542      0.426447   \n",
       "Online support                     0.121201        -0.032022      0.120278   \n",
       "Ease of Online booking             0.071594        -0.022299      0.211531   \n",
       "On-board service                   0.066704        -0.032559      0.121149   \n",
       "Leg room service                   0.083762        -0.030316      0.136136   \n",
       "Baggage handling                  -0.015452         0.019768      0.118489   \n",
       "Checkin service                    0.031845         0.002456      0.041214   \n",
       "Cleanliness                       -0.018271         0.009432      0.108475   \n",
       "Online boarding                    0.037973         0.009604      0.130396   \n",
       "Departure Delay in Minutes        -0.009041         0.112555     -0.023817   \n",
       "Arrival Delay in Minutes          -0.011248         0.110103     -0.025506   \n",
       "\n",
       "                                   Departure/Arrival time convenient  \\\n",
       "Age                                                         0.039055   \n",
       "Flight Distance                                             0.001350   \n",
       "Seat comfort                                                0.434951   \n",
       "Departure/Arrival time convenient                           1.000000   \n",
       "Food and drink                                              0.527381   \n",
       "Gate location                                               0.544259   \n",
       "Inflight wifi service                                      -0.001974   \n",
       "Inflight entertainment                                      0.077203   \n",
       "Online support                                             -0.000546   \n",
       "Ease of Online booking                                      0.001755   \n",
       "On-board service                                            0.060446   \n",
       "Leg room service                                            0.029422   \n",
       "Baggage handling                                            0.067396   \n",
       "Checkin service                                             0.062794   \n",
       "Cleanliness                                                 0.067126   \n",
       "Online boarding                                            -0.000623   \n",
       "Departure Delay in Minutes                                  0.004395   \n",
       "Arrival Delay in Minutes                                    0.002599   \n",
       "\n",
       "                                   Food and drink  Gate location  \\\n",
       "Age                                      0.015749      -0.000547   \n",
       "Flight Distance                         -0.004649      -0.002409   \n",
       "Seat comfort                             0.715997       0.405300   \n",
       "Departure/Arrival time convenient        0.527381       0.544259   \n",
       "Food and drink                           1.000000       0.523328   \n",
       "Gate location                            0.523328       1.000000   \n",
       "Inflight wifi service                    0.025917      -0.004086   \n",
       "Inflight entertainment                   0.367669      -0.000280   \n",
       "Online support                           0.028554       0.002908   \n",
       "Ease of Online booking                   0.041189       0.001442   \n",
       "On-board service                         0.038646      -0.025132   \n",
       "Leg room service                         0.074161      -0.007407   \n",
       "Baggage handling                         0.036370      -0.000401   \n",
       "Checkin service                          0.011898      -0.031859   \n",
       "Cleanliness                              0.033416      -0.001705   \n",
       "Online boarding                          0.013587      -0.003043   \n",
       "Departure Delay in Minutes              -0.013433       0.003962   \n",
       "Arrival Delay in Minutes                -0.014881       0.003640   \n",
       "\n",
       "                                   Inflight wifi service  \\\n",
       "Age                                             0.013965   \n",
       "Flight Distance                                 0.012230   \n",
       "Seat comfort                                    0.129131   \n",
       "Departure/Arrival time convenient              -0.001974   \n",
       "Food and drink                                  0.025917   \n",
       "Gate location                                  -0.004086   \n",
       "Inflight wifi service                           1.000000   \n",
       "Inflight entertainment                          0.253823   \n",
       "Online support                                  0.557340   \n",
       "Ease of Online booking                          0.601100   \n",
       "On-board service                                0.060794   \n",
       "Leg room service                                0.033589   \n",
       "Baggage handling                                0.038251   \n",
       "Checkin service                                 0.092508   \n",
       "Cleanliness                                     0.038263   \n",
       "Online boarding                                 0.631786   \n",
       "Departure Delay in Minutes                     -0.032900   \n",
       "Arrival Delay in Minutes                       -0.035270   \n",
       "\n",
       "                                   Inflight entertainment  Online support  \\\n",
       "Age                                              0.130511        0.121201   \n",
       "Flight Distance                                 -0.027542       -0.032022   \n",
       "Seat comfort                                     0.426447        0.120278   \n",
       "Departure/Arrival time convenient                0.077203       -0.000546   \n",
       "Food and drink                                   0.367669        0.028554   \n",
       "Gate location                                   -0.000280        0.002908   \n",
       "Inflight wifi service                            0.253823        0.557340   \n",
       "Inflight entertainment                           1.000000        0.441957   \n",
       "Online support                                   0.441957        1.000000   \n",
       "Ease of Online booking                           0.321731        0.617489   \n",
       "On-board service                                 0.183912        0.157930   \n",
       "Leg room service                                 0.160731        0.138433   \n",
       "Baggage handling                                 0.117213        0.102444   \n",
       "Checkin service                                  0.224120        0.206824   \n",
       "Cleanliness                                      0.109451        0.095726   \n",
       "Online boarding                                  0.355714        0.669843   \n",
       "Departure Delay in Minutes                      -0.030491       -0.034018   \n",
       "Arrival Delay in Minutes                        -0.033321       -0.036087   \n",
       "\n",
       "                                   Ease of Online booking  On-board service  \\\n",
       "Age                                              0.071594          0.066704   \n",
       "Flight Distance                                 -0.022299         -0.032559   \n",
       "Seat comfort                                     0.211531          0.121149   \n",
       "Departure/Arrival time convenient                0.001755          0.060446   \n",
       "Food and drink                                   0.041189          0.038646   \n",
       "Gate location                                    0.001442         -0.025132   \n",
       "Inflight wifi service                            0.601100          0.060794   \n",
       "Inflight entertainment                           0.321731          0.183912   \n",
       "Online support                                   0.617489          0.157930   \n",
       "Ease of Online booking                           1.000000          0.436264   \n",
       "On-board service                                 0.436264          1.000000   \n",
       "Leg room service                                 0.355122          0.411746   \n",
       "Baggage handling                                 0.398322          0.530448   \n",
       "Checkin service                                  0.137744          0.250839   \n",
       "Cleanliness                                      0.417675          0.551294   \n",
       "Online boarding                                  0.684320          0.139506   \n",
       "Departure Delay in Minutes                      -0.036545         -0.037641   \n",
       "Arrival Delay in Minutes                        -0.039806         -0.041456   \n",
       "\n",
       "                                   Leg room service  Baggage handling  \\\n",
       "Age                                        0.083762         -0.015452   \n",
       "Flight Distance                           -0.030316          0.019768   \n",
       "Seat comfort                               0.136136          0.118489   \n",
       "Departure/Arrival time convenient          0.029422          0.067396   \n",
       "Food and drink                             0.074161          0.036370   \n",
       "Gate location                             -0.007407         -0.000401   \n",
       "Inflight wifi service                      0.033589          0.038251   \n",
       "Inflight entertainment                     0.160731          0.117213   \n",
       "Online support                             0.138433          0.102444   \n",
       "Ease of Online booking                     0.355122          0.398322   \n",
       "On-board service                           0.411746          0.530448   \n",
       "Leg room service                           1.000000          0.411640   \n",
       "Baggage handling                           0.411640          1.000000   \n",
       "Checkin service                            0.167942          0.240858   \n",
       "Cleanliness                                0.411505          0.631803   \n",
       "Online boarding                            0.112900          0.111920   \n",
       "Departure Delay in Minutes                 0.003660         -0.009985   \n",
       "Arrival Delay in Minutes                   0.000472         -0.014164   \n",
       "\n",
       "                                   Checkin service  Cleanliness  \\\n",
       "Age                                       0.031845    -0.018271   \n",
       "Flight Distance                           0.002456     0.009432   \n",
       "Seat comfort                              0.041214     0.108475   \n",
       "Departure/Arrival time convenient         0.062794     0.067126   \n",
       "Food and drink                            0.011898     0.033416   \n",
       "Gate location                            -0.031859    -0.001705   \n",
       "Inflight wifi service                     0.092508     0.038263   \n",
       "Inflight entertainment                    0.224120     0.109451   \n",
       "Online support                            0.206824     0.095726   \n",
       "Ease of Online booking                    0.137744     0.417675   \n",
       "On-board service                          0.250839     0.551294   \n",
       "Leg room service                          0.167942     0.411505   \n",
       "Baggage handling                          0.240858     0.631803   \n",
       "Checkin service                           1.000000     0.241734   \n",
       "Cleanliness                               0.241734     1.000000   \n",
       "Online boarding                           0.184344     0.106238   \n",
       "Departure Delay in Minutes               -0.020896    -0.062134   \n",
       "Arrival Delay in Minutes                 -0.023860    -0.067208   \n",
       "\n",
       "                                   Online boarding  \\\n",
       "Age                                       0.037973   \n",
       "Flight Distance                           0.009604   \n",
       "Seat comfort                              0.130396   \n",
       "Departure/Arrival time convenient        -0.000623   \n",
       "Food and drink                            0.013587   \n",
       "Gate location                            -0.003043   \n",
       "Inflight wifi service                     0.631786   \n",
       "Inflight entertainment                    0.355714   \n",
       "Online support                            0.669843   \n",
       "Ease of Online booking                    0.684320   \n",
       "On-board service                          0.139506   \n",
       "Leg room service                          0.112900   \n",
       "Baggage handling                          0.111920   \n",
       "Checkin service                           0.184344   \n",
       "Cleanliness                               0.106238   \n",
       "Online boarding                           1.000000   \n",
       "Departure Delay in Minutes               -0.020045   \n",
       "Arrival Delay in Minutes                 -0.021784   \n",
       "\n",
       "                                   Departure Delay in Minutes  \\\n",
       "Age                                                 -0.009041   \n",
       "Flight Distance                                      0.112555   \n",
       "Seat comfort                                        -0.023817   \n",
       "Departure/Arrival time convenient                    0.004395   \n",
       "Food and drink                                      -0.013433   \n",
       "Gate location                                        0.003962   \n",
       "Inflight wifi service                               -0.032900   \n",
       "Inflight entertainment                              -0.030491   \n",
       "Online support                                      -0.034018   \n",
       "Ease of Online booking                              -0.036545   \n",
       "On-board service                                    -0.037641   \n",
       "Leg room service                                     0.003660   \n",
       "Baggage handling                                    -0.009985   \n",
       "Checkin service                                     -0.020896   \n",
       "Cleanliness                                         -0.062134   \n",
       "Online boarding                                     -0.020045   \n",
       "Departure Delay in Minutes                           1.000000   \n",
       "Arrival Delay in Minutes                             0.965291   \n",
       "\n",
       "                                   Arrival Delay in Minutes  \n",
       "Age                                               -0.011248  \n",
       "Flight Distance                                    0.110103  \n",
       "Seat comfort                                      -0.025506  \n",
       "Departure/Arrival time convenient                  0.002599  \n",
       "Food and drink                                    -0.014881  \n",
       "Gate location                                      0.003640  \n",
       "Inflight wifi service                             -0.035270  \n",
       "Inflight entertainment                            -0.033321  \n",
       "Online support                                    -0.036087  \n",
       "Ease of Online booking                            -0.039806  \n",
       "On-board service                                  -0.041456  \n",
       "Leg room service                                   0.000472  \n",
       "Baggage handling                                  -0.014164  \n",
       "Checkin service                                   -0.023860  \n",
       "Cleanliness                                       -0.067208  \n",
       "Online boarding                                   -0.021784  \n",
       "Departure Delay in Minutes                         0.965291  \n",
       "Arrival Delay in Minutes                           1.000000  "
      ]
     },
     "execution_count": 21,
     "metadata": {},
     "output_type": "execute_result"
    }
   ],
   "source": [
    "data_invistico.corr()"
   ]
  },
  {
   "cell_type": "markdown",
   "metadata": {},
   "source": [
    "la correlacion de estas variables es casí uno, por lo que se igualaran las columnas"
   ]
  },
  {
   "cell_type": "code",
   "execution_count": 22,
   "metadata": {},
   "outputs": [],
   "source": [
    "data_invistico['Arrival Delay in Minutes']=data_invistico['Departure Delay in Minutes']"
   ]
  },
  {
   "cell_type": "code",
   "execution_count": 23,
   "metadata": {},
   "outputs": [
    {
     "data": {
      "text/html": [
       "<div>\n",
       "<style scoped>\n",
       "    .dataframe tbody tr th:only-of-type {\n",
       "        vertical-align: middle;\n",
       "    }\n",
       "\n",
       "    .dataframe tbody tr th {\n",
       "        vertical-align: top;\n",
       "    }\n",
       "\n",
       "    .dataframe thead th {\n",
       "        text-align: right;\n",
       "    }\n",
       "</style>\n",
       "<table border=\"1\" class=\"dataframe\">\n",
       "  <thead>\n",
       "    <tr style=\"text-align: right;\">\n",
       "      <th></th>\n",
       "      <th>satisfaction</th>\n",
       "      <th>Gender</th>\n",
       "      <th>Customer Type</th>\n",
       "      <th>Age</th>\n",
       "      <th>Type of Travel</th>\n",
       "      <th>Class</th>\n",
       "      <th>Flight Distance</th>\n",
       "      <th>Seat comfort</th>\n",
       "      <th>Departure/Arrival time convenient</th>\n",
       "      <th>Food and drink</th>\n",
       "      <th>...</th>\n",
       "      <th>Online support</th>\n",
       "      <th>Ease of Online booking</th>\n",
       "      <th>On-board service</th>\n",
       "      <th>Leg room service</th>\n",
       "      <th>Baggage handling</th>\n",
       "      <th>Checkin service</th>\n",
       "      <th>Cleanliness</th>\n",
       "      <th>Online boarding</th>\n",
       "      <th>Departure Delay in Minutes</th>\n",
       "      <th>Arrival Delay in Minutes</th>\n",
       "    </tr>\n",
       "  </thead>\n",
       "  <tbody>\n",
       "    <tr>\n",
       "      <th>0</th>\n",
       "      <td>satisfied</td>\n",
       "      <td>Female</td>\n",
       "      <td>Loyal Customer</td>\n",
       "      <td>65</td>\n",
       "      <td>Personal Travel</td>\n",
       "      <td>Eco</td>\n",
       "      <td>265</td>\n",
       "      <td>0</td>\n",
       "      <td>0</td>\n",
       "      <td>0</td>\n",
       "      <td>...</td>\n",
       "      <td>2</td>\n",
       "      <td>3</td>\n",
       "      <td>3</td>\n",
       "      <td>0</td>\n",
       "      <td>3</td>\n",
       "      <td>5</td>\n",
       "      <td>3</td>\n",
       "      <td>2</td>\n",
       "      <td>0</td>\n",
       "      <td>0</td>\n",
       "    </tr>\n",
       "    <tr>\n",
       "      <th>1</th>\n",
       "      <td>satisfied</td>\n",
       "      <td>Male</td>\n",
       "      <td>Loyal Customer</td>\n",
       "      <td>47</td>\n",
       "      <td>Personal Travel</td>\n",
       "      <td>Business</td>\n",
       "      <td>2464</td>\n",
       "      <td>0</td>\n",
       "      <td>0</td>\n",
       "      <td>0</td>\n",
       "      <td>...</td>\n",
       "      <td>2</td>\n",
       "      <td>3</td>\n",
       "      <td>4</td>\n",
       "      <td>4</td>\n",
       "      <td>4</td>\n",
       "      <td>2</td>\n",
       "      <td>3</td>\n",
       "      <td>2</td>\n",
       "      <td>310</td>\n",
       "      <td>310</td>\n",
       "    </tr>\n",
       "    <tr>\n",
       "      <th>2</th>\n",
       "      <td>satisfied</td>\n",
       "      <td>Female</td>\n",
       "      <td>Loyal Customer</td>\n",
       "      <td>15</td>\n",
       "      <td>Personal Travel</td>\n",
       "      <td>Eco</td>\n",
       "      <td>2138</td>\n",
       "      <td>0</td>\n",
       "      <td>0</td>\n",
       "      <td>0</td>\n",
       "      <td>...</td>\n",
       "      <td>2</td>\n",
       "      <td>2</td>\n",
       "      <td>3</td>\n",
       "      <td>3</td>\n",
       "      <td>4</td>\n",
       "      <td>4</td>\n",
       "      <td>4</td>\n",
       "      <td>2</td>\n",
       "      <td>0</td>\n",
       "      <td>0</td>\n",
       "    </tr>\n",
       "    <tr>\n",
       "      <th>3</th>\n",
       "      <td>satisfied</td>\n",
       "      <td>Female</td>\n",
       "      <td>Loyal Customer</td>\n",
       "      <td>60</td>\n",
       "      <td>Personal Travel</td>\n",
       "      <td>Eco</td>\n",
       "      <td>623</td>\n",
       "      <td>0</td>\n",
       "      <td>0</td>\n",
       "      <td>0</td>\n",
       "      <td>...</td>\n",
       "      <td>3</td>\n",
       "      <td>1</td>\n",
       "      <td>1</td>\n",
       "      <td>0</td>\n",
       "      <td>1</td>\n",
       "      <td>4</td>\n",
       "      <td>1</td>\n",
       "      <td>3</td>\n",
       "      <td>0</td>\n",
       "      <td>0</td>\n",
       "    </tr>\n",
       "    <tr>\n",
       "      <th>4</th>\n",
       "      <td>satisfied</td>\n",
       "      <td>Female</td>\n",
       "      <td>Loyal Customer</td>\n",
       "      <td>70</td>\n",
       "      <td>Personal Travel</td>\n",
       "      <td>Eco</td>\n",
       "      <td>354</td>\n",
       "      <td>0</td>\n",
       "      <td>0</td>\n",
       "      <td>0</td>\n",
       "      <td>...</td>\n",
       "      <td>4</td>\n",
       "      <td>2</td>\n",
       "      <td>2</td>\n",
       "      <td>0</td>\n",
       "      <td>2</td>\n",
       "      <td>4</td>\n",
       "      <td>2</td>\n",
       "      <td>5</td>\n",
       "      <td>0</td>\n",
       "      <td>0</td>\n",
       "    </tr>\n",
       "    <tr>\n",
       "      <th>...</th>\n",
       "      <td>...</td>\n",
       "      <td>...</td>\n",
       "      <td>...</td>\n",
       "      <td>...</td>\n",
       "      <td>...</td>\n",
       "      <td>...</td>\n",
       "      <td>...</td>\n",
       "      <td>...</td>\n",
       "      <td>...</td>\n",
       "      <td>...</td>\n",
       "      <td>...</td>\n",
       "      <td>...</td>\n",
       "      <td>...</td>\n",
       "      <td>...</td>\n",
       "      <td>...</td>\n",
       "      <td>...</td>\n",
       "      <td>...</td>\n",
       "      <td>...</td>\n",
       "      <td>...</td>\n",
       "      <td>...</td>\n",
       "      <td>...</td>\n",
       "    </tr>\n",
       "    <tr>\n",
       "      <th>129875</th>\n",
       "      <td>satisfied</td>\n",
       "      <td>Female</td>\n",
       "      <td>disloyal Customer</td>\n",
       "      <td>29</td>\n",
       "      <td>Personal Travel</td>\n",
       "      <td>Eco</td>\n",
       "      <td>1731</td>\n",
       "      <td>5</td>\n",
       "      <td>5</td>\n",
       "      <td>5</td>\n",
       "      <td>...</td>\n",
       "      <td>2</td>\n",
       "      <td>2</td>\n",
       "      <td>3</td>\n",
       "      <td>3</td>\n",
       "      <td>4</td>\n",
       "      <td>4</td>\n",
       "      <td>4</td>\n",
       "      <td>2</td>\n",
       "      <td>0</td>\n",
       "      <td>0</td>\n",
       "    </tr>\n",
       "    <tr>\n",
       "      <th>129876</th>\n",
       "      <td>dissatisfied</td>\n",
       "      <td>Male</td>\n",
       "      <td>disloyal Customer</td>\n",
       "      <td>63</td>\n",
       "      <td>Personal Travel</td>\n",
       "      <td>Business</td>\n",
       "      <td>2087</td>\n",
       "      <td>2</td>\n",
       "      <td>3</td>\n",
       "      <td>2</td>\n",
       "      <td>...</td>\n",
       "      <td>1</td>\n",
       "      <td>3</td>\n",
       "      <td>2</td>\n",
       "      <td>3</td>\n",
       "      <td>3</td>\n",
       "      <td>1</td>\n",
       "      <td>2</td>\n",
       "      <td>1</td>\n",
       "      <td>174</td>\n",
       "      <td>174</td>\n",
       "    </tr>\n",
       "    <tr>\n",
       "      <th>129877</th>\n",
       "      <td>dissatisfied</td>\n",
       "      <td>Male</td>\n",
       "      <td>disloyal Customer</td>\n",
       "      <td>69</td>\n",
       "      <td>Personal Travel</td>\n",
       "      <td>Eco</td>\n",
       "      <td>2320</td>\n",
       "      <td>3</td>\n",
       "      <td>0</td>\n",
       "      <td>3</td>\n",
       "      <td>...</td>\n",
       "      <td>2</td>\n",
       "      <td>4</td>\n",
       "      <td>4</td>\n",
       "      <td>3</td>\n",
       "      <td>4</td>\n",
       "      <td>2</td>\n",
       "      <td>3</td>\n",
       "      <td>2</td>\n",
       "      <td>155</td>\n",
       "      <td>155</td>\n",
       "    </tr>\n",
       "    <tr>\n",
       "      <th>129878</th>\n",
       "      <td>dissatisfied</td>\n",
       "      <td>Male</td>\n",
       "      <td>disloyal Customer</td>\n",
       "      <td>66</td>\n",
       "      <td>Personal Travel</td>\n",
       "      <td>Eco</td>\n",
       "      <td>2450</td>\n",
       "      <td>3</td>\n",
       "      <td>2</td>\n",
       "      <td>3</td>\n",
       "      <td>...</td>\n",
       "      <td>2</td>\n",
       "      <td>3</td>\n",
       "      <td>3</td>\n",
       "      <td>2</td>\n",
       "      <td>3</td>\n",
       "      <td>2</td>\n",
       "      <td>1</td>\n",
       "      <td>2</td>\n",
       "      <td>193</td>\n",
       "      <td>193</td>\n",
       "    </tr>\n",
       "    <tr>\n",
       "      <th>129879</th>\n",
       "      <td>dissatisfied</td>\n",
       "      <td>Female</td>\n",
       "      <td>disloyal Customer</td>\n",
       "      <td>38</td>\n",
       "      <td>Personal Travel</td>\n",
       "      <td>Eco</td>\n",
       "      <td>4307</td>\n",
       "      <td>3</td>\n",
       "      <td>4</td>\n",
       "      <td>3</td>\n",
       "      <td>...</td>\n",
       "      <td>3</td>\n",
       "      <td>4</td>\n",
       "      <td>5</td>\n",
       "      <td>5</td>\n",
       "      <td>5</td>\n",
       "      <td>3</td>\n",
       "      <td>3</td>\n",
       "      <td>3</td>\n",
       "      <td>185</td>\n",
       "      <td>185</td>\n",
       "    </tr>\n",
       "  </tbody>\n",
       "</table>\n",
       "<p>129880 rows × 23 columns</p>\n",
       "</div>"
      ],
      "text/plain": [
       "        satisfaction  Gender      Customer Type  Age   Type of Travel  \\\n",
       "0          satisfied  Female     Loyal Customer   65  Personal Travel   \n",
       "1          satisfied    Male     Loyal Customer   47  Personal Travel   \n",
       "2          satisfied  Female     Loyal Customer   15  Personal Travel   \n",
       "3          satisfied  Female     Loyal Customer   60  Personal Travel   \n",
       "4          satisfied  Female     Loyal Customer   70  Personal Travel   \n",
       "...              ...     ...                ...  ...              ...   \n",
       "129875     satisfied  Female  disloyal Customer   29  Personal Travel   \n",
       "129876  dissatisfied    Male  disloyal Customer   63  Personal Travel   \n",
       "129877  dissatisfied    Male  disloyal Customer   69  Personal Travel   \n",
       "129878  dissatisfied    Male  disloyal Customer   66  Personal Travel   \n",
       "129879  dissatisfied  Female  disloyal Customer   38  Personal Travel   \n",
       "\n",
       "           Class  Flight Distance  Seat comfort  \\\n",
       "0            Eco              265             0   \n",
       "1       Business             2464             0   \n",
       "2            Eco             2138             0   \n",
       "3            Eco              623             0   \n",
       "4            Eco              354             0   \n",
       "...          ...              ...           ...   \n",
       "129875       Eco             1731             5   \n",
       "129876  Business             2087             2   \n",
       "129877       Eco             2320             3   \n",
       "129878       Eco             2450             3   \n",
       "129879       Eco             4307             3   \n",
       "\n",
       "        Departure/Arrival time convenient  Food and drink  ...  \\\n",
       "0                                       0               0  ...   \n",
       "1                                       0               0  ...   \n",
       "2                                       0               0  ...   \n",
       "3                                       0               0  ...   \n",
       "4                                       0               0  ...   \n",
       "...                                   ...             ...  ...   \n",
       "129875                                  5               5  ...   \n",
       "129876                                  3               2  ...   \n",
       "129877                                  0               3  ...   \n",
       "129878                                  2               3  ...   \n",
       "129879                                  4               3  ...   \n",
       "\n",
       "        Online support  Ease of Online booking  On-board service  \\\n",
       "0                    2                       3                 3   \n",
       "1                    2                       3                 4   \n",
       "2                    2                       2                 3   \n",
       "3                    3                       1                 1   \n",
       "4                    4                       2                 2   \n",
       "...                ...                     ...               ...   \n",
       "129875               2                       2                 3   \n",
       "129876               1                       3                 2   \n",
       "129877               2                       4                 4   \n",
       "129878               2                       3                 3   \n",
       "129879               3                       4                 5   \n",
       "\n",
       "        Leg room service  Baggage handling  Checkin service  Cleanliness  \\\n",
       "0                      0                 3                5            3   \n",
       "1                      4                 4                2            3   \n",
       "2                      3                 4                4            4   \n",
       "3                      0                 1                4            1   \n",
       "4                      0                 2                4            2   \n",
       "...                  ...               ...              ...          ...   \n",
       "129875                 3                 4                4            4   \n",
       "129876                 3                 3                1            2   \n",
       "129877                 3                 4                2            3   \n",
       "129878                 2                 3                2            1   \n",
       "129879                 5                 5                3            3   \n",
       "\n",
       "        Online boarding  Departure Delay in Minutes  Arrival Delay in Minutes  \n",
       "0                     2                           0                         0  \n",
       "1                     2                         310                       310  \n",
       "2                     2                           0                         0  \n",
       "3                     3                           0                         0  \n",
       "4                     5                           0                         0  \n",
       "...                 ...                         ...                       ...  \n",
       "129875                2                           0                         0  \n",
       "129876                1                         174                       174  \n",
       "129877                2                         155                       155  \n",
       "129878                2                         193                       193  \n",
       "129879                3                         185                       185  \n",
       "\n",
       "[129880 rows x 23 columns]"
      ]
     },
     "execution_count": 23,
     "metadata": {},
     "output_type": "execute_result"
    }
   ],
   "source": [
    "data_invistico"
   ]
  },
  {
   "cell_type": "code",
   "execution_count": 24,
   "metadata": {},
   "outputs": [
    {
     "name": "stdout",
     "output_type": "stream",
     "text": [
      "<class 'pandas.core.frame.DataFrame'>\n",
      "RangeIndex: 129880 entries, 0 to 129879\n",
      "Data columns (total 23 columns):\n",
      " #   Column                             Non-Null Count   Dtype \n",
      "---  ------                             --------------   ----- \n",
      " 0   satisfaction                       129880 non-null  object\n",
      " 1   Gender                             129880 non-null  object\n",
      " 2   Customer Type                      129880 non-null  object\n",
      " 3   Age                                129880 non-null  int64 \n",
      " 4   Type of Travel                     129880 non-null  object\n",
      " 5   Class                              129880 non-null  object\n",
      " 6   Flight Distance                    129880 non-null  int64 \n",
      " 7   Seat comfort                       129880 non-null  int64 \n",
      " 8   Departure/Arrival time convenient  129880 non-null  int64 \n",
      " 9   Food and drink                     129880 non-null  int64 \n",
      " 10  Gate location                      129880 non-null  int64 \n",
      " 11  Inflight wifi service              129880 non-null  int64 \n",
      " 12  Inflight entertainment             129880 non-null  int64 \n",
      " 13  Online support                     129880 non-null  int64 \n",
      " 14  Ease of Online booking             129880 non-null  int64 \n",
      " 15  On-board service                   129880 non-null  int64 \n",
      " 16  Leg room service                   129880 non-null  int64 \n",
      " 17  Baggage handling                   129880 non-null  int64 \n",
      " 18  Checkin service                    129880 non-null  int64 \n",
      " 19  Cleanliness                        129880 non-null  int64 \n",
      " 20  Online boarding                    129880 non-null  int64 \n",
      " 21  Departure Delay in Minutes         129880 non-null  int64 \n",
      " 22  Arrival Delay in Minutes           129880 non-null  int64 \n",
      "dtypes: int64(18), object(5)\n",
      "memory usage: 22.8+ MB\n"
     ]
    }
   ],
   "source": [
    "data_invistico.info()"
   ]
  },
  {
   "cell_type": "markdown",
   "metadata": {},
   "source": [
    "## cambiando las variables categoricas a numericas"
   ]
  },
  {
   "cell_type": "code",
   "execution_count": 27,
   "metadata": {},
   "outputs": [],
   "source": [
    "from sklearn.preprocessing import LabelEncoder\n"
   ]
  },
  {
   "cell_type": "code",
   "execution_count": 25,
   "metadata": {},
   "outputs": [
    {
     "name": "stdout",
     "output_type": "stream",
     "text": [
      "satisfaction ['satisfied' 'dissatisfied']\n",
      "Gender ['Female' 'Male']\n",
      "Customer Type ['Loyal Customer' 'disloyal Customer']\n",
      "Type of Travel ['Personal Travel' 'Business travel']\n",
      "Class ['Eco' 'Business' 'Eco Plus']\n"
     ]
    }
   ],
   "source": [
    "columna=list(data_invistico.describe(include=object).columns)\n",
    "for i in range(len(columna)):\n",
    "    print (columna[i],data_invistico[columna[i]].unique() )"
   ]
  },
  {
   "cell_type": "code",
   "execution_count": 28,
   "metadata": {},
   "outputs": [],
   "source": [
    "for i in range (len(columna)):\n",
    "    etiq = LabelEncoder()\n",
    "    Label = etiq.fit_transform(data_invistico[columna[i]])\n",
    "    label_embarked = {index: label for index, label in \n",
    "                    enumerate(etiq.classes_)}\n",
    "    label_embarked\n",
    "    data_invistico[columna[i]]=Label"
   ]
  },
  {
   "cell_type": "code",
   "execution_count": 29,
   "metadata": {},
   "outputs": [
    {
     "name": "stdout",
     "output_type": "stream",
     "text": [
      "<class 'pandas.core.frame.DataFrame'>\n",
      "RangeIndex: 129880 entries, 0 to 129879\n",
      "Data columns (total 23 columns):\n",
      " #   Column                             Non-Null Count   Dtype\n",
      "---  ------                             --------------   -----\n",
      " 0   satisfaction                       129880 non-null  int64\n",
      " 1   Gender                             129880 non-null  int64\n",
      " 2   Customer Type                      129880 non-null  int64\n",
      " 3   Age                                129880 non-null  int64\n",
      " 4   Type of Travel                     129880 non-null  int64\n",
      " 5   Class                              129880 non-null  int64\n",
      " 6   Flight Distance                    129880 non-null  int64\n",
      " 7   Seat comfort                       129880 non-null  int64\n",
      " 8   Departure/Arrival time convenient  129880 non-null  int64\n",
      " 9   Food and drink                     129880 non-null  int64\n",
      " 10  Gate location                      129880 non-null  int64\n",
      " 11  Inflight wifi service              129880 non-null  int64\n",
      " 12  Inflight entertainment             129880 non-null  int64\n",
      " 13  Online support                     129880 non-null  int64\n",
      " 14  Ease of Online booking             129880 non-null  int64\n",
      " 15  On-board service                   129880 non-null  int64\n",
      " 16  Leg room service                   129880 non-null  int64\n",
      " 17  Baggage handling                   129880 non-null  int64\n",
      " 18  Checkin service                    129880 non-null  int64\n",
      " 19  Cleanliness                        129880 non-null  int64\n",
      " 20  Online boarding                    129880 non-null  int64\n",
      " 21  Departure Delay in Minutes         129880 non-null  int64\n",
      " 22  Arrival Delay in Minutes           129880 non-null  int64\n",
      "dtypes: int64(23)\n",
      "memory usage: 22.8 MB\n"
     ]
    }
   ],
   "source": [
    "data_invistico.info()"
   ]
  },
  {
   "cell_type": "markdown",
   "metadata": {},
   "source": [
    "Ahora que esta limpio de nulos se procede a crear los modelos de clasificación"
   ]
  },
  {
   "cell_type": "markdown",
   "metadata": {},
   "source": [
    "## separando la data"
   ]
  },
  {
   "cell_type": "code",
   "execution_count": 40,
   "metadata": {},
   "outputs": [],
   "source": [
    "data_invistico1=data_invistico.sample(frac=0.5,replace=True)"
   ]
  },
  {
   "cell_type": "code",
   "execution_count": 41,
   "metadata": {},
   "outputs": [],
   "source": [
    "X = data_invistico1.drop(columns=['satisfaction'])\n",
    "y = data_invistico1[\"satisfaction\"]"
   ]
  },
  {
   "cell_type": "code",
   "execution_count": 42,
   "metadata": {},
   "outputs": [
    {
     "data": {
      "text/plain": [
       "1    35391\n",
       "0    29549\n",
       "Name: satisfaction, dtype: int64"
      ]
     },
     "execution_count": 42,
     "metadata": {},
     "output_type": "execute_result"
    }
   ],
   "source": [
    "y.value_counts()"
   ]
  },
  {
   "cell_type": "code",
   "execution_count": 43,
   "metadata": {},
   "outputs": [],
   "source": [
    "X_train, X_val, y_train, y_val = train_test_split(X, y,test_size=0.3,stratify=y)\n",
    "X_val, X_test, y_val, y_test = train_test_split(X_val, y_val,test_size=0.5,stratify=y_val)"
   ]
  },
  {
   "cell_type": "code",
   "execution_count": 44,
   "metadata": {},
   "outputs": [],
   "source": [
    "scaler = StandardScaler()\n",
    "scaler.fit(X_train)\n",
    "X_train = scaler.transform(X_train)\n",
    "X_test = scaler.transform(X_test)\n",
    "X_val=scaler.transform(X_val)"
   ]
  },
  {
   "cell_type": "markdown",
   "metadata": {},
   "source": [
    "# los modelos"
   ]
  },
  {
   "cell_type": "code",
   "execution_count": 45,
   "id": "6d0ddec2",
   "metadata": {},
   "outputs": [],
   "source": [
    "def plotCMa(cma,labels):\n",
    "    cma = cma/cma.sum(axis=1).reshape(-1,1)\n",
    "    f= plt.figure(figsize=(16, 10))\n",
    "    plt.matshow(cma, fignum=f.number)\n",
    "    plt.clim(0, 1)\n",
    "    cb = plt.colorbar()\n",
    "    cb.ax.tick_params(labelsize=14)\n",
    "    plt.title(\"Confusion matrix\", fontsize=20)\n",
    "    plt.xticks(range(len(labels)), [f\"{label} (Etiqueta)\" for label in labels], fontsize=16)\n",
    "    plt.yticks(range(len(labels)), [f\"{label} (Real)\" for label in labels], fontsize=16)\n",
    "    ax = plt.gca()\n",
    "\n",
    "    for i in range(cma.shape[0]):\n",
    "        for j in range(cma.shape[1]):\n",
    "            value = cma[i][j]\n",
    "            ax.text(j,i,\"{0:.4f}\".format(value),ha=\"center\", va=\"center\", color=\"k\", fontsize=16)\n",
    "\n",
    "    plt.show()"
   ]
  },
  {
   "cell_type": "markdown",
   "metadata": {},
   "source": [
    "## knn"
   ]
  },
  {
   "cell_type": "code",
   "execution_count": 46,
   "id": "65220718",
   "metadata": {},
   "outputs": [
    {
     "name": "stdout",
     "output_type": "stream",
     "text": [
      "Accuracy: 0.9216712863155734\n"
     ]
    }
   ],
   "source": [
    "knn = KNeighborsClassifier(n_neighbors=5)\n",
    "knn.fit(X_train, y_train) \n",
    "predictions = knn.predict(X_val)\n",
    "accuracy=knn.score(X_val, y_val)\n",
    "print('Accuracy:',accuracy)"
   ]
  },
  {
   "cell_type": "code",
   "execution_count": 48,
   "id": "62e79789",
   "metadata": {},
   "outputs": [
    {
     "name": "stdout",
     "output_type": "stream",
     "text": [
      "Fitting 2 folds for each of 26 candidates, totalling 52 fits\n"
     ]
    },
    {
     "data": {
      "text/plain": [
       "GridSearchCV(cv=2, estimator=KNeighborsClassifier(),\n",
       "             param_grid={'n_neighbors': [5, 6, 7, 8, 9, 10, 11, 12, 13, 14, 15,\n",
       "                                         16, 17, 18, 19, 20, 21, 22, 23, 24, 25,\n",
       "                                         26, 27, 28, 29, 30]},\n",
       "             scoring='accuracy', verbose=1)"
      ]
     },
     "execution_count": 48,
     "metadata": {},
     "output_type": "execute_result"
    }
   ],
   "source": [
    "k_range = list(range(5, 31))\n",
    "param_grid = dict(n_neighbors=k_range)\n",
    "  \n",
    "# defining parameter range\n",
    "grid = GridSearchCV(knn, param_grid, cv=2, scoring='accuracy', return_train_score=False,verbose=1)\n",
    "grid.fit(X_train, y_train)"
   ]
  },
  {
   "cell_type": "code",
   "execution_count": 49,
   "id": "f6d91a37",
   "metadata": {},
   "outputs": [
    {
     "name": "stdout",
     "output_type": "stream",
     "text": [
      "[0.9144265  0.90888292 0.91464649 0.90967486 0.91396454 0.90978486\n",
      " 0.91359057 0.90930089 0.91165471 0.90949888 0.91119275 0.90927889\n",
      " 0.91020282 0.90809099 0.9092569  0.90714506 0.90894892 0.90668309\n",
      " 0.90749703 0.90501122 0.90626512 0.90501122 0.90586915 0.90417528\n",
      " 0.90439527 0.90305337] [{'n_neighbors': 5}, {'n_neighbors': 6}, {'n_neighbors': 7}, {'n_neighbors': 8}, {'n_neighbors': 9}, {'n_neighbors': 10}, {'n_neighbors': 11}, {'n_neighbors': 12}, {'n_neighbors': 13}, {'n_neighbors': 14}, {'n_neighbors': 15}, {'n_neighbors': 16}, {'n_neighbors': 17}, {'n_neighbors': 18}, {'n_neighbors': 19}, {'n_neighbors': 20}, {'n_neighbors': 21}, {'n_neighbors': 22}, {'n_neighbors': 23}, {'n_neighbors': 24}, {'n_neighbors': 25}, {'n_neighbors': 26}, {'n_neighbors': 27}, {'n_neighbors': 28}, {'n_neighbors': 29}, {'n_neighbors': 30}]\n"
     ]
    }
   ],
   "source": [
    "cvres = grid.cv_results_\n",
    "print(cvres['mean_test_score'], cvres['params'])"
   ]
  },
  {
   "cell_type": "code",
   "execution_count": 50,
   "id": "01f64b98",
   "metadata": {},
   "outputs": [
    {
     "name": "stdout",
     "output_type": "stream",
     "text": [
      "Accuracy: 0.9197207678883071\n"
     ]
    }
   ],
   "source": [
    "knn = KNeighborsClassifier(n_neighbors=7)\n",
    "knn.fit(X_train, y_train) \n",
    "predictions = knn.predict(X_val)\n",
    "accuracy=knn.score(X_val, y_val)\n",
    "print('Accuracy:',accuracy)"
   ]
  },
  {
   "cell_type": "code",
   "execution_count": 51,
   "id": "27ee8f39",
   "metadata": {},
   "outputs": [
    {
     "name": "stdout",
     "output_type": "stream",
     "text": [
      "              precision    recall  f1-score   support\n",
      "\n",
      "           0       0.90      0.94      0.92      4432\n",
      "           1       0.95      0.91      0.93      5309\n",
      "\n",
      "    accuracy                           0.92      9741\n",
      "   macro avg       0.92      0.92      0.92      9741\n",
      "weighted avg       0.92      0.92      0.92      9741\n",
      "\n"
     ]
    }
   ],
   "source": [
    "predictions = knn.predict(X_test)\n",
    "print(classification_report(y_test, predictions))"
   ]
  },
  {
   "cell_type": "code",
   "execution_count": 61,
   "id": "8c1ec340",
   "metadata": {},
   "outputs": [
    {
     "data": {
      "image/png": "[encoded data removed]",
      "text/plain": [
       "<Figure size 1152x720 with 2 Axes>"
      ]
     },
     "metadata": {
      "needs_background": "light"
     },
     "output_type": "display_data"
    }
   ],
   "source": [
    "cm = metrics.confusion_matrix(y_test,predictions)\n",
    "plotCMa(cm,['Clase1','Clase2'])"
   ]
  },
  {
   "cell_type": "code",
   "execution_count": 53,
   "metadata": {},
   "outputs": [
    {
     "name": "stderr",
     "output_type": "stream",
     "text": [
      "/Users/matiasinostrozacifuentes/opt/anaconda3/envs/secodenv/lib/python3.9/site-packages/sklearn/utils/deprecation.py:87: FutureWarning: Function plot_roc_curve is deprecated; Function :func:`plot_roc_curve` is deprecated in 1.0 and will be removed in 1.2. Use one of the class methods: :meth:`sklearn.metric.RocCurveDisplay.from_predictions` or :meth:`sklearn.metric.RocCurveDisplay.from_estimator`.\n",
      "  warnings.warn(msg, category=FutureWarning)\n"
     ]
    },
    {
     "data": {
      "text/plain": [
       "<matplotlib.legend.Legend at 0x7fb61dae4850>"
      ]
     },
     "execution_count": 53,
     "metadata": {},
     "output_type": "execute_result"
    },
    {
     "data": {
      "image/png": "[encoded data removed]",
      "text/plain": [
       "<Figure size 432x288 with 1 Axes>"
      ]
     },
     "metadata": {
      "needs_background": "light"
     },
     "output_type": "display_data"
    }
   ],
   "source": [
    "plot_roc_curve(knn, X_test, y_test)\n",
    "plt.plot([0, 1], [0, 1], ls = '--', label = 'Baseline (AUC = 0.5)')\n",
    "plt.legend()"
   ]
  },
  {
   "cell_type": "markdown",
   "metadata": {},
   "source": [
    "## Decision tree"
   ]
  },
  {
   "cell_type": "code",
   "execution_count": 54,
   "id": "devoted-depression",
   "metadata": {},
   "outputs": [
    {
     "name": "stdout",
     "output_type": "stream",
     "text": [
      "Accuracy 0.8697259008315368\n"
     ]
    }
   ],
   "source": [
    "tree_clf = DecisionTreeClassifier(max_depth=4)\n",
    "tree_clf.fit(X_train, y_train)\n",
    "print('Accuracy', tree_clf.score(X_val, y_val))\n"
   ]
  },
  {
   "cell_type": "code",
   "execution_count": 55,
   "id": "reflected-legend",
   "metadata": {},
   "outputs": [
    {
     "data": {
      "text/plain": [
       "GridSearchCV(cv=5, estimator=DecisionTreeClassifier(),\n",
       "             param_grid=[{'max_depth': [1, 2, 3, 4, 5, 6, 7, 8, 9, 10]}],\n",
       "             return_train_score=True)"
      ]
     },
     "execution_count": 55,
     "metadata": {},
     "output_type": "execute_result"
    }
   ],
   "source": [
    "param_grid = [{'max_depth':[1,2,3,4,5,6,7,8,9,10]}\n",
    "]\n",
    "\n",
    "arbol_clf = DecisionTreeClassifier()\n",
    "\n",
    "grid_search = GridSearchCV(arbol_clf, param_grid, cv=5,\n",
    "                          return_train_score=True)\n",
    "\n",
    "grid_search.fit(X_train, y_train)\n"
   ]
  },
  {
   "cell_type": "code",
   "execution_count": 56,
   "id": "sixth-uncle",
   "metadata": {},
   "outputs": [
    {
     "name": "stdout",
     "output_type": "stream",
     "text": [
      "[0.80351083 0.82577315 0.85674691 0.86913185 0.87632531 0.89898351\n",
      " 0.91029068 0.91792412 0.9256456  0.93242107] [{'max_depth': 1}, {'max_depth': 2}, {'max_depth': 3}, {'max_depth': 4}, {'max_depth': 5}, {'max_depth': 6}, {'max_depth': 7}, {'max_depth': 8}, {'max_depth': 9}, {'max_depth': 10}]\n"
     ]
    }
   ],
   "source": [
    "cvres = grid_search.cv_results_\n",
    "print(cvres['mean_test_score'], cvres['params'])\n"
   ]
  },
  {
   "cell_type": "code",
   "execution_count": 57,
   "id": "devoted-depression",
   "metadata": {},
   "outputs": [
    {
     "name": "stdout",
     "output_type": "stream",
     "text": [
      "Accuracy 0.9309105841289396\n"
     ]
    }
   ],
   "source": [
    "tree_clf = DecisionTreeClassifier(max_depth=10)\n",
    "tree_clf.fit(X_train, y_train)\n",
    "print('Accuracy', tree_clf.score(X_val, y_val))\n"
   ]
  },
  {
   "cell_type": "code",
   "execution_count": 58,
   "id": "documentary-needle",
   "metadata": {},
   "outputs": [],
   "source": [
    "validacion_tree=tree_clf.predict(X_test)\n"
   ]
  },
  {
   "cell_type": "code",
   "execution_count": 59,
   "id": "oriented-north",
   "metadata": {},
   "outputs": [
    {
     "name": "stdout",
     "output_type": "stream",
     "text": [
      "              precision    recall  f1-score   support\n",
      "\n",
      "           0       0.92      0.94      0.93      4432\n",
      "           1       0.95      0.94      0.94      5309\n",
      "\n",
      "    accuracy                           0.94      9741\n",
      "   macro avg       0.94      0.94      0.94      9741\n",
      "weighted avg       0.94      0.94      0.94      9741\n",
      "\n"
     ]
    }
   ],
   "source": [
    "print(classification_report(y_test, validacion_tree))\n"
   ]
  },
  {
   "cell_type": "code",
   "execution_count": 62,
   "id": "f5ec5bd4",
   "metadata": {},
   "outputs": [
    {
     "data": {
      "image/png": "[encoded data removed]",
      "text/plain": [
       "<Figure size 1152x720 with 2 Axes>"
      ]
     },
     "metadata": {
      "needs_background": "light"
     },
     "output_type": "display_data"
    }
   ],
   "source": [
    "cm = metrics.confusion_matrix(y_test,validacion_tree)\n",
    "plotCMa(cm,['Clase 1','Clase 2'])"
   ]
  },
  {
   "cell_type": "code",
   "execution_count": 63,
   "metadata": {},
   "outputs": [
    {
     "name": "stderr",
     "output_type": "stream",
     "text": [
      "/Users/matiasinostrozacifuentes/opt/anaconda3/envs/secodenv/lib/python3.9/site-packages/sklearn/utils/deprecation.py:87: FutureWarning: Function plot_roc_curve is deprecated; Function :func:`plot_roc_curve` is deprecated in 1.0 and will be removed in 1.2. Use one of the class methods: :meth:`sklearn.metric.RocCurveDisplay.from_predictions` or :meth:`sklearn.metric.RocCurveDisplay.from_estimator`.\n",
      "  warnings.warn(msg, category=FutureWarning)\n"
     ]
    },
    {
     "data": {
      "text/plain": [
       "<matplotlib.legend.Legend at 0x7fb61dad10a0>"
      ]
     },
     "execution_count": 63,
     "metadata": {},
     "output_type": "execute_result"
    },
    {
     "data": {
      "image/png": "[encoded data removed]",
      "text/plain": [
       "<Figure size 432x288 with 1 Axes>"
      ]
     },
     "metadata": {
      "needs_background": "light"
     },
     "output_type": "display_data"
    }
   ],
   "source": [
    "plot_roc_curve(tree_clf, X_test, y_test)\n",
    "plt.plot([0, 1], [0, 1], ls = '--', label = 'Baseline (AUC = 0.5)')\n",
    "plt.legend()"
   ]
  },
  {
   "cell_type": "markdown",
   "metadata": {},
   "source": [
    "## random forest"
   ]
  },
  {
   "cell_type": "code",
   "execution_count": 64,
   "id": "important-label",
   "metadata": {},
   "outputs": [
    {
     "data": {
      "text/plain": [
       "0.9695103172158915"
      ]
     },
     "execution_count": 64,
     "metadata": {},
     "output_type": "execute_result"
    }
   ],
   "source": [
    "rndf_clf = RandomForestClassifier(n_estimators=150)\n",
    "rndf_clf.fit(X_train, y_train)\n",
    "y_pred = rndf_clf.predict(X_val)\n",
    "\n",
    "rndf_clf.score(X_val, y_val)\n"
   ]
  },
  {
   "cell_type": "code",
   "execution_count": 65,
   "id": "spectacular-mistake",
   "metadata": {},
   "outputs": [
    {
     "data": {
      "text/plain": [
       "GridSearchCV(cv=2, estimator=RandomForestClassifier(),\n",
       "             param_grid=[{'n_estimators': [150, 200, 250, 300, 350, 400, 450,\n",
       "                                           500]}],\n",
       "             return_train_score=True)"
      ]
     },
     "execution_count": 65,
     "metadata": {},
     "output_type": "execute_result"
    }
   ],
   "source": [
    "param_grid = [{'n_estimators':[150,200,250,300,350,400,450,500]}\n",
    "]\n",
    "\n",
    "forest_clf = RandomForestClassifier()\n",
    "\n",
    "from sklearn.model_selection import GridSearchCV\n",
    "\n",
    "grid_search = GridSearchCV(forest_clf, param_grid, cv=2,\n",
    "                          return_train_score=True)\n",
    "\n",
    "grid_search.fit(X_train, y_train)\n"
   ]
  },
  {
   "cell_type": "code",
   "execution_count": 66,
   "id": "lyric-costa",
   "metadata": {},
   "outputs": [
    {
     "name": "stdout",
     "output_type": "stream",
     "text": [
      "[0.95448546 0.95485943 0.95444146 0.95452946 0.95510141 0.95452946\n",
      " 0.9552114  0.95516741] [{'n_estimators': 150}, {'n_estimators': 200}, {'n_estimators': 250}, {'n_estimators': 300}, {'n_estimators': 350}, {'n_estimators': 400}, {'n_estimators': 450}, {'n_estimators': 500}]\n"
     ]
    }
   ],
   "source": [
    "cvres = grid_search.cv_results_\n",
    "print(cvres['mean_test_score'], cvres['params'])\n"
   ]
  },
  {
   "cell_type": "code",
   "execution_count": 67,
   "id": "important-label",
   "metadata": {},
   "outputs": [
    {
     "data": {
      "text/plain": [
       "0.9678677753824043"
      ]
     },
     "execution_count": 67,
     "metadata": {},
     "output_type": "execute_result"
    }
   ],
   "source": [
    "rndf_clf = RandomForestClassifier(n_estimators=450)\n",
    "rndf_clf.fit(X_train, y_train)\n",
    "y_pred = rndf_clf.predict(X_val)\n",
    "\n",
    "#print(y_pred)\n",
    "#print(y_val.tolist())\n",
    "rndf_clf.score(X_val, y_val)\n"
   ]
  },
  {
   "cell_type": "code",
   "execution_count": 68,
   "id": "broadband-oxford",
   "metadata": {},
   "outputs": [
    {
     "name": "stdout",
     "output_type": "stream",
     "text": [
      "              precision    recall  f1-score   support\n",
      "\n",
      "           0       0.96      0.97      0.96      4432\n",
      "           1       0.97      0.97      0.97      5309\n",
      "\n",
      "    accuracy                           0.97      9741\n",
      "   macro avg       0.97      0.97      0.97      9741\n",
      "weighted avg       0.97      0.97      0.97      9741\n",
      "\n"
     ]
    }
   ],
   "source": [
    "validacion=rndf_clf.predict(X_test)\n",
    "print(classification_report(y_test, validacion))\n"
   ]
  },
  {
   "cell_type": "code",
   "execution_count": 69,
   "id": "630027d5",
   "metadata": {},
   "outputs": [
    {
     "data": {
      "image/png": "[encoded data removed]",
      "text/plain": [
       "<Figure size 1152x720 with 2 Axes>"
      ]
     },
     "metadata": {
      "needs_background": "light"
     },
     "output_type": "display_data"
    }
   ],
   "source": [
    "cm = metrics.confusion_matrix(y_test,validacion)\n",
    "plotCMa(cm,['Clase 1','Clase 2'])"
   ]
  },
  {
   "cell_type": "code",
   "execution_count": 70,
   "metadata": {},
   "outputs": [
    {
     "name": "stderr",
     "output_type": "stream",
     "text": [
      "/Users/matiasinostrozacifuentes/opt/anaconda3/envs/secodenv/lib/python3.9/site-packages/sklearn/utils/deprecation.py:87: FutureWarning: Function plot_roc_curve is deprecated; Function :func:`plot_roc_curve` is deprecated in 1.0 and will be removed in 1.2. Use one of the class methods: :meth:`sklearn.metric.RocCurveDisplay.from_predictions` or :meth:`sklearn.metric.RocCurveDisplay.from_estimator`.\n",
      "  warnings.warn(msg, category=FutureWarning)\n"
     ]
    },
    {
     "data": {
      "text/plain": [
       "<matplotlib.legend.Legend at 0x7fb5dbabfeb0>"
      ]
     },
     "execution_count": 70,
     "metadata": {},
     "output_type": "execute_result"
    },
    {
     "data": {
      "image/png": "[encoded data removed]",
      "text/plain": [
       "<Figure size 432x288 with 1 Axes>"
      ]
     },
     "metadata": {
      "needs_background": "light"
     },
     "output_type": "display_data"
    }
   ],
   "source": [
    "plot_roc_curve(rndf_clf, X_test, y_test)\n",
    "plt.plot([0, 1], [0, 1], ls = '--', label = 'Baseline (AUC = 0.5)')\n",
    "plt.legend()"
   ]
  },
  {
   "cell_type": "markdown",
   "metadata": {},
   "source": [
    "## logistic regression"
   ]
  },
  {
   "cell_type": "code",
   "execution_count": 71,
   "metadata": {},
   "outputs": [
    {
     "data": {
      "text/plain": [
       "0.8357458166512678"
      ]
     },
     "execution_count": 71,
     "metadata": {},
     "output_type": "execute_result"
    }
   ],
   "source": [
    "log_reg = LogisticRegression()\n",
    "log_reg.fit(X_train, y_train)\n",
    "log_reg.score(X_val,y_val)"
   ]
  },
  {
   "cell_type": "markdown",
   "metadata": {},
   "source": [
    "sacando el pocentaje de las clases objetivo"
   ]
  },
  {
   "cell_type": "code",
   "execution_count": 35,
   "metadata": {},
   "outputs": [
    {
     "data": {
      "text/plain": [
       "1    71087\n",
       "0    58793\n",
       "Name: satisfaction, dtype: int64"
      ]
     },
     "execution_count": 35,
     "metadata": {},
     "output_type": "execute_result"
    }
   ],
   "source": [
    "y.value_counts()"
   ]
  },
  {
   "cell_type": "code",
   "execution_count": 36,
   "metadata": {},
   "outputs": [
    {
     "data": {
      "text/plain": [
       "0.8270569865094883"
      ]
     },
     "execution_count": 36,
     "metadata": {},
     "output_type": "execute_result"
    }
   ],
   "source": [
    "58793/71087"
   ]
  },
  {
   "cell_type": "code",
   "execution_count": 73,
   "metadata": {},
   "outputs": [
    {
     "name": "stdout",
     "output_type": "stream",
     "text": [
      "Fitting 2 folds for each of 180 candidates, totalling 360 fits\n"
     ]
    },
    {
     "name": "stderr",
     "output_type": "stream",
     "text": [
      "/Users/matiasinostrozacifuentes/opt/anaconda3/envs/secodenv/lib/python3.9/site-packages/sklearn/linear_model/_sag.py:352: ConvergenceWarning: The max_iter was reached which means the coef_ did not converge\n",
      "  warnings.warn(\n",
      "/Users/matiasinostrozacifuentes/opt/anaconda3/envs/secodenv/lib/python3.9/site-packages/sklearn/linear_model/_sag.py:352: ConvergenceWarning: The max_iter was reached which means the coef_ did not converge\n",
      "  warnings.warn(\n",
      "/Users/matiasinostrozacifuentes/opt/anaconda3/envs/secodenv/lib/python3.9/site-packages/sklearn/linear_model/_sag.py:352: ConvergenceWarning: The max_iter was reached which means the coef_ did not converge\n",
      "  warnings.warn(\n",
      "/Users/matiasinostrozacifuentes/opt/anaconda3/envs/secodenv/lib/python3.9/site-packages/sklearn/linear_model/_sag.py:352: ConvergenceWarning: The max_iter was reached which means the coef_ did not converge\n",
      "  warnings.warn(\n",
      "/Users/matiasinostrozacifuentes/opt/anaconda3/envs/secodenv/lib/python3.9/site-packages/sklearn/linear_model/_sag.py:352: ConvergenceWarning: The max_iter was reached which means the coef_ did not converge\n",
      "  warnings.warn(\n",
      "/Users/matiasinostrozacifuentes/opt/anaconda3/envs/secodenv/lib/python3.9/site-packages/sklearn/linear_model/_sag.py:352: ConvergenceWarning: The max_iter was reached which means the coef_ did not converge\n",
      "  warnings.warn(\n",
      "/Users/matiasinostrozacifuentes/opt/anaconda3/envs/secodenv/lib/python3.9/site-packages/sklearn/linear_model/_sag.py:352: ConvergenceWarning: The max_iter was reached which means the coef_ did not converge\n",
      "  warnings.warn(\n",
      "/Users/matiasinostrozacifuentes/opt/anaconda3/envs/secodenv/lib/python3.9/site-packages/sklearn/linear_model/_sag.py:352: ConvergenceWarning: The max_iter was reached which means the coef_ did not converge\n",
      "  warnings.warn(\n",
      "/Users/matiasinostrozacifuentes/opt/anaconda3/envs/secodenv/lib/python3.9/site-packages/sklearn/linear_model/_sag.py:352: ConvergenceWarning: The max_iter was reached which means the coef_ did not converge\n",
      "  warnings.warn(\n",
      "/Users/matiasinostrozacifuentes/opt/anaconda3/envs/secodenv/lib/python3.9/site-packages/sklearn/linear_model/_sag.py:352: ConvergenceWarning: The max_iter was reached which means the coef_ did not converge\n",
      "  warnings.warn(\n",
      "/Users/matiasinostrozacifuentes/opt/anaconda3/envs/secodenv/lib/python3.9/site-packages/sklearn/linear_model/_sag.py:352: ConvergenceWarning: The max_iter was reached which means the coef_ did not converge\n",
      "  warnings.warn(\n",
      "/Users/matiasinostrozacifuentes/opt/anaconda3/envs/secodenv/lib/python3.9/site-packages/sklearn/linear_model/_sag.py:352: ConvergenceWarning: The max_iter was reached which means the coef_ did not converge\n",
      "  warnings.warn(\n",
      "/Users/matiasinostrozacifuentes/opt/anaconda3/envs/secodenv/lib/python3.9/site-packages/sklearn/linear_model/_sag.py:352: ConvergenceWarning: The max_iter was reached which means the coef_ did not converge\n",
      "  warnings.warn(\n",
      "/Users/matiasinostrozacifuentes/opt/anaconda3/envs/secodenv/lib/python3.9/site-packages/sklearn/linear_model/_sag.py:352: ConvergenceWarning: The max_iter was reached which means the coef_ did not converge\n",
      "  warnings.warn(\n",
      "/Users/matiasinostrozacifuentes/opt/anaconda3/envs/secodenv/lib/python3.9/site-packages/sklearn/linear_model/_sag.py:352: ConvergenceWarning: The max_iter was reached which means the coef_ did not converge\n",
      "  warnings.warn(\n",
      "/Users/matiasinostrozacifuentes/opt/anaconda3/envs/secodenv/lib/python3.9/site-packages/sklearn/linear_model/_sag.py:352: ConvergenceWarning: The max_iter was reached which means the coef_ did not converge\n",
      "  warnings.warn(\n",
      "/Users/matiasinostrozacifuentes/opt/anaconda3/envs/secodenv/lib/python3.9/site-packages/sklearn/linear_model/_sag.py:352: ConvergenceWarning: The max_iter was reached which means the coef_ did not converge\n",
      "  warnings.warn(\n",
      "/Users/matiasinostrozacifuentes/opt/anaconda3/envs/secodenv/lib/python3.9/site-packages/sklearn/linear_model/_sag.py:352: ConvergenceWarning: The max_iter was reached which means the coef_ did not converge\n",
      "  warnings.warn(\n",
      "/Users/matiasinostrozacifuentes/opt/anaconda3/envs/secodenv/lib/python3.9/site-packages/sklearn/linear_model/_sag.py:352: ConvergenceWarning: The max_iter was reached which means the coef_ did not converge\n",
      "  warnings.warn(\n",
      "/Users/matiasinostrozacifuentes/opt/anaconda3/envs/secodenv/lib/python3.9/site-packages/sklearn/linear_model/_sag.py:352: ConvergenceWarning: The max_iter was reached which means the coef_ did not converge\n",
      "  warnings.warn(\n",
      "/Users/matiasinostrozacifuentes/opt/anaconda3/envs/secodenv/lib/python3.9/site-packages/sklearn/linear_model/_sag.py:352: ConvergenceWarning: The max_iter was reached which means the coef_ did not converge\n",
      "  warnings.warn(\n",
      "/Users/matiasinostrozacifuentes/opt/anaconda3/envs/secodenv/lib/python3.9/site-packages/sklearn/linear_model/_sag.py:352: ConvergenceWarning: The max_iter was reached which means the coef_ did not converge\n",
      "  warnings.warn(\n",
      "/Users/matiasinostrozacifuentes/opt/anaconda3/envs/secodenv/lib/python3.9/site-packages/sklearn/linear_model/_sag.py:352: ConvergenceWarning: The max_iter was reached which means the coef_ did not converge\n",
      "  warnings.warn(\n",
      "/Users/matiasinostrozacifuentes/opt/anaconda3/envs/secodenv/lib/python3.9/site-packages/sklearn/linear_model/_sag.py:352: ConvergenceWarning: The max_iter was reached which means the coef_ did not converge\n",
      "  warnings.warn(\n",
      "/Users/matiasinostrozacifuentes/opt/anaconda3/envs/secodenv/lib/python3.9/site-packages/sklearn/linear_model/_sag.py:352: ConvergenceWarning: The max_iter was reached which means the coef_ did not converge\n",
      "  warnings.warn(\n",
      "/Users/matiasinostrozacifuentes/opt/anaconda3/envs/secodenv/lib/python3.9/site-packages/sklearn/linear_model/_sag.py:352: ConvergenceWarning: The max_iter was reached which means the coef_ did not converge\n",
      "  warnings.warn(\n",
      "/Users/matiasinostrozacifuentes/opt/anaconda3/envs/secodenv/lib/python3.9/site-packages/sklearn/linear_model/_sag.py:352: ConvergenceWarning: The max_iter was reached which means the coef_ did not converge\n",
      "  warnings.warn(\n",
      "/Users/matiasinostrozacifuentes/opt/anaconda3/envs/secodenv/lib/python3.9/site-packages/sklearn/linear_model/_sag.py:352: ConvergenceWarning: The max_iter was reached which means the coef_ did not converge\n",
      "  warnings.warn(\n",
      "/Users/matiasinostrozacifuentes/opt/anaconda3/envs/secodenv/lib/python3.9/site-packages/sklearn/linear_model/_sag.py:352: ConvergenceWarning: The max_iter was reached which means the coef_ did not converge\n",
      "  warnings.warn(\n",
      "/Users/matiasinostrozacifuentes/opt/anaconda3/envs/secodenv/lib/python3.9/site-packages/sklearn/linear_model/_sag.py:352: ConvergenceWarning: The max_iter was reached which means the coef_ did not converge\n",
      "  warnings.warn(\n"
     ]
    },
    {
     "data": {
      "text/plain": [
       "GridSearchCV(cv=2, estimator=LogisticRegression(),\n",
       "             param_grid=[{'C': [1000, 50, 1, 0.5, 0.1, 0.05],\n",
       "                          'class_weight': [{0: 0.82, 1: 0.18}, {0: 0.8, 1: 0.2},\n",
       "                                           {0: 0.1, 1: 0.9}, {0: 0.05, 1: 0.95},\n",
       "                                           {0: 0.4, 1: 0.6}],\n",
       "                          'l1_ratio': [0, 0.1, 0.2, 0.3, 0.4, 0.5],\n",
       "                          'penalty': ['elasticnet'], 'solver': ['saga']}],\n",
       "             return_train_score=True, scoring='f1', verbose=1)"
      ]
     },
     "execution_count": 73,
     "metadata": {},
     "output_type": "execute_result"
    }
   ],
   "source": [
    "param_grid = [\n",
    "    {'C':[1000,50,1,0.5,0.1,0.05],\n",
    "    'class_weight':[{0: 0.82, 1: 0.18},{0: 0.80, 1: 0.20},{0: 0.1, 1: 0.9},{0: 0.05, 1: 0.95},{0: 0.4, 1: 0.6}],\n",
    "    'penalty':['elasticnet'],\n",
    "    'solver':['saga'],\n",
    "    'l1_ratio':[0,0.1,0.2,0.3,0.4,0.5]}\n",
    "]\n",
    "\n",
    "log_reg_clf = LogisticRegression()\n",
    "\n",
    "from sklearn.model_selection import GridSearchCV\n",
    "\n",
    "\n",
    "grid_search = GridSearchCV(log_reg_clf, param_grid,cv=2,\n",
    "                          return_train_score=True,scoring='f1',verbose=1)\n",
    "\n",
    "grid_search.fit(X_train, y_train)"
   ]
  },
  {
   "cell_type": "code",
   "execution_count": 74,
   "metadata": {},
   "outputs": [
    {
     "name": "stdout",
     "output_type": "stream",
     "text": [
      "Mejores hiperparametros: {'C': 1000, 'class_weight': {0: 0.4, 1: 0.6}, 'l1_ratio': 0, 'penalty': 'elasticnet', 'solver': 'saga'}\n"
     ]
    }
   ],
   "source": [
    "print('Mejores hiperparametros: %s' % grid_search.best_params_)"
   ]
  },
  {
   "cell_type": "code",
   "execution_count": 75,
   "metadata": {},
   "outputs": [
    {
     "name": "stdout",
     "output_type": "stream",
     "text": [
      "Best Score: 0.8434151463501135\n"
     ]
    }
   ],
   "source": [
    "print('Best Score: %s' % grid_search.best_score_)"
   ]
  },
  {
   "cell_type": "code",
   "execution_count": 76,
   "metadata": {},
   "outputs": [
    {
     "data": {
      "text/plain": [
       "LogisticRegression(C=1000, class_weight={0: 0.4, 1: 0.6}, l1_ratio=0,\n",
       "                   penalty='elasticnet', solver='saga')"
      ]
     },
     "execution_count": 76,
     "metadata": {},
     "output_type": "execute_result"
    }
   ],
   "source": [
    "log_reg = LogisticRegression(C=1000,penalty='elasticnet',class_weight={0: 0.4, 1: 0.6},solver='saga',l1_ratio=0)\n",
    "log_reg.fit(X_train, y_train)"
   ]
  },
  {
   "cell_type": "code",
   "execution_count": 77,
   "metadata": {},
   "outputs": [
    {
     "data": {
      "text/plain": [
       "0.8246586592752284"
      ]
     },
     "execution_count": 77,
     "metadata": {},
     "output_type": "execute_result"
    }
   ],
   "source": [
    "log_reg.score(X_val,y_val)"
   ]
  },
  {
   "cell_type": "code",
   "execution_count": 78,
   "metadata": {},
   "outputs": [
    {
     "name": "stdout",
     "output_type": "stream",
     "text": [
      "              precision    recall  f1-score   support\n",
      "\n",
      "           0       0.84      0.76      0.80      4432\n",
      "           1       0.81      0.88      0.85      5309\n",
      "\n",
      "    accuracy                           0.82      9741\n",
      "   macro avg       0.83      0.82      0.82      9741\n",
      "weighted avg       0.83      0.82      0.82      9741\n",
      "\n"
     ]
    }
   ],
   "source": [
    "predictions_regressor = log_reg.predict(X_test)\n",
    "print(classification_report(y_test, predictions_regressor))"
   ]
  },
  {
   "cell_type": "code",
   "execution_count": 79,
   "metadata": {},
   "outputs": [
    {
     "data": {
      "image/png": "[encoded data removed]",
      "text/plain": [
       "<Figure size 1152x720 with 2 Axes>"
      ]
     },
     "metadata": {
      "needs_background": "light"
     },
     "output_type": "display_data"
    }
   ],
   "source": [
    "cm = metrics.confusion_matrix(y_test,predictions_regressor)\n",
    "plotCMa(cm,['Clase 1','Clase 2'])"
   ]
  },
  {
   "cell_type": "code",
   "execution_count": 80,
   "metadata": {},
   "outputs": [
    {
     "name": "stderr",
     "output_type": "stream",
     "text": [
      "/Users/matiasinostrozacifuentes/opt/anaconda3/envs/secodenv/lib/python3.9/site-packages/sklearn/utils/deprecation.py:87: FutureWarning: Function plot_roc_curve is deprecated; Function :func:`plot_roc_curve` is deprecated in 1.0 and will be removed in 1.2. Use one of the class methods: :meth:`sklearn.metric.RocCurveDisplay.from_predictions` or :meth:`sklearn.metric.RocCurveDisplay.from_estimator`.\n",
      "  warnings.warn(msg, category=FutureWarning)\n"
     ]
    },
    {
     "data": {
      "text/plain": [
       "<matplotlib.legend.Legend at 0x7fb5fd9342b0>"
      ]
     },
     "execution_count": 80,
     "metadata": {},
     "output_type": "execute_result"
    },
    {
     "data": {
      "image/png": "[encoded data removed]",
      "text/plain": [
       "<Figure size 432x288 with 1 Axes>"
      ]
     },
     "metadata": {
      "needs_background": "light"
     },
     "output_type": "display_data"
    }
   ],
   "source": [
    "plot_roc_curve(log_reg, X_test, y_test)\n",
    "plt.plot([0, 1], [0, 1], ls = '--', label = 'Baseline (AUC = 0.5)')\n",
    "plt.legend()"
   ]
  },
  {
   "cell_type": "markdown",
   "metadata": {},
   "source": [
    "## ridge"
   ]
  },
  {
   "cell_type": "code",
   "execution_count": 109,
   "metadata": {},
   "outputs": [
    {
     "data": {
      "text/plain": [
       "0.8369777230263833"
      ]
     },
     "execution_count": 109,
     "metadata": {},
     "output_type": "execute_result"
    }
   ],
   "source": [
    "rid_clf = RidgeClassifier(alpha=10) #probar cambiar alpha\n",
    "rid_clf.fit(X_train, y_train)\n",
    "rid_clf.score(X_val, y_val)"
   ]
  },
  {
   "cell_type": "code",
   "execution_count": 110,
   "metadata": {},
   "outputs": [
    {
     "name": "stdout",
     "output_type": "stream",
     "text": [
      "Fitting 2 folds for each of 145 candidates, totalling 290 fits\n"
     ]
    },
    {
     "data": {
      "text/plain": [
       "GridSearchCV(cv=2, estimator=RidgeClassifier(),\n",
       "             param_grid={'alpha': [5, 6, 7, 8, 9, 10, 11, 12, 13, 14, 15, 16,\n",
       "                                   17, 18, 19, 20, 21, 22, 23, 24, 25, 26, 27,\n",
       "                                   28, 29, 30, 31, 32, 33, 34, ...]},\n",
       "             return_train_score=True, verbose=1)"
      ]
     },
     "execution_count": 110,
     "metadata": {},
     "output_type": "execute_result"
    }
   ],
   "source": [
    "alpha_range = list(range(5, 150))\n",
    "param_grid = dict(alpha=alpha_range)\n",
    "\n",
    "rid_clf = RidgeClassifier()\n",
    "\n",
    "\n",
    "\n",
    "grid_search = GridSearchCV(rid_clf, param_grid,cv=2,\n",
    "                          return_train_score=True,verbose=1)\n",
    "\n",
    "grid_search.fit(X_train, y_train)"
   ]
  },
  {
   "cell_type": "code",
   "execution_count": 111,
   "metadata": {},
   "outputs": [
    {
     "name": "stdout",
     "output_type": "stream",
     "text": [
      "Mejores hiperparametros: {'alpha': 5}\n"
     ]
    }
   ],
   "source": [
    "print('Mejores hiperparametros: %s' % grid_search.best_params_)"
   ]
  },
  {
   "cell_type": "code",
   "execution_count": 112,
   "metadata": {},
   "outputs": [
    {
     "name": "stdout",
     "output_type": "stream",
     "text": [
      "Best Score: 0.8345945708126182\n"
     ]
    }
   ],
   "source": [
    "print('Best Score: %s' % grid_search.best_score_)"
   ]
  },
  {
   "cell_type": "code",
   "execution_count": 113,
   "metadata": {},
   "outputs": [
    {
     "data": {
      "text/plain": [
       "RidgeClassifier(alpha=5)"
      ]
     },
     "execution_count": 113,
     "metadata": {},
     "output_type": "execute_result"
    }
   ],
   "source": [
    "rid_clf = RidgeClassifier(alpha=5)\n",
    "rid_clf.fit(X_train, y_train)"
   ]
  },
  {
   "cell_type": "code",
   "execution_count": 114,
   "metadata": {},
   "outputs": [
    {
     "data": {
      "text/plain": [
       "0.8368750641617904"
      ]
     },
     "execution_count": 114,
     "metadata": {},
     "output_type": "execute_result"
    }
   ],
   "source": [
    "rid_clf.score(X_val,y_val)"
   ]
  },
  {
   "cell_type": "code",
   "execution_count": 115,
   "metadata": {},
   "outputs": [
    {
     "name": "stdout",
     "output_type": "stream",
     "text": [
      "              precision    recall  f1-score   support\n",
      "\n",
      "           0       0.82      0.83      0.82      4432\n",
      "           1       0.86      0.84      0.85      5309\n",
      "\n",
      "    accuracy                           0.84      9741\n",
      "   macro avg       0.84      0.84      0.84      9741\n",
      "weighted avg       0.84      0.84      0.84      9741\n",
      "\n"
     ]
    }
   ],
   "source": [
    "predictions_ridge = rid_clf.predict(X_test)\n",
    "print(classification_report(y_test, predictions_ridge))"
   ]
  },
  {
   "cell_type": "code",
   "execution_count": 116,
   "metadata": {},
   "outputs": [
    {
     "data": {
      "image/png": "[encoded data removed]",
      "text/plain": [
       "<Figure size 1152x720 with 2 Axes>"
      ]
     },
     "metadata": {
      "needs_background": "light"
     },
     "output_type": "display_data"
    }
   ],
   "source": [
    "cm = metrics.confusion_matrix(y_test,predictions_ridge)\n",
    "plotCMa(cm,['Clase 1','Clase 2'])"
   ]
  },
  {
   "cell_type": "code",
   "execution_count": 117,
   "metadata": {},
   "outputs": [
    {
     "name": "stderr",
     "output_type": "stream",
     "text": [
      "/Users/matiasinostrozacifuentes/opt/anaconda3/envs/secodenv/lib/python3.9/site-packages/sklearn/utils/deprecation.py:87: FutureWarning: Function plot_roc_curve is deprecated; Function :func:`plot_roc_curve` is deprecated in 1.0 and will be removed in 1.2. Use one of the class methods: :meth:`sklearn.metric.RocCurveDisplay.from_predictions` or :meth:`sklearn.metric.RocCurveDisplay.from_estimator`.\n",
      "  warnings.warn(msg, category=FutureWarning)\n"
     ]
    },
    {
     "data": {
      "text/plain": [
       "<matplotlib.legend.Legend at 0x7fb5fd255a60>"
      ]
     },
     "execution_count": 117,
     "metadata": {},
     "output_type": "execute_result"
    },
    {
     "data": {
      "image/png": "[encoded data removed]",
      "text/plain": [
       "<Figure size 432x288 with 1 Axes>"
      ]
     },
     "metadata": {
      "needs_background": "light"
     },
     "output_type": "display_data"
    }
   ],
   "source": [
    "plot_roc_curve(rid_clf, X_test, y_test)\n",
    "plt.plot([0, 1], [0, 1], ls = '--', label = 'Baseline (AUC = 0.5)')\n",
    "plt.legend()"
   ]
  },
  {
   "cell_type": "markdown",
   "metadata": {},
   "source": [
    "## bagging tree"
   ]
  },
  {
   "cell_type": "code",
   "execution_count": 100,
   "metadata": {},
   "outputs": [
    {
     "data": {
      "text/plain": [
       "0.8963145467611128"
      ]
     },
     "execution_count": 100,
     "metadata": {},
     "output_type": "execute_result"
    }
   ],
   "source": [
    "bag_clf = BaggingClassifier(\n",
    "    DecisionTreeClassifier(), n_estimators=300,\n",
    "    max_samples=300, bootstrap=True\n",
    ")\n",
    "\n",
    "bag_clf.fit(X_train, y_train)\n",
    "bag_clf.score(X_val, y_val)"
   ]
  },
  {
   "cell_type": "code",
   "execution_count": 101,
   "metadata": {},
   "outputs": [
    {
     "name": "stdout",
     "output_type": "stream",
     "text": [
      "Fitting 2 folds for each of 81 candidates, totalling 162 fits\n"
     ]
    },
    {
     "data": {
      "text/plain": [
       "GridSearchCV(cv=2, estimator=BaggingClassifier(),\n",
       "             param_grid={'max_samples': [150, 250, 350, 450, 550, 650, 750, 850,\n",
       "                                         950],\n",
       "                         'n_estimators': [150, 250, 350, 450, 550, 650, 750,\n",
       "                                          850, 950]},\n",
       "             return_train_score=True, scoring='f1', verbose=1)"
      ]
     },
     "execution_count": 101,
     "metadata": {},
     "output_type": "execute_result"
    }
   ],
   "source": [
    "estimators_range = list(range(150,1000,100))\n",
    "samples_range=list(range(150,1000,100))\n",
    "param_grid = dict(n_estimators=estimators_range,max_samples=samples_range)\n",
    "\n",
    "\n",
    "bag_clf = BaggingClassifier()\n",
    "\n",
    "from sklearn.model_selection import GridSearchCV\n",
    "\n",
    "\n",
    "grid_search = GridSearchCV(bag_clf, param_grid,cv=2,\n",
    "                          return_train_score=True,scoring='f1',verbose=1)\n",
    "\n",
    "grid_search.fit(X_train, y_train)"
   ]
  },
  {
   "cell_type": "code",
   "execution_count": 102,
   "metadata": {},
   "outputs": [
    {
     "name": "stdout",
     "output_type": "stream",
     "text": [
      "Mejores hiperparametros: {'max_samples': 950, 'n_estimators': 950}\n"
     ]
    }
   ],
   "source": [
    "print('Mejores hiperparametros: %s' % grid_search.best_params_)"
   ]
  },
  {
   "cell_type": "code",
   "execution_count": 103,
   "metadata": {},
   "outputs": [
    {
     "name": "stdout",
     "output_type": "stream",
     "text": [
      "Best Score: 0.924006320024944\n"
     ]
    }
   ],
   "source": [
    "print('Best Score: %s' % grid_search.best_score_)"
   ]
  },
  {
   "cell_type": "code",
   "execution_count": 104,
   "metadata": {},
   "outputs": [
    {
     "data": {
      "text/plain": [
       "0.9219792629093522"
      ]
     },
     "execution_count": 104,
     "metadata": {},
     "output_type": "execute_result"
    }
   ],
   "source": [
    "bag_clf = BaggingClassifier(\n",
    "    DecisionTreeClassifier(), n_estimators=950,\n",
    "    max_samples=950, bootstrap=True\n",
    ")\n",
    "\n",
    "bag_clf.fit(X_train, y_train)\n",
    "bag_clf.score(X_val, y_val)"
   ]
  },
  {
   "cell_type": "code",
   "execution_count": 105,
   "metadata": {},
   "outputs": [
    {
     "name": "stdout",
     "output_type": "stream",
     "text": [
      "              precision    recall  f1-score   support\n",
      "\n",
      "           0       0.93      0.90      0.91      4432\n",
      "           1       0.92      0.94      0.93      5309\n",
      "\n",
      "    accuracy                           0.92      9741\n",
      "   macro avg       0.92      0.92      0.92      9741\n",
      "weighted avg       0.92      0.92      0.92      9741\n",
      "\n"
     ]
    }
   ],
   "source": [
    "predictions_bag = bag_clf.predict(X_test)\n",
    "print(classification_report(y_test, predictions_bag))"
   ]
  },
  {
   "cell_type": "code",
   "execution_count": 106,
   "metadata": {},
   "outputs": [
    {
     "data": {
      "image/png": "[encoded data removed]",
      "text/plain": [
       "<Figure size 1152x720 with 2 Axes>"
      ]
     },
     "metadata": {
      "needs_background": "light"
     },
     "output_type": "display_data"
    }
   ],
   "source": [
    "cm = metrics.confusion_matrix(y_test,predictions_bag)\n",
    "plotCMa(cm,['Clase 1','Clase 2'])"
   ]
  },
  {
   "cell_type": "code",
   "execution_count": 107,
   "metadata": {},
   "outputs": [
    {
     "name": "stderr",
     "output_type": "stream",
     "text": [
      "/Users/matiasinostrozacifuentes/opt/anaconda3/envs/secodenv/lib/python3.9/site-packages/sklearn/utils/deprecation.py:87: FutureWarning: Function plot_roc_curve is deprecated; Function :func:`plot_roc_curve` is deprecated in 1.0 and will be removed in 1.2. Use one of the class methods: :meth:`sklearn.metric.RocCurveDisplay.from_predictions` or :meth:`sklearn.metric.RocCurveDisplay.from_estimator`.\n",
      "  warnings.warn(msg, category=FutureWarning)\n"
     ]
    },
    {
     "data": {
      "text/plain": [
       "<matplotlib.legend.Legend at 0x7fb5db9f8760>"
      ]
     },
     "execution_count": 107,
     "metadata": {},
     "output_type": "execute_result"
    },
    {
     "data": {
      "image/png": "[encoded data removed]",
      "text/plain": [
       "<Figure size 432x288 with 1 Axes>"
      ]
     },
     "metadata": {
      "needs_background": "light"
     },
     "output_type": "display_data"
    }
   ],
   "source": [
    "plot_roc_curve(bag_clf, X_test, y_test)\n",
    "plt.plot([0, 1], [0, 1], ls = '--', label = 'Baseline (AUC = 0.5)')\n",
    "plt.legend()"
   ]
  }
 ],
 "metadata": {
  "interpreter": {
   "hash": "a3817ec359b4e415620556f73e27aae8a3c2b751bbf8721260a68a4a7c456163"
  },
  "kernelspec": {
   "display_name": "Python 3.9.11 ('secodenv')",
   "language": "python",
   "name": "python3"
  },
  "language_info": {
   "codemirror_mode": {
    "name": "ipython",
    "version": 3
   },
   "file_extension": ".py",
   "mimetype": "text/x-python",
   "name": "python",
   "nbconvert_exporter": "python",
   "pygments_lexer": "ipython3",
   "version": "3.9.11"
  },
  "orig_nbformat": 4
 },
 "nbformat": 4,
 "nbformat_minor": 2
}
