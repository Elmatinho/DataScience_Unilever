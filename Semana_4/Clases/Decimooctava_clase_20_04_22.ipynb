{
 "cells": [
  {
   "cell_type": "markdown",
   "metadata": {},
   "source": [
    "## Histogramas\n",
    "Estos sirven para saber como estan distribuidos los datos de nuestra data\n",
    "Y saber hacia donde estan cargados los datos\n",
    "Para realizar esto solo hay que hacer:\n",
    "df['columna'].hist(bins=20)\n",
    "plt.show\n",
    "\n",
    "pero tambien se pueden definir filtros dentros de las columnas\n",
    "filtro=df-loc[]\n",
    "df.loc[filtro,''Columna'].hist(bins=,edgecolor='')\n",
    "plt.show\n",
    "\n",
    "numeros de bins=(max-min)/numero de etiquetas"
   ]
  },
  {
   "cell_type": "markdown",
   "metadata": {},
   "source": [
    "## Box plot\n",
    "Resume distribución de balores de una muestra, este muestra\n",
    "-Minimo\n",
    "-maximo\n",
    "-mediana\n",
    "-q1\n",
    "-q3\n",
    "para graficar varias boxplot, se hacen los filtros correspondientes por la clase que se desee y luego se le agregan al boxplor\n",
    "plt.boxplot([filtro1,filtro2,....,filtroN],labels=['1','2',...,'N'])\n",
    "\n",
    "entre mas cerca esten los outlayers más facil de clasificar es la clase"
   ]
  },
  {
   "cell_type": "markdown",
   "metadata": {},
   "source": [
    "### Ejercicio\n"
   ]
  },
  {
   "cell_type": "code",
   "execution_count": 2,
   "metadata": {},
   "outputs": [],
   "source": [
    "import pandas as pd\n",
    "import numpy as np\n",
    "import matplotlib.pylab as plt"
   ]
  },
  {
   "cell_type": "code",
   "execution_count": 3,
   "metadata": {},
   "outputs": [
    {
     "data": {
      "text/html": [
       "<div>\n",
       "<style scoped>\n",
       "    .dataframe tbody tr th:only-of-type {\n",
       "        vertical-align: middle;\n",
       "    }\n",
       "\n",
       "    .dataframe tbody tr th {\n",
       "        vertical-align: top;\n",
       "    }\n",
       "\n",
       "    .dataframe thead th {\n",
       "        text-align: right;\n",
       "    }\n",
       "</style>\n",
       "<table border=\"1\" class=\"dataframe\">\n",
       "  <thead>\n",
       "    <tr style=\"text-align: right;\">\n",
       "      <th></th>\n",
       "      <th>Nombre</th>\n",
       "      <th>Nota</th>\n",
       "      <th>Genero</th>\n",
       "    </tr>\n",
       "  </thead>\n",
       "  <tbody>\n",
       "    <tr>\n",
       "      <th>0</th>\n",
       "      <td>SEBASTI√ÅN ISRAEL</td>\n",
       "      <td>79</td>\n",
       "      <td>M</td>\n",
       "    </tr>\n",
       "    <tr>\n",
       "      <th>1</th>\n",
       "      <td>DANIEL ANTONIO</td>\n",
       "      <td>67</td>\n",
       "      <td>M</td>\n",
       "    </tr>\n",
       "    <tr>\n",
       "      <th>2</th>\n",
       "      <td>CRISTIAN ALBERTO</td>\n",
       "      <td>78</td>\n",
       "      <td>M</td>\n",
       "    </tr>\n",
       "    <tr>\n",
       "      <th>3</th>\n",
       "      <td>MAR√çA GABRIELA</td>\n",
       "      <td>54</td>\n",
       "      <td>F</td>\n",
       "    </tr>\n",
       "    <tr>\n",
       "      <th>4</th>\n",
       "      <td>JOS√â ANTONIO</td>\n",
       "      <td>79</td>\n",
       "      <td>M</td>\n",
       "    </tr>\n",
       "    <tr>\n",
       "      <th>5</th>\n",
       "      <td>BRAYAN ANDR√âS</td>\n",
       "      <td>75</td>\n",
       "      <td>M</td>\n",
       "    </tr>\n",
       "    <tr>\n",
       "      <th>6</th>\n",
       "      <td>TOM√ÅS FERNANDO</td>\n",
       "      <td>68</td>\n",
       "      <td>M</td>\n",
       "    </tr>\n",
       "    <tr>\n",
       "      <th>7</th>\n",
       "      <td>CHRISTIAN GABRIEL</td>\n",
       "      <td>76</td>\n",
       "      <td>M</td>\n",
       "    </tr>\n",
       "    <tr>\n",
       "      <th>8</th>\n",
       "      <td>LUIS FELIPE</td>\n",
       "      <td>78</td>\n",
       "      <td>M</td>\n",
       "    </tr>\n",
       "    <tr>\n",
       "      <th>9</th>\n",
       "      <td>OSCAR IGNACIO</td>\n",
       "      <td>57</td>\n",
       "      <td>M</td>\n",
       "    </tr>\n",
       "    <tr>\n",
       "      <th>10</th>\n",
       "      <td>CRISTOBAL ALFREDO</td>\n",
       "      <td>16</td>\n",
       "      <td>M</td>\n",
       "    </tr>\n",
       "    <tr>\n",
       "      <th>11</th>\n",
       "      <td>MART√çN FELIPE</td>\n",
       "      <td>68</td>\n",
       "      <td>M</td>\n",
       "    </tr>\n",
       "    <tr>\n",
       "      <th>12</th>\n",
       "      <td>PAULA BEL√âN</td>\n",
       "      <td>75</td>\n",
       "      <td>F</td>\n",
       "    </tr>\n",
       "    <tr>\n",
       "      <th>13</th>\n",
       "      <td>MARCELO EDUARDO</td>\n",
       "      <td>73</td>\n",
       "      <td>M</td>\n",
       "    </tr>\n",
       "    <tr>\n",
       "      <th>14</th>\n",
       "      <td>MATIAS ALEXIS</td>\n",
       "      <td>62</td>\n",
       "      <td>M</td>\n",
       "    </tr>\n",
       "    <tr>\n",
       "      <th>15</th>\n",
       "      <td>NICOL√ÅS FERNANDO</td>\n",
       "      <td>66</td>\n",
       "      <td>M</td>\n",
       "    </tr>\n",
       "    <tr>\n",
       "      <th>16</th>\n",
       "      <td>N√âSTOR FABI√ÅN</td>\n",
       "      <td>72</td>\n",
       "      <td>M</td>\n",
       "    </tr>\n",
       "    <tr>\n",
       "      <th>17</th>\n",
       "      <td>LORENS ANDRE</td>\n",
       "      <td>68</td>\n",
       "      <td>M</td>\n",
       "    </tr>\n",
       "    <tr>\n",
       "      <th>18</th>\n",
       "      <td>JOSE MANUEL</td>\n",
       "      <td>85</td>\n",
       "      <td>M</td>\n",
       "    </tr>\n",
       "    <tr>\n",
       "      <th>19</th>\n",
       "      <td>LILIAN XIMENA</td>\n",
       "      <td>86</td>\n",
       "      <td>F</td>\n",
       "    </tr>\n",
       "    <tr>\n",
       "      <th>20</th>\n",
       "      <td>BRYAN FABRICIO</td>\n",
       "      <td>80</td>\n",
       "      <td>M</td>\n",
       "    </tr>\n",
       "    <tr>\n",
       "      <th>21</th>\n",
       "      <td>MAT√çAS ANTONIO</td>\n",
       "      <td>85</td>\n",
       "      <td>M</td>\n",
       "    </tr>\n",
       "    <tr>\n",
       "      <th>22</th>\n",
       "      <td>CLAUDIO BLAS ARNALDO</td>\n",
       "      <td>63</td>\n",
       "      <td>M</td>\n",
       "    </tr>\n",
       "    <tr>\n",
       "      <th>23</th>\n",
       "      <td>HELEN ANNY</td>\n",
       "      <td>54</td>\n",
       "      <td>F</td>\n",
       "    </tr>\n",
       "    <tr>\n",
       "      <th>24</th>\n",
       "      <td>VALENTINA BELEN</td>\n",
       "      <td>86</td>\n",
       "      <td>F</td>\n",
       "    </tr>\n",
       "  </tbody>\n",
       "</table>\n",
       "</div>"
      ],
      "text/plain": [
       "                  Nombre  Nota Genero\n",
       "0      SEBASTI√ÅN ISRAEL    79      M\n",
       "1         DANIEL ANTONIO    67      M\n",
       "2       CRISTIAN ALBERTO    78      M\n",
       "3        MAR√çA GABRIELA    54      F\n",
       "4          JOS√â ANTONIO    79      M\n",
       "5         BRAYAN ANDR√âS    75      M\n",
       "6        TOM√ÅS FERNANDO    68      M\n",
       "7      CHRISTIAN GABRIEL    76      M\n",
       "8            LUIS FELIPE    78      M\n",
       "9          OSCAR IGNACIO    57      M\n",
       "10     CRISTOBAL ALFREDO    16      M\n",
       "11        MART√çN FELIPE    68      M\n",
       "12          PAULA BEL√âN    75      F\n",
       "13       MARCELO EDUARDO    73      M\n",
       "14         MATIAS ALEXIS    62      M\n",
       "15     NICOL√ÅS FERNANDO    66      M\n",
       "16       N√âSTOR FABI√ÅN    72      M\n",
       "17          LORENS ANDRE    68      M\n",
       "18           JOSE MANUEL    85      M\n",
       "19         LILIAN XIMENA    86      F\n",
       "20        BRYAN FABRICIO    80      M\n",
       "21       MAT√çAS ANTONIO    85      M\n",
       "22  CLAUDIO BLAS ARNALDO    63      M\n",
       "23            HELEN ANNY    54      F\n",
       "24       VALENTINA BELEN    86      F"
      ]
     },
     "execution_count": 3,
     "metadata": {},
     "output_type": "execute_result"
    }
   ],
   "source": [
    "archivo='/Users/matiasinostrozacifuentes/Desktop/python_intro/DataScience_Unilever/Semana_3/Data/notas-genero.xlsx'\n",
    "data_ejercicio=pd.read_excel(archivo)\n",
    "data_ejercicio"
   ]
  },
  {
   "cell_type": "code",
   "execution_count": 4,
   "metadata": {},
   "outputs": [],
   "source": [
    "graf_notas=data_ejercicio.groupby('Nota')['Nota'].count()"
   ]
  },
  {
   "cell_type": "markdown",
   "metadata": {},
   "source": [
    "Generando el histograma y el gráfico de barras"
   ]
  },
  {
   "cell_type": "code",
   "execution_count": 5,
   "metadata": {},
   "outputs": [
    {
     "data": {
      "text/plain": [
       "14.716770479060049"
      ]
     },
     "execution_count": 5,
     "metadata": {},
     "output_type": "execute_result"
    }
   ],
   "source": [
    "data_ejercicio['Nota'].std()"
   ]
  },
  {
   "cell_type": "code",
   "execution_count": 6,
   "metadata": {},
   "outputs": [
    {
     "data": {
      "image/png": "[encoded data removed]",
      "text/plain": [
       "<Figure size 900x600 with 2 Axes>"
      ]
     },
     "metadata": {
      "needs_background": "light"
     },
     "output_type": "display_data"
    }
   ],
   "source": [
    "fig = plt.figure(dpi=150)\n",
    "ax1 = fig.add_subplot(1,2,1)\n",
    "ax1=data_ejercicio['Nota'].hist(bins=20)\n",
    "ax1.text(15,4.5,'Media: 70 \\n Desv: 14,71')\n",
    "ax1.set_xlabel('Notas')\n",
    "ax1.set_title('Histograma por notas')\n",
    "\n",
    "ax2=fig.add_subplot(1,2,2)\n",
    "ax2.bar(graf_notas.index, graf_notas.values)\n",
    "ax2.set_xlabel(\"Nota\")\n",
    "ax2.set_ylabel(\"Cantidad\")\n",
    "ax2.set_title(\"Cantidad de notas\")\n",
    "fig.tight_layout()\n",
    "plt.show()"
   ]
  },
  {
   "cell_type": "code",
   "execution_count": 7,
   "metadata": {},
   "outputs": [],
   "source": [
    "filtro2=data_ejercicio.loc[data_ejercicio['Nota']<=60,:]\n",
    "Reprobados=filtro2.groupby('Genero')['Genero'].count()"
   ]
  },
  {
   "cell_type": "code",
   "execution_count": 8,
   "metadata": {},
   "outputs": [],
   "source": [
    "filtro1=data_ejercicio.loc[data_ejercicio['Nota']>60,:]\n",
    "aprobados=filtro1.groupby('Genero')['Nota'].count()"
   ]
  },
  {
   "cell_type": "code",
   "execution_count": 9,
   "metadata": {},
   "outputs": [
    {
     "data": {
      "text/plain": [
       "array([ 3, 18])"
      ]
     },
     "execution_count": 9,
     "metadata": {},
     "output_type": "execute_result"
    }
   ],
   "source": [
    "aprobados.values"
   ]
  },
  {
   "cell_type": "code",
   "execution_count": 10,
   "metadata": {},
   "outputs": [
    {
     "data": {
      "text/plain": [
       "array([2, 2])"
      ]
     },
     "execution_count": 10,
     "metadata": {},
     "output_type": "execute_result"
    }
   ],
   "source": [
    "Reprobados.values"
   ]
  },
  {
   "cell_type": "code",
   "execution_count": 11,
   "metadata": {},
   "outputs": [
    {
     "data": {
      "image/png": "[encoded data removed]",
      "text/plain": [
       "<Figure size 1200x800 with 2 Axes>"
      ]
     },
     "metadata": {},
     "output_type": "display_data"
    }
   ],
   "source": [
    "fig = plt.figure(dpi=200)\n",
    "ax1 = fig.add_subplot(1,2,1)\n",
    "ax1.pie(aprobados.values,labels=aprobados.index,autopct=\"%.2f%%\")\n",
    "ax1.set_title(\"Porcentaje de aprobados por genero\")\n",
    "\n",
    "ax2=fig.add_subplot(1,2,2)\n",
    "ax2.pie(Reprobados.values,labels=Reprobados.index,autopct=\"%.2f%%\")\n",
    "ax2.set_title(\"Porcentaje de reprobados por genero\")\n",
    "fig.tight_layout()\n"
   ]
  },
  {
   "cell_type": "markdown",
   "metadata": {},
   "source": [
    "## Ejercicio\n",
    "Cargue el archivo unicorn-companies.csv , en el encontramos la información relevante de las Startups convertidas en Unicornios, como nombre, inversores, pais, año de aparición, etc. Realice lo siguiente (preocúpese de la estética):\n",
    "        Realice la limpieza de la data, su último recurso debe ser el Drop de datos\n",
    "        Como es la distribución de las columnas categoricas?\n",
    "        Como es la distribución de las columnas numericas?\n",
    "        La cantidad de unicornios fundados a traves del tiempo\n",
    "        Cómo ha cambiado con el tiempo la cantidad de empresas que lograron el estatus de unicornio (por país e industria)\n",
    "        ¿Qué países tienen las valoraciones más altas de unicornios?\n",
    "        ¿Qué industrias tienen la valoración más alta de unicornios?\n",
    "        ¿Qué empresas han recaudado la mayor cantidad de dinero?\n",
    "        ¿Cómo afecta el recuento de inversores a la valoración?"
   ]
  },
  {
   "cell_type": "markdown",
   "metadata": {},
   "source": [
    "Importando librerias"
   ]
  },
  {
   "cell_type": "code",
   "execution_count": 12,
   "metadata": {},
   "outputs": [],
   "source": [
    "import pandas as pd\n",
    "import numpy as np\n",
    "import seaborn as sns\n",
    "import matplotlib.pyplot as plt\n",
    "import plotly_express as px"
   ]
  },
  {
   "cell_type": "markdown",
   "metadata": {},
   "source": [
    "Cargando datos"
   ]
  },
  {
   "cell_type": "code",
   "execution_count": 13,
   "metadata": {},
   "outputs": [],
   "source": [
    "archivo='/Users/matiasinostrozacifuentes/Desktop/python_intro/DataScience_Unilever/Semana_4/Data/Unicorn_Companies.csv'\n",
    "data_unicornio=pd.read_csv(archivo)"
   ]
  },
  {
   "cell_type": "markdown",
   "metadata": {},
   "source": [
    "Previsualización de la data"
   ]
  },
  {
   "cell_type": "code",
   "execution_count": 14,
   "metadata": {},
   "outputs": [
    {
     "data": {
      "text/html": [
       "<div>\n",
       "<style scoped>\n",
       "    .dataframe tbody tr th:only-of-type {\n",
       "        vertical-align: middle;\n",
       "    }\n",
       "\n",
       "    .dataframe tbody tr th {\n",
       "        vertical-align: top;\n",
       "    }\n",
       "\n",
       "    .dataframe thead th {\n",
       "        text-align: right;\n",
       "    }\n",
       "</style>\n",
       "<table border=\"1\" class=\"dataframe\">\n",
       "  <thead>\n",
       "    <tr style=\"text-align: right;\">\n",
       "      <th></th>\n",
       "      <th>Company</th>\n",
       "      <th>Valuation ($B)</th>\n",
       "      <th>Date Joined</th>\n",
       "      <th>Country</th>\n",
       "      <th>City</th>\n",
       "      <th>Industry</th>\n",
       "      <th>Select Inverstors</th>\n",
       "      <th>Founded Year</th>\n",
       "      <th>Total Raised</th>\n",
       "      <th>Financial Stage</th>\n",
       "      <th>Investors Count</th>\n",
       "      <th>Deal Terms</th>\n",
       "      <th>Portfolio Exits</th>\n",
       "    </tr>\n",
       "  </thead>\n",
       "  <tbody>\n",
       "    <tr>\n",
       "      <th>0</th>\n",
       "      <td>Bytedance</td>\n",
       "      <td>$140</td>\n",
       "      <td>4/7/2017</td>\n",
       "      <td>China</td>\n",
       "      <td>Beijing</td>\n",
       "      <td>Artificial intelligence</td>\n",
       "      <td>Sequoia Capital China, SIG Asia Investments, S...</td>\n",
       "      <td>2012</td>\n",
       "      <td>$7.44B</td>\n",
       "      <td>IPO</td>\n",
       "      <td>28</td>\n",
       "      <td>8</td>\n",
       "      <td>5</td>\n",
       "    </tr>\n",
       "    <tr>\n",
       "      <th>1</th>\n",
       "      <td>SpaceX</td>\n",
       "      <td>$100.3</td>\n",
       "      <td>12/1/2012</td>\n",
       "      <td>United States</td>\n",
       "      <td>Hawthorne</td>\n",
       "      <td>Other</td>\n",
       "      <td>Founders Fund, Draper Fisher Jurvetson, Rothen...</td>\n",
       "      <td>2002</td>\n",
       "      <td>$6.874B</td>\n",
       "      <td>None</td>\n",
       "      <td>29</td>\n",
       "      <td>12</td>\n",
       "      <td>None</td>\n",
       "    </tr>\n",
       "    <tr>\n",
       "      <th>2</th>\n",
       "      <td>Stripe</td>\n",
       "      <td>$95</td>\n",
       "      <td>1/23/2014</td>\n",
       "      <td>United States</td>\n",
       "      <td>San Francisco</td>\n",
       "      <td>Fintech</td>\n",
       "      <td>Khosla Ventures, LowercaseCapital, capitalG</td>\n",
       "      <td>2010</td>\n",
       "      <td>$2.901B</td>\n",
       "      <td>Asset</td>\n",
       "      <td>39</td>\n",
       "      <td>12</td>\n",
       "      <td>1</td>\n",
       "    </tr>\n",
       "    <tr>\n",
       "      <th>3</th>\n",
       "      <td>Klarna</td>\n",
       "      <td>$45.6</td>\n",
       "      <td>12/12/2011</td>\n",
       "      <td>Sweden</td>\n",
       "      <td>Stockholm</td>\n",
       "      <td>Fintech</td>\n",
       "      <td>Institutional Venture Partners, Sequoia Capita...</td>\n",
       "      <td>2005</td>\n",
       "      <td>$3.472B</td>\n",
       "      <td>Acquired</td>\n",
       "      <td>56</td>\n",
       "      <td>13</td>\n",
       "      <td>1</td>\n",
       "    </tr>\n",
       "    <tr>\n",
       "      <th>4</th>\n",
       "      <td>Epic Games</td>\n",
       "      <td>$42</td>\n",
       "      <td>10/26/2018</td>\n",
       "      <td>United States</td>\n",
       "      <td>Cary</td>\n",
       "      <td>Other</td>\n",
       "      <td>Tencent Holdings, KKR, Smash Ventures</td>\n",
       "      <td>1991</td>\n",
       "      <td>$4.377B</td>\n",
       "      <td>Acquired</td>\n",
       "      <td>25</td>\n",
       "      <td>5</td>\n",
       "      <td>2</td>\n",
       "    </tr>\n",
       "    <tr>\n",
       "      <th>...</th>\n",
       "      <td>...</td>\n",
       "      <td>...</td>\n",
       "      <td>...</td>\n",
       "      <td>...</td>\n",
       "      <td>...</td>\n",
       "      <td>...</td>\n",
       "      <td>...</td>\n",
       "      <td>...</td>\n",
       "      <td>...</td>\n",
       "      <td>...</td>\n",
       "      <td>...</td>\n",
       "      <td>...</td>\n",
       "      <td>...</td>\n",
       "    </tr>\n",
       "    <tr>\n",
       "      <th>1032</th>\n",
       "      <td>Timescale</td>\n",
       "      <td>$1</td>\n",
       "      <td>2/22/2022</td>\n",
       "      <td>United States</td>\n",
       "      <td>New York</td>\n",
       "      <td>Internet software &amp; services</td>\n",
       "      <td>New Enterprise Associates, Benchmark, Two Sigm...</td>\n",
       "      <td>2015</td>\n",
       "      <td>$181.06M</td>\n",
       "      <td>None</td>\n",
       "      <td>7</td>\n",
       "      <td>2</td>\n",
       "      <td>None</td>\n",
       "    </tr>\n",
       "    <tr>\n",
       "      <th>1033</th>\n",
       "      <td>Scalapay</td>\n",
       "      <td>$1</td>\n",
       "      <td>2/23/2022</td>\n",
       "      <td>Italy</td>\n",
       "      <td>Milan</td>\n",
       "      <td>Fintech</td>\n",
       "      <td>Fasanara Capital, Tiger Global Management, Bal...</td>\n",
       "      <td>2019</td>\n",
       "      <td>$700M</td>\n",
       "      <td>None</td>\n",
       "      <td>10</td>\n",
       "      <td>2</td>\n",
       "      <td>None</td>\n",
       "    </tr>\n",
       "    <tr>\n",
       "      <th>1034</th>\n",
       "      <td>Omada Health</td>\n",
       "      <td>$1</td>\n",
       "      <td>2/23/2022</td>\n",
       "      <td>United States</td>\n",
       "      <td>San Francisco</td>\n",
       "      <td>Health</td>\n",
       "      <td>U.S. Venture Partners, dRx Capital, Andreessen...</td>\n",
       "      <td>2011</td>\n",
       "      <td>$449.72M</td>\n",
       "      <td>None</td>\n",
       "      <td>30</td>\n",
       "      <td>6</td>\n",
       "      <td>None</td>\n",
       "    </tr>\n",
       "    <tr>\n",
       "      <th>1035</th>\n",
       "      <td>BlueVoyant</td>\n",
       "      <td>$1</td>\n",
       "      <td>2/23/2022</td>\n",
       "      <td>United States</td>\n",
       "      <td>New York</td>\n",
       "      <td>Cybersecurity</td>\n",
       "      <td>8VC, Liberty Strategic Capital, Eden Global Pa...</td>\n",
       "      <td>2017</td>\n",
       "      <td>$525.5M</td>\n",
       "      <td>None</td>\n",
       "      <td>6</td>\n",
       "      <td>2</td>\n",
       "      <td>None</td>\n",
       "    </tr>\n",
       "    <tr>\n",
       "      <th>1036</th>\n",
       "      <td>Veev</td>\n",
       "      <td>$1</td>\n",
       "      <td>2/24/2022</td>\n",
       "      <td>United States</td>\n",
       "      <td>San Mateo</td>\n",
       "      <td>Internet software &amp; services</td>\n",
       "      <td>Zeev Ventures, Bond, Fifth Wall Ventures</td>\n",
       "      <td>2008</td>\n",
       "      <td>$604.5M</td>\n",
       "      <td>None</td>\n",
       "      <td>11</td>\n",
       "      <td>1</td>\n",
       "      <td>None</td>\n",
       "    </tr>\n",
       "  </tbody>\n",
       "</table>\n",
       "<p>1037 rows × 13 columns</p>\n",
       "</div>"
      ],
      "text/plain": [
       "           Company Valuation ($B) Date Joined        Country           City  \\\n",
       "0        Bytedance           $140    4/7/2017          China        Beijing   \n",
       "1           SpaceX         $100.3   12/1/2012  United States      Hawthorne   \n",
       "2           Stripe            $95   1/23/2014  United States  San Francisco   \n",
       "3           Klarna          $45.6  12/12/2011         Sweden      Stockholm   \n",
       "4       Epic Games            $42  10/26/2018  United States           Cary   \n",
       "...            ...            ...         ...            ...            ...   \n",
       "1032     Timescale             $1   2/22/2022  United States       New York   \n",
       "1033      Scalapay             $1   2/23/2022          Italy          Milan   \n",
       "1034  Omada Health             $1   2/23/2022  United States  San Francisco   \n",
       "1035    BlueVoyant             $1   2/23/2022  United States       New York   \n",
       "1036          Veev             $1   2/24/2022  United States      San Mateo   \n",
       "\n",
       "                          Industry  \\\n",
       "0          Artificial intelligence   \n",
       "1                            Other   \n",
       "2                          Fintech   \n",
       "3                          Fintech   \n",
       "4                            Other   \n",
       "...                            ...   \n",
       "1032  Internet software & services   \n",
       "1033                       Fintech   \n",
       "1034                        Health   \n",
       "1035                 Cybersecurity   \n",
       "1036  Internet software & services   \n",
       "\n",
       "                                      Select Inverstors Founded Year  \\\n",
       "0     Sequoia Capital China, SIG Asia Investments, S...         2012   \n",
       "1     Founders Fund, Draper Fisher Jurvetson, Rothen...         2002   \n",
       "2           Khosla Ventures, LowercaseCapital, capitalG         2010   \n",
       "3     Institutional Venture Partners, Sequoia Capita...         2005   \n",
       "4                 Tencent Holdings, KKR, Smash Ventures         1991   \n",
       "...                                                 ...          ...   \n",
       "1032  New Enterprise Associates, Benchmark, Two Sigm...         2015   \n",
       "1033  Fasanara Capital, Tiger Global Management, Bal...         2019   \n",
       "1034  U.S. Venture Partners, dRx Capital, Andreessen...         2011   \n",
       "1035  8VC, Liberty Strategic Capital, Eden Global Pa...         2017   \n",
       "1036           Zeev Ventures, Bond, Fifth Wall Ventures         2008   \n",
       "\n",
       "     Total Raised Financial Stage Investors Count Deal Terms Portfolio Exits  \n",
       "0          $7.44B             IPO              28          8               5  \n",
       "1         $6.874B            None              29         12            None  \n",
       "2         $2.901B           Asset              39         12               1  \n",
       "3         $3.472B        Acquired              56         13               1  \n",
       "4         $4.377B        Acquired              25          5               2  \n",
       "...           ...             ...             ...        ...             ...  \n",
       "1032     $181.06M            None               7          2            None  \n",
       "1033        $700M            None              10          2            None  \n",
       "1034     $449.72M            None              30          6            None  \n",
       "1035      $525.5M            None               6          2            None  \n",
       "1036      $604.5M            None              11          1            None  \n",
       "\n",
       "[1037 rows x 13 columns]"
      ]
     },
     "execution_count": 14,
     "metadata": {},
     "output_type": "execute_result"
    }
   ],
   "source": [
    "data_unicornio"
   ]
  },
  {
   "cell_type": "markdown",
   "metadata": {},
   "source": [
    "Revisando la data"
   ]
  },
  {
   "cell_type": "code",
   "execution_count": 15,
   "metadata": {},
   "outputs": [
    {
     "name": "stdout",
     "output_type": "stream",
     "text": [
      "<class 'pandas.core.frame.DataFrame'>\n",
      "RangeIndex: 1037 entries, 0 to 1036\n",
      "Data columns (total 13 columns):\n",
      " #   Column             Non-Null Count  Dtype \n",
      "---  ------             --------------  ----- \n",
      " 0   Company            1037 non-null   object\n",
      " 1   Valuation ($B)     1037 non-null   object\n",
      " 2   Date Joined        1037 non-null   object\n",
      " 3   Country            1037 non-null   object\n",
      " 4   City               1037 non-null   object\n",
      " 5   Industry           1037 non-null   object\n",
      " 6   Select Inverstors  1037 non-null   object\n",
      " 7   Founded Year       1037 non-null   object\n",
      " 8   Total Raised       1037 non-null   object\n",
      " 9   Financial Stage    1037 non-null   object\n",
      " 10  Investors Count    1037 non-null   object\n",
      " 11  Deal Terms         1037 non-null   object\n",
      " 12  Portfolio Exits    1037 non-null   object\n",
      "dtypes: object(13)\n",
      "memory usage: 105.4+ KB\n"
     ]
    }
   ],
   "source": [
    "data_unicornio.info()"
   ]
  },
  {
   "cell_type": "markdown",
   "metadata": {},
   "source": [
    "No se ven archivos nulos pero si como none\n",
    "además las fechas estan como objetos se convertiran a datetime\n",
    "la valorización, el año fundado, el total raised, el investor count, deal term y portfolio exists son objetos, se convertiran a numeros"
   ]
  },
  {
   "cell_type": "markdown",
   "metadata": {},
   "source": [
    "Convirtiendo las fechas a datetime"
   ]
  },
  {
   "cell_type": "code",
   "execution_count": 16,
   "metadata": {},
   "outputs": [],
   "source": [
    "data_unicornio['Date Joined'] = pd.to_datetime(data_unicornio['Date Joined'])"
   ]
  },
  {
   "cell_type": "markdown",
   "metadata": {},
   "source": [
    "Busqueda de valores None"
   ]
  },
  {
   "cell_type": "code",
   "execution_count": 17,
   "metadata": {},
   "outputs": [
    {
     "name": "stdout",
     "output_type": "stream",
     "text": [
      "¿en la columna Company existen none ? False\n",
      "¿en la columna Valuation ($B) existen none ? False\n",
      "¿en la columna Date Joined existen none ? False\n",
      "¿en la columna Country existen none ? False\n",
      "¿en la columna City existen none ? False\n",
      "¿en la columna Industry existen none ? False\n",
      "¿en la columna Select Inverstors existen none ? True\n",
      "¿en la columna Founded Year existen none ? True\n",
      "¿en la columna Total Raised existen none ? True\n",
      "¿en la columna Financial Stage existen none ? True\n",
      "¿en la columna Investors Count existen none ? True\n",
      "¿en la columna Deal Terms existen none ? True\n",
      "¿en la columna Portfolio Exits existen none ? True\n"
     ]
    },
    {
     "name": "stderr",
     "output_type": "stream",
     "text": [
      "/var/folders/6y/9fksy1pj1bnbf51v6nyzx6fc0000gn/T/ipykernel_2021/1750732649.py:2: FutureWarning: elementwise comparison failed; returning scalar instead, but in the future will perform elementwise comparison\n",
      "  x= 'None' in data_unicornio[i].values\n"
     ]
    }
   ],
   "source": [
    "for i in data_unicornio:\n",
    "    x= 'None' in data_unicornio[i].values\n",
    "    print(f'¿en la columna {i} existen none ? {x}')"
   ]
  },
  {
   "cell_type": "markdown",
   "metadata": {},
   "source": [
    "Cambiando los none en las columnas numericas por el valor 0\n",
    "pero en total raised no se puede debido a que explican que son valores en distintos tipos de orden de miles\n",
    "Founded year no sería adecuado rellenar debido a que es independiente de otros datos ( se puede dropear)\n",
    "Select investors no se considera como complicado debido a que significa que no hay inversores\n",
    "Financial stage indica un estado propio de cada compañia\n",
    "por lo que solo hay que cambiar en:\n",
    "investors count\n",
    "deal terms\n",
    "portfolio exists \n",
    "y este none significa un 0"
   ]
  },
  {
   "cell_type": "code",
   "execution_count": 18,
   "metadata": {},
   "outputs": [],
   "source": [
    "data_unicornio[\"Investors Count\"]=data_unicornio[\"Investors Count\"].replace(\"None\",0)\n",
    "data_unicornio['Investors Count']=pd.to_numeric(data_unicornio['Investors Count'],errors='coerce')\n",
    "data_unicornio[\"Deal Terms\"]=data_unicornio[\"Deal Terms\"].replace(\"None\",0)\n",
    "data_unicornio['Deal Terms']=pd.to_numeric(data_unicornio['Deal Terms'],errors='coerce')\n",
    "data_unicornio[\"Portfolio Exits\"]=data_unicornio[\"Portfolio Exits\"].replace(\"None\",0)\n",
    "data_unicornio['Portfolio Exits']=pd.to_numeric(data_unicornio['Portfolio Exits'],errors='coerce')\n"
   ]
  },
  {
   "cell_type": "code",
   "execution_count": 19,
   "metadata": {},
   "outputs": [
    {
     "data": {
      "text/html": [
       "<div>\n",
       "<style scoped>\n",
       "    .dataframe tbody tr th:only-of-type {\n",
       "        vertical-align: middle;\n",
       "    }\n",
       "\n",
       "    .dataframe tbody tr th {\n",
       "        vertical-align: top;\n",
       "    }\n",
       "\n",
       "    .dataframe thead th {\n",
       "        text-align: right;\n",
       "    }\n",
       "</style>\n",
       "<table border=\"1\" class=\"dataframe\">\n",
       "  <thead>\n",
       "    <tr style=\"text-align: right;\">\n",
       "      <th></th>\n",
       "      <th>Company</th>\n",
       "      <th>Valuation ($B)</th>\n",
       "      <th>Date Joined</th>\n",
       "      <th>Country</th>\n",
       "      <th>City</th>\n",
       "      <th>Industry</th>\n",
       "      <th>Select Inverstors</th>\n",
       "      <th>Founded Year</th>\n",
       "      <th>Total Raised</th>\n",
       "      <th>Financial Stage</th>\n",
       "      <th>Investors Count</th>\n",
       "      <th>Deal Terms</th>\n",
       "      <th>Portfolio Exits</th>\n",
       "    </tr>\n",
       "  </thead>\n",
       "  <tbody>\n",
       "    <tr>\n",
       "      <th>0</th>\n",
       "      <td>Bytedance</td>\n",
       "      <td>$140</td>\n",
       "      <td>2017-04-07</td>\n",
       "      <td>China</td>\n",
       "      <td>Beijing</td>\n",
       "      <td>Artificial intelligence</td>\n",
       "      <td>Sequoia Capital China, SIG Asia Investments, S...</td>\n",
       "      <td>2012</td>\n",
       "      <td>$7.44B</td>\n",
       "      <td>IPO</td>\n",
       "      <td>28</td>\n",
       "      <td>8</td>\n",
       "      <td>5</td>\n",
       "    </tr>\n",
       "    <tr>\n",
       "      <th>1</th>\n",
       "      <td>SpaceX</td>\n",
       "      <td>$100.3</td>\n",
       "      <td>2012-12-01</td>\n",
       "      <td>United States</td>\n",
       "      <td>Hawthorne</td>\n",
       "      <td>Other</td>\n",
       "      <td>Founders Fund, Draper Fisher Jurvetson, Rothen...</td>\n",
       "      <td>2002</td>\n",
       "      <td>$6.874B</td>\n",
       "      <td>None</td>\n",
       "      <td>29</td>\n",
       "      <td>12</td>\n",
       "      <td>0</td>\n",
       "    </tr>\n",
       "    <tr>\n",
       "      <th>2</th>\n",
       "      <td>Stripe</td>\n",
       "      <td>$95</td>\n",
       "      <td>2014-01-23</td>\n",
       "      <td>United States</td>\n",
       "      <td>San Francisco</td>\n",
       "      <td>Fintech</td>\n",
       "      <td>Khosla Ventures, LowercaseCapital, capitalG</td>\n",
       "      <td>2010</td>\n",
       "      <td>$2.901B</td>\n",
       "      <td>Asset</td>\n",
       "      <td>39</td>\n",
       "      <td>12</td>\n",
       "      <td>1</td>\n",
       "    </tr>\n",
       "    <tr>\n",
       "      <th>3</th>\n",
       "      <td>Klarna</td>\n",
       "      <td>$45.6</td>\n",
       "      <td>2011-12-12</td>\n",
       "      <td>Sweden</td>\n",
       "      <td>Stockholm</td>\n",
       "      <td>Fintech</td>\n",
       "      <td>Institutional Venture Partners, Sequoia Capita...</td>\n",
       "      <td>2005</td>\n",
       "      <td>$3.472B</td>\n",
       "      <td>Acquired</td>\n",
       "      <td>56</td>\n",
       "      <td>13</td>\n",
       "      <td>1</td>\n",
       "    </tr>\n",
       "    <tr>\n",
       "      <th>4</th>\n",
       "      <td>Epic Games</td>\n",
       "      <td>$42</td>\n",
       "      <td>2018-10-26</td>\n",
       "      <td>United States</td>\n",
       "      <td>Cary</td>\n",
       "      <td>Other</td>\n",
       "      <td>Tencent Holdings, KKR, Smash Ventures</td>\n",
       "      <td>1991</td>\n",
       "      <td>$4.377B</td>\n",
       "      <td>Acquired</td>\n",
       "      <td>25</td>\n",
       "      <td>5</td>\n",
       "      <td>2</td>\n",
       "    </tr>\n",
       "    <tr>\n",
       "      <th>...</th>\n",
       "      <td>...</td>\n",
       "      <td>...</td>\n",
       "      <td>...</td>\n",
       "      <td>...</td>\n",
       "      <td>...</td>\n",
       "      <td>...</td>\n",
       "      <td>...</td>\n",
       "      <td>...</td>\n",
       "      <td>...</td>\n",
       "      <td>...</td>\n",
       "      <td>...</td>\n",
       "      <td>...</td>\n",
       "      <td>...</td>\n",
       "    </tr>\n",
       "    <tr>\n",
       "      <th>1032</th>\n",
       "      <td>Timescale</td>\n",
       "      <td>$1</td>\n",
       "      <td>2022-02-22</td>\n",
       "      <td>United States</td>\n",
       "      <td>New York</td>\n",
       "      <td>Internet software &amp; services</td>\n",
       "      <td>New Enterprise Associates, Benchmark, Two Sigm...</td>\n",
       "      <td>2015</td>\n",
       "      <td>$181.06M</td>\n",
       "      <td>None</td>\n",
       "      <td>7</td>\n",
       "      <td>2</td>\n",
       "      <td>0</td>\n",
       "    </tr>\n",
       "    <tr>\n",
       "      <th>1033</th>\n",
       "      <td>Scalapay</td>\n",
       "      <td>$1</td>\n",
       "      <td>2022-02-23</td>\n",
       "      <td>Italy</td>\n",
       "      <td>Milan</td>\n",
       "      <td>Fintech</td>\n",
       "      <td>Fasanara Capital, Tiger Global Management, Bal...</td>\n",
       "      <td>2019</td>\n",
       "      <td>$700M</td>\n",
       "      <td>None</td>\n",
       "      <td>10</td>\n",
       "      <td>2</td>\n",
       "      <td>0</td>\n",
       "    </tr>\n",
       "    <tr>\n",
       "      <th>1034</th>\n",
       "      <td>Omada Health</td>\n",
       "      <td>$1</td>\n",
       "      <td>2022-02-23</td>\n",
       "      <td>United States</td>\n",
       "      <td>San Francisco</td>\n",
       "      <td>Health</td>\n",
       "      <td>U.S. Venture Partners, dRx Capital, Andreessen...</td>\n",
       "      <td>2011</td>\n",
       "      <td>$449.72M</td>\n",
       "      <td>None</td>\n",
       "      <td>30</td>\n",
       "      <td>6</td>\n",
       "      <td>0</td>\n",
       "    </tr>\n",
       "    <tr>\n",
       "      <th>1035</th>\n",
       "      <td>BlueVoyant</td>\n",
       "      <td>$1</td>\n",
       "      <td>2022-02-23</td>\n",
       "      <td>United States</td>\n",
       "      <td>New York</td>\n",
       "      <td>Cybersecurity</td>\n",
       "      <td>8VC, Liberty Strategic Capital, Eden Global Pa...</td>\n",
       "      <td>2017</td>\n",
       "      <td>$525.5M</td>\n",
       "      <td>None</td>\n",
       "      <td>6</td>\n",
       "      <td>2</td>\n",
       "      <td>0</td>\n",
       "    </tr>\n",
       "    <tr>\n",
       "      <th>1036</th>\n",
       "      <td>Veev</td>\n",
       "      <td>$1</td>\n",
       "      <td>2022-02-24</td>\n",
       "      <td>United States</td>\n",
       "      <td>San Mateo</td>\n",
       "      <td>Internet software &amp; services</td>\n",
       "      <td>Zeev Ventures, Bond, Fifth Wall Ventures</td>\n",
       "      <td>2008</td>\n",
       "      <td>$604.5M</td>\n",
       "      <td>None</td>\n",
       "      <td>11</td>\n",
       "      <td>1</td>\n",
       "      <td>0</td>\n",
       "    </tr>\n",
       "  </tbody>\n",
       "</table>\n",
       "<p>1037 rows × 13 columns</p>\n",
       "</div>"
      ],
      "text/plain": [
       "           Company Valuation ($B) Date Joined        Country           City  \\\n",
       "0        Bytedance           $140  2017-04-07          China        Beijing   \n",
       "1           SpaceX         $100.3  2012-12-01  United States      Hawthorne   \n",
       "2           Stripe            $95  2014-01-23  United States  San Francisco   \n",
       "3           Klarna          $45.6  2011-12-12         Sweden      Stockholm   \n",
       "4       Epic Games            $42  2018-10-26  United States           Cary   \n",
       "...            ...            ...         ...            ...            ...   \n",
       "1032     Timescale             $1  2022-02-22  United States       New York   \n",
       "1033      Scalapay             $1  2022-02-23          Italy          Milan   \n",
       "1034  Omada Health             $1  2022-02-23  United States  San Francisco   \n",
       "1035    BlueVoyant             $1  2022-02-23  United States       New York   \n",
       "1036          Veev             $1  2022-02-24  United States      San Mateo   \n",
       "\n",
       "                          Industry  \\\n",
       "0          Artificial intelligence   \n",
       "1                            Other   \n",
       "2                          Fintech   \n",
       "3                          Fintech   \n",
       "4                            Other   \n",
       "...                            ...   \n",
       "1032  Internet software & services   \n",
       "1033                       Fintech   \n",
       "1034                        Health   \n",
       "1035                 Cybersecurity   \n",
       "1036  Internet software & services   \n",
       "\n",
       "                                      Select Inverstors Founded Year  \\\n",
       "0     Sequoia Capital China, SIG Asia Investments, S...         2012   \n",
       "1     Founders Fund, Draper Fisher Jurvetson, Rothen...         2002   \n",
       "2           Khosla Ventures, LowercaseCapital, capitalG         2010   \n",
       "3     Institutional Venture Partners, Sequoia Capita...         2005   \n",
       "4                 Tencent Holdings, KKR, Smash Ventures         1991   \n",
       "...                                                 ...          ...   \n",
       "1032  New Enterprise Associates, Benchmark, Two Sigm...         2015   \n",
       "1033  Fasanara Capital, Tiger Global Management, Bal...         2019   \n",
       "1034  U.S. Venture Partners, dRx Capital, Andreessen...         2011   \n",
       "1035  8VC, Liberty Strategic Capital, Eden Global Pa...         2017   \n",
       "1036           Zeev Ventures, Bond, Fifth Wall Ventures         2008   \n",
       "\n",
       "     Total Raised Financial Stage  Investors Count  Deal Terms  \\\n",
       "0          $7.44B             IPO               28           8   \n",
       "1         $6.874B            None               29          12   \n",
       "2         $2.901B           Asset               39          12   \n",
       "3         $3.472B        Acquired               56          13   \n",
       "4         $4.377B        Acquired               25           5   \n",
       "...           ...             ...              ...         ...   \n",
       "1032     $181.06M            None                7           2   \n",
       "1033        $700M            None               10           2   \n",
       "1034     $449.72M            None               30           6   \n",
       "1035      $525.5M            None                6           2   \n",
       "1036      $604.5M            None               11           1   \n",
       "\n",
       "      Portfolio Exits  \n",
       "0                   5  \n",
       "1                   0  \n",
       "2                   1  \n",
       "3                   1  \n",
       "4                   2  \n",
       "...               ...  \n",
       "1032                0  \n",
       "1033                0  \n",
       "1034                0  \n",
       "1035                0  \n",
       "1036                0  \n",
       "\n",
       "[1037 rows x 13 columns]"
      ]
     },
     "execution_count": 19,
     "metadata": {},
     "output_type": "execute_result"
    }
   ],
   "source": [
    "data_unicornio"
   ]
  },
  {
   "cell_type": "code",
   "execution_count": 20,
   "metadata": {},
   "outputs": [
    {
     "name": "stdout",
     "output_type": "stream",
     "text": [
      "<class 'pandas.core.frame.DataFrame'>\n",
      "RangeIndex: 1037 entries, 0 to 1036\n",
      "Data columns (total 13 columns):\n",
      " #   Column             Non-Null Count  Dtype         \n",
      "---  ------             --------------  -----         \n",
      " 0   Company            1037 non-null   object        \n",
      " 1   Valuation ($B)     1037 non-null   object        \n",
      " 2   Date Joined        1037 non-null   datetime64[ns]\n",
      " 3   Country            1037 non-null   object        \n",
      " 4   City               1037 non-null   object        \n",
      " 5   Industry           1037 non-null   object        \n",
      " 6   Select Inverstors  1037 non-null   object        \n",
      " 7   Founded Year       1037 non-null   object        \n",
      " 8   Total Raised       1037 non-null   object        \n",
      " 9   Financial Stage    1037 non-null   object        \n",
      " 10  Investors Count    1037 non-null   int64         \n",
      " 11  Deal Terms         1037 non-null   int64         \n",
      " 12  Portfolio Exits    1037 non-null   int64         \n",
      "dtypes: datetime64[ns](1), int64(3), object(9)\n",
      "memory usage: 105.4+ KB\n"
     ]
    }
   ],
   "source": [
    "data_unicornio.info()"
   ]
  },
  {
   "cell_type": "markdown",
   "metadata": {},
   "source": [
    "Quitando texto en valores numericos"
   ]
  },
  {
   "cell_type": "code",
   "execution_count": 21,
   "metadata": {},
   "outputs": [
    {
     "name": "stderr",
     "output_type": "stream",
     "text": [
      "/var/folders/6y/9fksy1pj1bnbf51v6nyzx6fc0000gn/T/ipykernel_2021/250483030.py:1: FutureWarning: The default value of regex will change from True to False in a future version. In addition, single character regular expressions will *not* be treated as literal strings when regex=True.\n",
      "  data_unicornio[\"Valuation ($B)\"]=data_unicornio[\"Valuation ($B)\"].str.replace(\"$\",\"\")\n"
     ]
    }
   ],
   "source": [
    "data_unicornio[\"Valuation ($B)\"]=data_unicornio[\"Valuation ($B)\"].str.replace(\"$\",\"\")\n",
    "data_unicornio['Valuation ($B)']=pd.to_numeric(data_unicornio['Valuation ($B)'],errors='coerce')\n"
   ]
  },
  {
   "cell_type": "code",
   "execution_count": 22,
   "metadata": {},
   "outputs": [
    {
     "name": "stdout",
     "output_type": "stream",
     "text": [
      "<class 'pandas.core.frame.DataFrame'>\n",
      "RangeIndex: 1037 entries, 0 to 1036\n",
      "Data columns (total 13 columns):\n",
      " #   Column             Non-Null Count  Dtype         \n",
      "---  ------             --------------  -----         \n",
      " 0   Company            1037 non-null   object        \n",
      " 1   Valuation ($B)     1037 non-null   float64       \n",
      " 2   Date Joined        1037 non-null   datetime64[ns]\n",
      " 3   Country            1037 non-null   object        \n",
      " 4   City               1037 non-null   object        \n",
      " 5   Industry           1037 non-null   object        \n",
      " 6   Select Inverstors  1037 non-null   object        \n",
      " 7   Founded Year       1037 non-null   object        \n",
      " 8   Total Raised       1037 non-null   object        \n",
      " 9   Financial Stage    1037 non-null   object        \n",
      " 10  Investors Count    1037 non-null   int64         \n",
      " 11  Deal Terms         1037 non-null   int64         \n",
      " 12  Portfolio Exits    1037 non-null   int64         \n",
      "dtypes: datetime64[ns](1), float64(1), int64(3), object(8)\n",
      "memory usage: 105.4+ KB\n"
     ]
    }
   ],
   "source": [
    "data_unicornio.info()"
   ]
  },
  {
   "cell_type": "markdown",
   "metadata": {},
   "source": [
    "Ya lista la data, se procede a generar gráficos\n",
    "1 como se distribuyen las columnas categoricas?\n",
    "para esto se van a realizar algunos gráficos que permitan saber como se comportan"
   ]
  },
  {
   "cell_type": "code",
   "execution_count": 23,
   "metadata": {},
   "outputs": [],
   "source": [
    "dist_Company=data_unicornio['Company'].value_counts()\n",
    "dist_country=data_unicornio['Country'].value_counts()\n",
    "dist_city=data_unicornio['City'].value_counts()\n",
    "dist_industry=data_unicornio['Industry'].value_counts()\n",
    "dist_FinancialStage=data_unicornio['Financial Stage'].value_counts()"
   ]
  },
  {
   "cell_type": "code",
   "execution_count": 24,
   "metadata": {},
   "outputs": [
    {
     "data": {
      "image/png": "[encoded data removed]",
      "text/plain": [
       "<Figure size 1200x800 with 5 Axes>"
      ]
     },
     "metadata": {
      "needs_background": "light"
     },
     "output_type": "display_data"
    }
   ],
   "source": [
    "#figura 1\n",
    "fig = plt.figure(dpi=200)\n",
    " #para ajustar los gráficos\n",
    "plt.style.use('seaborn')\n",
    "ax1 = fig.add_subplot(2,3,1)\n",
    "ax1=dist_Company.hist()\n",
    "ax1.set_xlabel('Cantidad')\n",
    "ax1.set_ylabel('Cantidad de casos')\n",
    "ax1.set_title('distribución de las compañias',fontsize=10)\n",
    "\n",
    "\n",
    "ax2 = fig.add_subplot(2,3,2)\n",
    "ax2=dist_country.hist()\n",
    "ax2.set_xlabel('Cantidad')\n",
    "ax2.set_ylabel('Cantidad de casos')\n",
    "ax2.set_title('distribución de las paises',fontsize=10)\n",
    "\n",
    "ax3 = fig.add_subplot(2,3,3)\n",
    "ax3=dist_city.hist()\n",
    "ax3.set_xlabel('Cantidad')\n",
    "ax3.set_ylabel('Cantidad de casos')\n",
    "ax3.set_title('distribución de las ciudades',fontsize=10)\n",
    "\n",
    "ax4 = fig.add_subplot(2,3,4)\n",
    "ax4=dist_industry.hist()\n",
    "ax4.set_xlabel('Cantidad')\n",
    "ax4.set_ylabel('Cantidad de casos')\n",
    "ax4.set_title('distribución de las compañias',fontsize=10)\n",
    "\n",
    "ax5 = fig.add_subplot(2,3,5)\n",
    "ax5=sns.barplot(x=dist_FinancialStage.values,y=dist_FinancialStage.index,palette='husl')\n",
    "ax5.set_xlabel('Cantidad')\n",
    "ax5.set_ylabel('Estado financiero')\n",
    "ax5.set_title('distribución de los estados financieros',fontsize=10)\n",
    "plt.xticks(rotation=90)\n",
    "\n",
    "fig.tight_layout()\n",
    "\n",
    "\n",
    "\n"
   ]
  },
  {
   "cell_type": "markdown",
   "metadata": {},
   "source": [
    "Revisando los distribución de los casos numericos"
   ]
  },
  {
   "cell_type": "code",
   "execution_count": 25,
   "metadata": {},
   "outputs": [
    {
     "data": {
      "image/png": "[encoded data removed]",
      "text/plain": [
       "<Figure size 1600x1100 with 4 Axes>"
      ]
     },
     "metadata": {},
     "output_type": "display_data"
    }
   ],
   "source": [
    "#figura 1\n",
    "fig = plt.figure(dpi=200)\n",
    " #para ajustar los gráficos\n",
    "plt.style.use('seaborn')\n",
    "ax1 = fig.add_subplot(2,3,1)\n",
    "ax1=data_unicornio['Valuation ($B)'].hist()\n",
    "ax1.set_title('Valorización')\n",
    "ax2 = fig.add_subplot(2,3,2)\n",
    "ax2=data_unicornio['Investors Count'].hist()\n",
    "ax2.set_title('Cantidad de inversores')\n",
    "ax3 = fig.add_subplot(2,3,3)\n",
    "ax3=data_unicornio['Deal Terms'].hist()\n",
    "ax3.set_title('Deals Terms')\n",
    "ax4 = fig.add_subplot(2,3,4)\n",
    "ax4=data_unicornio['Portfolio Exits'].hist()\n",
    "ax4.set_title('Portafolio exits')\n",
    "\n",
    "\n",
    "fig.tight_layout()\n"
   ]
  },
  {
   "cell_type": "markdown",
   "metadata": {},
   "source": [
    "Cantidad de unicornios a traves del tiempo"
   ]
  },
  {
   "cell_type": "markdown",
   "metadata": {},
   "source": [
    "Generando el groupby"
   ]
  },
  {
   "cell_type": "code",
   "execution_count": 26,
   "metadata": {},
   "outputs": [
    {
     "data": {
      "text/plain": [
       "Date Joined\n",
       "2007      1\n",
       "2011      2\n",
       "2012      4\n",
       "2013      3\n",
       "2014     13\n",
       "2015     35\n",
       "2016     21\n",
       "2017     44\n",
       "2018    103\n",
       "2019    107\n",
       "2020    107\n",
       "2021    514\n",
       "2022     83\n",
       "Name: Company, dtype: int64"
      ]
     },
     "execution_count": 26,
     "metadata": {},
     "output_type": "execute_result"
    }
   ],
   "source": [
    "Atraves_Años=data_unicornio.groupby([data_unicornio['Date Joined'].dt.year])['Company'].count()\n",
    "Atraves_Años"
   ]
  },
  {
   "cell_type": "code",
   "execution_count": 27,
   "metadata": {},
   "outputs": [
    {
     "data": {
      "text/plain": [
       "<function matplotlib.pyplot.show(close=None, block=None)>"
      ]
     },
     "execution_count": 27,
     "metadata": {},
     "output_type": "execute_result"
    },
    {
     "data": {
      "image/png": "[encoded data removed]",
      "text/plain": [
       "<Figure size 576x396 with 1 Axes>"
      ]
     },
     "metadata": {},
     "output_type": "display_data"
    }
   ],
   "source": [
    "Ax=sns.lineplot(x=Atraves_Años.index,y=Atraves_Años.values,palette='husl')\n",
    "Ax.set_xlabel('Años')\n",
    "Ax.set_ylabel('Camtidad')\n",
    "Ax.set_title('Unicornios a traves de los años',fontsize=15)\n",
    "plt.show"
   ]
  },
  {
   "cell_type": "markdown",
   "metadata": {},
   "source": [
    "Variación por pais y por industria"
   ]
  },
  {
   "cell_type": "code",
   "execution_count": 28,
   "metadata": {},
   "outputs": [],
   "source": [
    "Grouppercountry=data_unicornio.groupby([data_unicornio['Date Joined'].dt.year,'Country'])[['Company']].count().reset_index()\n"
   ]
  },
  {
   "cell_type": "code",
   "execution_count": 29,
   "metadata": {},
   "outputs": [
    {
     "data": {
      "application/vnd.plotly.v1+json": {
       "config": {
        "plotlyServerURL": "https://plot.ly"
       },
       "data": [
        {
         "hovertemplate": "Country=France<br>Date Joined=%{x}<br>Company=%{y}<extra></extra>",
         "legendgroup": "France",
         "line": {
          "color": "#636efa",
          "dash": "solid"
         },
         "marker": {
          "symbol": "circle"
         },
         "mode": "lines",
         "name": "France",
         "orientation": "v",
         "showlegend": true,
         "type": "scatter",
         "x": [
          2007,
          2015,
          2016,
          2018,
          2019,
          2020,
          2021,
          2022
         ],
         "xaxis": "x",
         "y": [
          1,
          1,
          1,
          1,
          3,
          2,
          11,
          4
         ],
         "yaxis": "y"
        },
        {
         "hovertemplate": "Country=Sweden<br>Date Joined=%{x}<br>Company=%{y}<extra></extra>",
         "legendgroup": "Sweden",
         "line": {
          "color": "#EF553B",
          "dash": "solid"
         },
         "marker": {
          "symbol": "circle"
         },
         "mode": "lines",
         "name": "Sweden",
         "orientation": "v",
         "showlegend": true,
         "type": "scatter",
         "x": [
          2011,
          2019,
          2021
         ],
         "xaxis": "x",
         "y": [
          1,
          1,
          4
         ],
         "yaxis": "y"
        },
        {
         "hovertemplate": "Country=United States<br>Date Joined=%{x}<br>Company=%{y}<extra></extra>",
         "legendgroup": "United States",
         "line": {
          "color": "#00cc96",
          "dash": "solid"
         },
         "marker": {
          "symbol": "circle"
         },
         "mode": "lines",
         "name": "United States",
         "orientation": "v",
         "showlegend": true,
         "type": "scatter",
         "x": [
          2011,
          2012,
          2013,
          2014,
          2015,
          2016,
          2017,
          2018,
          2019,
          2020,
          2021,
          2022
         ],
         "xaxis": "x",
         "y": [
          1,
          3,
          3,
          7,
          12,
          3,
          12,
          39,
          46,
          64,
          301,
          45
         ],
         "yaxis": "y"
        },
        {
         "hovertemplate": "Country=Hong Kong<br>Date Joined=%{x}<br>Company=%{y}<extra></extra>",
         "legendgroup": "Hong Kong",
         "line": {
          "color": "#ab63fa",
          "dash": "solid"
         },
         "marker": {
          "symbol": "circle"
         },
         "mode": "lines",
         "name": "Hong Kong",
         "orientation": "v",
         "showlegend": true,
         "type": "scatter",
         "x": [
          2012,
          2017,
          2018,
          2019,
          2021
         ],
         "xaxis": "x",
         "y": [
          1,
          1,
          1,
          1,
          2
         ],
         "yaxis": "y"
        },
        {
         "hovertemplate": "Country=China<br>Date Joined=%{x}<br>Company=%{y}<extra></extra>",
         "legendgroup": "China",
         "line": {
          "color": "#FFA15A",
          "dash": "solid"
         },
         "marker": {
          "symbol": "circle"
         },
         "mode": "lines",
         "name": "China",
         "orientation": "v",
         "showlegend": true,
         "type": "scatter",
         "x": [
          2014,
          2015,
          2016,
          2017,
          2018,
          2019,
          2020,
          2021,
          2022
         ],
         "xaxis": "x",
         "y": [
          2,
          19,
          12,
          19,
          40,
          23,
          12,
          40,
          1
         ],
         "yaxis": "y"
        },
        {
         "hovertemplate": "Country=India<br>Date Joined=%{x}<br>Company=%{y}<extra></extra>",
         "legendgroup": "India",
         "line": {
          "color": "#19d3f3",
          "dash": "solid"
         },
         "marker": {
          "symbol": "circle"
         },
         "mode": "lines",
         "name": "India",
         "orientation": "v",
         "showlegend": true,
         "type": "scatter",
         "x": [
          2014,
          2017,
          2018,
          2019,
          2020,
          2021,
          2022
         ],
         "xaxis": "x",
         "y": [
          3,
          1,
          3,
          6,
          7,
          35,
          8
         ],
         "yaxis": "y"
        },
        {
         "hovertemplate": "Country=South Korea<br>Date Joined=%{x}<br>Company=%{y}<extra></extra>",
         "legendgroup": "South Korea",
         "line": {
          "color": "#FF6692",
          "dash": "solid"
         },
         "marker": {
          "symbol": "circle"
         },
         "mode": "lines",
         "name": "South Korea",
         "orientation": "v",
         "showlegend": true,
         "type": "scatter",
         "x": [
          2014,
          2015,
          2016,
          2018,
          2019,
          2020,
          2021,
          2022
         ],
         "xaxis": "x",
         "y": [
          1,
          1,
          1,
          2,
          3,
          1,
          2,
          1
         ],
         "yaxis": "y"
        },
        {
         "hovertemplate": "Country=Colombia<br>Date Joined=%{x}<br>Company=%{y}<extra></extra>",
         "legendgroup": "Colombia",
         "line": {
          "color": "#B6E880",
          "dash": "solid"
         },
         "marker": {
          "symbol": "circle"
         },
         "mode": "lines",
         "name": "Colombia",
         "orientation": "v",
         "showlegend": true,
         "type": "scatter",
         "x": [
          2015,
          2018
         ],
         "xaxis": "x",
         "y": [
          1,
          1
         ],
         "yaxis": "y"
        },
        {
         "hovertemplate": "Country=United Kingdom<br>Date Joined=%{x}<br>Company=%{y}<extra></extra>",
         "legendgroup": "United Kingdom",
         "line": {
          "color": "#FF97FF",
          "dash": "solid"
         },
         "marker": {
          "symbol": "circle"
         },
         "mode": "lines",
         "name": "United Kingdom",
         "orientation": "v",
         "showlegend": true,
         "type": "scatter",
         "x": [
          2015,
          2016,
          2017,
          2018,
          2019,
          2020,
          2021,
          2022
         ],
         "xaxis": "x",
         "y": [
          1,
          2,
          5,
          4,
          5,
          4,
          16,
          5
         ],
         "yaxis": "y"
        },
        {
         "hovertemplate": "Country=South Africa<br>Date Joined=%{x}<br>Company=%{y}<extra></extra>",
         "legendgroup": "South Africa",
         "line": {
          "color": "#FECB52",
          "dash": "solid"
         },
         "marker": {
          "symbol": "circle"
         },
         "mode": "lines",
         "name": "South Africa",
         "orientation": "v",
         "showlegend": true,
         "type": "scatter",
         "x": [
          2016,
          2017
         ],
         "xaxis": "x",
         "y": [
          1,
          1
         ],
         "yaxis": "y"
        },
        {
         "hovertemplate": "Country=Switzerland<br>Date Joined=%{x}<br>Company=%{y}<extra></extra>",
         "legendgroup": "Switzerland",
         "line": {
          "color": "#636efa",
          "dash": "solid"
         },
         "marker": {
          "symbol": "circle"
         },
         "mode": "lines",
         "name": "Switzerland",
         "orientation": "v",
         "showlegend": true,
         "type": "scatter",
         "x": [
          2016,
          2019,
          2021,
          2022
         ],
         "xaxis": "x",
         "y": [
          1,
          2,
          1,
          1
         ],
         "yaxis": "y"
        },
        {
         "hovertemplate": "Country=Bermuda<br>Date Joined=%{x}<br>Company=%{y}<extra></extra>",
         "legendgroup": "Bermuda",
         "line": {
          "color": "#EF553B",
          "dash": "solid"
         },
         "marker": {
          "symbol": "circle"
         },
         "mode": "lines",
         "name": "Bermuda",
         "orientation": "v",
         "showlegend": true,
         "type": "scatter",
         "x": [
          2017
         ],
         "xaxis": "x",
         "y": [
          1
         ],
         "yaxis": "y"
        },
        {
         "hovertemplate": "Country=Germany<br>Date Joined=%{x}<br>Company=%{y}<extra></extra>",
         "legendgroup": "Germany",
         "line": {
          "color": "#00cc96",
          "dash": "solid"
         },
         "marker": {
          "symbol": "circle"
         },
         "mode": "lines",
         "name": "Germany",
         "orientation": "v",
         "showlegend": true,
         "type": "scatter",
         "x": [
          2017,
          2018,
          2019,
          2021
         ],
         "xaxis": "x",
         "y": [
          1,
          3,
          4,
          16
         ],
         "yaxis": "y"
        },
        {
         "hovertemplate": "Country=Indonesia<br>Date Joined=%{x}<br>Company=%{y}<extra></extra>",
         "legendgroup": "Indonesia",
         "line": {
          "color": "#ab63fa",
          "dash": "solid"
         },
         "marker": {
          "symbol": "circle"
         },
         "mode": "lines",
         "name": "Indonesia",
         "orientation": "v",
         "showlegend": true,
         "type": "scatter",
         "x": [
          2017,
          2019,
          2021,
          2022
         ],
         "xaxis": "x",
         "y": [
          1,
          1,
          4,
          1
         ],
         "yaxis": "y"
        },
        {
         "hovertemplate": "Country=Philippines<br>Date Joined=%{x}<br>Company=%{y}<extra></extra>",
         "legendgroup": "Philippines",
         "line": {
          "color": "#FFA15A",
          "dash": "solid"
         },
         "marker": {
          "symbol": "circle"
         },
         "mode": "lines",
         "name": "Philippines",
         "orientation": "v",
         "showlegend": true,
         "type": "scatter",
         "x": [
          2017,
          2021
         ],
         "xaxis": "x",
         "y": [
          1,
          1
         ],
         "yaxis": "y"
        },
        {
         "hovertemplate": "Country=United Arab Emirates<br>Date Joined=%{x}<br>Company=%{y}<extra></extra>",
         "legendgroup": "United Arab Emirates",
         "line": {
          "color": "#19d3f3",
          "dash": "solid"
         },
         "marker": {
          "symbol": "circle"
         },
         "mode": "lines",
         "name": "United Arab Emirates",
         "orientation": "v",
         "showlegend": true,
         "type": "scatter",
         "x": [
          2017,
          2020,
          2021
         ],
         "xaxis": "x",
         "y": [
          1,
          1,
          1
         ],
         "yaxis": "y"
        },
        {
         "hovertemplate": "Country=Australia<br>Date Joined=%{x}<br>Company=%{y}<extra></extra>",
         "legendgroup": "Australia",
         "line": {
          "color": "#FF6692",
          "dash": "solid"
         },
         "marker": {
          "symbol": "circle"
         },
         "mode": "lines",
         "name": "Australia",
         "orientation": "v",
         "showlegend": true,
         "type": "scatter",
         "x": [
          2018,
          2019,
          2021
         ],
         "xaxis": "x",
         "y": [
          1,
          1,
          4
         ],
         "yaxis": "y"
        },
        {
         "hovertemplate": "Country=Brazil<br>Date Joined=%{x}<br>Company=%{y}<extra></extra>",
         "legendgroup": "Brazil",
         "line": {
          "color": "#B6E880",
          "dash": "solid"
         },
         "marker": {
          "symbol": "circle"
         },
         "mode": "lines",
         "name": "Brazil",
         "orientation": "v",
         "showlegend": true,
         "type": "scatter",
         "x": [
          2018,
          2019,
          2020,
          2021,
          2022
         ],
         "xaxis": "x",
         "y": [
          2,
          4,
          3,
          6,
          1
         ],
         "yaxis": "y"
        },
        {
         "hovertemplate": "Country=Estonia<br>Date Joined=%{x}<br>Company=%{y}<extra></extra>",
         "legendgroup": "Estonia",
         "line": {
          "color": "#FF97FF",
          "dash": "solid"
         },
         "marker": {
          "symbol": "circle"
         },
         "mode": "lines",
         "name": "Estonia",
         "orientation": "v",
         "showlegend": true,
         "type": "scatter",
         "x": [
          2018,
          2022
         ],
         "xaxis": "x",
         "y": [
          1,
          1
         ],
         "yaxis": "y"
        },
        {
         "hovertemplate": "Country=Finland<br>Date Joined=%{x}<br>Company=%{y}<extra></extra>",
         "legendgroup": "Finland",
         "line": {
          "color": "#FECB52",
          "dash": "solid"
         },
         "marker": {
          "symbol": "circle"
         },
         "mode": "lines",
         "name": "Finland",
         "orientation": "v",
         "showlegend": true,
         "type": "scatter",
         "x": [
          2018,
          2021,
          2022
         ],
         "xaxis": "x",
         "y": [
          1,
          1,
          1
         ],
         "yaxis": "y"
        },
        {
         "hovertemplate": "Country=Israel<br>Date Joined=%{x}<br>Company=%{y}<extra></extra>",
         "legendgroup": "Israel",
         "line": {
          "color": "#636efa",
          "dash": "solid"
         },
         "marker": {
          "symbol": "circle"
         },
         "mode": "lines",
         "name": "Israel",
         "orientation": "v",
         "showlegend": true,
         "type": "scatter",
         "x": [
          2018,
          2019,
          2020,
          2021,
          2022
         ],
         "xaxis": "x",
         "y": [
          1,
          1,
          4,
          11,
          3
         ],
         "yaxis": "y"
        },
        {
         "hovertemplate": "Country=Japan<br>Date Joined=%{x}<br>Company=%{y}<extra></extra>",
         "legendgroup": "Japan",
         "line": {
          "color": "#EF553B",
          "dash": "solid"
         },
         "marker": {
          "symbol": "circle"
         },
         "mode": "lines",
         "name": "Japan",
         "orientation": "v",
         "showlegend": true,
         "type": "scatter",
         "x": [
          2018,
          2019,
          2020,
          2021
         ],
         "xaxis": "x",
         "y": [
          1,
          2,
          1,
          2
         ],
         "yaxis": "y"
        },
        {
         "hovertemplate": "Country=Netherlands<br>Date Joined=%{x}<br>Company=%{y}<extra></extra>",
         "legendgroup": "Netherlands",
         "line": {
          "color": "#00cc96",
          "dash": "solid"
         },
         "marker": {
          "symbol": "circle"
         },
         "mode": "lines",
         "name": "Netherlands",
         "orientation": "v",
         "showlegend": true,
         "type": "scatter",
         "x": [
          2018,
          2020,
          2021
         ],
         "xaxis": "x",
         "y": [
          1,
          3,
          2
         ],
         "yaxis": "y"
        },
        {
         "hovertemplate": "Country=Spain<br>Date Joined=%{x}<br>Company=%{y}<extra></extra>",
         "legendgroup": "Spain",
         "line": {
          "color": "#ab63fa",
          "dash": "solid"
         },
         "marker": {
          "symbol": "circle"
         },
         "mode": "lines",
         "name": "Spain",
         "orientation": "v",
         "showlegend": true,
         "type": "scatter",
         "x": [
          2018,
          2021,
          2022
         ],
         "xaxis": "x",
         "y": [
          1,
          1,
          1
         ],
         "yaxis": "y"
        },
        {
         "hovertemplate": "Country=Belgium<br>Date Joined=%{x}<br>Company=%{y}<extra></extra>",
         "legendgroup": "Belgium",
         "line": {
          "color": "#FFA15A",
          "dash": "solid"
         },
         "marker": {
          "symbol": "circle"
         },
         "mode": "lines",
         "name": "Belgium",
         "orientation": "v",
         "showlegend": true,
         "type": "scatter",
         "x": [
          2019,
          2021,
          2022
         ],
         "xaxis": "x",
         "y": [
          1,
          1,
          1
         ],
         "yaxis": "y"
        },
        {
         "hovertemplate": "Country=Lithuania<br>Date Joined=%{x}<br>Company=%{y}<extra></extra>",
         "legendgroup": "Lithuania",
         "line": {
          "color": "#19d3f3",
          "dash": "solid"
         },
         "marker": {
          "symbol": "circle"
         },
         "mode": "lines",
         "name": "Lithuania",
         "orientation": "v",
         "showlegend": true,
         "type": "scatter",
         "x": [
          2019
         ],
         "xaxis": "x",
         "y": [
          1
         ],
         "yaxis": "y"
        },
        {
         "hovertemplate": "Country=Luxembourg<br>Date Joined=%{x}<br>Company=%{y}<extra></extra>",
         "legendgroup": "Luxembourg",
         "line": {
          "color": "#FF6692",
          "dash": "solid"
         },
         "marker": {
          "symbol": "circle"
         },
         "mode": "lines",
         "name": "Luxembourg",
         "orientation": "v",
         "showlegend": true,
         "type": "scatter",
         "x": [
          2019
         ],
         "xaxis": "x",
         "y": [
          1
         ],
         "yaxis": "y"
        },
        {
         "hovertemplate": "Country=Singapore<br>Date Joined=%{x}<br>Company=%{y}<extra></extra>",
         "legendgroup": "Singapore",
         "line": {
          "color": "#B6E880",
          "dash": "solid"
         },
         "marker": {
          "symbol": "circle"
         },
         "mode": "lines",
         "name": "Singapore",
         "orientation": "v",
         "showlegend": true,
         "type": "scatter",
         "x": [
          2019,
          2020,
          2021
         ],
         "xaxis": "x",
         "y": [
          1,
          1,
          10
         ],
         "yaxis": "y"
        },
        {
         "hovertemplate": "Country=Canada<br>Date Joined=%{x}<br>Company=%{y}<extra></extra>",
         "legendgroup": "Canada",
         "line": {
          "color": "#FF97FF",
          "dash": "solid"
         },
         "marker": {
          "symbol": "circle"
         },
         "mode": "lines",
         "name": "Canada",
         "orientation": "v",
         "showlegend": true,
         "type": "scatter",
         "x": [
          2020,
          2021,
          2022
         ],
         "xaxis": "x",
         "y": [
          1,
          15,
          3
         ],
         "yaxis": "y"
        },
        {
         "hovertemplate": "Country=Croatia<br>Date Joined=%{x}<br>Company=%{y}<extra></extra>",
         "legendgroup": "Croatia",
         "line": {
          "color": "#FECB52",
          "dash": "solid"
         },
         "marker": {
          "symbol": "circle"
         },
         "mode": "lines",
         "name": "Croatia",
         "orientation": "v",
         "showlegend": true,
         "type": "scatter",
         "x": [
          2020
         ],
         "xaxis": "x",
         "y": [
          1
         ],
         "yaxis": "y"
        },
        {
         "hovertemplate": "Country=Ireland<br>Date Joined=%{x}<br>Company=%{y}<extra></extra>",
         "legendgroup": "Ireland",
         "line": {
          "color": "#636efa",
          "dash": "solid"
         },
         "marker": {
          "symbol": "circle"
         },
         "mode": "lines",
         "name": "Ireland",
         "orientation": "v",
         "showlegend": true,
         "type": "scatter",
         "x": [
          2020,
          2021,
          2022
         ],
         "xaxis": "x",
         "y": [
          1,
          2,
          2
         ],
         "yaxis": "y"
        },
        {
         "hovertemplate": "Country=Mexico<br>Date Joined=%{x}<br>Company=%{y}<extra></extra>",
         "legendgroup": "Mexico",
         "line": {
          "color": "#EF553B",
          "dash": "solid"
         },
         "marker": {
          "symbol": "circle"
         },
         "mode": "lines",
         "name": "Mexico",
         "orientation": "v",
         "showlegend": true,
         "type": "scatter",
         "x": [
          2020,
          2021
         ],
         "xaxis": "x",
         "y": [
          1,
          5
         ],
         "yaxis": "y"
        },
        {
         "hovertemplate": "Country=Argentina<br>Date Joined=%{x}<br>Company=%{y}<extra></extra>",
         "legendgroup": "Argentina",
         "line": {
          "color": "#00cc96",
          "dash": "solid"
         },
         "marker": {
          "symbol": "circle"
         },
         "mode": "lines",
         "name": "Argentina",
         "orientation": "v",
         "showlegend": true,
         "type": "scatter",
         "x": [
          2021
         ],
         "xaxis": "x",
         "y": [
          1
         ],
         "yaxis": "y"
        },
        {
         "hovertemplate": "Country=Austria<br>Date Joined=%{x}<br>Company=%{y}<extra></extra>",
         "legendgroup": "Austria",
         "line": {
          "color": "#ab63fa",
          "dash": "solid"
         },
         "marker": {
          "symbol": "circle"
         },
         "mode": "lines",
         "name": "Austria",
         "orientation": "v",
         "showlegend": true,
         "type": "scatter",
         "x": [
          2021
         ],
         "xaxis": "x",
         "y": [
          2
         ],
         "yaxis": "y"
        },
        {
         "hovertemplate": "Country=Bahamas<br>Date Joined=%{x}<br>Company=%{y}<extra></extra>",
         "legendgroup": "Bahamas",
         "line": {
          "color": "#FFA15A",
          "dash": "solid"
         },
         "marker": {
          "symbol": "circle"
         },
         "mode": "lines",
         "name": "Bahamas",
         "orientation": "v",
         "showlegend": true,
         "type": "scatter",
         "x": [
          2021
         ],
         "xaxis": "x",
         "y": [
          1
         ],
         "yaxis": "y"
        },
        {
         "hovertemplate": "Country=Chile<br>Date Joined=%{x}<br>Company=%{y}<extra></extra>",
         "legendgroup": "Chile",
         "line": {
          "color": "#19d3f3",
          "dash": "solid"
         },
         "marker": {
          "symbol": "circle"
         },
         "mode": "lines",
         "name": "Chile",
         "orientation": "v",
         "showlegend": true,
         "type": "scatter",
         "x": [
          2021,
          2022
         ],
         "xaxis": "x",
         "y": [
          1,
          1
         ],
         "yaxis": "y"
        },
        {
         "hovertemplate": "Country=Czech Republic<br>Date Joined=%{x}<br>Company=%{y}<extra></extra>",
         "legendgroup": "Czech Republic",
         "line": {
          "color": "#FF6692",
          "dash": "solid"
         },
         "marker": {
          "symbol": "circle"
         },
         "mode": "lines",
         "name": "Czech Republic",
         "orientation": "v",
         "showlegend": true,
         "type": "scatter",
         "x": [
          2021
         ],
         "xaxis": "x",
         "y": [
          1
         ],
         "yaxis": "y"
        },
        {
         "hovertemplate": "Country=Denmark<br>Date Joined=%{x}<br>Company=%{y}<extra></extra>",
         "legendgroup": "Denmark",
         "line": {
          "color": "#B6E880",
          "dash": "solid"
         },
         "marker": {
          "symbol": "circle"
         },
         "mode": "lines",
         "name": "Denmark",
         "orientation": "v",
         "showlegend": true,
         "type": "scatter",
         "x": [
          2021
         ],
         "xaxis": "x",
         "y": [
          2
         ],
         "yaxis": "y"
        },
        {
         "hovertemplate": "Country=Malaysia<br>Date Joined=%{x}<br>Company=%{y}<extra></extra>",
         "legendgroup": "Malaysia",
         "line": {
          "color": "#FF97FF",
          "dash": "solid"
         },
         "marker": {
          "symbol": "circle"
         },
         "mode": "lines",
         "name": "Malaysia",
         "orientation": "v",
         "showlegend": true,
         "type": "scatter",
         "x": [
          2021
         ],
         "xaxis": "x",
         "y": [
          1
         ],
         "yaxis": "y"
        },
        {
         "hovertemplate": "Country=Nigeria<br>Date Joined=%{x}<br>Company=%{y}<extra></extra>",
         "legendgroup": "Nigeria",
         "line": {
          "color": "#FECB52",
          "dash": "solid"
         },
         "marker": {
          "symbol": "circle"
         },
         "mode": "lines",
         "name": "Nigeria",
         "orientation": "v",
         "showlegend": true,
         "type": "scatter",
         "x": [
          2021
         ],
         "xaxis": "x",
         "y": [
          1
         ],
         "yaxis": "y"
        },
        {
         "hovertemplate": "Country=Norway<br>Date Joined=%{x}<br>Company=%{y}<extra></extra>",
         "legendgroup": "Norway",
         "line": {
          "color": "#636efa",
          "dash": "solid"
         },
         "marker": {
          "symbol": "circle"
         },
         "mode": "lines",
         "name": "Norway",
         "orientation": "v",
         "showlegend": true,
         "type": "scatter",
         "x": [
          2021,
          2022
         ],
         "xaxis": "x",
         "y": [
          3,
          1
         ],
         "yaxis": "y"
        },
        {
         "hovertemplate": "Country=Senegal<br>Date Joined=%{x}<br>Company=%{y}<extra></extra>",
         "legendgroup": "Senegal",
         "line": {
          "color": "#EF553B",
          "dash": "solid"
         },
         "marker": {
          "symbol": "circle"
         },
         "mode": "lines",
         "name": "Senegal",
         "orientation": "v",
         "showlegend": true,
         "type": "scatter",
         "x": [
          2021
         ],
         "xaxis": "x",
         "y": [
          1
         ],
         "yaxis": "y"
        },
        {
         "hovertemplate": "Country=Thailand<br>Date Joined=%{x}<br>Company=%{y}<extra></extra>",
         "legendgroup": "Thailand",
         "line": {
          "color": "#00cc96",
          "dash": "solid"
         },
         "marker": {
          "symbol": "circle"
         },
         "mode": "lines",
         "name": "Thailand",
         "orientation": "v",
         "showlegend": true,
         "type": "scatter",
         "x": [
          2021
         ],
         "xaxis": "x",
         "y": [
          2
         ],
         "yaxis": "y"
        },
        {
         "hovertemplate": "Country=Turkey<br>Date Joined=%{x}<br>Company=%{y}<extra></extra>",
         "legendgroup": "Turkey",
         "line": {
          "color": "#ab63fa",
          "dash": "solid"
         },
         "marker": {
          "symbol": "circle"
         },
         "mode": "lines",
         "name": "Turkey",
         "orientation": "v",
         "showlegend": true,
         "type": "scatter",
         "x": [
          2021,
          2022
         ],
         "xaxis": "x",
         "y": [
          2,
          1
         ],
         "yaxis": "y"
        },
        {
         "hovertemplate": "Country=Vietnam<br>Date Joined=%{x}<br>Company=%{y}<extra></extra>",
         "legendgroup": "Vietnam",
         "line": {
          "color": "#FFA15A",
          "dash": "solid"
         },
         "marker": {
          "symbol": "circle"
         },
         "mode": "lines",
         "name": "Vietnam",
         "orientation": "v",
         "showlegend": true,
         "type": "scatter",
         "x": [
          2021
         ],
         "xaxis": "x",
         "y": [
          2
         ],
         "yaxis": "y"
        },
        {
         "hovertemplate": "Country=Italy<br>Date Joined=%{x}<br>Company=%{y}<extra></extra>",
         "legendgroup": "Italy",
         "line": {
          "color": "#19d3f3",
          "dash": "solid"
         },
         "marker": {
          "symbol": "circle"
         },
         "mode": "lines",
         "name": "Italy",
         "orientation": "v",
         "showlegend": true,
         "type": "scatter",
         "x": [
          2022
         ],
         "xaxis": "x",
         "y": [
          1
         ],
         "yaxis": "y"
        }
       ],
       "layout": {
        "legend": {
         "title": {
          "text": "Country"
         },
         "tracegroupgap": 0
        },
        "margin": {
         "t": 60
        },
        "showlegend": true,
        "template": {
         "data": {
          "bar": [
           {
            "error_x": {
             "color": "#2a3f5f"
            },
            "error_y": {
             "color": "#2a3f5f"
            },
            "marker": {
             "line": {
              "color": "#E5ECF6",
              "width": 0.5
             },
             "pattern": {
              "fillmode": "overlay",
              "size": 10,
              "solidity": 0.2
             }
            },
            "type": "bar"
           }
          ],
          "barpolar": [
           {
            "marker": {
             "line": {
              "color": "#E5ECF6",
              "width": 0.5
             },
             "pattern": {
              "fillmode": "overlay",
              "size": 10,
              "solidity": 0.2
             }
            },
            "type": "barpolar"
           }
          ],
          "carpet": [
           {
            "aaxis": {
             "endlinecolor": "#2a3f5f",
             "gridcolor": "white",
             "linecolor": "white",
             "minorgridcolor": "white",
             "startlinecolor": "#2a3f5f"
            },
            "baxis": {
             "endlinecolor": "#2a3f5f",
             "gridcolor": "white",
             "linecolor": "white",
             "minorgridcolor": "white",
             "startlinecolor": "#2a3f5f"
            },
            "type": "carpet"
           }
          ],
          "choropleth": [
           {
            "colorbar": {
             "outlinewidth": 0,
             "ticks": ""
            },
            "type": "choropleth"
           }
          ],
          "contour": [
           {
            "colorbar": {
             "outlinewidth": 0,
             "ticks": ""
            },
            "colorscale": [
             [
              0,
              "#0d0887"
             ],
             [
              0.1111111111111111,
              "#46039f"
             ],
             [
              0.2222222222222222,
              "#7201a8"
             ],
             [
              0.3333333333333333,
              "#9c179e"
             ],
             [
              0.4444444444444444,
              "#bd3786"
             ],
             [
              0.5555555555555556,
              "#d8576b"
             ],
             [
              0.6666666666666666,
              "#ed7953"
             ],
             [
              0.7777777777777778,
              "#fb9f3a"
             ],
             [
              0.8888888888888888,
              "#fdca26"
             ],
             [
              1,
              "#f0f921"
             ]
            ],
            "type": "contour"
           }
          ],
          "contourcarpet": [
           {
            "colorbar": {
             "outlinewidth": 0,
             "ticks": ""
            },
            "type": "contourcarpet"
           }
          ],
          "heatmap": [
           {
            "colorbar": {
             "outlinewidth": 0,
             "ticks": ""
            },
            "colorscale": [
             [
              0,
              "#0d0887"
             ],
             [
              0.1111111111111111,
              "#46039f"
             ],
             [
              0.2222222222222222,
              "#7201a8"
             ],
             [
              0.3333333333333333,
              "#9c179e"
             ],
             [
              0.4444444444444444,
              "#bd3786"
             ],
             [
              0.5555555555555556,
              "#d8576b"
             ],
             [
              0.6666666666666666,
              "#ed7953"
             ],
             [
              0.7777777777777778,
              "#fb9f3a"
             ],
             [
              0.8888888888888888,
              "#fdca26"
             ],
             [
              1,
              "#f0f921"
             ]
            ],
            "type": "heatmap"
           }
          ],
          "heatmapgl": [
           {
            "colorbar": {
             "outlinewidth": 0,
             "ticks": ""
            },
            "colorscale": [
             [
              0,
              "#0d0887"
             ],
             [
              0.1111111111111111,
              "#46039f"
             ],
             [
              0.2222222222222222,
              "#7201a8"
             ],
             [
              0.3333333333333333,
              "#9c179e"
             ],
             [
              0.4444444444444444,
              "#bd3786"
             ],
             [
              0.5555555555555556,
              "#d8576b"
             ],
             [
              0.6666666666666666,
              "#ed7953"
             ],
             [
              0.7777777777777778,
              "#fb9f3a"
             ],
             [
              0.8888888888888888,
              "#fdca26"
             ],
             [
              1,
              "#f0f921"
             ]
            ],
            "type": "heatmapgl"
           }
          ],
          "histogram": [
           {
            "marker": {
             "pattern": {
              "fillmode": "overlay",
              "size": 10,
              "solidity": 0.2
             }
            },
            "type": "histogram"
           }
          ],
          "histogram2d": [
           {
            "colorbar": {
             "outlinewidth": 0,
             "ticks": ""
            },
            "colorscale": [
             [
              0,
              "#0d0887"
             ],
             [
              0.1111111111111111,
              "#46039f"
             ],
             [
              0.2222222222222222,
              "#7201a8"
             ],
             [
              0.3333333333333333,
              "#9c179e"
             ],
             [
              0.4444444444444444,
              "#bd3786"
             ],
             [
              0.5555555555555556,
              "#d8576b"
             ],
             [
              0.6666666666666666,
              "#ed7953"
             ],
             [
              0.7777777777777778,
              "#fb9f3a"
             ],
             [
              0.8888888888888888,
              "#fdca26"
             ],
             [
              1,
              "#f0f921"
             ]
            ],
            "type": "histogram2d"
           }
          ],
          "histogram2dcontour": [
           {
            "colorbar": {
             "outlinewidth": 0,
             "ticks": ""
            },
            "colorscale": [
             [
              0,
              "#0d0887"
             ],
             [
              0.1111111111111111,
              "#46039f"
             ],
             [
              0.2222222222222222,
              "#7201a8"
             ],
             [
              0.3333333333333333,
              "#9c179e"
             ],
             [
              0.4444444444444444,
              "#bd3786"
             ],
             [
              0.5555555555555556,
              "#d8576b"
             ],
             [
              0.6666666666666666,
              "#ed7953"
             ],
             [
              0.7777777777777778,
              "#fb9f3a"
             ],
             [
              0.8888888888888888,
              "#fdca26"
             ],
             [
              1,
              "#f0f921"
             ]
            ],
            "type": "histogram2dcontour"
           }
          ],
          "mesh3d": [
           {
            "colorbar": {
             "outlinewidth": 0,
             "ticks": ""
            },
            "type": "mesh3d"
           }
          ],
          "parcoords": [
           {
            "line": {
             "colorbar": {
              "outlinewidth": 0,
              "ticks": ""
             }
            },
            "type": "parcoords"
           }
          ],
          "pie": [
           {
            "automargin": true,
            "type": "pie"
           }
          ],
          "scatter": [
           {
            "fillpattern": {
             "fillmode": "overlay",
             "size": 10,
             "solidity": 0.2
            },
            "type": "scatter"
           }
          ],
          "scatter3d": [
           {
            "line": {
             "colorbar": {
              "outlinewidth": 0,
              "ticks": ""
             }
            },
            "marker": {
             "colorbar": {
              "outlinewidth": 0,
              "ticks": ""
             }
            },
            "type": "scatter3d"
           }
          ],
          "scattercarpet": [
           {
            "marker": {
             "colorbar": {
              "outlinewidth": 0,
              "ticks": ""
             }
            },
            "type": "scattercarpet"
           }
          ],
          "scattergeo": [
           {
            "marker": {
             "colorbar": {
              "outlinewidth": 0,
              "ticks": ""
             }
            },
            "type": "scattergeo"
           }
          ],
          "scattergl": [
           {
            "marker": {
             "colorbar": {
              "outlinewidth": 0,
              "ticks": ""
             }
            },
            "type": "scattergl"
           }
          ],
          "scattermapbox": [
           {
            "marker": {
             "colorbar": {
              "outlinewidth": 0,
              "ticks": ""
             }
            },
            "type": "scattermapbox"
           }
          ],
          "scatterpolar": [
           {
            "marker": {
             "colorbar": {
              "outlinewidth": 0,
              "ticks": ""
             }
            },
            "type": "scatterpolar"
           }
          ],
          "scatterpolargl": [
           {
            "marker": {
             "colorbar": {
              "outlinewidth": 0,
              "ticks": ""
             }
            },
            "type": "scatterpolargl"
           }
          ],
          "scatterternary": [
           {
            "marker": {
             "colorbar": {
              "outlinewidth": 0,
              "ticks": ""
             }
            },
            "type": "scatterternary"
           }
          ],
          "surface": [
           {
            "colorbar": {
             "outlinewidth": 0,
             "ticks": ""
            },
            "colorscale": [
             [
              0,
              "#0d0887"
             ],
             [
              0.1111111111111111,
              "#46039f"
             ],
             [
              0.2222222222222222,
              "#7201a8"
             ],
             [
              0.3333333333333333,
              "#9c179e"
             ],
             [
              0.4444444444444444,
              "#bd3786"
             ],
             [
              0.5555555555555556,
              "#d8576b"
             ],
             [
              0.6666666666666666,
              "#ed7953"
             ],
             [
              0.7777777777777778,
              "#fb9f3a"
             ],
             [
              0.8888888888888888,
              "#fdca26"
             ],
             [
              1,
              "#f0f921"
             ]
            ],
            "type": "surface"
           }
          ],
          "table": [
           {
            "cells": {
             "fill": {
              "color": "#EBF0F8"
             },
             "line": {
              "color": "white"
             }
            },
            "header": {
             "fill": {
              "color": "#C8D4E3"
             },
             "line": {
              "color": "white"
             }
            },
            "type": "table"
           }
          ]
         },
         "layout": {
          "annotationdefaults": {
           "arrowcolor": "#2a3f5f",
           "arrowhead": 0,
           "arrowwidth": 1
          },
          "autotypenumbers": "strict",
          "coloraxis": {
           "colorbar": {
            "outlinewidth": 0,
            "ticks": ""
           }
          },
          "colorscale": {
           "diverging": [
            [
             0,
             "#8e0152"
            ],
            [
             0.1,
             "#c51b7d"
            ],
            [
             0.2,
             "#de77ae"
            ],
            [
             0.3,
             "#f1b6da"
            ],
            [
             0.4,
             "#fde0ef"
            ],
            [
             0.5,
             "#f7f7f7"
            ],
            [
             0.6,
             "#e6f5d0"
            ],
            [
             0.7,
             "#b8e186"
            ],
            [
             0.8,
             "#7fbc41"
            ],
            [
             0.9,
             "#4d9221"
            ],
            [
             1,
             "#276419"
            ]
           ],
           "sequential": [
            [
             0,
             "#0d0887"
            ],
            [
             0.1111111111111111,
             "#46039f"
            ],
            [
             0.2222222222222222,
             "#7201a8"
            ],
            [
             0.3333333333333333,
             "#9c179e"
            ],
            [
             0.4444444444444444,
             "#bd3786"
            ],
            [
             0.5555555555555556,
             "#d8576b"
            ],
            [
             0.6666666666666666,
             "#ed7953"
            ],
            [
             0.7777777777777778,
             "#fb9f3a"
            ],
            [
             0.8888888888888888,
             "#fdca26"
            ],
            [
             1,
             "#f0f921"
            ]
           ],
           "sequentialminus": [
            [
             0,
             "#0d0887"
            ],
            [
             0.1111111111111111,
             "#46039f"
            ],
            [
             0.2222222222222222,
             "#7201a8"
            ],
            [
             0.3333333333333333,
             "#9c179e"
            ],
            [
             0.4444444444444444,
             "#bd3786"
            ],
            [
             0.5555555555555556,
             "#d8576b"
            ],
            [
             0.6666666666666666,
             "#ed7953"
            ],
            [
             0.7777777777777778,
             "#fb9f3a"
            ],
            [
             0.8888888888888888,
             "#fdca26"
            ],
            [
             1,
             "#f0f921"
            ]
           ]
          },
          "colorway": [
           "#636efa",
           "#EF553B",
           "#00cc96",
           "#ab63fa",
           "#FFA15A",
           "#19d3f3",
           "#FF6692",
           "#B6E880",
           "#FF97FF",
           "#FECB52"
          ],
          "font": {
           "color": "#2a3f5f"
          },
          "geo": {
           "bgcolor": "white",
           "lakecolor": "white",
           "landcolor": "#E5ECF6",
           "showlakes": true,
           "showland": true,
           "subunitcolor": "white"
          },
          "hoverlabel": {
           "align": "left"
          },
          "hovermode": "closest",
          "mapbox": {
           "style": "light"
          },
          "paper_bgcolor": "white",
          "plot_bgcolor": "#E5ECF6",
          "polar": {
           "angularaxis": {
            "gridcolor": "white",
            "linecolor": "white",
            "ticks": ""
           },
           "bgcolor": "#E5ECF6",
           "radialaxis": {
            "gridcolor": "white",
            "linecolor": "white",
            "ticks": ""
           }
          },
          "scene": {
           "xaxis": {
            "backgroundcolor": "#E5ECF6",
            "gridcolor": "white",
            "gridwidth": 2,
            "linecolor": "white",
            "showbackground": true,
            "ticks": "",
            "zerolinecolor": "white"
           },
           "yaxis": {
            "backgroundcolor": "#E5ECF6",
            "gridcolor": "white",
            "gridwidth": 2,
            "linecolor": "white",
            "showbackground": true,
            "ticks": "",
            "zerolinecolor": "white"
           },
           "zaxis": {
            "backgroundcolor": "#E5ECF6",
            "gridcolor": "white",
            "gridwidth": 2,
            "linecolor": "white",
            "showbackground": true,
            "ticks": "",
            "zerolinecolor": "white"
           }
          },
          "shapedefaults": {
           "line": {
            "color": "#2a3f5f"
           }
          },
          "ternary": {
           "aaxis": {
            "gridcolor": "white",
            "linecolor": "white",
            "ticks": ""
           },
           "baxis": {
            "gridcolor": "white",
            "linecolor": "white",
            "ticks": ""
           },
           "bgcolor": "#E5ECF6",
           "caxis": {
            "gridcolor": "white",
            "linecolor": "white",
            "ticks": ""
           }
          },
          "title": {
           "x": 0.05
          },
          "xaxis": {
           "automargin": true,
           "gridcolor": "white",
           "linecolor": "white",
           "ticks": "",
           "title": {
            "standoff": 15
           },
           "zerolinecolor": "white",
           "zerolinewidth": 2
          },
          "yaxis": {
           "automargin": true,
           "gridcolor": "white",
           "linecolor": "white",
           "ticks": "",
           "title": {
            "standoff": 15
           },
           "zerolinecolor": "white",
           "zerolinewidth": 2
          }
         }
        },
        "title": {
         "text": "Variación de compañias a traves de los años por país"
        },
        "xaxis": {
         "anchor": "y",
         "domain": [
          0,
          1
         ],
         "title": {
          "text": "Date Joined"
         }
        },
        "yaxis": {
         "anchor": "x",
         "domain": [
          0,
          1
         ],
         "title": {
          "text": "Company"
         }
        }
       }
      }
     },
     "metadata": {},
     "output_type": "display_data"
    }
   ],
   "source": [
    "fig = px.line(Grouppercountry,\n",
    "                 x='Date Joined',\n",
    "                 y='Company',\n",
    "                 color='Country',\n",
    "                 labels=dict(x=\"Años\", y=\"cantidades\")\n",
    "                )\n",
    "fig.update_layout(showlegend=True,title_text='Variación de compañias a traves de los años por país')\n",
    "fig.show()"
   ]
  },
  {
   "cell_type": "markdown",
   "metadata": {},
   "source": [
    "Ahora por industria"
   ]
  },
  {
   "cell_type": "code",
   "execution_count": 30,
   "metadata": {},
   "outputs": [],
   "source": [
    "Groupperindustry=data_unicornio.groupby([data_unicornio['Date Joined'].dt.year,'Industry'])[['Company']].count().reset_index()"
   ]
  },
  {
   "cell_type": "code",
   "execution_count": 31,
   "metadata": {},
   "outputs": [
    {
     "data": {
      "application/vnd.plotly.v1+json": {
       "config": {
        "plotlyServerURL": "https://plot.ly"
       },
       "data": [
        {
         "hovertemplate": "Industry=E-commerce & direct-to-consumer<br>Date Joined=%{x}<br>Company=%{y}<extra></extra>",
         "legendgroup": "E-commerce & direct-to-consumer",
         "line": {
          "color": "#636efa",
          "dash": "solid"
         },
         "marker": {
          "symbol": "circle"
         },
         "mode": "lines",
         "name": "E-commerce & direct-to-consumer",
         "orientation": "v",
         "showlegend": true,
         "type": "scatter",
         "x": [
          2007,
          2012,
          2014,
          2015,
          2016,
          2017,
          2018,
          2019,
          2020,
          2021,
          2022
         ],
         "xaxis": "x",
         "y": [
          1,
          1,
          4,
          9,
          6,
          4,
          4,
          12,
          16,
          43,
          7
         ],
         "yaxis": "y"
        },
        {
         "hovertemplate": "Industry=Fintech<br>Date Joined=%{x}<br>Company=%{y}<extra></extra>",
         "legendgroup": "Fintech",
         "line": {
          "color": "#EF553B",
          "dash": "solid"
         },
         "marker": {
          "symbol": "circle"
         },
         "mode": "lines",
         "name": "Fintech",
         "orientation": "v",
         "showlegend": true,
         "type": "scatter",
         "x": [
          2011,
          2014,
          2015,
          2017,
          2018,
          2019,
          2020,
          2021,
          2022
         ],
         "xaxis": "x",
         "y": [
          1,
          1,
          2,
          5,
          10,
          22,
          15,
          130,
          19
         ],
         "yaxis": "y"
        },
        {
         "hovertemplate": "Industry=Internet software & services<br>Date Joined=%{x}<br>Company=%{y}<extra></extra>",
         "legendgroup": "Internet software & services",
         "line": {
          "color": "#00cc96",
          "dash": "solid"
         },
         "marker": {
          "symbol": "circle"
         },
         "mode": "lines",
         "name": "Internet software & services",
         "orientation": "v",
         "showlegend": true,
         "type": "scatter",
         "x": [
          2011,
          2013,
          2015,
          2016,
          2017,
          2018,
          2019,
          2020,
          2021,
          2022
         ],
         "xaxis": "x",
         "y": [
          1,
          1,
          4,
          1,
          4,
          14,
          13,
          19,
          116,
          19
         ],
         "yaxis": "y"
        },
        {
         "hovertemplate": "Industry=Artificial intelligence<br>Date Joined=%{x}<br>Company=%{y}<extra></extra>",
         "legendgroup": "Artificial intelligence",
         "line": {
          "color": "#ab63fa",
          "dash": "solid"
         },
         "marker": {
          "symbol": "circle"
         },
         "mode": "lines",
         "name": "Artificial intelligence",
         "orientation": "v",
         "showlegend": true,
         "type": "scatter",
         "x": [
          2012,
          2015,
          2016,
          2017,
          2018,
          2019,
          2020,
          2021,
          2022
         ],
         "xaxis": "x",
         "y": [
          1,
          2,
          1,
          4,
          13,
          13,
          3,
          28,
          6
         ],
         "yaxis": "y"
        },
        {
         "hovertemplate": "Industry=Consumer & retail<br>Date Joined=%{x}<br>Company=%{y}<extra></extra>",
         "legendgroup": "Consumer & retail",
         "line": {
          "color": "#FFA15A",
          "dash": "solid"
         },
         "marker": {
          "symbol": "circle"
         },
         "mode": "lines",
         "name": "Consumer & retail",
         "orientation": "v",
         "showlegend": true,
         "type": "scatter",
         "x": [
          2012,
          2016,
          2017,
          2018,
          2019,
          2020,
          2021
         ],
         "xaxis": "x",
         "y": [
          1,
          3,
          4,
          6,
          3,
          1,
          7
         ],
         "yaxis": "y"
        },
        {
         "hovertemplate": "Industry=Other<br>Date Joined=%{x}<br>Company=%{y}<extra></extra>",
         "legendgroup": "Other",
         "line": {
          "color": "#19d3f3",
          "dash": "solid"
         },
         "marker": {
          "symbol": "circle"
         },
         "mode": "lines",
         "name": "Other",
         "orientation": "v",
         "showlegend": true,
         "type": "scatter",
         "x": [
          2012,
          2015,
          2016,
          2017,
          2018,
          2019,
          2020,
          2021,
          2022
         ],
         "xaxis": "x",
         "y": [
          1,
          2,
          2,
          4,
          3,
          9,
          11,
          21,
          3
         ],
         "yaxis": "y"
        },
        {
         "hovertemplate": "Industry=Cybersecurity<br>Date Joined=%{x}<br>Company=%{y}<extra></extra>",
         "legendgroup": "Cybersecurity",
         "line": {
          "color": "#FF6692",
          "dash": "solid"
         },
         "marker": {
          "symbol": "circle"
         },
         "mode": "lines",
         "name": "Cybersecurity",
         "orientation": "v",
         "showlegend": true,
         "type": "scatter",
         "x": [
          2013,
          2015,
          2018,
          2019,
          2020,
          2021,
          2022
         ],
         "xaxis": "x",
         "y": [
          1,
          2,
          1,
          4,
          7,
          27,
          7
         ],
         "yaxis": "y"
        },
        {
         "hovertemplate": "Industry=Data management & analytics<br>Date Joined=%{x}<br>Company=%{y}<extra></extra>",
         "legendgroup": "Data management & analytics",
         "line": {
          "color": "#B6E880",
          "dash": "solid"
         },
         "marker": {
          "symbol": "circle"
         },
         "mode": "lines",
         "name": "Data management & analytics",
         "orientation": "v",
         "showlegend": true,
         "type": "scatter",
         "x": [
          2013,
          2017,
          2018,
          2019,
          2020,
          2021,
          2022
         ],
         "xaxis": "x",
         "y": [
          1,
          2,
          3,
          4,
          6,
          21,
          4
         ],
         "yaxis": "y"
        },
        {
         "hovertemplate": "Industry=Auto & transportation<br>Date Joined=%{x}<br>Company=%{y}<extra></extra>",
         "legendgroup": "Auto & transportation",
         "line": {
          "color": "#FF97FF",
          "dash": "solid"
         },
         "marker": {
          "symbol": "circle"
         },
         "mode": "lines",
         "name": "Auto & transportation",
         "orientation": "v",
         "showlegend": true,
         "type": "scatter",
         "x": [
          2014,
          2015,
          2016,
          2018,
          2019,
          2020,
          2021
         ],
         "xaxis": "x",
         "y": [
          1,
          1,
          1,
          11,
          6,
          5,
          4
         ],
         "yaxis": "y"
        },
        {
         "hovertemplate": "Industry=Hardware<br>Date Joined=%{x}<br>Company=%{y}<extra></extra>",
         "legendgroup": "Hardware",
         "line": {
          "color": "#FECB52",
          "dash": "solid"
         },
         "marker": {
          "symbol": "circle"
         },
         "mode": "lines",
         "name": "Hardware",
         "orientation": "v",
         "showlegend": true,
         "type": "scatter",
         "x": [
          2014,
          2015,
          2016,
          2018,
          2020,
          2021,
          2022
         ],
         "xaxis": "x",
         "y": [
          2,
          4,
          2,
          9,
          1,
          14,
          1
         ],
         "yaxis": "y"
        },
        {
         "hovertemplate": "Industry=Health<br>Date Joined=%{x}<br>Company=%{y}<extra></extra>",
         "legendgroup": "Health",
         "line": {
          "color": "#636efa",
          "dash": "solid"
         },
         "marker": {
          "symbol": "circle"
         },
         "mode": "lines",
         "name": "Health",
         "orientation": "v",
         "showlegend": true,
         "type": "scatter",
         "x": [
          2014,
          2015,
          2016,
          2017,
          2018,
          2019,
          2020,
          2021,
          2022
         ],
         "xaxis": "x",
         "y": [
          1,
          2,
          1,
          4,
          6,
          4,
          9,
          37,
          5
         ],
         "yaxis": "y"
        },
        {
         "hovertemplate": "Industry=Mobile & telecommunications<br>Date Joined=%{x}<br>Company=%{y}<extra></extra>",
         "legendgroup": "Mobile & telecommunications",
         "line": {
          "color": "#EF553B",
          "dash": "solid"
         },
         "marker": {
          "symbol": "circle"
         },
         "mode": "lines",
         "name": "Mobile & telecommunications",
         "orientation": "v",
         "showlegend": true,
         "type": "scatter",
         "x": [
          2014,
          2015,
          2016,
          2017,
          2018,
          2019,
          2020,
          2021,
          2022
         ],
         "xaxis": "x",
         "y": [
          3,
          4,
          1,
          5,
          6,
          4,
          7,
          6,
          1
         ],
         "yaxis": "y"
        },
        {
         "hovertemplate": "Industry=Supply chain, logistics, & delivery<br>Date Joined=%{x}<br>Company=%{y}<extra></extra>",
         "legendgroup": "Supply chain, logistics, & delivery",
         "line": {
          "color": "#00cc96",
          "dash": "solid"
         },
         "marker": {
          "symbol": "circle"
         },
         "mode": "lines",
         "name": "Supply chain, logistics, & delivery",
         "orientation": "v",
         "showlegend": true,
         "type": "scatter",
         "x": [
          2014,
          2016,
          2017,
          2018,
          2019,
          2020,
          2021,
          2022
         ],
         "xaxis": "x",
         "y": [
          1,
          1,
          1,
          11,
          8,
          2,
          25,
          8
         ],
         "yaxis": "y"
        },
        {
         "hovertemplate": "Industry=Edtech<br>Date Joined=%{x}<br>Company=%{y}<extra></extra>",
         "legendgroup": "Edtech",
         "line": {
          "color": "#ab63fa",
          "dash": "solid"
         },
         "marker": {
          "symbol": "circle"
         },
         "mode": "lines",
         "name": "Edtech",
         "orientation": "v",
         "showlegend": true,
         "type": "scatter",
         "x": [
          2015,
          2016,
          2017,
          2018,
          2019,
          2020,
          2021,
          2022
         ],
         "xaxis": "x",
         "y": [
          2,
          2,
          4,
          2,
          1,
          4,
          12,
          1
         ],
         "yaxis": "y"
        },
        {
         "hovertemplate": "Industry=Travel<br>Date Joined=%{x}<br>Company=%{y}<extra></extra>",
         "legendgroup": "Travel",
         "line": {
          "color": "#FFA15A",
          "dash": "solid"
         },
         "marker": {
          "symbol": "circle"
         },
         "mode": "lines",
         "name": "Travel",
         "orientation": "v",
         "showlegend": true,
         "type": "scatter",
         "x": [
          2015,
          2017,
          2018,
          2019,
          2021,
          2022
         ],
         "xaxis": "x",
         "y": [
          1,
          2,
          4,
          3,
          3,
          1
         ],
         "yaxis": "y"
        },
        {
         "hovertemplate": "Industry=Sequoia Capital China, ING, Alibaba Entrepreneurs Fund<br>Date Joined=%{x}<br>Company=%{y}<extra></extra>",
         "legendgroup": "Sequoia Capital China, ING, Alibaba Entrepreneurs Fund",
         "line": {
          "color": "#19d3f3",
          "dash": "solid"
         },
         "marker": {
          "symbol": "circle"
         },
         "mode": "lines",
         "name": "Sequoia Capital China, ING, Alibaba Entrepreneurs Fund",
         "orientation": "v",
         "showlegend": true,
         "type": "scatter",
         "x": [
          2017
         ],
         "xaxis": "x",
         "y": [
          1
         ],
         "yaxis": "y"
        },
        {
         "hovertemplate": "Industry=Hopu Investment Management, Boyu Capital, DC Thomson Ventures<br>Date Joined=%{x}<br>Company=%{y}<extra></extra>",
         "legendgroup": "Hopu Investment Management, Boyu Capital, DC Thomson Ventures",
         "line": {
          "color": "#FF6692",
          "dash": "solid"
         },
         "marker": {
          "symbol": "circle"
         },
         "mode": "lines",
         "name": "Hopu Investment Management, Boyu Capital, DC Thomson Ventures",
         "orientation": "v",
         "showlegend": true,
         "type": "scatter",
         "x": [
          2019
         ],
         "xaxis": "x",
         "y": [
          1
         ],
         "yaxis": "y"
        },
        {
         "hovertemplate": "Industry=Kuang-Chi<br>Date Joined=%{x}<br>Company=%{y}<extra></extra>",
         "legendgroup": "Kuang-Chi",
         "line": {
          "color": "#B6E880",
          "dash": "solid"
         },
         "marker": {
          "symbol": "circle"
         },
         "mode": "lines",
         "name": "Kuang-Chi",
         "orientation": "v",
         "showlegend": true,
         "type": "scatter",
         "x": [
          2020
         ],
         "xaxis": "x",
         "y": [
          1
         ],
         "yaxis": "y"
        },
        {
         "hovertemplate": "Industry=500 Global, Rakuten Ventures, Golden Gate Ventures<br>Date Joined=%{x}<br>Company=%{y}<extra></extra>",
         "legendgroup": "500 Global, Rakuten Ventures, Golden Gate Ventures",
         "line": {
          "color": "#FF97FF",
          "dash": "solid"
         },
         "marker": {
          "symbol": "circle"
         },
         "mode": "lines",
         "name": "500 Global, Rakuten Ventures, Golden Gate Ventures",
         "orientation": "v",
         "showlegend": true,
         "type": "scatter",
         "x": [
          2021
         ],
         "xaxis": "x",
         "y": [
          1
         ],
         "yaxis": "y"
        },
        {
         "hovertemplate": "Industry=Andreessen Horowitz, DST Global, IDG Capital<br>Date Joined=%{x}<br>Company=%{y}<extra></extra>",
         "legendgroup": "Andreessen Horowitz, DST Global, IDG Capital",
         "line": {
          "color": "#FECB52",
          "dash": "solid"
         },
         "marker": {
          "symbol": "circle"
         },
         "mode": "lines",
         "name": "Andreessen Horowitz, DST Global, IDG Capital",
         "orientation": "v",
         "showlegend": true,
         "type": "scatter",
         "x": [
          2021
         ],
         "xaxis": "x",
         "y": [
          1
         ],
         "yaxis": "y"
        },
        {
         "hovertemplate": "Industry=Artificial Intelligence<br>Date Joined=%{x}<br>Company=%{y}<extra></extra>",
         "legendgroup": "Artificial Intelligence",
         "line": {
          "color": "#636efa",
          "dash": "solid"
         },
         "marker": {
          "symbol": "circle"
         },
         "mode": "lines",
         "name": "Artificial Intelligence",
         "orientation": "v",
         "showlegend": true,
         "type": "scatter",
         "x": [
          2021,
          2022
         ],
         "xaxis": "x",
         "y": [
          6,
          1
         ],
         "yaxis": "y"
        },
        {
         "hovertemplate": "Industry=B Capital Group, Monk's Hill Ventures, Dynamic Parcel Distribution<br>Date Joined=%{x}<br>Company=%{y}<extra></extra>",
         "legendgroup": "B Capital Group, Monk's Hill Ventures, Dynamic Parcel Distribution",
         "line": {
          "color": "#EF553B",
          "dash": "solid"
         },
         "marker": {
          "symbol": "circle"
         },
         "mode": "lines",
         "name": "B Capital Group, Monk's Hill Ventures, Dynamic Parcel Distribution",
         "orientation": "v",
         "showlegend": true,
         "type": "scatter",
         "x": [
          2021
         ],
         "xaxis": "x",
         "y": [
          1
         ],
         "yaxis": "y"
        },
        {
         "hovertemplate": "Industry=Dragonfly Captial, Qiming Venture Partners, DST Global<br>Date Joined=%{x}<br>Company=%{y}<extra></extra>",
         "legendgroup": "Dragonfly Captial, Qiming Venture Partners, DST Global",
         "line": {
          "color": "#00cc96",
          "dash": "solid"
         },
         "marker": {
          "symbol": "circle"
         },
         "mode": "lines",
         "name": "Dragonfly Captial, Qiming Venture Partners, DST Global",
         "orientation": "v",
         "showlegend": true,
         "type": "scatter",
         "x": [
          2021
         ],
         "xaxis": "x",
         "y": [
          1
         ],
         "yaxis": "y"
        },
        {
         "hovertemplate": "Industry=Finttech<br>Date Joined=%{x}<br>Company=%{y}<extra></extra>",
         "legendgroup": "Finttech",
         "line": {
          "color": "#ab63fa",
          "dash": "solid"
         },
         "marker": {
          "symbol": "circle"
         },
         "mode": "lines",
         "name": "Finttech",
         "orientation": "v",
         "showlegend": true,
         "type": "scatter",
         "x": [
          2021
         ],
         "xaxis": "x",
         "y": [
          1
         ],
         "yaxis": "y"
        },
        {
         "hovertemplate": "Industry=Jungle Ventures, Accel, Venture Highway<br>Date Joined=%{x}<br>Company=%{y}<extra></extra>",
         "legendgroup": "Jungle Ventures, Accel, Venture Highway",
         "line": {
          "color": "#FFA15A",
          "dash": "solid"
         },
         "marker": {
          "symbol": "circle"
         },
         "mode": "lines",
         "name": "Jungle Ventures, Accel, Venture Highway",
         "orientation": "v",
         "showlegend": true,
         "type": "scatter",
         "x": [
          2021
         ],
         "xaxis": "x",
         "y": [
          1
         ],
         "yaxis": "y"
        },
        {
         "hovertemplate": "Industry=Mundi Ventures, Doqling Capital Partners, Activant Capital<br>Date Joined=%{x}<br>Company=%{y}<extra></extra>",
         "legendgroup": "Mundi Ventures, Doqling Capital Partners, Activant Capital",
         "line": {
          "color": "#19d3f3",
          "dash": "solid"
         },
         "marker": {
          "symbol": "circle"
         },
         "mode": "lines",
         "name": "Mundi Ventures, Doqling Capital Partners, Activant Capital",
         "orientation": "v",
         "showlegend": true,
         "type": "scatter",
         "x": [
          2021
         ],
         "xaxis": "x",
         "y": [
          1
         ],
         "yaxis": "y"
        },
        {
         "hovertemplate": "Industry=Sequoia Capital China, Shunwei Capital Partners, Qualgro<br>Date Joined=%{x}<br>Company=%{y}<extra></extra>",
         "legendgroup": "Sequoia Capital China, Shunwei Capital Partners, Qualgro",
         "line": {
          "color": "#FF6692",
          "dash": "solid"
         },
         "marker": {
          "symbol": "circle"
         },
         "mode": "lines",
         "name": "Sequoia Capital China, Shunwei Capital Partners, Qualgro",
         "orientation": "v",
         "showlegend": true,
         "type": "scatter",
         "x": [
          2021
         ],
         "xaxis": "x",
         "y": [
          1
         ],
         "yaxis": "y"
        },
        {
         "hovertemplate": "Industry=Sequoia Capital, Thoma Bravo, Softbank<br>Date Joined=%{x}<br>Company=%{y}<extra></extra>",
         "legendgroup": "Sequoia Capital, Thoma Bravo, Softbank",
         "line": {
          "color": "#B6E880",
          "dash": "solid"
         },
         "marker": {
          "symbol": "circle"
         },
         "mode": "lines",
         "name": "Sequoia Capital, Thoma Bravo, Softbank",
         "orientation": "v",
         "showlegend": true,
         "type": "scatter",
         "x": [
          2021
         ],
         "xaxis": "x",
         "y": [
          1
         ],
         "yaxis": "y"
        },
        {
         "hovertemplate": "Industry=SingTel Innov8, Alpha JWC Ventures, Golden Gate Ventures<br>Date Joined=%{x}<br>Company=%{y}<extra></extra>",
         "legendgroup": "SingTel Innov8, Alpha JWC Ventures, Golden Gate Ventures",
         "line": {
          "color": "#FF97FF",
          "dash": "solid"
         },
         "marker": {
          "symbol": "circle"
         },
         "mode": "lines",
         "name": "SingTel Innov8, Alpha JWC Ventures, Golden Gate Ventures",
         "orientation": "v",
         "showlegend": true,
         "type": "scatter",
         "x": [
          2021
         ],
         "xaxis": "x",
         "y": [
          1
         ],
         "yaxis": "y"
        },
        {
         "hovertemplate": "Industry=Temasek, Guggenheim Investments, Qatar Investment Authority<br>Date Joined=%{x}<br>Company=%{y}<extra></extra>",
         "legendgroup": "Temasek, Guggenheim Investments, Qatar Investment Authority",
         "line": {
          "color": "#FECB52",
          "dash": "solid"
         },
         "marker": {
          "symbol": "circle"
         },
         "mode": "lines",
         "name": "Temasek, Guggenheim Investments, Qatar Investment Authority",
         "orientation": "v",
         "showlegend": true,
         "type": "scatter",
         "x": [
          2021
         ],
         "xaxis": "x",
         "y": [
          1
         ],
         "yaxis": "y"
        },
        {
         "hovertemplate": "Industry=Tiger Global Management, Tiger Brokers, DCM Ventures<br>Date Joined=%{x}<br>Company=%{y}<extra></extra>",
         "legendgroup": "Tiger Global Management, Tiger Brokers, DCM Ventures",
         "line": {
          "color": "#636efa",
          "dash": "solid"
         },
         "marker": {
          "symbol": "circle"
         },
         "mode": "lines",
         "name": "Tiger Global Management, Tiger Brokers, DCM Ventures",
         "orientation": "v",
         "showlegend": true,
         "type": "scatter",
         "x": [
          2021
         ],
         "xaxis": "x",
         "y": [
          1
         ],
         "yaxis": "y"
        },
        {
         "hovertemplate": "Industry=Vertex Ventures SE Asia, Global Founders Capital, Visa Ventures<br>Date Joined=%{x}<br>Company=%{y}<extra></extra>",
         "legendgroup": "Vertex Ventures SE Asia, Global Founders Capital, Visa Ventures",
         "line": {
          "color": "#EF553B",
          "dash": "solid"
         },
         "marker": {
          "symbol": "circle"
         },
         "mode": "lines",
         "name": "Vertex Ventures SE Asia, Global Founders Capital, Visa Ventures",
         "orientation": "v",
         "showlegend": true,
         "type": "scatter",
         "x": [
          2021
         ],
         "xaxis": "x",
         "y": [
          1
         ],
         "yaxis": "y"
        },
        {
         "hovertemplate": "Industry=Vision Plus Capital, GSR Ventures, ZhenFund<br>Date Joined=%{x}<br>Company=%{y}<extra></extra>",
         "legendgroup": "Vision Plus Capital, GSR Ventures, ZhenFund",
         "line": {
          "color": "#00cc96",
          "dash": "solid"
         },
         "marker": {
          "symbol": "circle"
         },
         "mode": "lines",
         "name": "Vision Plus Capital, GSR Ventures, ZhenFund",
         "orientation": "v",
         "showlegend": true,
         "type": "scatter",
         "x": [
          2021
         ],
         "xaxis": "x",
         "y": [
          1
         ],
         "yaxis": "y"
        }
       ],
       "layout": {
        "legend": {
         "title": {
          "text": "Industry"
         },
         "tracegroupgap": 0
        },
        "margin": {
         "t": 60
        },
        "showlegend": true,
        "template": {
         "data": {
          "bar": [
           {
            "error_x": {
             "color": "#2a3f5f"
            },
            "error_y": {
             "color": "#2a3f5f"
            },
            "marker": {
             "line": {
              "color": "#E5ECF6",
              "width": 0.5
             },
             "pattern": {
              "fillmode": "overlay",
              "size": 10,
              "solidity": 0.2
             }
            },
            "type": "bar"
           }
          ],
          "barpolar": [
           {
            "marker": {
             "line": {
              "color": "#E5ECF6",
              "width": 0.5
             },
             "pattern": {
              "fillmode": "overlay",
              "size": 10,
              "solidity": 0.2
             }
            },
            "type": "barpolar"
           }
          ],
          "carpet": [
           {
            "aaxis": {
             "endlinecolor": "#2a3f5f",
             "gridcolor": "white",
             "linecolor": "white",
             "minorgridcolor": "white",
             "startlinecolor": "#2a3f5f"
            },
            "baxis": {
             "endlinecolor": "#2a3f5f",
             "gridcolor": "white",
             "linecolor": "white",
             "minorgridcolor": "white",
             "startlinecolor": "#2a3f5f"
            },
            "type": "carpet"
           }
          ],
          "choropleth": [
           {
            "colorbar": {
             "outlinewidth": 0,
             "ticks": ""
            },
            "type": "choropleth"
           }
          ],
          "contour": [
           {
            "colorbar": {
             "outlinewidth": 0,
             "ticks": ""
            },
            "colorscale": [
             [
              0,
              "#0d0887"
             ],
             [
              0.1111111111111111,
              "#46039f"
             ],
             [
              0.2222222222222222,
              "#7201a8"
             ],
             [
              0.3333333333333333,
              "#9c179e"
             ],
             [
              0.4444444444444444,
              "#bd3786"
             ],
             [
              0.5555555555555556,
              "#d8576b"
             ],
             [
              0.6666666666666666,
              "#ed7953"
             ],
             [
              0.7777777777777778,
              "#fb9f3a"
             ],
             [
              0.8888888888888888,
              "#fdca26"
             ],
             [
              1,
              "#f0f921"
             ]
            ],
            "type": "contour"
           }
          ],
          "contourcarpet": [
           {
            "colorbar": {
             "outlinewidth": 0,
             "ticks": ""
            },
            "type": "contourcarpet"
           }
          ],
          "heatmap": [
           {
            "colorbar": {
             "outlinewidth": 0,
             "ticks": ""
            },
            "colorscale": [
             [
              0,
              "#0d0887"
             ],
             [
              0.1111111111111111,
              "#46039f"
             ],
             [
              0.2222222222222222,
              "#7201a8"
             ],
             [
              0.3333333333333333,
              "#9c179e"
             ],
             [
              0.4444444444444444,
              "#bd3786"
             ],
             [
              0.5555555555555556,
              "#d8576b"
             ],
             [
              0.6666666666666666,
              "#ed7953"
             ],
             [
              0.7777777777777778,
              "#fb9f3a"
             ],
             [
              0.8888888888888888,
              "#fdca26"
             ],
             [
              1,
              "#f0f921"
             ]
            ],
            "type": "heatmap"
           }
          ],
          "heatmapgl": [
           {
            "colorbar": {
             "outlinewidth": 0,
             "ticks": ""
            },
            "colorscale": [
             [
              0,
              "#0d0887"
             ],
             [
              0.1111111111111111,
              "#46039f"
             ],
             [
              0.2222222222222222,
              "#7201a8"
             ],
             [
              0.3333333333333333,
              "#9c179e"
             ],
             [
              0.4444444444444444,
              "#bd3786"
             ],
             [
              0.5555555555555556,
              "#d8576b"
             ],
             [
              0.6666666666666666,
              "#ed7953"
             ],
             [
              0.7777777777777778,
              "#fb9f3a"
             ],
             [
              0.8888888888888888,
              "#fdca26"
             ],
             [
              1,
              "#f0f921"
             ]
            ],
            "type": "heatmapgl"
           }
          ],
          "histogram": [
           {
            "marker": {
             "pattern": {
              "fillmode": "overlay",
              "size": 10,
              "solidity": 0.2
             }
            },
            "type": "histogram"
           }
          ],
          "histogram2d": [
           {
            "colorbar": {
             "outlinewidth": 0,
             "ticks": ""
            },
            "colorscale": [
             [
              0,
              "#0d0887"
             ],
             [
              0.1111111111111111,
              "#46039f"
             ],
             [
              0.2222222222222222,
              "#7201a8"
             ],
             [
              0.3333333333333333,
              "#9c179e"
             ],
             [
              0.4444444444444444,
              "#bd3786"
             ],
             [
              0.5555555555555556,
              "#d8576b"
             ],
             [
              0.6666666666666666,
              "#ed7953"
             ],
             [
              0.7777777777777778,
              "#fb9f3a"
             ],
             [
              0.8888888888888888,
              "#fdca26"
             ],
             [
              1,
              "#f0f921"
             ]
            ],
            "type": "histogram2d"
           }
          ],
          "histogram2dcontour": [
           {
            "colorbar": {
             "outlinewidth": 0,
             "ticks": ""
            },
            "colorscale": [
             [
              0,
              "#0d0887"
             ],
             [
              0.1111111111111111,
              "#46039f"
             ],
             [
              0.2222222222222222,
              "#7201a8"
             ],
             [
              0.3333333333333333,
              "#9c179e"
             ],
             [
              0.4444444444444444,
              "#bd3786"
             ],
             [
              0.5555555555555556,
              "#d8576b"
             ],
             [
              0.6666666666666666,
              "#ed7953"
             ],
             [
              0.7777777777777778,
              "#fb9f3a"
             ],
             [
              0.8888888888888888,
              "#fdca26"
             ],
             [
              1,
              "#f0f921"
             ]
            ],
            "type": "histogram2dcontour"
           }
          ],
          "mesh3d": [
           {
            "colorbar": {
             "outlinewidth": 0,
             "ticks": ""
            },
            "type": "mesh3d"
           }
          ],
          "parcoords": [
           {
            "line": {
             "colorbar": {
              "outlinewidth": 0,
              "ticks": ""
             }
            },
            "type": "parcoords"
           }
          ],
          "pie": [
           {
            "automargin": true,
            "type": "pie"
           }
          ],
          "scatter": [
           {
            "fillpattern": {
             "fillmode": "overlay",
             "size": 10,
             "solidity": 0.2
            },
            "type": "scatter"
           }
          ],
          "scatter3d": [
           {
            "line": {
             "colorbar": {
              "outlinewidth": 0,
              "ticks": ""
             }
            },
            "marker": {
             "colorbar": {
              "outlinewidth": 0,
              "ticks": ""
             }
            },
            "type": "scatter3d"
           }
          ],
          "scattercarpet": [
           {
            "marker": {
             "colorbar": {
              "outlinewidth": 0,
              "ticks": ""
             }
            },
            "type": "scattercarpet"
           }
          ],
          "scattergeo": [
           {
            "marker": {
             "colorbar": {
              "outlinewidth": 0,
              "ticks": ""
             }
            },
            "type": "scattergeo"
           }
          ],
          "scattergl": [
           {
            "marker": {
             "colorbar": {
              "outlinewidth": 0,
              "ticks": ""
             }
            },
            "type": "scattergl"
           }
          ],
          "scattermapbox": [
           {
            "marker": {
             "colorbar": {
              "outlinewidth": 0,
              "ticks": ""
             }
            },
            "type": "scattermapbox"
           }
          ],
          "scatterpolar": [
           {
            "marker": {
             "colorbar": {
              "outlinewidth": 0,
              "ticks": ""
             }
            },
            "type": "scatterpolar"
           }
          ],
          "scatterpolargl": [
           {
            "marker": {
             "colorbar": {
              "outlinewidth": 0,
              "ticks": ""
             }
            },
            "type": "scatterpolargl"
           }
          ],
          "scatterternary": [
           {
            "marker": {
             "colorbar": {
              "outlinewidth": 0,
              "ticks": ""
             }
            },
            "type": "scatterternary"
           }
          ],
          "surface": [
           {
            "colorbar": {
             "outlinewidth": 0,
             "ticks": ""
            },
            "colorscale": [
             [
              0,
              "#0d0887"
             ],
             [
              0.1111111111111111,
              "#46039f"
             ],
             [
              0.2222222222222222,
              "#7201a8"
             ],
             [
              0.3333333333333333,
              "#9c179e"
             ],
             [
              0.4444444444444444,
              "#bd3786"
             ],
             [
              0.5555555555555556,
              "#d8576b"
             ],
             [
              0.6666666666666666,
              "#ed7953"
             ],
             [
              0.7777777777777778,
              "#fb9f3a"
             ],
             [
              0.8888888888888888,
              "#fdca26"
             ],
             [
              1,
              "#f0f921"
             ]
            ],
            "type": "surface"
           }
          ],
          "table": [
           {
            "cells": {
             "fill": {
              "color": "#EBF0F8"
             },
             "line": {
              "color": "white"
             }
            },
            "header": {
             "fill": {
              "color": "#C8D4E3"
             },
             "line": {
              "color": "white"
             }
            },
            "type": "table"
           }
          ]
         },
         "layout": {
          "annotationdefaults": {
           "arrowcolor": "#2a3f5f",
           "arrowhead": 0,
           "arrowwidth": 1
          },
          "autotypenumbers": "strict",
          "coloraxis": {
           "colorbar": {
            "outlinewidth": 0,
            "ticks": ""
           }
          },
          "colorscale": {
           "diverging": [
            [
             0,
             "#8e0152"
            ],
            [
             0.1,
             "#c51b7d"
            ],
            [
             0.2,
             "#de77ae"
            ],
            [
             0.3,
             "#f1b6da"
            ],
            [
             0.4,
             "#fde0ef"
            ],
            [
             0.5,
             "#f7f7f7"
            ],
            [
             0.6,
             "#e6f5d0"
            ],
            [
             0.7,
             "#b8e186"
            ],
            [
             0.8,
             "#7fbc41"
            ],
            [
             0.9,
             "#4d9221"
            ],
            [
             1,
             "#276419"
            ]
           ],
           "sequential": [
            [
             0,
             "#0d0887"
            ],
            [
             0.1111111111111111,
             "#46039f"
            ],
            [
             0.2222222222222222,
             "#7201a8"
            ],
            [
             0.3333333333333333,
             "#9c179e"
            ],
            [
             0.4444444444444444,
             "#bd3786"
            ],
            [
             0.5555555555555556,
             "#d8576b"
            ],
            [
             0.6666666666666666,
             "#ed7953"
            ],
            [
             0.7777777777777778,
             "#fb9f3a"
            ],
            [
             0.8888888888888888,
             "#fdca26"
            ],
            [
             1,
             "#f0f921"
            ]
           ],
           "sequentialminus": [
            [
             0,
             "#0d0887"
            ],
            [
             0.1111111111111111,
             "#46039f"
            ],
            [
             0.2222222222222222,
             "#7201a8"
            ],
            [
             0.3333333333333333,
             "#9c179e"
            ],
            [
             0.4444444444444444,
             "#bd3786"
            ],
            [
             0.5555555555555556,
             "#d8576b"
            ],
            [
             0.6666666666666666,
             "#ed7953"
            ],
            [
             0.7777777777777778,
             "#fb9f3a"
            ],
            [
             0.8888888888888888,
             "#fdca26"
            ],
            [
             1,
             "#f0f921"
            ]
           ]
          },
          "colorway": [
           "#636efa",
           "#EF553B",
           "#00cc96",
           "#ab63fa",
           "#FFA15A",
           "#19d3f3",
           "#FF6692",
           "#B6E880",
           "#FF97FF",
           "#FECB52"
          ],
          "font": {
           "color": "#2a3f5f"
          },
          "geo": {
           "bgcolor": "white",
           "lakecolor": "white",
           "landcolor": "#E5ECF6",
           "showlakes": true,
           "showland": true,
           "subunitcolor": "white"
          },
          "hoverlabel": {
           "align": "left"
          },
          "hovermode": "closest",
          "mapbox": {
           "style": "light"
          },
          "paper_bgcolor": "white",
          "plot_bgcolor": "#E5ECF6",
          "polar": {
           "angularaxis": {
            "gridcolor": "white",
            "linecolor": "white",
            "ticks": ""
           },
           "bgcolor": "#E5ECF6",
           "radialaxis": {
            "gridcolor": "white",
            "linecolor": "white",
            "ticks": ""
           }
          },
          "scene": {
           "xaxis": {
            "backgroundcolor": "#E5ECF6",
            "gridcolor": "white",
            "gridwidth": 2,
            "linecolor": "white",
            "showbackground": true,
            "ticks": "",
            "zerolinecolor": "white"
           },
           "yaxis": {
            "backgroundcolor": "#E5ECF6",
            "gridcolor": "white",
            "gridwidth": 2,
            "linecolor": "white",
            "showbackground": true,
            "ticks": "",
            "zerolinecolor": "white"
           },
           "zaxis": {
            "backgroundcolor": "#E5ECF6",
            "gridcolor": "white",
            "gridwidth": 2,
            "linecolor": "white",
            "showbackground": true,
            "ticks": "",
            "zerolinecolor": "white"
           }
          },
          "shapedefaults": {
           "line": {
            "color": "#2a3f5f"
           }
          },
          "ternary": {
           "aaxis": {
            "gridcolor": "white",
            "linecolor": "white",
            "ticks": ""
           },
           "baxis": {
            "gridcolor": "white",
            "linecolor": "white",
            "ticks": ""
           },
           "bgcolor": "#E5ECF6",
           "caxis": {
            "gridcolor": "white",
            "linecolor": "white",
            "ticks": ""
           }
          },
          "title": {
           "x": 0.05
          },
          "xaxis": {
           "automargin": true,
           "gridcolor": "white",
           "linecolor": "white",
           "ticks": "",
           "title": {
            "standoff": 15
           },
           "zerolinecolor": "white",
           "zerolinewidth": 2
          },
          "yaxis": {
           "automargin": true,
           "gridcolor": "white",
           "linecolor": "white",
           "ticks": "",
           "title": {
            "standoff": 15
           },
           "zerolinecolor": "white",
           "zerolinewidth": 2
          }
         }
        },
        "title": {
         "text": "Variación de compañias a traves de los años por industria"
        },
        "xaxis": {
         "anchor": "y",
         "domain": [
          0,
          1
         ],
         "title": {
          "text": "Date Joined"
         }
        },
        "yaxis": {
         "anchor": "x",
         "domain": [
          0,
          1
         ],
         "title": {
          "text": "Company"
         }
        }
       }
      }
     },
     "metadata": {},
     "output_type": "display_data"
    }
   ],
   "source": [
    "fig = px.line(Groupperindustry,\n",
    "                 x='Date Joined',\n",
    "                 y='Company',\n",
    "                 color='Industry',\n",
    "                 labels=dict(x=\"Años\", y=\"cantidades\")\n",
    "                )\n",
    "fig.update_layout(showlegend=True,title_text='Variación de compañias a traves de los años por industria')\n",
    "fig.show()"
   ]
  },
  {
   "cell_type": "code",
   "execution_count": 56,
   "metadata": {},
   "outputs": [
    {
     "data": {
      "image/png": "[encoded data removed]",
      "text/plain": [
       "<Figure size 576x396 with 1 Axes>"
      ]
     },
     "metadata": {},
     "output_type": "display_data"
    }
   ],
   "source": [
    "sns.lineplot(data=Groupperindustry,\n",
    "                x=Groupperindustry['Date Joined'],\n",
    "                y=Groupperindustry['Company'],\n",
    "                hue=Groupperindustry['Industry'],\n",
    "                palette='husl')\n",
    "plt.legend(Groupperindustry['Industry'].head(20),loc=[1.002,0.1],fontsize=10)\n",
    "plt.tight_layout()"
   ]
  },
  {
   "cell_type": "markdown",
   "metadata": {},
   "source": [
    "Valorizaciones por paises e industria"
   ]
  },
  {
   "cell_type": "code",
   "execution_count": 33,
   "metadata": {},
   "outputs": [
    {
     "data": {
      "text/plain": [
       "Index(['Company', 'Valuation ($B)', 'Date Joined', 'Country', 'City',\n",
       "       'Industry', 'Select Inverstors', 'Founded Year', 'Total Raised',\n",
       "       'Financial Stage', 'Investors Count', 'Deal Terms', 'Portfolio Exits'],\n",
       "      dtype='object')"
      ]
     },
     "execution_count": 33,
     "metadata": {},
     "output_type": "execute_result"
    }
   ],
   "source": [
    "data_unicornio.columns"
   ]
  },
  {
   "cell_type": "code",
   "execution_count": 34,
   "metadata": {},
   "outputs": [
    {
     "data": {
      "text/plain": [
       "Country\n",
       "United States           1829.74\n",
       "China                    572.69\n",
       "India                    187.05\n",
       "United Kingdom           177.68\n",
       "Germany                   66.70\n",
       "Sweden                    60.52\n",
       "Australia                 50.60\n",
       "France                    49.87\n",
       "Canada                    49.03\n",
       "Israel                    38.42\n",
       "Brazil                    36.98\n",
       "Bahamas                   32.00\n",
       "Indonesia                 30.90\n",
       "South Korea               27.12\n",
       "Netherlands               19.80\n",
       "Hong Kong                 18.35\n",
       "Singapore                 17.55\n",
       "Mexico                    16.40\n",
       "Turkey                    11.47\n",
       "Estonia                    9.90\n",
       "Ireland                    9.05\n",
       "Belgium                    8.95\n",
       "Japan                      8.82\n",
       "Finland                    8.70\n",
       "Austria                    7.61\n",
       "Switzerland                6.60\n",
       "Colombia                   6.40\n",
       "Denmark                    5.70\n",
       "Vietnam                    5.27\n",
       "Spain                      5.05\n",
       "Norway                     4.70\n",
       "Lithuania                  4.53\n",
       "United Arab Emirates       4.50\n",
       "Philippines                3.00\n",
       "South Africa               2.59\n",
       "Chile                      2.50\n",
       "Thailand                   2.50\n",
       "Argentina                  2.45\n",
       "Nigeria                    2.00\n",
       "Luxembourg                 2.00\n",
       "Senegal                    1.70\n",
       "Malaysia                   1.70\n",
       "Bermuda                    1.60\n",
       "Czech Republic             1.20\n",
       "Croatia                    1.00\n",
       "Italy                      1.00\n",
       "Name: Valuation ($B), dtype: float64"
      ]
     },
     "execution_count": 34,
     "metadata": {},
     "output_type": "execute_result"
    }
   ],
   "source": [
    "data_unicornio.groupby('Country')['Valuation ($B)'].sum().sort_values(ascending=False)"
   ]
  },
  {
   "cell_type": "code",
   "execution_count": 35,
   "metadata": {},
   "outputs": [
    {
     "data": {
      "image/png": "[encoded data removed]",
      "text/plain": [
       "<Figure size 1600x1100 with 2 Axes>"
      ]
     },
     "metadata": {},
     "output_type": "display_data"
    }
   ],
   "source": [
    "fig = plt.figure(dpi=200)\n",
    "fig.suptitle('Top 10 de empresas',weight='bold')\n",
    "val=fig.add_subplot(2,1,1)\n",
    "val=sns.barplot(x=data_unicornio.groupby('Country')['Valuation ($B)'].sum().sort_values(ascending=False).head(10).values,y=data_unicornio.groupby('Country')['Valuation ($B)'].sum().sort_values(ascending=False).head(10).index)\n",
    "val.set_xlabel('Cantidad en $B')\n",
    "val.set_title('Top 10 paises con mayor cantidad de valorizacion de empresas unicornio',fontsize=10,weight='bold')\n",
    "\n",
    "val2=fig.add_subplot(2,1,2)\n",
    "val2=sns.barplot(x=data_unicornio.groupby('Industry')['Valuation ($B)'].sum().sort_values(ascending=False).head(10).values,y=data_unicornio.groupby('Industry')['Valuation ($B)'].sum().sort_values(ascending=False).head(10).index)\n",
    "val2.set_xlabel('Cantidad en $B')\n",
    "val2.set_title('Top 10 industrias con mayor cantidad de valorizacion de empresas unicornio',fontsize=10,weight='bold')\n",
    "\n",
    "fig.tight_layout()"
   ]
  },
  {
   "cell_type": "markdown",
   "metadata": {},
   "source": [
    "Empresas que han recaudado mayor cantidad de dinero"
   ]
  },
  {
   "cell_type": "code",
   "execution_count": 36,
   "metadata": {},
   "outputs": [
    {
     "name": "stdout",
     "output_type": "stream",
     "text": [
      "<class 'pandas.core.frame.DataFrame'>\n",
      "RangeIndex: 1037 entries, 0 to 1036\n",
      "Data columns (total 13 columns):\n",
      " #   Column             Non-Null Count  Dtype         \n",
      "---  ------             --------------  -----         \n",
      " 0   Company            1037 non-null   object        \n",
      " 1   Valuation ($B)     1037 non-null   float64       \n",
      " 2   Date Joined        1037 non-null   datetime64[ns]\n",
      " 3   Country            1037 non-null   object        \n",
      " 4   City               1037 non-null   object        \n",
      " 5   Industry           1037 non-null   object        \n",
      " 6   Select Inverstors  1037 non-null   object        \n",
      " 7   Founded Year       1037 non-null   object        \n",
      " 8   Total Raised       1037 non-null   object        \n",
      " 9   Financial Stage    1037 non-null   object        \n",
      " 10  Investors Count    1037 non-null   int64         \n",
      " 11  Deal Terms         1037 non-null   int64         \n",
      " 12  Portfolio Exits    1037 non-null   int64         \n",
      "dtypes: datetime64[ns](1), float64(1), int64(3), object(8)\n",
      "memory usage: 105.4+ KB\n"
     ]
    }
   ],
   "source": [
    "data_unicornio.info()"
   ]
  },
  {
   "cell_type": "code",
   "execution_count": 37,
   "metadata": {},
   "outputs": [],
   "source": [
    "nuevo_TR=[]\n",
    "for i in data_unicornio['Total Raised']:\n",
    "    i=i.replace('$',\"\")\n",
    "    if \"B\" in i:\n",
    "        i=i.replace(\"B\",\"\")\n",
    "        i=pd.to_numeric(i)\n",
    "        x=i*10**12\n",
    "        nuevo_TR.append(x)\n",
    "    elif 'M' in i:\n",
    "        i=i.replace(\"M\",\"\")\n",
    "        i=pd.to_numeric(i)\n",
    "        x=i*10**6\n",
    "        nuevo_TR.append(x)\n",
    "    elif 'K' in i:\n",
    "        i=i.replace(\"K\",\"\")\n",
    "        i=pd.to_numeric(i)\n",
    "        x=i*10**3\n",
    "        nuevo_TR.append(x)\n",
    "    else:\n",
    "        i=i.replace(\"None\",\"0\")\n",
    "        i=pd.to_numeric(i)\n",
    "        nuevo_TR.append(i)\n",
    "data_unicornio['nuevo tr']=nuevo_TR\n"
   ]
  },
  {
   "cell_type": "code",
   "execution_count": 38,
   "metadata": {},
   "outputs": [
    {
     "name": "stdout",
     "output_type": "stream",
     "text": [
      "<class 'pandas.core.frame.DataFrame'>\n",
      "RangeIndex: 1037 entries, 0 to 1036\n",
      "Data columns (total 14 columns):\n",
      " #   Column             Non-Null Count  Dtype         \n",
      "---  ------             --------------  -----         \n",
      " 0   Company            1037 non-null   object        \n",
      " 1   Valuation ($B)     1037 non-null   float64       \n",
      " 2   Date Joined        1037 non-null   datetime64[ns]\n",
      " 3   Country            1037 non-null   object        \n",
      " 4   City               1037 non-null   object        \n",
      " 5   Industry           1037 non-null   object        \n",
      " 6   Select Inverstors  1037 non-null   object        \n",
      " 7   Founded Year       1037 non-null   object        \n",
      " 8   Total Raised       1037 non-null   object        \n",
      " 9   Financial Stage    1037 non-null   object        \n",
      " 10  Investors Count    1037 non-null   int64         \n",
      " 11  Deal Terms         1037 non-null   int64         \n",
      " 12  Portfolio Exits    1037 non-null   int64         \n",
      " 13  nuevo tr           1037 non-null   float64       \n",
      "dtypes: datetime64[ns](1), float64(2), int64(3), object(8)\n",
      "memory usage: 113.5+ KB\n"
     ]
    }
   ],
   "source": [
    "data_unicornio.info()"
   ]
  },
  {
   "cell_type": "code",
   "execution_count": 39,
   "metadata": {},
   "outputs": [],
   "source": [
    "Empresas=data_unicornio.groupby('Company')['nuevo tr'].sum().sort_values(ascending=False)"
   ]
  },
  {
   "cell_type": "code",
   "execution_count": 40,
   "metadata": {},
   "outputs": [
    {
     "data": {
      "text/plain": [
       "(array([0, 1, 2, 3, 4, 5, 6, 7, 8, 9]),\n",
       " [Text(0, 0, 'Bytedance'),\n",
       "  Text(1, 0, 'SpaceX'),\n",
       "  Text(2, 0, 'Global Switch'),\n",
       "  Text(3, 0, 'Northvolt'),\n",
       "  Text(4, 0, 'WM Motor'),\n",
       "  Text(5, 0, \"BYJU's\"),\n",
       "  Text(6, 0, 'Xingsheng Selected'),\n",
       "  Text(7, 0, 'J&T Express'),\n",
       "  Text(8, 0, 'Epic Games'),\n",
       "  Text(9, 0, 'Chehaoduo')])"
      ]
     },
     "execution_count": 40,
     "metadata": {},
     "output_type": "execute_result"
    },
    {
     "data": {
      "image/png": "[encoded data removed]",
      "text/plain": [
       "<Figure size 576x396 with 1 Axes>"
      ]
     },
     "metadata": {},
     "output_type": "display_data"
    }
   ],
   "source": [
    "fig=sns.barplot(x=Empresas.head(10).index,y=Empresas.head(10).values)\n",
    "fig.set_xlabel('Company')\n",
    "fig.set_ylabel('Valorización en $B')\n",
    "fig.set_title('Top 10 empresas con mas valorización')\n",
    "plt.xticks(rotation=90)\n"
   ]
  },
  {
   "cell_type": "markdown",
   "metadata": {},
   "source": [
    "Concentración de valorización por cantidad de inversores"
   ]
  },
  {
   "cell_type": "code",
   "execution_count": 41,
   "metadata": {},
   "outputs": [
    {
     "data": {
      "application/vnd.plotly.v1+json": {
       "config": {
        "plotlyServerURL": "https://plot.ly"
       },
       "data": [
        {
         "hovertemplate": "Investors Count=%{x}<br>Valuation ($B)=%{y}<extra></extra>",
         "legendgroup": "",
         "marker": {
          "color": "#636efa",
          "symbol": "circle"
         },
         "mode": "markers",
         "name": "",
         "showlegend": false,
         "type": "scattergl",
         "x": [
          28,
          29,
          39,
          56,
          25,
          26,
          15,
          29,
          29,
          31,
          40,
          21,
          24,
          45,
          9,
          9,
          18,
          18,
          7,
          8,
          16,
          13,
          34,
          24,
          26,
          8,
          16,
          14,
          28,
          28,
          28,
          10,
          8,
          41,
          19,
          6,
          13,
          37,
          27,
          7,
          36,
          15,
          20,
          70,
          33,
          19,
          17,
          22,
          22,
          13,
          16,
          13,
          21,
          15,
          54,
          15,
          35,
          22,
          20,
          21,
          16,
          26,
          11,
          28,
          19,
          10,
          10,
          14,
          15,
          27,
          18,
          28,
          17,
          85,
          85,
          15,
          13,
          24,
          17,
          32,
          1,
          2,
          13,
          13,
          15,
          16,
          28,
          27,
          8,
          30,
          12,
          7,
          12,
          15,
          8,
          36,
          17,
          23,
          13,
          1,
          29,
          32,
          2,
          10,
          28,
          25,
          19,
          12,
          12,
          15,
          14,
          17,
          11,
          12,
          4,
          8,
          8,
          25,
          7,
          35,
          13,
          22,
          5,
          16,
          16,
          6,
          13,
          19,
          23,
          10,
          56,
          35,
          4,
          10,
          9,
          10,
          10,
          14,
          17,
          17,
          20,
          12,
          18,
          26,
          1,
          25,
          30,
          16,
          14,
          22,
          16,
          24,
          25,
          4,
          9,
          12,
          22,
          2,
          22,
          27,
          30,
          18,
          14,
          24,
          35,
          21,
          25,
          20,
          5,
          12,
          12,
          35,
          12,
          14,
          18,
          18,
          8,
          18,
          2,
          38,
          4,
          17,
          28,
          3,
          6,
          6,
          3,
          16,
          10,
          13,
          23,
          6,
          14,
          21,
          15,
          9,
          10,
          38,
          30,
          15,
          25,
          25,
          15,
          14,
          22,
          11,
          28,
          28,
          12,
          16,
          22,
          2,
          36,
          21,
          17,
          2,
          10,
          1,
          13,
          15,
          2,
          6,
          14,
          14,
          4,
          13,
          13,
          16,
          6,
          15,
          34,
          6,
          4,
          7,
          12,
          1,
          38,
          6,
          15,
          53,
          10,
          20,
          30,
          34,
          1,
          26,
          16,
          13,
          23,
          24,
          27,
          10,
          5,
          10,
          13,
          21,
          11,
          24,
          24,
          10,
          8,
          22,
          1,
          34,
          17,
          16,
          16,
          9,
          19,
          17,
          4,
          44,
          4,
          14,
          14,
          4,
          36,
          13,
          13,
          8,
          5,
          14,
          18,
          13,
          10,
          17,
          12,
          23,
          28,
          5,
          17,
          41,
          18,
          11,
          6,
          3,
          16,
          34,
          22,
          13,
          10,
          9,
          11,
          37,
          29,
          18,
          43,
          31,
          6,
          11,
          13,
          28,
          2,
          3,
          12,
          8,
          18,
          15,
          16,
          8,
          20,
          20,
          11,
          8,
          10,
          18,
          26,
          14,
          10,
          6,
          16,
          12,
          24,
          25,
          14,
          21,
          30,
          8,
          4,
          9,
          24,
          22,
          1,
          9,
          9,
          22,
          9,
          20,
          8,
          20,
          3,
          32,
          3,
          8,
          8,
          4,
          22,
          31,
          6,
          10,
          9,
          6,
          28,
          5,
          1,
          2,
          18,
          22,
          10,
          8,
          15,
          17,
          8,
          16,
          5,
          20,
          11,
          18,
          18,
          14,
          15,
          6,
          9,
          17,
          3,
          11,
          13,
          24,
          16,
          1,
          14,
          3,
          13,
          13,
          10,
          7,
          11,
          24,
          39,
          28,
          3,
          13,
          16,
          15,
          8,
          11,
          13,
          29,
          14,
          15,
          1,
          6,
          9,
          15,
          23,
          5,
          10,
          6,
          1,
          13,
          18,
          36,
          18,
          1,
          15,
          15,
          15,
          15,
          3,
          30,
          16,
          25,
          13,
          12,
          20,
          9,
          25,
          18,
          13,
          5,
          26,
          20,
          14,
          11,
          7,
          7,
          6,
          23,
          20,
          15,
          10,
          20,
          5,
          7,
          9,
          15,
          2,
          8,
          11,
          12,
          9,
          8,
          31,
          13,
          7,
          1,
          2,
          2,
          22,
          15,
          16,
          9,
          16,
          8,
          10,
          12,
          20,
          15,
          6,
          25,
          10,
          2,
          9,
          15,
          26,
          2,
          17,
          13,
          9,
          21,
          19,
          24,
          13,
          6,
          13,
          36,
          15,
          15,
          27,
          15,
          19,
          3,
          20,
          6,
          10,
          5,
          7,
          15,
          27,
          10,
          12,
          12,
          5,
          13,
          20,
          39,
          19,
          12,
          21,
          11,
          2,
          8,
          8,
          7,
          15,
          11,
          13,
          8,
          13,
          4,
          11,
          5,
          6,
          12,
          10,
          13,
          1,
          27,
          7,
          9,
          19,
          19,
          31,
          13,
          15,
          46,
          9,
          10,
          6,
          7,
          18,
          12,
          21,
          16,
          10,
          8,
          6,
          22,
          3,
          29,
          22,
          9,
          10,
          21,
          2,
          42,
          20,
          13,
          14,
          14,
          14,
          5,
          14,
          15,
          11,
          9,
          12,
          5,
          11,
          4,
          7,
          4,
          7,
          18,
          1,
          5,
          7,
          18,
          20,
          9,
          18,
          14,
          24,
          15,
          8,
          34,
          9,
          11,
          26,
          2,
          22,
          16,
          11,
          11,
          17,
          9,
          20,
          18,
          18,
          7,
          13,
          13,
          13,
          14,
          26,
          10,
          18,
          8,
          14,
          5,
          5,
          16,
          10,
          14,
          15,
          11,
          12,
          18,
          19,
          10,
          14,
          19,
          21,
          1,
          17,
          33,
          15,
          4,
          12,
          10,
          10,
          11,
          18,
          6,
          7,
          3,
          16,
          20,
          9,
          10,
          13,
          15,
          2,
          2,
          17,
          10,
          9,
          7,
          20,
          2,
          15,
          11,
          19,
          14,
          6,
          53,
          31,
          12,
          4,
          6,
          11,
          8,
          4,
          18,
          8,
          4,
          12,
          22,
          9,
          12,
          0,
          16,
          3,
          12,
          15,
          15,
          14,
          9,
          11,
          1,
          22,
          8,
          15,
          11,
          10,
          16,
          20,
          10,
          10,
          11,
          11,
          9,
          5,
          8,
          10,
          12,
          10,
          5,
          22,
          18,
          12,
          16,
          15,
          12,
          4,
          11,
          9,
          21,
          13,
          16,
          11,
          4,
          19,
          8,
          14,
          16,
          12,
          19,
          30,
          1,
          13,
          14,
          8,
          1,
          13,
          12,
          20,
          9,
          15,
          10,
          7,
          10,
          34,
          22,
          4,
          10,
          10,
          14,
          13,
          9,
          4,
          8,
          16,
          20,
          18,
          18,
          17,
          16,
          9,
          8,
          19,
          22,
          15,
          3,
          34,
          91,
          8,
          6,
          12,
          7,
          5,
          15,
          11,
          17,
          1,
          7,
          11,
          8,
          9,
          16,
          22,
          10,
          2,
          5,
          20,
          26,
          25,
          11,
          8,
          2,
          2,
          6,
          6,
          10,
          7,
          14,
          9,
          6,
          3,
          5,
          3,
          10,
          5,
          3,
          3,
          2,
          7,
          7,
          6,
          9,
          16,
          2,
          8,
          2,
          13,
          5,
          5,
          8,
          6,
          4,
          31,
          10,
          14,
          4,
          9,
          2,
          12,
          22,
          5,
          2,
          28,
          7,
          22,
          8,
          22,
          6,
          9,
          9,
          20,
          20,
          36,
          8,
          5,
          17,
          4,
          13,
          11,
          10,
          18,
          19,
          14,
          6,
          3,
          15,
          11,
          6,
          3,
          8,
          7,
          30,
          3,
          13,
          9,
          9,
          16,
          22,
          7,
          6,
          5,
          10,
          9,
          18,
          10,
          10,
          12,
          8,
          11,
          5,
          7,
          12,
          32,
          9,
          10,
          15,
          10,
          10,
          9,
          20,
          12,
          14,
          11,
          10,
          14,
          15,
          12,
          20,
          20,
          11,
          8,
          20,
          12,
          12,
          23,
          11,
          4,
          5,
          5,
          9,
          9,
          22,
          22,
          22,
          16,
          2,
          10,
          13,
          31,
          10,
          14,
          22,
          10,
          15,
          17,
          3,
          5,
          13,
          9,
          17,
          17,
          12,
          18,
          15,
          15,
          1,
          9,
          9,
          23,
          6,
          20,
          22,
          5,
          26,
          8,
          9,
          10,
          9,
          26,
          10,
          6,
          9,
          8,
          8,
          2,
          14,
          55,
          1,
          1,
          8,
          17,
          3,
          17,
          13,
          2,
          15,
          13,
          14,
          12,
          21,
          3,
          6,
          3,
          8,
          31,
          17,
          3,
          18,
          1,
          13,
          8,
          14,
          2,
          9,
          13,
          23,
          11,
          8,
          17,
          13,
          10,
          2,
          11,
          12,
          11,
          14,
          30,
          15,
          4,
          14,
          15,
          10,
          3,
          4,
          6,
          20,
          12,
          13,
          18,
          8,
          7,
          6,
          33,
          7,
          13,
          22,
          11,
          6,
          8,
          7,
          19,
          6,
          10,
          13,
          26,
          25,
          13,
          12,
          12,
          15,
          4,
          26,
          6,
          11,
          7,
          10,
          30,
          6,
          11
         ],
         "xaxis": "x",
         "y": [
          140,
          100.3,
          95,
          45.6,
          42,
          40,
          40,
          39,
          38,
          33,
          32,
          27,
          25,
          21,
          20,
          20,
          17.5,
          15.5,
          15,
          15,
          15,
          15,
          15,
          13.4,
          13.3,
          13,
          12.6,
          12.4,
          12.3,
          12,
          12,
          12,
          12,
          11.7,
          11.4,
          11.1,
          11,
          11,
          10.2,
          10.88,
          10.7,
          10,
          10,
          10,
          10,
          10,
          10,
          10,
          10,
          9.5,
          9.5,
          9.28,
          9.23,
          9.2,
          9.08,
          9,
          9,
          9,
          9.6,
          8.75,
          8.7,
          8.6,
          8.6,
          8.4,
          8.3,
          8.3,
          8.1,
          8,
          8,
          8,
          8,
          8,
          7.83,
          7.6,
          7.75,
          7.5,
          7.5,
          7.5,
          7.4,
          7.4,
          7.3,
          7.25,
          7.25,
          7.25,
          7.1,
          7,
          7,
          7,
          6.8,
          6.8,
          6.6,
          6.5,
          6.5,
          6.5,
          7.5,
          6.3,
          6.3,
          6.28,
          6.2,
          6.1,
          6.1,
          6,
          6,
          6,
          6,
          6,
          5.2,
          5.99,
          5.78,
          5.77,
          5.7,
          5.7,
          5.7,
          5.7,
          5.7,
          5.6,
          5.6,
          5.3,
          5.3,
          5.25,
          5.25,
          5.2,
          5.1,
          5.1,
          5.05,
          5,
          5,
          5.5,
          5.5,
          5.5,
          5,
          5,
          5,
          5,
          5,
          5,
          5,
          5,
          5,
          5,
          5,
          5,
          5,
          4.9,
          4.8,
          4.8,
          4.73,
          4.7,
          4.6,
          5.85,
          4.6,
          4.6,
          4.6,
          4.58,
          4.53,
          4.5,
          4.5,
          4.5,
          4.58,
          4.4,
          4.4,
          4.7,
          4.3,
          4.3,
          4.2,
          4.25,
          4.2,
          4.2,
          4.2,
          4.2,
          4.15,
          4.1,
          4.11,
          4.1,
          4,
          4.01,
          4,
          4,
          4,
          4,
          4,
          4,
          4,
          4,
          4,
          4,
          4,
          4,
          4,
          4,
          4,
          4,
          4,
          4,
          4,
          4,
          3.92,
          3.8,
          3.8,
          3.8,
          3.75,
          3.75,
          3.75,
          3.75,
          3.7,
          3.7,
          3.7,
          3.7,
          3.7,
          3.7,
          3.7,
          3.6,
          3.6,
          3.6,
          3.6,
          3.52,
          3.5,
          3.5,
          3.5,
          3.5,
          3.5,
          3.5,
          3.5,
          3.5,
          3.5,
          3.5,
          3.5,
          3.5,
          3.5,
          3.5,
          3.44,
          3.4,
          3.4,
          3.35,
          3.35,
          3.35,
          3.32,
          3.31,
          3.3,
          3.3,
          3.3,
          3.3,
          3.3,
          3.25,
          3.24,
          3.2,
          3.2,
          3.2,
          3.2,
          3.2,
          3.2,
          3.2,
          3.2,
          3.15,
          3.15,
          3.1,
          3.1,
          3.1,
          3.1,
          3,
          3,
          3,
          3,
          3,
          3,
          3,
          3,
          3,
          3,
          3,
          3,
          3,
          3,
          3,
          3,
          3,
          3,
          3,
          3,
          3,
          3,
          3.1,
          3,
          3,
          3,
          3,
          3,
          3.3,
          3,
          3,
          3,
          3,
          3,
          2.92,
          2.92,
          2.9,
          2.9,
          2.9,
          2.85,
          2.85,
          2.85,
          2.8,
          2.8,
          2.8,
          2.77,
          2.75,
          2.75,
          2.75,
          2.75,
          2.74,
          3.95,
          2.7,
          2.7,
          2.7,
          2.6,
          2.62,
          2.6,
          2.6,
          2.6,
          2,
          2.62,
          2.5,
          2.5,
          2.5,
          2.5,
          2.5,
          2.5,
          2.5,
          2.5,
          2.5,
          2.5,
          2.5,
          2.5,
          2.5,
          2.5,
          2.45,
          2.45,
          2.44,
          2.41,
          2.41,
          2.4,
          2.4,
          2.4,
          2.4,
          2.4,
          2.4,
          2.4,
          2.62,
          2.35,
          2.35,
          2.34,
          2.32,
          2.31,
          2.3,
          2.3,
          2.3,
          2.3,
          2.3,
          2.3,
          2.27,
          2.26,
          2.25,
          2.25,
          2.25,
          2.2,
          2.2,
          2.2,
          2.2,
          2.2,
          2.2,
          2.2,
          2.2,
          2.2,
          2.19,
          2.19,
          2.18,
          2.17,
          2.17,
          2.15,
          2.15,
          2.1,
          2.1,
          2.1,
          2.1,
          2.1,
          2.1,
          2.1,
          2.1,
          2.1,
          2,
          2,
          2,
          2,
          2,
          2,
          2,
          2,
          2,
          2,
          2,
          2,
          2,
          2,
          2,
          2,
          2,
          2,
          2,
          2,
          2,
          2,
          2,
          2,
          1.05,
          2,
          2,
          2,
          2,
          2.7,
          2.1,
          2,
          2,
          2,
          2,
          2,
          2,
          2,
          2,
          2,
          2,
          2,
          2,
          2,
          2,
          2,
          2,
          2,
          2,
          2,
          2,
          2,
          2,
          2,
          2,
          2,
          2,
          2,
          2,
          2,
          2,
          2,
          2,
          2,
          2,
          2,
          2,
          2,
          1.95,
          1.95,
          1.95,
          1.9,
          1.9,
          1.9,
          1.9,
          1.9,
          1.85,
          1.85,
          1.85,
          1.8,
          1.8,
          1.8,
          1.8,
          1.8,
          1.8,
          1.78,
          1.75,
          1.75,
          1.8,
          1.73,
          1.7,
          1.7,
          1.7,
          1.7,
          1.7,
          1.7,
          1.7,
          1.7,
          1.7,
          1.7,
          1.7,
          1.7,
          1.7,
          1.7,
          1.7,
          1.68,
          1.65,
          1.65,
          1.63,
          1.62,
          1.62,
          1.7,
          1.61,
          1.65,
          1.6,
          1.6,
          1.6,
          1.6,
          2.6,
          1.6,
          1.6,
          1.6,
          1.6,
          1.5,
          1.6,
          1.6,
          1.6,
          1.6,
          1.6,
          1.6,
          1.6,
          1.59,
          1.55,
          1.55,
          1.55,
          1.53,
          1.52,
          1.52,
          1.5,
          1.5,
          1.5,
          1.5,
          1.5,
          1.5,
          1.5,
          1.5,
          1.5,
          1.5,
          1.5,
          1.5,
          1.5,
          1.5,
          1.5,
          1.5,
          1.5,
          2,
          1.5,
          1.5,
          1.5,
          1.5,
          1.5,
          1.5,
          1.5,
          1.5,
          1.5,
          1.5,
          1.5,
          1.5,
          1.5,
          1.5,
          1.5,
          1.5,
          1.5,
          1.5,
          1.5,
          1.5,
          1.5,
          1.5,
          1.5,
          1.5,
          1.5,
          1.5,
          1.5,
          1.5,
          1.5,
          1.5,
          1.5,
          1.5,
          1.5,
          1.5,
          1.49,
          1.48,
          1.45,
          1.45,
          1.45,
          1.45,
          1.45,
          1.45,
          1.45,
          1.44,
          1.43,
          1.42,
          1.4,
          1.4,
          1.4,
          1.4,
          1.4,
          1.4,
          1.4,
          1.4,
          1.4,
          1.4,
          1.4,
          1.4,
          1.4,
          1.4,
          1.4,
          1.4,
          1.4,
          1.4,
          1.4,
          1.4,
          1.4,
          1.4,
          1.4,
          1.4,
          1.4,
          1.4,
          1.4,
          1.4,
          1.4,
          1.38,
          1.38,
          1.35,
          1.35,
          1.35,
          1.35,
          1.35,
          1.35,
          1.34,
          1.33,
          1.33,
          1.32,
          1.32,
          1.32,
          1.32,
          1.32,
          1.31,
          1.31,
          1.3,
          1.3,
          1.3,
          1.3,
          1.3,
          1.3,
          1.3,
          1.3,
          1.3,
          1.3,
          1.3,
          1.3,
          1.3,
          1.3,
          1.3,
          1.3,
          1.3,
          1.3,
          1.3,
          1.29,
          1.28,
          1.28,
          1.28,
          1.27,
          1.25,
          1.25,
          1.25,
          1.25,
          1.25,
          1.25,
          1.25,
          1.25,
          1.25,
          1.25,
          1.24,
          1.24,
          1.23,
          1.23,
          1.22,
          1.22,
          1.22,
          1.2,
          1.2,
          1.2,
          1.2,
          1.2,
          1.2,
          1.2,
          1.2,
          1.2,
          1.2,
          1.2,
          1.2,
          1.3,
          1.2,
          1.2,
          1.2,
          1.2,
          1.2,
          1.2,
          1.2,
          1.2,
          1.2,
          1.2,
          1.2,
          1.2,
          1.2,
          1.2,
          1.2,
          1.2,
          1.2,
          1.2,
          1.2,
          1.4,
          1.2,
          1.2,
          1.2,
          1.2,
          1.2,
          1.2,
          1.2,
          1.2,
          1.15,
          1.19,
          1.19,
          1.18,
          1.17,
          1.17,
          1.17,
          1.16,
          1.16,
          1.15,
          1.15,
          1.15,
          1.15,
          1.15,
          1.15,
          1.14,
          1.13,
          1.12,
          1.1,
          1.1,
          1.1,
          1.1,
          1.1,
          1.1,
          1.1,
          1.1,
          1.1,
          1.1,
          1.1,
          1.1,
          1.1,
          1.1,
          1.1,
          1.1,
          1,
          1.1,
          1.1,
          1.1,
          1.1,
          1.1,
          1.1,
          1.1,
          1.1,
          1.1,
          1.1,
          1.1,
          1.1,
          1.1,
          1.1,
          1.1,
          1.08,
          1.08,
          1.08,
          1.07,
          1.07,
          1.07,
          1.07,
          1.05,
          1.05,
          1.05,
          1.05,
          1.05,
          1.04,
          1.03,
          1.01,
          1,
          1,
          1,
          1,
          1,
          1,
          1,
          1,
          1,
          1,
          1,
          1,
          1,
          1,
          1,
          1,
          1,
          1,
          1,
          1,
          1,
          1,
          1,
          1,
          1,
          1,
          1,
          1,
          1,
          1,
          1,
          1,
          1,
          1,
          1,
          1,
          1,
          1,
          1,
          1,
          1,
          1,
          1,
          1,
          1,
          1,
          1,
          1,
          1,
          1,
          1,
          1,
          1,
          1,
          1,
          1,
          1,
          1,
          1,
          1,
          1,
          1,
          1,
          1,
          1,
          1,
          1,
          1,
          3,
          1,
          1,
          1,
          1,
          1,
          1,
          1,
          1,
          1,
          1,
          1.7,
          1,
          1,
          1,
          1,
          1,
          1,
          1,
          1,
          1,
          1,
          1,
          1,
          1,
          1,
          1,
          1,
          1,
          1,
          1,
          1,
          1,
          1,
          1,
          1,
          1,
          1,
          1,
          1,
          1,
          1,
          1,
          1,
          1,
          1.5,
          1,
          1,
          1.1,
          1.1,
          1,
          1,
          1,
          1,
          1,
          1,
          1,
          1,
          1.05,
          1,
          1,
          1,
          1,
          1,
          1,
          1,
          1,
          1,
          1,
          1,
          1,
          1,
          1,
          1.01,
          1,
          1,
          1,
          1,
          1,
          1,
          1,
          1,
          1,
          1,
          1,
          1,
          1,
          1,
          1,
          1,
          1,
          1,
          1,
          1,
          1,
          1,
          1,
          1,
          1,
          1,
          1,
          1.2,
          1,
          1,
          1,
          1,
          1,
          1,
          1,
          1,
          1,
          1,
          1,
          1,
          1,
          1,
          1,
          1,
          1,
          1,
          1,
          1,
          1,
          1,
          1,
          1,
          1,
          1,
          1,
          1,
          1,
          1,
          1,
          1.1,
          1,
          1,
          1,
          1,
          1,
          1,
          1,
          1,
          1,
          1,
          1,
          1,
          1,
          1,
          1,
          1,
          1,
          1,
          1,
          1,
          1,
          1,
          1,
          1,
          1,
          1,
          1,
          1,
          1,
          1,
          1,
          1,
          1,
          1,
          1,
          1,
          1,
          1,
          1,
          1,
          1,
          1,
          1,
          1,
          1,
          1,
          1,
          1,
          1,
          1
         ],
         "yaxis": "y"
        }
       ],
       "layout": {
        "legend": {
         "tracegroupgap": 0
        },
        "margin": {
         "t": 60
        },
        "showlegend": true,
        "template": {
         "data": {
          "bar": [
           {
            "error_x": {
             "color": "#2a3f5f"
            },
            "error_y": {
             "color": "#2a3f5f"
            },
            "marker": {
             "line": {
              "color": "#E5ECF6",
              "width": 0.5
             },
             "pattern": {
              "fillmode": "overlay",
              "size": 10,
              "solidity": 0.2
             }
            },
            "type": "bar"
           }
          ],
          "barpolar": [
           {
            "marker": {
             "line": {
              "color": "#E5ECF6",
              "width": 0.5
             },
             "pattern": {
              "fillmode": "overlay",
              "size": 10,
              "solidity": 0.2
             }
            },
            "type": "barpolar"
           }
          ],
          "carpet": [
           {
            "aaxis": {
             "endlinecolor": "#2a3f5f",
             "gridcolor": "white",
             "linecolor": "white",
             "minorgridcolor": "white",
             "startlinecolor": "#2a3f5f"
            },
            "baxis": {
             "endlinecolor": "#2a3f5f",
             "gridcolor": "white",
             "linecolor": "white",
             "minorgridcolor": "white",
             "startlinecolor": "#2a3f5f"
            },
            "type": "carpet"
           }
          ],
          "choropleth": [
           {
            "colorbar": {
             "outlinewidth": 0,
             "ticks": ""
            },
            "type": "choropleth"
           }
          ],
          "contour": [
           {
            "colorbar": {
             "outlinewidth": 0,
             "ticks": ""
            },
            "colorscale": [
             [
              0,
              "#0d0887"
             ],
             [
              0.1111111111111111,
              "#46039f"
             ],
             [
              0.2222222222222222,
              "#7201a8"
             ],
             [
              0.3333333333333333,
              "#9c179e"
             ],
             [
              0.4444444444444444,
              "#bd3786"
             ],
             [
              0.5555555555555556,
              "#d8576b"
             ],
             [
              0.6666666666666666,
              "#ed7953"
             ],
             [
              0.7777777777777778,
              "#fb9f3a"
             ],
             [
              0.8888888888888888,
              "#fdca26"
             ],
             [
              1,
              "#f0f921"
             ]
            ],
            "type": "contour"
           }
          ],
          "contourcarpet": [
           {
            "colorbar": {
             "outlinewidth": 0,
             "ticks": ""
            },
            "type": "contourcarpet"
           }
          ],
          "heatmap": [
           {
            "colorbar": {
             "outlinewidth": 0,
             "ticks": ""
            },
            "colorscale": [
             [
              0,
              "#0d0887"
             ],
             [
              0.1111111111111111,
              "#46039f"
             ],
             [
              0.2222222222222222,
              "#7201a8"
             ],
             [
              0.3333333333333333,
              "#9c179e"
             ],
             [
              0.4444444444444444,
              "#bd3786"
             ],
             [
              0.5555555555555556,
              "#d8576b"
             ],
             [
              0.6666666666666666,
              "#ed7953"
             ],
             [
              0.7777777777777778,
              "#fb9f3a"
             ],
             [
              0.8888888888888888,
              "#fdca26"
             ],
             [
              1,
              "#f0f921"
             ]
            ],
            "type": "heatmap"
           }
          ],
          "heatmapgl": [
           {
            "colorbar": {
             "outlinewidth": 0,
             "ticks": ""
            },
            "colorscale": [
             [
              0,
              "#0d0887"
             ],
             [
              0.1111111111111111,
              "#46039f"
             ],
             [
              0.2222222222222222,
              "#7201a8"
             ],
             [
              0.3333333333333333,
              "#9c179e"
             ],
             [
              0.4444444444444444,
              "#bd3786"
             ],
             [
              0.5555555555555556,
              "#d8576b"
             ],
             [
              0.6666666666666666,
              "#ed7953"
             ],
             [
              0.7777777777777778,
              "#fb9f3a"
             ],
             [
              0.8888888888888888,
              "#fdca26"
             ],
             [
              1,
              "#f0f921"
             ]
            ],
            "type": "heatmapgl"
           }
          ],
          "histogram": [
           {
            "marker": {
             "pattern": {
              "fillmode": "overlay",
              "size": 10,
              "solidity": 0.2
             }
            },
            "type": "histogram"
           }
          ],
          "histogram2d": [
           {
            "colorbar": {
             "outlinewidth": 0,
             "ticks": ""
            },
            "colorscale": [
             [
              0,
              "#0d0887"
             ],
             [
              0.1111111111111111,
              "#46039f"
             ],
             [
              0.2222222222222222,
              "#7201a8"
             ],
             [
              0.3333333333333333,
              "#9c179e"
             ],
             [
              0.4444444444444444,
              "#bd3786"
             ],
             [
              0.5555555555555556,
              "#d8576b"
             ],
             [
              0.6666666666666666,
              "#ed7953"
             ],
             [
              0.7777777777777778,
              "#fb9f3a"
             ],
             [
              0.8888888888888888,
              "#fdca26"
             ],
             [
              1,
              "#f0f921"
             ]
            ],
            "type": "histogram2d"
           }
          ],
          "histogram2dcontour": [
           {
            "colorbar": {
             "outlinewidth": 0,
             "ticks": ""
            },
            "colorscale": [
             [
              0,
              "#0d0887"
             ],
             [
              0.1111111111111111,
              "#46039f"
             ],
             [
              0.2222222222222222,
              "#7201a8"
             ],
             [
              0.3333333333333333,
              "#9c179e"
             ],
             [
              0.4444444444444444,
              "#bd3786"
             ],
             [
              0.5555555555555556,
              "#d8576b"
             ],
             [
              0.6666666666666666,
              "#ed7953"
             ],
             [
              0.7777777777777778,
              "#fb9f3a"
             ],
             [
              0.8888888888888888,
              "#fdca26"
             ],
             [
              1,
              "#f0f921"
             ]
            ],
            "type": "histogram2dcontour"
           }
          ],
          "mesh3d": [
           {
            "colorbar": {
             "outlinewidth": 0,
             "ticks": ""
            },
            "type": "mesh3d"
           }
          ],
          "parcoords": [
           {
            "line": {
             "colorbar": {
              "outlinewidth": 0,
              "ticks": ""
             }
            },
            "type": "parcoords"
           }
          ],
          "pie": [
           {
            "automargin": true,
            "type": "pie"
           }
          ],
          "scatter": [
           {
            "fillpattern": {
             "fillmode": "overlay",
             "size": 10,
             "solidity": 0.2
            },
            "type": "scatter"
           }
          ],
          "scatter3d": [
           {
            "line": {
             "colorbar": {
              "outlinewidth": 0,
              "ticks": ""
             }
            },
            "marker": {
             "colorbar": {
              "outlinewidth": 0,
              "ticks": ""
             }
            },
            "type": "scatter3d"
           }
          ],
          "scattercarpet": [
           {
            "marker": {
             "colorbar": {
              "outlinewidth": 0,
              "ticks": ""
             }
            },
            "type": "scattercarpet"
           }
          ],
          "scattergeo": [
           {
            "marker": {
             "colorbar": {
              "outlinewidth": 0,
              "ticks": ""
             }
            },
            "type": "scattergeo"
           }
          ],
          "scattergl": [
           {
            "marker": {
             "colorbar": {
              "outlinewidth": 0,
              "ticks": ""
             }
            },
            "type": "scattergl"
           }
          ],
          "scattermapbox": [
           {
            "marker": {
             "colorbar": {
              "outlinewidth": 0,
              "ticks": ""
             }
            },
            "type": "scattermapbox"
           }
          ],
          "scatterpolar": [
           {
            "marker": {
             "colorbar": {
              "outlinewidth": 0,
              "ticks": ""
             }
            },
            "type": "scatterpolar"
           }
          ],
          "scatterpolargl": [
           {
            "marker": {
             "colorbar": {
              "outlinewidth": 0,
              "ticks": ""
             }
            },
            "type": "scatterpolargl"
           }
          ],
          "scatterternary": [
           {
            "marker": {
             "colorbar": {
              "outlinewidth": 0,
              "ticks": ""
             }
            },
            "type": "scatterternary"
           }
          ],
          "surface": [
           {
            "colorbar": {
             "outlinewidth": 0,
             "ticks": ""
            },
            "colorscale": [
             [
              0,
              "#0d0887"
             ],
             [
              0.1111111111111111,
              "#46039f"
             ],
             [
              0.2222222222222222,
              "#7201a8"
             ],
             [
              0.3333333333333333,
              "#9c179e"
             ],
             [
              0.4444444444444444,
              "#bd3786"
             ],
             [
              0.5555555555555556,
              "#d8576b"
             ],
             [
              0.6666666666666666,
              "#ed7953"
             ],
             [
              0.7777777777777778,
              "#fb9f3a"
             ],
             [
              0.8888888888888888,
              "#fdca26"
             ],
             [
              1,
              "#f0f921"
             ]
            ],
            "type": "surface"
           }
          ],
          "table": [
           {
            "cells": {
             "fill": {
              "color": "#EBF0F8"
             },
             "line": {
              "color": "white"
             }
            },
            "header": {
             "fill": {
              "color": "#C8D4E3"
             },
             "line": {
              "color": "white"
             }
            },
            "type": "table"
           }
          ]
         },
         "layout": {
          "annotationdefaults": {
           "arrowcolor": "#2a3f5f",
           "arrowhead": 0,
           "arrowwidth": 1
          },
          "autotypenumbers": "strict",
          "coloraxis": {
           "colorbar": {
            "outlinewidth": 0,
            "ticks": ""
           }
          },
          "colorscale": {
           "diverging": [
            [
             0,
             "#8e0152"
            ],
            [
             0.1,
             "#c51b7d"
            ],
            [
             0.2,
             "#de77ae"
            ],
            [
             0.3,
             "#f1b6da"
            ],
            [
             0.4,
             "#fde0ef"
            ],
            [
             0.5,
             "#f7f7f7"
            ],
            [
             0.6,
             "#e6f5d0"
            ],
            [
             0.7,
             "#b8e186"
            ],
            [
             0.8,
             "#7fbc41"
            ],
            [
             0.9,
             "#4d9221"
            ],
            [
             1,
             "#276419"
            ]
           ],
           "sequential": [
            [
             0,
             "#0d0887"
            ],
            [
             0.1111111111111111,
             "#46039f"
            ],
            [
             0.2222222222222222,
             "#7201a8"
            ],
            [
             0.3333333333333333,
             "#9c179e"
            ],
            [
             0.4444444444444444,
             "#bd3786"
            ],
            [
             0.5555555555555556,
             "#d8576b"
            ],
            [
             0.6666666666666666,
             "#ed7953"
            ],
            [
             0.7777777777777778,
             "#fb9f3a"
            ],
            [
             0.8888888888888888,
             "#fdca26"
            ],
            [
             1,
             "#f0f921"
            ]
           ],
           "sequentialminus": [
            [
             0,
             "#0d0887"
            ],
            [
             0.1111111111111111,
             "#46039f"
            ],
            [
             0.2222222222222222,
             "#7201a8"
            ],
            [
             0.3333333333333333,
             "#9c179e"
            ],
            [
             0.4444444444444444,
             "#bd3786"
            ],
            [
             0.5555555555555556,
             "#d8576b"
            ],
            [
             0.6666666666666666,
             "#ed7953"
            ],
            [
             0.7777777777777778,
             "#fb9f3a"
            ],
            [
             0.8888888888888888,
             "#fdca26"
            ],
            [
             1,
             "#f0f921"
            ]
           ]
          },
          "colorway": [
           "#636efa",
           "#EF553B",
           "#00cc96",
           "#ab63fa",
           "#FFA15A",
           "#19d3f3",
           "#FF6692",
           "#B6E880",
           "#FF97FF",
           "#FECB52"
          ],
          "font": {
           "color": "#2a3f5f"
          },
          "geo": {
           "bgcolor": "white",
           "lakecolor": "white",
           "landcolor": "#E5ECF6",
           "showlakes": true,
           "showland": true,
           "subunitcolor": "white"
          },
          "hoverlabel": {
           "align": "left"
          },
          "hovermode": "closest",
          "mapbox": {
           "style": "light"
          },
          "paper_bgcolor": "white",
          "plot_bgcolor": "#E5ECF6",
          "polar": {
           "angularaxis": {
            "gridcolor": "white",
            "linecolor": "white",
            "ticks": ""
           },
           "bgcolor": "#E5ECF6",
           "radialaxis": {
            "gridcolor": "white",
            "linecolor": "white",
            "ticks": ""
           }
          },
          "scene": {
           "xaxis": {
            "backgroundcolor": "#E5ECF6",
            "gridcolor": "white",
            "gridwidth": 2,
            "linecolor": "white",
            "showbackground": true,
            "ticks": "",
            "zerolinecolor": "white"
           },
           "yaxis": {
            "backgroundcolor": "#E5ECF6",
            "gridcolor": "white",
            "gridwidth": 2,
            "linecolor": "white",
            "showbackground": true,
            "ticks": "",
            "zerolinecolor": "white"
           },
           "zaxis": {
            "backgroundcolor": "#E5ECF6",
            "gridcolor": "white",
            "gridwidth": 2,
            "linecolor": "white",
            "showbackground": true,
            "ticks": "",
            "zerolinecolor": "white"
           }
          },
          "shapedefaults": {
           "line": {
            "color": "#2a3f5f"
           }
          },
          "ternary": {
           "aaxis": {
            "gridcolor": "white",
            "linecolor": "white",
            "ticks": ""
           },
           "baxis": {
            "gridcolor": "white",
            "linecolor": "white",
            "ticks": ""
           },
           "bgcolor": "#E5ECF6",
           "caxis": {
            "gridcolor": "white",
            "linecolor": "white",
            "ticks": ""
           }
          },
          "title": {
           "x": 0.05
          },
          "xaxis": {
           "automargin": true,
           "gridcolor": "white",
           "linecolor": "white",
           "ticks": "",
           "title": {
            "standoff": 15
           },
           "zerolinecolor": "white",
           "zerolinewidth": 2
          },
          "yaxis": {
           "automargin": true,
           "gridcolor": "white",
           "linecolor": "white",
           "ticks": "",
           "title": {
            "standoff": 15
           },
           "zerolinecolor": "white",
           "zerolinewidth": 2
          }
         }
        },
        "title": {
         "text": "Valorización vs cantidad de inversores por empresa"
        },
        "xaxis": {
         "anchor": "y",
         "domain": [
          0,
          1
         ],
         "title": {
          "text": "Investors Count"
         }
        },
        "yaxis": {
         "anchor": "x",
         "domain": [
          0,
          1
         ],
         "title": {
          "text": "Valuation ($B)"
         }
        }
       }
      }
     },
     "metadata": {},
     "output_type": "display_data"
    }
   ],
   "source": [
    "fig = px.scatter(data_unicornio, x='Investors Count',\n",
    "                 y='Valuation ($B)'\n",
    "                )\n",
    "fig.update_layout(showlegend=True,title_text='Valorización vs cantidad de inversores por empresa')\n",
    "fig.show()"
   ]
  },
  {
   "cell_type": "markdown",
   "metadata": {},
   "source": [
    "---\n",
    "Generando a una nueva columna de valuation\n",
    "sobre 500 hiper unicornio\n",
    "menor a esto unicornio\n",
    "Metricas predicted con las categorias creadas\n",
    "metricas con las dos columnas"
   ]
  },
  {
   "cell_type": "markdown",
   "metadata": {},
   "source": [
    "Creando la nueva columna"
   ]
  },
  {
   "cell_type": "code",
   "execution_count": 42,
   "metadata": {},
   "outputs": [
    {
     "data": {
      "text/html": [
       "<div>\n",
       "<style scoped>\n",
       "    .dataframe tbody tr th:only-of-type {\n",
       "        vertical-align: middle;\n",
       "    }\n",
       "\n",
       "    .dataframe tbody tr th {\n",
       "        vertical-align: top;\n",
       "    }\n",
       "\n",
       "    .dataframe thead th {\n",
       "        text-align: right;\n",
       "    }\n",
       "</style>\n",
       "<table border=\"1\" class=\"dataframe\">\n",
       "  <thead>\n",
       "    <tr style=\"text-align: right;\">\n",
       "      <th></th>\n",
       "      <th>Valuation ($B)</th>\n",
       "      <th>Investors Count</th>\n",
       "      <th>Deal Terms</th>\n",
       "      <th>Portfolio Exits</th>\n",
       "      <th>nuevo tr</th>\n",
       "    </tr>\n",
       "  </thead>\n",
       "  <tbody>\n",
       "    <tr>\n",
       "      <th>count</th>\n",
       "      <td>1037.000000</td>\n",
       "      <td>1037.000000</td>\n",
       "      <td>1037.000000</td>\n",
       "      <td>1037.000000</td>\n",
       "      <td>1.037000e+03</td>\n",
       "    </tr>\n",
       "    <tr>\n",
       "      <th>mean</th>\n",
       "      <td>3.292083</td>\n",
       "      <td>14.418515</td>\n",
       "      <td>3.006750</td>\n",
       "      <td>0.063645</td>\n",
       "      <td>2.287362e+11</td>\n",
       "    </tr>\n",
       "    <tr>\n",
       "      <th>std</th>\n",
       "      <td>7.309781</td>\n",
       "      <td>9.951832</td>\n",
       "      <td>2.189602</td>\n",
       "      <td>0.328503</td>\n",
       "      <td>7.919199e+11</td>\n",
       "    </tr>\n",
       "    <tr>\n",
       "      <th>min</th>\n",
       "      <td>1.000000</td>\n",
       "      <td>0.000000</td>\n",
       "      <td>0.000000</td>\n",
       "      <td>0.000000</td>\n",
       "      <td>0.000000e+00</td>\n",
       "    </tr>\n",
       "    <tr>\n",
       "      <th>25%</th>\n",
       "      <td>1.080000</td>\n",
       "      <td>8.000000</td>\n",
       "      <td>1.000000</td>\n",
       "      <td>0.000000</td>\n",
       "      <td>2.173000e+08</td>\n",
       "    </tr>\n",
       "    <tr>\n",
       "      <th>50%</th>\n",
       "      <td>1.600000</td>\n",
       "      <td>13.000000</td>\n",
       "      <td>3.000000</td>\n",
       "      <td>0.000000</td>\n",
       "      <td>3.686000e+08</td>\n",
       "    </tr>\n",
       "    <tr>\n",
       "      <th>75%</th>\n",
       "      <td>3.100000</td>\n",
       "      <td>19.000000</td>\n",
       "      <td>4.000000</td>\n",
       "      <td>0.000000</td>\n",
       "      <td>6.283000e+08</td>\n",
       "    </tr>\n",
       "    <tr>\n",
       "      <th>max</th>\n",
       "      <td>140.000000</td>\n",
       "      <td>91.000000</td>\n",
       "      <td>19.000000</td>\n",
       "      <td>5.000000</td>\n",
       "      <td>7.440000e+12</td>\n",
       "    </tr>\n",
       "  </tbody>\n",
       "</table>\n",
       "</div>"
      ],
      "text/plain": [
       "       Valuation ($B)  Investors Count   Deal Terms  Portfolio Exits  \\\n",
       "count     1037.000000      1037.000000  1037.000000      1037.000000   \n",
       "mean         3.292083        14.418515     3.006750         0.063645   \n",
       "std          7.309781         9.951832     2.189602         0.328503   \n",
       "min          1.000000         0.000000     0.000000         0.000000   \n",
       "25%          1.080000         8.000000     1.000000         0.000000   \n",
       "50%          1.600000        13.000000     3.000000         0.000000   \n",
       "75%          3.100000        19.000000     4.000000         0.000000   \n",
       "max        140.000000        91.000000    19.000000         5.000000   \n",
       "\n",
       "           nuevo tr  \n",
       "count  1.037000e+03  \n",
       "mean   2.287362e+11  \n",
       "std    7.919199e+11  \n",
       "min    0.000000e+00  \n",
       "25%    2.173000e+08  \n",
       "50%    3.686000e+08  \n",
       "75%    6.283000e+08  \n",
       "max    7.440000e+12  "
      ]
     },
     "execution_count": 42,
     "metadata": {},
     "output_type": "execute_result"
    }
   ],
   "source": [
    "data_unicornio.describe()"
   ]
  },
  {
   "cell_type": "code",
   "execution_count": 43,
   "metadata": {},
   "outputs": [],
   "source": [
    "Categoria=[]\n",
    "for i in data_unicornio['Valuation ($B)']:\n",
    "    if i>50:\n",
    "        Categoria.append('Hiper Unicornios')\n",
    "    elif i<=50:\n",
    "        Categoria.append('Unicornio')\n",
    "data_unicornio['Categoria']=Categoria"
   ]
  },
  {
   "cell_type": "code",
   "execution_count": 44,
   "metadata": {},
   "outputs": [
    {
     "data": {
      "text/html": [
       "<div>\n",
       "<style scoped>\n",
       "    .dataframe tbody tr th:only-of-type {\n",
       "        vertical-align: middle;\n",
       "    }\n",
       "\n",
       "    .dataframe tbody tr th {\n",
       "        vertical-align: top;\n",
       "    }\n",
       "\n",
       "    .dataframe thead th {\n",
       "        text-align: right;\n",
       "    }\n",
       "</style>\n",
       "<table border=\"1\" class=\"dataframe\">\n",
       "  <thead>\n",
       "    <tr style=\"text-align: right;\">\n",
       "      <th></th>\n",
       "      <th>Company</th>\n",
       "      <th>Valuation ($B)</th>\n",
       "      <th>Date Joined</th>\n",
       "      <th>Country</th>\n",
       "      <th>City</th>\n",
       "      <th>Industry</th>\n",
       "      <th>Select Inverstors</th>\n",
       "      <th>Founded Year</th>\n",
       "      <th>Total Raised</th>\n",
       "      <th>Financial Stage</th>\n",
       "      <th>Investors Count</th>\n",
       "      <th>Deal Terms</th>\n",
       "      <th>Portfolio Exits</th>\n",
       "      <th>nuevo tr</th>\n",
       "      <th>Categoria</th>\n",
       "    </tr>\n",
       "  </thead>\n",
       "  <tbody>\n",
       "    <tr>\n",
       "      <th>0</th>\n",
       "      <td>Bytedance</td>\n",
       "      <td>140.0</td>\n",
       "      <td>2017-04-07</td>\n",
       "      <td>China</td>\n",
       "      <td>Beijing</td>\n",
       "      <td>Artificial intelligence</td>\n",
       "      <td>Sequoia Capital China, SIG Asia Investments, S...</td>\n",
       "      <td>2012</td>\n",
       "      <td>$7.44B</td>\n",
       "      <td>IPO</td>\n",
       "      <td>28</td>\n",
       "      <td>8</td>\n",
       "      <td>5</td>\n",
       "      <td>7.440000e+12</td>\n",
       "      <td>Hiper Unicornios</td>\n",
       "    </tr>\n",
       "    <tr>\n",
       "      <th>1</th>\n",
       "      <td>SpaceX</td>\n",
       "      <td>100.3</td>\n",
       "      <td>2012-12-01</td>\n",
       "      <td>United States</td>\n",
       "      <td>Hawthorne</td>\n",
       "      <td>Other</td>\n",
       "      <td>Founders Fund, Draper Fisher Jurvetson, Rothen...</td>\n",
       "      <td>2002</td>\n",
       "      <td>$6.874B</td>\n",
       "      <td>None</td>\n",
       "      <td>29</td>\n",
       "      <td>12</td>\n",
       "      <td>0</td>\n",
       "      <td>6.874000e+12</td>\n",
       "      <td>Hiper Unicornios</td>\n",
       "    </tr>\n",
       "    <tr>\n",
       "      <th>2</th>\n",
       "      <td>Stripe</td>\n",
       "      <td>95.0</td>\n",
       "      <td>2014-01-23</td>\n",
       "      <td>United States</td>\n",
       "      <td>San Francisco</td>\n",
       "      <td>Fintech</td>\n",
       "      <td>Khosla Ventures, LowercaseCapital, capitalG</td>\n",
       "      <td>2010</td>\n",
       "      <td>$2.901B</td>\n",
       "      <td>Asset</td>\n",
       "      <td>39</td>\n",
       "      <td>12</td>\n",
       "      <td>1</td>\n",
       "      <td>2.901000e+12</td>\n",
       "      <td>Hiper Unicornios</td>\n",
       "    </tr>\n",
       "    <tr>\n",
       "      <th>3</th>\n",
       "      <td>Klarna</td>\n",
       "      <td>45.6</td>\n",
       "      <td>2011-12-12</td>\n",
       "      <td>Sweden</td>\n",
       "      <td>Stockholm</td>\n",
       "      <td>Fintech</td>\n",
       "      <td>Institutional Venture Partners, Sequoia Capita...</td>\n",
       "      <td>2005</td>\n",
       "      <td>$3.472B</td>\n",
       "      <td>Acquired</td>\n",
       "      <td>56</td>\n",
       "      <td>13</td>\n",
       "      <td>1</td>\n",
       "      <td>3.472000e+12</td>\n",
       "      <td>Unicornio</td>\n",
       "    </tr>\n",
       "    <tr>\n",
       "      <th>4</th>\n",
       "      <td>Epic Games</td>\n",
       "      <td>42.0</td>\n",
       "      <td>2018-10-26</td>\n",
       "      <td>United States</td>\n",
       "      <td>Cary</td>\n",
       "      <td>Other</td>\n",
       "      <td>Tencent Holdings, KKR, Smash Ventures</td>\n",
       "      <td>1991</td>\n",
       "      <td>$4.377B</td>\n",
       "      <td>Acquired</td>\n",
       "      <td>25</td>\n",
       "      <td>5</td>\n",
       "      <td>2</td>\n",
       "      <td>4.377000e+12</td>\n",
       "      <td>Unicornio</td>\n",
       "    </tr>\n",
       "    <tr>\n",
       "      <th>...</th>\n",
       "      <td>...</td>\n",
       "      <td>...</td>\n",
       "      <td>...</td>\n",
       "      <td>...</td>\n",
       "      <td>...</td>\n",
       "      <td>...</td>\n",
       "      <td>...</td>\n",
       "      <td>...</td>\n",
       "      <td>...</td>\n",
       "      <td>...</td>\n",
       "      <td>...</td>\n",
       "      <td>...</td>\n",
       "      <td>...</td>\n",
       "      <td>...</td>\n",
       "      <td>...</td>\n",
       "    </tr>\n",
       "    <tr>\n",
       "      <th>1032</th>\n",
       "      <td>Timescale</td>\n",
       "      <td>1.0</td>\n",
       "      <td>2022-02-22</td>\n",
       "      <td>United States</td>\n",
       "      <td>New York</td>\n",
       "      <td>Internet software &amp; services</td>\n",
       "      <td>New Enterprise Associates, Benchmark, Two Sigm...</td>\n",
       "      <td>2015</td>\n",
       "      <td>$181.06M</td>\n",
       "      <td>None</td>\n",
       "      <td>7</td>\n",
       "      <td>2</td>\n",
       "      <td>0</td>\n",
       "      <td>1.810600e+08</td>\n",
       "      <td>Unicornio</td>\n",
       "    </tr>\n",
       "    <tr>\n",
       "      <th>1033</th>\n",
       "      <td>Scalapay</td>\n",
       "      <td>1.0</td>\n",
       "      <td>2022-02-23</td>\n",
       "      <td>Italy</td>\n",
       "      <td>Milan</td>\n",
       "      <td>Fintech</td>\n",
       "      <td>Fasanara Capital, Tiger Global Management, Bal...</td>\n",
       "      <td>2019</td>\n",
       "      <td>$700M</td>\n",
       "      <td>None</td>\n",
       "      <td>10</td>\n",
       "      <td>2</td>\n",
       "      <td>0</td>\n",
       "      <td>7.000000e+08</td>\n",
       "      <td>Unicornio</td>\n",
       "    </tr>\n",
       "    <tr>\n",
       "      <th>1034</th>\n",
       "      <td>Omada Health</td>\n",
       "      <td>1.0</td>\n",
       "      <td>2022-02-23</td>\n",
       "      <td>United States</td>\n",
       "      <td>San Francisco</td>\n",
       "      <td>Health</td>\n",
       "      <td>U.S. Venture Partners, dRx Capital, Andreessen...</td>\n",
       "      <td>2011</td>\n",
       "      <td>$449.72M</td>\n",
       "      <td>None</td>\n",
       "      <td>30</td>\n",
       "      <td>6</td>\n",
       "      <td>0</td>\n",
       "      <td>4.497200e+08</td>\n",
       "      <td>Unicornio</td>\n",
       "    </tr>\n",
       "    <tr>\n",
       "      <th>1035</th>\n",
       "      <td>BlueVoyant</td>\n",
       "      <td>1.0</td>\n",
       "      <td>2022-02-23</td>\n",
       "      <td>United States</td>\n",
       "      <td>New York</td>\n",
       "      <td>Cybersecurity</td>\n",
       "      <td>8VC, Liberty Strategic Capital, Eden Global Pa...</td>\n",
       "      <td>2017</td>\n",
       "      <td>$525.5M</td>\n",
       "      <td>None</td>\n",
       "      <td>6</td>\n",
       "      <td>2</td>\n",
       "      <td>0</td>\n",
       "      <td>5.255000e+08</td>\n",
       "      <td>Unicornio</td>\n",
       "    </tr>\n",
       "    <tr>\n",
       "      <th>1036</th>\n",
       "      <td>Veev</td>\n",
       "      <td>1.0</td>\n",
       "      <td>2022-02-24</td>\n",
       "      <td>United States</td>\n",
       "      <td>San Mateo</td>\n",
       "      <td>Internet software &amp; services</td>\n",
       "      <td>Zeev Ventures, Bond, Fifth Wall Ventures</td>\n",
       "      <td>2008</td>\n",
       "      <td>$604.5M</td>\n",
       "      <td>None</td>\n",
       "      <td>11</td>\n",
       "      <td>1</td>\n",
       "      <td>0</td>\n",
       "      <td>6.045000e+08</td>\n",
       "      <td>Unicornio</td>\n",
       "    </tr>\n",
       "  </tbody>\n",
       "</table>\n",
       "<p>1037 rows × 15 columns</p>\n",
       "</div>"
      ],
      "text/plain": [
       "           Company  Valuation ($B) Date Joined        Country           City  \\\n",
       "0        Bytedance           140.0  2017-04-07          China        Beijing   \n",
       "1           SpaceX           100.3  2012-12-01  United States      Hawthorne   \n",
       "2           Stripe            95.0  2014-01-23  United States  San Francisco   \n",
       "3           Klarna            45.6  2011-12-12         Sweden      Stockholm   \n",
       "4       Epic Games            42.0  2018-10-26  United States           Cary   \n",
       "...            ...             ...         ...            ...            ...   \n",
       "1032     Timescale             1.0  2022-02-22  United States       New York   \n",
       "1033      Scalapay             1.0  2022-02-23          Italy          Milan   \n",
       "1034  Omada Health             1.0  2022-02-23  United States  San Francisco   \n",
       "1035    BlueVoyant             1.0  2022-02-23  United States       New York   \n",
       "1036          Veev             1.0  2022-02-24  United States      San Mateo   \n",
       "\n",
       "                          Industry  \\\n",
       "0          Artificial intelligence   \n",
       "1                            Other   \n",
       "2                          Fintech   \n",
       "3                          Fintech   \n",
       "4                            Other   \n",
       "...                            ...   \n",
       "1032  Internet software & services   \n",
       "1033                       Fintech   \n",
       "1034                        Health   \n",
       "1035                 Cybersecurity   \n",
       "1036  Internet software & services   \n",
       "\n",
       "                                      Select Inverstors Founded Year  \\\n",
       "0     Sequoia Capital China, SIG Asia Investments, S...         2012   \n",
       "1     Founders Fund, Draper Fisher Jurvetson, Rothen...         2002   \n",
       "2           Khosla Ventures, LowercaseCapital, capitalG         2010   \n",
       "3     Institutional Venture Partners, Sequoia Capita...         2005   \n",
       "4                 Tencent Holdings, KKR, Smash Ventures         1991   \n",
       "...                                                 ...          ...   \n",
       "1032  New Enterprise Associates, Benchmark, Two Sigm...         2015   \n",
       "1033  Fasanara Capital, Tiger Global Management, Bal...         2019   \n",
       "1034  U.S. Venture Partners, dRx Capital, Andreessen...         2011   \n",
       "1035  8VC, Liberty Strategic Capital, Eden Global Pa...         2017   \n",
       "1036           Zeev Ventures, Bond, Fifth Wall Ventures         2008   \n",
       "\n",
       "     Total Raised Financial Stage  Investors Count  Deal Terms  \\\n",
       "0          $7.44B             IPO               28           8   \n",
       "1         $6.874B            None               29          12   \n",
       "2         $2.901B           Asset               39          12   \n",
       "3         $3.472B        Acquired               56          13   \n",
       "4         $4.377B        Acquired               25           5   \n",
       "...           ...             ...              ...         ...   \n",
       "1032     $181.06M            None                7           2   \n",
       "1033        $700M            None               10           2   \n",
       "1034     $449.72M            None               30           6   \n",
       "1035      $525.5M            None                6           2   \n",
       "1036      $604.5M            None               11           1   \n",
       "\n",
       "      Portfolio Exits      nuevo tr         Categoria  \n",
       "0                   5  7.440000e+12  Hiper Unicornios  \n",
       "1                   0  6.874000e+12  Hiper Unicornios  \n",
       "2                   1  2.901000e+12  Hiper Unicornios  \n",
       "3                   1  3.472000e+12         Unicornio  \n",
       "4                   2  4.377000e+12         Unicornio  \n",
       "...               ...           ...               ...  \n",
       "1032                0  1.810600e+08         Unicornio  \n",
       "1033                0  7.000000e+08         Unicornio  \n",
       "1034                0  4.497200e+08         Unicornio  \n",
       "1035                0  5.255000e+08         Unicornio  \n",
       "1036                0  6.045000e+08         Unicornio  \n",
       "\n",
       "[1037 rows x 15 columns]"
      ]
     },
     "execution_count": 44,
     "metadata": {},
     "output_type": "execute_result"
    }
   ],
   "source": [
    "data_unicornio"
   ]
  },
  {
   "cell_type": "markdown",
   "metadata": {},
   "source": [
    "Creando columna predicted"
   ]
  },
  {
   "cell_type": "code",
   "execution_count": 45,
   "metadata": {},
   "outputs": [],
   "source": [
    "c=[]\n",
    "import random\n",
    "lista = [\"Hiper Unicornios\", \"Unicornio\"]\n",
    "for i in range(0, len(data_unicornio[\"Valuation ($B)\"])):\n",
    "    x = random.choice(lista)\n",
    "    c.append(x)\n",
    "data_unicornio['Prediction']=c"
   ]
  },
  {
   "cell_type": "code",
   "execution_count": 46,
   "metadata": {},
   "outputs": [
    {
     "data": {
      "text/html": [
       "<div>\n",
       "<style scoped>\n",
       "    .dataframe tbody tr th:only-of-type {\n",
       "        vertical-align: middle;\n",
       "    }\n",
       "\n",
       "    .dataframe tbody tr th {\n",
       "        vertical-align: top;\n",
       "    }\n",
       "\n",
       "    .dataframe thead th {\n",
       "        text-align: right;\n",
       "    }\n",
       "</style>\n",
       "<table border=\"1\" class=\"dataframe\">\n",
       "  <thead>\n",
       "    <tr style=\"text-align: right;\">\n",
       "      <th></th>\n",
       "      <th>Company</th>\n",
       "      <th>Valuation ($B)</th>\n",
       "      <th>Date Joined</th>\n",
       "      <th>Country</th>\n",
       "      <th>City</th>\n",
       "      <th>Industry</th>\n",
       "      <th>Select Inverstors</th>\n",
       "      <th>Founded Year</th>\n",
       "      <th>Total Raised</th>\n",
       "      <th>Financial Stage</th>\n",
       "      <th>Investors Count</th>\n",
       "      <th>Deal Terms</th>\n",
       "      <th>Portfolio Exits</th>\n",
       "      <th>nuevo tr</th>\n",
       "      <th>Categoria</th>\n",
       "      <th>Prediction</th>\n",
       "    </tr>\n",
       "  </thead>\n",
       "  <tbody>\n",
       "    <tr>\n",
       "      <th>0</th>\n",
       "      <td>Bytedance</td>\n",
       "      <td>140.0</td>\n",
       "      <td>2017-04-07</td>\n",
       "      <td>China</td>\n",
       "      <td>Beijing</td>\n",
       "      <td>Artificial intelligence</td>\n",
       "      <td>Sequoia Capital China, SIG Asia Investments, S...</td>\n",
       "      <td>2012</td>\n",
       "      <td>$7.44B</td>\n",
       "      <td>IPO</td>\n",
       "      <td>28</td>\n",
       "      <td>8</td>\n",
       "      <td>5</td>\n",
       "      <td>7.440000e+12</td>\n",
       "      <td>Hiper Unicornios</td>\n",
       "      <td>Hiper Unicornios</td>\n",
       "    </tr>\n",
       "    <tr>\n",
       "      <th>1</th>\n",
       "      <td>SpaceX</td>\n",
       "      <td>100.3</td>\n",
       "      <td>2012-12-01</td>\n",
       "      <td>United States</td>\n",
       "      <td>Hawthorne</td>\n",
       "      <td>Other</td>\n",
       "      <td>Founders Fund, Draper Fisher Jurvetson, Rothen...</td>\n",
       "      <td>2002</td>\n",
       "      <td>$6.874B</td>\n",
       "      <td>None</td>\n",
       "      <td>29</td>\n",
       "      <td>12</td>\n",
       "      <td>0</td>\n",
       "      <td>6.874000e+12</td>\n",
       "      <td>Hiper Unicornios</td>\n",
       "      <td>Unicornio</td>\n",
       "    </tr>\n",
       "    <tr>\n",
       "      <th>2</th>\n",
       "      <td>Stripe</td>\n",
       "      <td>95.0</td>\n",
       "      <td>2014-01-23</td>\n",
       "      <td>United States</td>\n",
       "      <td>San Francisco</td>\n",
       "      <td>Fintech</td>\n",
       "      <td>Khosla Ventures, LowercaseCapital, capitalG</td>\n",
       "      <td>2010</td>\n",
       "      <td>$2.901B</td>\n",
       "      <td>Asset</td>\n",
       "      <td>39</td>\n",
       "      <td>12</td>\n",
       "      <td>1</td>\n",
       "      <td>2.901000e+12</td>\n",
       "      <td>Hiper Unicornios</td>\n",
       "      <td>Unicornio</td>\n",
       "    </tr>\n",
       "    <tr>\n",
       "      <th>3</th>\n",
       "      <td>Klarna</td>\n",
       "      <td>45.6</td>\n",
       "      <td>2011-12-12</td>\n",
       "      <td>Sweden</td>\n",
       "      <td>Stockholm</td>\n",
       "      <td>Fintech</td>\n",
       "      <td>Institutional Venture Partners, Sequoia Capita...</td>\n",
       "      <td>2005</td>\n",
       "      <td>$3.472B</td>\n",
       "      <td>Acquired</td>\n",
       "      <td>56</td>\n",
       "      <td>13</td>\n",
       "      <td>1</td>\n",
       "      <td>3.472000e+12</td>\n",
       "      <td>Unicornio</td>\n",
       "      <td>Unicornio</td>\n",
       "    </tr>\n",
       "    <tr>\n",
       "      <th>4</th>\n",
       "      <td>Epic Games</td>\n",
       "      <td>42.0</td>\n",
       "      <td>2018-10-26</td>\n",
       "      <td>United States</td>\n",
       "      <td>Cary</td>\n",
       "      <td>Other</td>\n",
       "      <td>Tencent Holdings, KKR, Smash Ventures</td>\n",
       "      <td>1991</td>\n",
       "      <td>$4.377B</td>\n",
       "      <td>Acquired</td>\n",
       "      <td>25</td>\n",
       "      <td>5</td>\n",
       "      <td>2</td>\n",
       "      <td>4.377000e+12</td>\n",
       "      <td>Unicornio</td>\n",
       "      <td>Hiper Unicornios</td>\n",
       "    </tr>\n",
       "    <tr>\n",
       "      <th>...</th>\n",
       "      <td>...</td>\n",
       "      <td>...</td>\n",
       "      <td>...</td>\n",
       "      <td>...</td>\n",
       "      <td>...</td>\n",
       "      <td>...</td>\n",
       "      <td>...</td>\n",
       "      <td>...</td>\n",
       "      <td>...</td>\n",
       "      <td>...</td>\n",
       "      <td>...</td>\n",
       "      <td>...</td>\n",
       "      <td>...</td>\n",
       "      <td>...</td>\n",
       "      <td>...</td>\n",
       "      <td>...</td>\n",
       "    </tr>\n",
       "    <tr>\n",
       "      <th>1032</th>\n",
       "      <td>Timescale</td>\n",
       "      <td>1.0</td>\n",
       "      <td>2022-02-22</td>\n",
       "      <td>United States</td>\n",
       "      <td>New York</td>\n",
       "      <td>Internet software &amp; services</td>\n",
       "      <td>New Enterprise Associates, Benchmark, Two Sigm...</td>\n",
       "      <td>2015</td>\n",
       "      <td>$181.06M</td>\n",
       "      <td>None</td>\n",
       "      <td>7</td>\n",
       "      <td>2</td>\n",
       "      <td>0</td>\n",
       "      <td>1.810600e+08</td>\n",
       "      <td>Unicornio</td>\n",
       "      <td>Unicornio</td>\n",
       "    </tr>\n",
       "    <tr>\n",
       "      <th>1033</th>\n",
       "      <td>Scalapay</td>\n",
       "      <td>1.0</td>\n",
       "      <td>2022-02-23</td>\n",
       "      <td>Italy</td>\n",
       "      <td>Milan</td>\n",
       "      <td>Fintech</td>\n",
       "      <td>Fasanara Capital, Tiger Global Management, Bal...</td>\n",
       "      <td>2019</td>\n",
       "      <td>$700M</td>\n",
       "      <td>None</td>\n",
       "      <td>10</td>\n",
       "      <td>2</td>\n",
       "      <td>0</td>\n",
       "      <td>7.000000e+08</td>\n",
       "      <td>Unicornio</td>\n",
       "      <td>Hiper Unicornios</td>\n",
       "    </tr>\n",
       "    <tr>\n",
       "      <th>1034</th>\n",
       "      <td>Omada Health</td>\n",
       "      <td>1.0</td>\n",
       "      <td>2022-02-23</td>\n",
       "      <td>United States</td>\n",
       "      <td>San Francisco</td>\n",
       "      <td>Health</td>\n",
       "      <td>U.S. Venture Partners, dRx Capital, Andreessen...</td>\n",
       "      <td>2011</td>\n",
       "      <td>$449.72M</td>\n",
       "      <td>None</td>\n",
       "      <td>30</td>\n",
       "      <td>6</td>\n",
       "      <td>0</td>\n",
       "      <td>4.497200e+08</td>\n",
       "      <td>Unicornio</td>\n",
       "      <td>Hiper Unicornios</td>\n",
       "    </tr>\n",
       "    <tr>\n",
       "      <th>1035</th>\n",
       "      <td>BlueVoyant</td>\n",
       "      <td>1.0</td>\n",
       "      <td>2022-02-23</td>\n",
       "      <td>United States</td>\n",
       "      <td>New York</td>\n",
       "      <td>Cybersecurity</td>\n",
       "      <td>8VC, Liberty Strategic Capital, Eden Global Pa...</td>\n",
       "      <td>2017</td>\n",
       "      <td>$525.5M</td>\n",
       "      <td>None</td>\n",
       "      <td>6</td>\n",
       "      <td>2</td>\n",
       "      <td>0</td>\n",
       "      <td>5.255000e+08</td>\n",
       "      <td>Unicornio</td>\n",
       "      <td>Unicornio</td>\n",
       "    </tr>\n",
       "    <tr>\n",
       "      <th>1036</th>\n",
       "      <td>Veev</td>\n",
       "      <td>1.0</td>\n",
       "      <td>2022-02-24</td>\n",
       "      <td>United States</td>\n",
       "      <td>San Mateo</td>\n",
       "      <td>Internet software &amp; services</td>\n",
       "      <td>Zeev Ventures, Bond, Fifth Wall Ventures</td>\n",
       "      <td>2008</td>\n",
       "      <td>$604.5M</td>\n",
       "      <td>None</td>\n",
       "      <td>11</td>\n",
       "      <td>1</td>\n",
       "      <td>0</td>\n",
       "      <td>6.045000e+08</td>\n",
       "      <td>Unicornio</td>\n",
       "      <td>Unicornio</td>\n",
       "    </tr>\n",
       "  </tbody>\n",
       "</table>\n",
       "<p>1037 rows × 16 columns</p>\n",
       "</div>"
      ],
      "text/plain": [
       "           Company  Valuation ($B) Date Joined        Country           City  \\\n",
       "0        Bytedance           140.0  2017-04-07          China        Beijing   \n",
       "1           SpaceX           100.3  2012-12-01  United States      Hawthorne   \n",
       "2           Stripe            95.0  2014-01-23  United States  San Francisco   \n",
       "3           Klarna            45.6  2011-12-12         Sweden      Stockholm   \n",
       "4       Epic Games            42.0  2018-10-26  United States           Cary   \n",
       "...            ...             ...         ...            ...            ...   \n",
       "1032     Timescale             1.0  2022-02-22  United States       New York   \n",
       "1033      Scalapay             1.0  2022-02-23          Italy          Milan   \n",
       "1034  Omada Health             1.0  2022-02-23  United States  San Francisco   \n",
       "1035    BlueVoyant             1.0  2022-02-23  United States       New York   \n",
       "1036          Veev             1.0  2022-02-24  United States      San Mateo   \n",
       "\n",
       "                          Industry  \\\n",
       "0          Artificial intelligence   \n",
       "1                            Other   \n",
       "2                          Fintech   \n",
       "3                          Fintech   \n",
       "4                            Other   \n",
       "...                            ...   \n",
       "1032  Internet software & services   \n",
       "1033                       Fintech   \n",
       "1034                        Health   \n",
       "1035                 Cybersecurity   \n",
       "1036  Internet software & services   \n",
       "\n",
       "                                      Select Inverstors Founded Year  \\\n",
       "0     Sequoia Capital China, SIG Asia Investments, S...         2012   \n",
       "1     Founders Fund, Draper Fisher Jurvetson, Rothen...         2002   \n",
       "2           Khosla Ventures, LowercaseCapital, capitalG         2010   \n",
       "3     Institutional Venture Partners, Sequoia Capita...         2005   \n",
       "4                 Tencent Holdings, KKR, Smash Ventures         1991   \n",
       "...                                                 ...          ...   \n",
       "1032  New Enterprise Associates, Benchmark, Two Sigm...         2015   \n",
       "1033  Fasanara Capital, Tiger Global Management, Bal...         2019   \n",
       "1034  U.S. Venture Partners, dRx Capital, Andreessen...         2011   \n",
       "1035  8VC, Liberty Strategic Capital, Eden Global Pa...         2017   \n",
       "1036           Zeev Ventures, Bond, Fifth Wall Ventures         2008   \n",
       "\n",
       "     Total Raised Financial Stage  Investors Count  Deal Terms  \\\n",
       "0          $7.44B             IPO               28           8   \n",
       "1         $6.874B            None               29          12   \n",
       "2         $2.901B           Asset               39          12   \n",
       "3         $3.472B        Acquired               56          13   \n",
       "4         $4.377B        Acquired               25           5   \n",
       "...           ...             ...              ...         ...   \n",
       "1032     $181.06M            None                7           2   \n",
       "1033        $700M            None               10           2   \n",
       "1034     $449.72M            None               30           6   \n",
       "1035      $525.5M            None                6           2   \n",
       "1036      $604.5M            None               11           1   \n",
       "\n",
       "      Portfolio Exits      nuevo tr         Categoria        Prediction  \n",
       "0                   5  7.440000e+12  Hiper Unicornios  Hiper Unicornios  \n",
       "1                   0  6.874000e+12  Hiper Unicornios         Unicornio  \n",
       "2                   1  2.901000e+12  Hiper Unicornios         Unicornio  \n",
       "3                   1  3.472000e+12         Unicornio         Unicornio  \n",
       "4                   2  4.377000e+12         Unicornio  Hiper Unicornios  \n",
       "...               ...           ...               ...               ...  \n",
       "1032                0  1.810600e+08         Unicornio         Unicornio  \n",
       "1033                0  7.000000e+08         Unicornio  Hiper Unicornios  \n",
       "1034                0  4.497200e+08         Unicornio  Hiper Unicornios  \n",
       "1035                0  5.255000e+08         Unicornio         Unicornio  \n",
       "1036                0  6.045000e+08         Unicornio         Unicornio  \n",
       "\n",
       "[1037 rows x 16 columns]"
      ]
     },
     "execution_count": 46,
     "metadata": {},
     "output_type": "execute_result"
    }
   ],
   "source": [
    "data_unicornio"
   ]
  },
  {
   "cell_type": "markdown",
   "metadata": {},
   "source": [
    "Generando matriz de confusion"
   ]
  },
  {
   "cell_type": "code",
   "execution_count": 47,
   "metadata": {},
   "outputs": [],
   "source": [
    "from sklearn import metrics"
   ]
  },
  {
   "cell_type": "code",
   "execution_count": 48,
   "metadata": {},
   "outputs": [],
   "source": [
    "cm = metrics.confusion_matrix(data_unicornio['Categoria'],data_unicornio['Prediction'])"
   ]
  },
  {
   "cell_type": "code",
   "execution_count": 49,
   "metadata": {},
   "outputs": [
    {
     "data": {
      "text/plain": [
       "array([  1,   2, 499, 535])"
      ]
     },
     "execution_count": 49,
     "metadata": {},
     "output_type": "execute_result"
    }
   ],
   "source": [
    "cm.ravel()"
   ]
  },
  {
   "cell_type": "code",
   "execution_count": 50,
   "metadata": {},
   "outputs": [],
   "source": [
    "tn, fp, fn, tp = cm.ravel()"
   ]
  },
  {
   "cell_type": "code",
   "execution_count": 51,
   "metadata": {},
   "outputs": [
    {
     "name": "stdout",
     "output_type": "stream",
     "text": [
      "la cantidad de verdaderos positivos es: 535\n",
      " la cantidad de verdaderos negativos es: 1\n",
      " la cantidad de falsos positivos es: 2\n",
      " la cantidad de falsos negativos es: 499 \n"
     ]
    }
   ],
   "source": [
    "print(f'la cantidad de verdaderos positivos es: {tp}\\n la cantidad de verdaderos negativos es: {tn}\\n la cantidad de falsos positivos es: {fp}\\n la cantidad de falsos negativos es: {fn} ')"
   ]
  },
  {
   "cell_type": "markdown",
   "metadata": {},
   "source": [
    "Muy sesgada la clasifición, o clasifica bien o clasifica muy mal"
   ]
  },
  {
   "cell_type": "code",
   "execution_count": 52,
   "metadata": {},
   "outputs": [
    {
     "name": "stdout",
     "output_type": "stream",
     "text": [
      "Sensitivity: 0.517\n",
      "Specificity: 0.333\n",
      "Precisión: 0.996\n",
      "Type 1 Error Rate: 0.667\n",
      "Type 2 Error Rate: 0.483\n"
     ]
    }
   ],
   "source": [
    "sensitivity = tp/ (tp + fn)\n",
    "specificity = tn / (tn + fp)\n",
    "precision=tp/(tp+fp)\n",
    "type_one_error = 1 - specificity\n",
    "type_two_error = 1 - sensitivity\n",
    "print('Sensitivity: {:.3f}'.format(sensitivity))\n",
    "print('Specificity: {:.3f}'.format(specificity))\n",
    "print('Precisión: {:.3f}'.format(precision))\n",
    "print('Type 1 Error Rate: {:.3f}'.format(type_one_error))\n",
    "print('Type 2 Error Rate: {:.3f}'.format(type_two_error))"
   ]
  },
  {
   "cell_type": "markdown",
   "metadata": {},
   "source": [
    "Claramente generó una precision muy alta pero esto esta mal debido a que la tasa de error tipo 2 es muy alta, que indica lo que se creia desde antes, o clasifica bien o clasifica mal"
   ]
  }
 ],
 "metadata": {
  "interpreter": {
   "hash": "82f297aed5a1f891a9c998abd3debcb12192d16a341539449b62f39c7e199530"
  },
  "kernelspec": {
   "display_name": "Python 3.9.11 ('myenv')",
   "language": "python",
   "name": "python3"
  },
  "language_info": {
   "codemirror_mode": {
    "name": "ipython",
    "version": 3
   },
   "file_extension": ".py",
   "mimetype": "text/x-python",
   "name": "python",
   "nbconvert_exporter": "python",
   "pygments_lexer": "ipython3",
   "version": "3.9.7"
  },
  "orig_nbformat": 4
 },
 "nbformat": 4,
 "nbformat_minor": 2
}
