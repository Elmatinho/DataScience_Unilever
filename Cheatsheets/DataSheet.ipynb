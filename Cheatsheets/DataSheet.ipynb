{
 "cells": [
  {
   "cell_type": "markdown",
   "metadata": {},
   "source": [
    "## Importando librerías"
   ]
  },
  {
   "cell_type": "code",
   "execution_count": null,
   "metadata": {},
   "outputs": [],
   "source": [
    "import pandas as pd\n",
    "import numpy as np\n",
    "import seaborn as sns\n",
    "import matplotlib.pyplot as plt\n",
    "import plotly.express as px\n",
    "from sklearn import metrics"
   ]
  },
  {
   "cell_type": "markdown",
   "metadata": {},
   "source": [
    "## Para leer bases"
   ]
  },
  {
   "cell_type": "code",
   "execution_count": null,
   "metadata": {},
   "outputs": [],
   "source": [
    "# si es csv\n",
    "archivo='/Users/matiasinostrozacifuentes/Desktop/python_intro/DataScience_Unilever/Semana_4/Data/Unicorn_Companies.csv'\n",
    "data_unicornio=pd.read_csv(archivo)\n",
    "\n",
    "# si tiene problemas\n",
    "archivo='/Users/matiasinostrozacifuentes/Desktop/python_intro/DataScience_Unilever/Semana_4/Data/Unicorn_Companies.csv'\n",
    "data_unicornio=pd.read_csv(archivo,encoding='windows-1254')\n",
    "\n",
    "#si es excel\n",
    "archivo='/Users/matiasinostrozacifuentes/Desktop/python_intro/DataScience_Unilever/Semana_4/Data/catsvdogs.xlsx'\n",
    "data=pd.read_excel(archivo)"
   ]
  },
  {
   "cell_type": "markdown",
   "metadata": {},
   "source": [
    "## Primeras impresiones de las bases"
   ]
  },
  {
   "cell_type": "code",
   "execution_count": null,
   "metadata": {},
   "outputs": [],
   "source": [
    "data #la data\n",
    "data.head() # head\n",
    "data.info() #información para saber nulos\n",
    "data.describe() #información para saber valores raros númericos\n",
    "data.isna().sum() #contando NaN\n",
    "\n",
    "for i in data_unicornio:\n",
    "    x= 'None' in data_unicornio[i].values\n",
    "    print(f'¿en la columna {i} existen none ? {x}') #Forma de buscar valores raros que no sean NaN\n",
    "\n",
    "data.duplicated().sum() #para ver la cantidad de duplicados\n",
    "data.drop_duplicates() #eliminar duplicados\n",
    "\n",
    "\n"
   ]
  },
  {
   "cell_type": "markdown",
   "metadata": {},
   "source": [
    "## Reemplazando NaN"
   ]
  },
  {
   "cell_type": "code",
   "execution_count": null,
   "metadata": {},
   "outputs": [],
   "source": [
    "predicciones_df.loc[ predicciones_df['Item_Weight'].isna(), :] #ubicando los NaN en el data set\n",
    "\n",
    "data['start_station_name']=data.loc[: ,'start_station_name'].fillna(value='No informado') #Rellenando una columna con un valor especifico\n",
    "data['start_station_name']=data.loc[: ,'start_station_name'].fillna(method='ffill') #Rellenando NaN con los valores anteriores\n",
    "data['start_station_name']=data.loc[: ,'start_station_name'].fillna(method='bfill') #Rellenando NaN con valores posteriores\n",
    "data['start_station_name']=data.loc[: ,'start_station_name'].fillna(method='linear') #Rellenando NaN con valores interpolados\n",
    "\n",
    "\n"
   ]
  },
  {
   "cell_type": "markdown",
   "metadata": {},
   "source": [
    "## Reemplazando valores"
   ]
  },
  {
   "cell_type": "code",
   "execution_count": null,
   "metadata": {},
   "outputs": [],
   "source": [
    "data_unicornio[\"Investors Count\"]=data_unicornio[\"Investors Count\"].replace(\"None\",0) #para reemplazar valores especificos en una columna especifica\n",
    "\n",
    "#para reemplazar y convertir object en float con variables tipos de caracteres\n",
    "nuevo_TR=[]\n",
    "for i in data_unicornio['Total Raised']:\n",
    "    i=i.replace('$',\"\")\n",
    "    if \"B\" in i:\n",
    "        i=i.replace(\"B\",\"\")\n",
    "        i=pd.to_numeric(i)\n",
    "        x=i*10**12\n",
    "        nuevo_TR.append(x)\n",
    "    elif 'M' in i:\n",
    "        i=i.replace(\"M\",\"\")\n",
    "        i=pd.to_numeric(i)\n",
    "        x=i*10**6\n",
    "        nuevo_TR.append(x)\n",
    "    elif 'K' in i:\n",
    "        i=i.replace(\"K\",\"\")\n",
    "        i=pd.to_numeric(i)\n",
    "        x=i*10**3\n",
    "        nuevo_TR.append(x)\n",
    "    else:\n",
    "        i=i.replace(\"None\",\"0\")\n",
    "        i=pd.to_numeric(i)\n",
    "        nuevo_TR.append(i)\n",
    "data_unicornio['nuevo tr']=nuevo_TR\n",
    "\n",
    "#"
   ]
  },
  {
   "cell_type": "markdown",
   "metadata": {},
   "source": [
    "## Convirtiendo tipos de datos"
   ]
  },
  {
   "cell_type": "code",
   "execution_count": null,
   "metadata": {},
   "outputs": [],
   "source": [
    "data_unicornio['Valuation ($B)']=pd.to_numeric(data_unicornio['Valuation ($B)'],errors='coerce') #A numerico\n",
    "data_unicornio['Date Joined'] = pd.to_datetime(data_unicornio['Date Joined']) #a datetime\n",
    "data_unicornio['Founded Year']=pd.to_datetime(data_unicornio['Founded Year'],format='%Y',errors='coerce') # solo los años\n",
    "\n",
    "#los meses\n",
    "bootstrappedDF2[\"month_lt\"]=0\n",
    "\n",
    "for i in bootstrappedDF2.index:\n",
    "  if bootstrappedDF2[\"arrival_date_month\"][i]==\"January\":\n",
    "    bootstrappedDF2[\"month_lt\"][i]=1\n",
    "  elif bootstrappedDF2[\"arrival_date_month\"][i]==\"February\":\n",
    "    bootstrappedDF2[\"month_lt\"][i]=2\n",
    "  elif bootstrappedDF2[\"arrival_date_month\"][i]==\"March\":\n",
    "    bootstrappedDF2[\"month_lt\"][i]=3\n",
    "  elif bootstrappedDF2[\"arrival_date_month\"][i]==\"April\":\n",
    "    bootstrappedDF2[\"month_lt\"][i]=4  \n",
    "  elif bootstrappedDF2[\"arrival_date_month\"][i]==\"May\":\n",
    "    bootstrappedDF2[\"month_lt\"][i]=5\n",
    "  elif bootstrappedDF2[\"arrival_date_month\"][i]==\"June\":\n",
    "    bootstrappedDF2[\"month_lt\"][i]=6\n",
    "  elif bootstrappedDF2[\"arrival_date_month\"][i]==\"July\":\n",
    "    bootstrappedDF2[\"month_lt\"][i]=7\n",
    "  elif bootstrappedDF2[\"arrival_date_month\"][i]==\"August\":\n",
    "    bootstrappedDF2[\"month_lt\"][i]=8\n",
    "  elif bootstrappedDF2[\"arrival_date_month\"][i]==\"September\":\n",
    "    bootstrappedDF2[\"month_lt\"][i]=9\n",
    "  elif bootstrappedDF2[\"arrival_date_month\"][i]==\"October\":\n",
    "    bootstrappedDF2[\"month_lt\"][i]=10\n",
    "  elif bootstrappedDF2[\"arrival_date_month\"][i]==\"November\":\n",
    "    bootstrappedDF2[\"month_lt\"][i]=11\n",
    "  elif bootstrappedDF2[\"arrival_date_month\"][i]==\"December\":\n",
    "    bootstrappedDF2[\"month_lt\"][i]=12\n",
    "\n",
    "# otra forma de meses\n",
    "lista_meses=[]\n",
    "for _ in base2['arrival_date_month']:\n",
    "    long_month_name = _\n",
    "    datetime_object = datetime.datetime.strptime(long_month_name, \"%B\")\n",
    "    month_number = datetime_object.month\n",
    "    lista_meses.append(month_number)\n",
    "base2['Meses']=lista_meses"
   ]
  },
  {
   "cell_type": "markdown",
   "metadata": {},
   "source": [
    "## Filtrando la base"
   ]
  },
  {
   "cell_type": "code",
   "execution_count": null,
   "metadata": {},
   "outputs": [],
   "source": [
    "dt_superstore.loc[(dt_superstore['Sales']>100) & (dt_superstore['Sales']<700), :] #filtro de base con muchas condiciones con AND\n",
    "Filtrado=data_GP_melted.loc[(data_GP_melted['variable']=='Mean Number of Dogs per household') | (data_GP_melted['variable']=='Mean Number of Cats'),:] #con muchas condiciones pero con Or\n"
   ]
  },
  {
   "cell_type": "markdown",
   "metadata": {},
   "source": [
    "## Group by"
   ]
  },
  {
   "cell_type": "code",
   "execution_count": null,
   "metadata": {},
   "outputs": [],
   "source": [
    "data_unicornio.groupby(['Columna a agrupar 1','Columna a agrupar 2'])[['Columna donde se hace la agregación1','Columna de agregacion 2']].agregacion()\n",
    "data_unicornio.groupby(['Columna a agrupar 1','Columna a agrupar 2'])[['Columna donde se hace la agregación1','Columna de agregacion 2']].sum().reset_index()#para resetear los indices\n"
   ]
  }
 ],
 "metadata": {
  "interpreter": {
   "hash": "82f297aed5a1f891a9c998abd3debcb12192d16a341539449b62f39c7e199530"
  },
  "kernelspec": {
   "display_name": "Python 3.9.11 ('myenv')",
   "language": "python",
   "name": "python3"
  },
  "language_info": {
   "codemirror_mode": {
    "name": "ipython",
    "version": 3
   },
   "file_extension": ".py",
   "mimetype": "text/x-python",
   "name": "python",
   "nbconvert_exporter": "python",
   "pygments_lexer": "ipython3",
   "version": "3.9.11"
  },
  "orig_nbformat": 4
 },
 "nbformat": 4,
 "nbformat_minor": 2
}
