{
  "nbformat": 4,
  "nbformat_minor": 0,
  "metadata": {
    "colab": {
      "name": "Segunda Clase 29-03-22.ipynb",
      "provenance": [],
      "authorship_tag": "ABX9TyP8oATp+21PfCvs4h2Evq3z",
      "include_colab_link": true
    },
    "kernelspec": {
      "name": "python3",
      "display_name": "Python 3"
    },
    "language_info": {
      "name": "python"
    }
  },
  "cells": [
    {
      "cell_type": "markdown",
      "metadata": {
        "id": "view-in-github",
        "colab_type": "text"
      },
      "source": [
        "<a href=\"https://colab.research.google.com/github/Elmatinho/DataScience_Unilever/blob/main/Segunda_Clase_29_03_22.ipynb\" target=\"_parent\"><img src=\"https://colab.research.google.com/assets/colab-badge.svg\" alt=\"Open In Colab\"/></a>"
      ]
    },
    {
      "cell_type": "markdown",
      "source": [
        "## Las Variables son los tipos de datos que no estan definidas como tal y deben ser designadas con un valor\n",
        "\n",
        "nombre de la variable = valor\n",
        "\n"
      ],
      "metadata": {
        "id": "howPyoB2wECx"
      }
    },
    {
      "cell_type": "code",
      "execution_count": null,
      "metadata": {
        "colab": {
          "base_uri": "https://localhost:8080/"
        },
        "id": "_HDMM-VVv_Es",
        "outputId": "c6aa4933-893f-49b1-99bf-00597391b14e"
      },
      "outputs": [
        {
          "output_type": "stream",
          "name": "stdout",
          "text": [
            "7\n"
          ]
        }
      ],
      "source": [
        "x=2\n",
        "y=5\n",
        "z=x+y\n",
        "print(z)"
      ]
    },
    {
      "cell_type": "markdown",
      "source": [
        "###tipos de variables\n",
        "\n",
        "\n",
        "*   Enteros\n",
        "*   float o reales\n",
        "*   string: donde estas son cadenas y como tal, cada letra tiene una posicion,un indice\n",
        "*   Booleanos: True y False respeta la mayuscula.\n",
        "* Complejos\n",
        "Pero recuerda que no se pueden sumar tipos de datos distintos, a menos que lo transformemos a este\n",
        "\n",
        "\n"
      ],
      "metadata": {
        "id": "FPJWBHkYxsfl"
      }
    },
    {
      "cell_type": "code",
      "source": [
        "a3=\"Probando\"\n",
        "a1=4\n",
        "print(a3)\n",
        "print(a3[0])"
      ],
      "metadata": {
        "colab": {
          "base_uri": "https://localhost:8080/"
        },
        "id": "wdTw01wwyYkU",
        "outputId": "cd47ac6a-3cdd-4688-b697-87c205582361"
      },
      "execution_count": null,
      "outputs": [
        {
          "output_type": "stream",
          "name": "stdout",
          "text": [
            "Probando\n",
            "P\n"
          ]
        }
      ]
    },
    {
      "cell_type": "markdown",
      "source": [
        "##Print\n",
        "Este sirve para obtener texto en pantalla y donde se pueden ver y mezclar variables en pantalla\n",
        "Esto se hace con las comas, con los +, con el %d(entera) %f(flotante)  al final agregar el orden de las variables, con las llaves y f o con .format"
      ],
      "metadata": {
        "id": "PK17DG5vzkgY"
      }
    },
    {
      "cell_type": "code",
      "source": [
        "print(\"a vale:\",a3)\n",
        "print(\"a vale:\"+ a3)\n",
        "print(\"a vale: %d\"%a1)\n"
      ],
      "metadata": {
        "colab": {
          "base_uri": "https://localhost:8080/"
        },
        "id": "9fqNFWEO0g3r",
        "outputId": "0c899b65-5280-43be-f187-3d8b88fc8cef"
      },
      "execution_count": null,
      "outputs": [
        {
          "output_type": "stream",
          "name": "stdout",
          "text": [
            "a vale: Probando\n",
            "a vale:Probando\n",
            "a vale: 4\n"
          ]
        }
      ]
    },
    {
      "cell_type": "markdown",
      "source": [
        "## Input\n",
        "En el input es cuando nosotros le indicamos a la persona que ingrese algun dato\n",
        "\n",
        "ej hola=input(\"hola\")\n",
        "todo lo que se captura con un input es cadena, string\n",
        "por lo que para sumar hay que convertir el dato capturado"
      ],
      "metadata": {
        "id": "2HQ3ZKnD1BhR"
      }
    },
    {
      "cell_type": "markdown",
      "source": [
        "Se lee como cadena"
      ],
      "metadata": {
        "id": "DVGm_PuX2H4B"
      }
    },
    {
      "cell_type": "code",
      "source": [
        "hola=input(\"Hola\")"
      ],
      "metadata": {
        "id": "LulueE0O1OGT"
      },
      "execution_count": null,
      "outputs": []
    },
    {
      "cell_type": "markdown",
      "source": [
        "Se lee como entero::"
      ],
      "metadata": {
        "id": "AQjffsn42FV1"
      }
    },
    {
      "cell_type": "code",
      "source": [
        "hola1=int(input(\"Hola \"))\n",
        "print(hola1+a1)"
      ],
      "metadata": {
        "colab": {
          "base_uri": "https://localhost:8080/"
        },
        "id": "P_aQoB-K13Zh",
        "outputId": "2c403d1e-bdc6-42b6-9117-5c54688c6694"
      },
      "execution_count": null,
      "outputs": [
        {
          "output_type": "stream",
          "name": "stdout",
          "text": [
            "Hola 12\n",
            "16\n"
          ]
        }
      ]
    },
    {
      "cell_type": "markdown",
      "source": [
        "#Ejercicio\n",
        "ingresar un numero positivo y despues sumar todos los enteros positivos desde 1 hasta el numero ingresado siguiendo la siguiente ecuación\n",
        "suma=n/2 *(n+1)"
      ],
      "metadata": {
        "id": "tKcYzM462fiu"
      }
    },
    {
      "cell_type": "code",
      "source": [
        "numero=int(input(\"Ingrese su numero \"))\n",
        "if numero<=0:\n",
        "  print(\"Debe ser positivo\")\n",
        "  \n",
        "else:\n",
        "  suma=numero/2*(numero+1)\n",
        "print(\"la suma de los primeros numeros desde 1 hasta \"+ str(numero)+ \" es \" + str(suma))"
      ],
      "metadata": {
        "colab": {
          "base_uri": "https://localhost:8080/"
        },
        "id": "g1KHh5l13Txj",
        "outputId": "3245fe0e-a8a6-4503-8224-fa1dd821ddee"
      },
      "execution_count": null,
      "outputs": [
        {
          "output_type": "stream",
          "name": "stdout",
          "text": [
            "Ingrese su numero 10\n",
            "la suma de los primeros numeros desde 1 hasta 10 es 55.0\n"
          ]
        }
      ]
    },
    {
      "cell_type": "markdown",
      "source": [
        "Numero de payasos y numero de muñecas y sumar el peso total"
      ],
      "metadata": {
        "id": "BfmdwTEI9d9V"
      }
    },
    {
      "cell_type": "code",
      "source": [
        "Num_payasos=int(input(\"ingrese el numero de payasos que va a comprar \"))\n",
        "Num_munecas=int(input(\"ingrese el numero de muñecas que va a comprar \"))\n",
        "suma_peso=Num_payasos*112+Num_munecas*75\n",
        "print(\"El peso total comprado es de \"+ str(suma_peso) +\"g\")"
      ],
      "metadata": {
        "id": "-oh8VBsy9ctT"
      },
      "execution_count": null,
      "outputs": []
    },
    {
      "cell_type": "markdown",
      "source": [
        "#Ejercicio Calculadora de volumen y area de cilindro"
      ],
      "metadata": {
        "id": "vwDBlWEZAmZc"
      }
    },
    {
      "cell_type": "code",
      "source": [
        "import numpy as np\n",
        "\n",
        "altura=float(input(\"Ingrese la altura del cilindro \"))\n",
        "radio=float(input(\"Ingrese el radio de su cilindro \"))\n",
        "\n",
        "pi=np.pi\n",
        "\n",
        "Volumen=pi*radio**2*altura\n",
        "Area=2*pi*radio*(radio+altura)\n",
        "\n",
        "print(\"El volumen de su Cilindro es de\",Volumen)\n",
        "print(\"El area de su Cilindro es de\",Area)"
      ],
      "metadata": {
        "colab": {
          "base_uri": "https://localhost:8080/"
        },
        "id": "iFMCoifUAl5z",
        "outputId": "f9fa02d4-dbe4-417b-ea97-2c079e7ca81e"
      },
      "execution_count": null,
      "outputs": [
        {
          "output_type": "stream",
          "name": "stdout",
          "text": [
            "Ingrese la altura del cilindro 10\n",
            "Ingrese el radio de su cilindro 2\n",
            "El volumen de su Cilindro es de 125.66370614359172\n",
            "El area de su Cilindro es de 150.79644737231007\n"
          ]
        }
      ]
    },
    {
      "cell_type": "markdown",
      "source": [
        "##Calculadora de promedio"
      ],
      "metadata": {
        "id": "nQmoOhE5E1n2"
      }
    },
    {
      "cell_type": "code",
      "source": [
        "nombre = input(\"ingrese nombre del estudiante :\")\n",
        "nota1 = float(input(\"ingrese primera nota: \"))\n",
        "nota2 = float(input(\"ingrese segunda nota: \"))\n",
        "nota3 = float(input(\"ingrese tercera nota: \"))\n",
        "promedio = round(((nota1+nota2+nota3)/3),2)\n",
        "if(promedio >= 4):\n",
        "  print(f\"Felicidades {nombre} aprobaste con nota: {promedio} :D\")\n",
        "else:\n",
        "  print(f\"Lo sentimos {nombre} reprobaste con nota: {promedio} :c\")"
      ],
      "metadata": {
        "id": "fk3Gn8sqE4io"
      },
      "execution_count": null,
      "outputs": []
    },
    {
      "cell_type": "markdown",
      "source": [
        "#Calculadora de promedios de edad para mayores y menores de edad sin ciclos"
      ],
      "metadata": {
        "id": "W6gf4GnEE7TK"
      }
    },
    {
      "cell_type": "code",
      "source": [
        "per1 = int(input(\"Ingrese la edad de la primera persona: \"))\n",
        "per2 = int(input(\"Ingrese la edad de la segunda persona: \"))\n",
        "per3 = int(input(\"Ingrese la edad de la tercera persona: \"))\n",
        "per4 = int(input(\"Ingrese la edad de la cuarta persona: \"))\n",
        "\n",
        "suma_sub = 0\n",
        "suma_18 = 0\n",
        "count_sub = 0\n",
        "count_18 = 0\n",
        "\n",
        "if per1 < 18:\n",
        "  suma_sub += per1\n",
        "  count_sub += 1\n",
        "else:\n",
        "  suma_18 += per1\n",
        "  count_18 += 1\n",
        "\n",
        "if per2 < 18:\n",
        "  suma_sub += per2\n",
        "  count_sub += 1\n",
        "else:\n",
        "  suma_18 += per2\n",
        "  count_18 += 1\n",
        "\n",
        "if per3 < 18:\n",
        "  suma_sub += per3\n",
        "  count_sub += 1\n",
        "else:\n",
        "  suma_18 += per3\n",
        "  count_18 += 1\n",
        "\n",
        "if per4 < 18:\n",
        "  suma_sub += per4\n",
        "  count_sub += 1\n",
        "else:\n",
        "  suma_18 += per4\n",
        "  count_18 += 1\n",
        "\n",
        "prom_sub = suma_sub / count_sub\n",
        "prom_18 = suma_18 / count_18\n",
        "\n",
        "print(f\"El promedio de edad de las personas mayores de 18 es {prom_18} y la de los menores de 18 es {prom_sub}\")"
      ],
      "metadata": {
        "id": "1OaHhZWZFMWm"
      },
      "execution_count": null,
      "outputs": []
    },
    {
      "cell_type": "markdown",
      "source": [
        "##inversion sobre capital"
      ],
      "metadata": {
        "id": "rJalMMdHFsEH"
      }
    },
    {
      "cell_type": "code",
      "source": [
        "capital = int(input(\"Ingrese el capital total de la empresa\"))\n",
        "inversion = int(input(\"Ingrese el capital del inversor\"))\n",
        "porcentaje = 0\n",
        "porcentaje = (inversion/capital) * 100\n",
        "\n",
        "print(\"El porcentaje de que ocupa el inversor en relacion al capital total de la empresa es de:\", porcentaje, \"%\")"
      ],
      "metadata": {
        "id": "JEM1hWXAFz9f"
      },
      "execution_count": null,
      "outputs": []
    },
    {
      "cell_type": "markdown",
      "source": [
        "#Ejercicio Pizzeria"
      ],
      "metadata": {
        "id": "5G6LwPitF3Kj"
      }
    },
    {
      "cell_type": "code",
      "source": [
        "print(\"Bienvenido a la pizzeria Bella Napoli indique que pizza desea:\")\n",
        "print(\"1- Vegetariana\")\n",
        "print(\"2- No vegetariana\")\n",
        "Pizza=int(input(\"Indique el numero de su tipo de pizza\"))\n",
        "if Pizza==1:\n",
        "  Nombre=\"Vegetariana\"\n",
        "  print(\"Seleccione el ingrediente que lo acompaña\")\n",
        "  print(\"1.Pimiento\")\n",
        "  print(\"2.Tofu\")\n",
        "  ingrediente=int(input(\"Indique el numero \"))\n",
        "  if ingrediente==1:\n",
        "    print(\"Su pizza es \"+Nombre+\" e incluye tomate, mozarrela y pimiento\")\n",
        "  if ingrediente ==2:\n",
        "    print(\"Su pizza es \"+Nombre+\" e incluye tomate, mozarrela y tofu\")\n",
        "else:\n",
        "  Nombre=\"No vegetariana\" \n",
        "  print(\"Seleccione el ingrediente que lo acompaña\")\n",
        "  print(\"1.Pepperoni\")\n",
        "  print(\"2.Jamon\")\n",
        "  print(\"3.Salmon\") \n",
        "  ingrediente=int(input(\"Indique el numero \"))\n",
        "  if ingrediente==1:\n",
        "    print(\"Su pizza es \"+Nombre+\" e incluye tomate, mozarrela y Pepperoni\")\n",
        "  if ingrediente==2:\n",
        "    print(\"Su pizza es \"+Nombre+\" e incluye tomate, mozarrela y jamón\")\n",
        "  else:\n",
        "    print(\"Su pizza es \"+Nombre+\" e incluye tomate, mozarrela y salmón\")"
      ],
      "metadata": {
        "id": "czLABhBVG6a7"
      },
      "execution_count": null,
      "outputs": []
    },
    {
      "cell_type": "markdown",
      "source": [
        "#Formas del input y su modificacion\n",
        "Recuerda que si quieres transformarlas en otro tipo de letras y guardarlas, debes volver a asignar la variable"
      ],
      "metadata": {
        "id": "sEDDJFn1LQJX"
      }
    },
    {
      "cell_type": "code",
      "source": [
        "name=input(\"¿Como te llamas? \")\n",
        "print(name.lower())\n",
        "print(name.upper())\n",
        "print(name.title())"
      ],
      "metadata": {
        "id": "PW1NctdzLT5f"
      },
      "execution_count": null,
      "outputs": []
    },
    {
      "cell_type": "markdown",
      "source": [
        "#Ejercicio Calculadora \n",
        "Recibe los numeros enteros que se van a operar\n",
        "menu con letras se seleccionara la operacion a realizar\n",
        "\n",
        "1.   Suma\n",
        "2.   Resta\n",
        "3. multipliciacion\n",
        "4. modulo\n",
        "5. Division\n",
        "6. porcentaje\n",
        "despues mostrar el resultado de la operacion\n",
        "\n"
      ],
      "metadata": {
        "id": "qsp4bhoeMpAS"
      }
    },
    {
      "cell_type": "code",
      "source": [
        "print(\"Calculando su operación, ingrese dos numeros:\")\n",
        "num1=int(input(\"Numero 1: \"))\n",
        "num2=int(input(\"Numero 2: \"))\n",
        "\n",
        "print(\"Seleccione su operación:\")\n",
        "print(\"a-Suma\")\n",
        "print(\"b-Resta\")\n",
        "print(\"c-Multiplicación\")\n",
        "print(\"d-Division\")\n",
        "print(\"e-Modulo\")\n",
        "print(\"f-Porcentaje\")\n",
        "letra=input(\"Ingrese la letra de su operación \")\n",
        "letra=letra.lower()\n",
        "if letra == \"a\":\n",
        "  print(\"su suma es\", num1+num2)\n",
        "if letra == \"b\":\n",
        "  print(\"su resta es\", num1-num2)\n",
        "if letra == \"c\":\n",
        "  print(\"su multiplicacion es\", num1*num2)\n",
        "if letra == \"d\":\n",
        "  print(\"su division es\", num1/num2)\n",
        "if letra == \"e\":\n",
        "  print(\"su modulo es\", num1%num2)\n",
        "if letra == \"f\":\n",
        "  print(\"su porcentaje es\", num1/num2*100, \"%\")\n",
        "else:\n",
        "  print(\"Digitó una opcion no valida\")"
      ],
      "metadata": {
        "id": "RBBwM9KnNFr0"
      },
      "execution_count": null,
      "outputs": []
    },
    {
      "cell_type": "markdown",
      "source": [
        "para agregar un salto de linea solo hay que agregar \"\\n\"\n",
        "\n",
        "---\n",
        "\n",
        "Codigo del profe abajo"
      ],
      "metadata": {
        "id": "JPDDcs-xRMBW"
      }
    },
    {
      "cell_type": "code",
      "source": [
        "var1=int(input(\"Digite variable 1 \\n\"))\n",
        "var2=int(input(\"Digite variable 2 \\n\"))\n",
        "print(\"Menu de operaciones \\n A. Suma \\n B. Resta \\n C. Multiplicación \\n D. División \\n E. Modulo \\n F. Porcentaje \\n   \")\n",
        "ope=input(\"Digite la operación a realizar \")\n",
        "if(ope.lower()==\"a\"):\n",
        "    print(f\"Resultado {var1+var2}\")\n",
        "elif(ope.lower()==\"b\"):\n",
        "    print(f\"Resultado {var1-var2}\")\n",
        "elif(ope.lower()==\"c\"):\n",
        "    print(f\"Resultado {var1*var2}\")\n",
        "elif(ope.lower()==\"d\"):\n",
        "    print(f\"Resultado {var1/var2}\")\n",
        "elif(ope.lower()==\"e\"):\n",
        "    print(f\"Resultado {var1%var2}\")\n",
        "elif(ope.lower()==\"f\"):\n",
        "    print(f\"Resultado {var1*var2/100}\")\n",
        "else:\n",
        "    print(\"Digito una opción no valida\")"
      ],
      "metadata": {
        "id": "UzK2jBcoR1a4"
      },
      "execution_count": null,
      "outputs": []
    },
    {
      "cell_type": "markdown",
      "source": [
        "Ejercicio calcular elementos de entrada para volumen y area de 4 figuras geometricas"
      ],
      "metadata": {
        "id": "EMdjM0zFV9R4"
      }
    },
    {
      "cell_type": "code",
      "source": [
        "import numpy as np\n",
        "Figura=int(input(\"Ingrese el tipo de figura que desee\\n 1.Esfera\\n 2.Cilindro\\n 3.Piramide de base cuadrada\\n 4.Prisma cuadrangular\\n ingrese el numero: \"))\n",
        "pi=np.pi\n",
        "if Figura== 1:\n",
        "  radio=float(input(\"Ingrese el radio de su esfera \"))\n",
        "  print(\"El area de su figura es: \", 4*pi*radio**2)\n",
        "  print(\"El volumen de su figura es: \",4/3*pi*radio**3)\n",
        "elif Figura ==2:\n",
        "  radio=float(input(\"Ingrese el radio de su cilindro \"))\n",
        "  altura=float(input(\"Ingrese la altura de su cilindro \"))\n",
        "  print(\"El area de su figura es: \",2*pi*radio*(radio+altura))\n",
        "  print(\"El volumen de su figura es: \",pi*radio**2*altura)\n",
        "elif Figura ==3:\n",
        "  lado=float(input(\"ingrese el lado de la base \"))\n",
        "  alturatri=float(input(\"Ingrese la altura de los triangulos \"))\n",
        "  area_base=lado**2\n",
        "  area_caras=lado*alturatri/2\n",
        "  print(\"El area de su figura es: \",area_base+area_caras*4)\n",
        "  print(\"El volumen de su figura es: \",area_base*alturatri/3)\n",
        "elif Figura ==4:\n",
        "  altura=float(input(\"Ingrese su altura \"))\n",
        "  largo=float(input(\"Ingrese el largo \"))\n",
        "  ancho=float(input(\"Ingrese el ancho \"))\n",
        "  print(\"El area de su figura es: \",2*altura*(ancho+largo)+2*ancho*largo)\n",
        "  print(\"El volumen de su figura es: \", altura*largo*ancho)\n",
        "else:\n",
        "  print(\"Cuerpo geometrico no esta en el menú\")\n",
        "  "
      ],
      "metadata": {
        "id": "UUGzeleRWP6O"
      },
      "execution_count": null,
      "outputs": []
    }
  ]
}