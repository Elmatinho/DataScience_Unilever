{
 "cells": [
  {
   "cell_type": "code",
   "execution_count": 1,
   "metadata": {},
   "outputs": [],
   "source": [
    "import pandas as pd\n",
    "import numpy as np\n",
    "import matplotlib.pyplot as plt\n",
    "import seaborn as sns"
   ]
  },
  {
   "cell_type": "markdown",
   "metadata": {},
   "source": [
    "# Ejercicio 1"
   ]
  },
  {
   "cell_type": "markdown",
   "metadata": {},
   "source": [
    "Cargando la data"
   ]
  },
  {
   "cell_type": "code",
   "execution_count": 11,
   "metadata": {},
   "outputs": [],
   "source": [
    "archivo='/Users/matiasinostrozacifuentes/Desktop/python_intro/DataScience_Unilever/Semana_4/Data/orders_data.xlsx'\n",
    "data_ejercicio1=pd.read_excel(archivo)"
   ]
  },
  {
   "cell_type": "markdown",
   "metadata": {},
   "source": [
    "Revisando la data"
   ]
  },
  {
   "cell_type": "code",
   "execution_count": 12,
   "metadata": {},
   "outputs": [
    {
     "data": {
      "text/html": [
       "<div>\n",
       "<style scoped>\n",
       "    .dataframe tbody tr th:only-of-type {\n",
       "        vertical-align: middle;\n",
       "    }\n",
       "\n",
       "    .dataframe tbody tr th {\n",
       "        vertical-align: top;\n",
       "    }\n",
       "\n",
       "    .dataframe thead th {\n",
       "        text-align: right;\n",
       "    }\n",
       "</style>\n",
       "<table border=\"1\" class=\"dataframe\">\n",
       "  <thead>\n",
       "    <tr style=\"text-align: right;\">\n",
       "      <th></th>\n",
       "      <th>order_no</th>\n",
       "      <th>order_date</th>\n",
       "      <th>buyer</th>\n",
       "      <th>ship_city</th>\n",
       "      <th>ship_state</th>\n",
       "      <th>sku</th>\n",
       "      <th>description</th>\n",
       "      <th>quantity</th>\n",
       "      <th>item_total</th>\n",
       "      <th>shipping_fee</th>\n",
       "      <th>cod</th>\n",
       "      <th>order_status</th>\n",
       "    </tr>\n",
       "  </thead>\n",
       "  <tbody>\n",
       "    <tr>\n",
       "      <th>0</th>\n",
       "      <td>405-9763961-5211537</td>\n",
       "      <td>Sun, 18 Jul, 2021, 10:38 pm IST</td>\n",
       "      <td>Mr.</td>\n",
       "      <td>CHANDIGARH,</td>\n",
       "      <td>CHANDIGARH</td>\n",
       "      <td>SKU:  2X-3C0F-KNJE</td>\n",
       "      <td>100% Leather Elephant Shaped Piggy Coin Bank |...</td>\n",
       "      <td>1</td>\n",
       "      <td>₹449.00</td>\n",
       "      <td>NaN</td>\n",
       "      <td>NaN</td>\n",
       "      <td>Delivered to buyer</td>\n",
       "    </tr>\n",
       "    <tr>\n",
       "      <th>1</th>\n",
       "      <td>404-3964908-7850720</td>\n",
       "      <td>Tue, 19 Oct, 2021, 6:05 pm IST</td>\n",
       "      <td>Minam</td>\n",
       "      <td>PASIGHAT,</td>\n",
       "      <td>ARUNACHAL PRADESH</td>\n",
       "      <td>SKU:  DN-0WDX-VYOT</td>\n",
       "      <td>Women's Set of 5 Multicolor Pure Leather Singl...</td>\n",
       "      <td>1</td>\n",
       "      <td>₹449.00</td>\n",
       "      <td>₹60.18</td>\n",
       "      <td>NaN</td>\n",
       "      <td>Delivered to buyer</td>\n",
       "    </tr>\n",
       "    <tr>\n",
       "      <th>2</th>\n",
       "      <td>171-8103182-4289117</td>\n",
       "      <td>Sun, 28 Nov, 2021, 10:20 pm IST</td>\n",
       "      <td>yatipertin</td>\n",
       "      <td>PASIGHAT,</td>\n",
       "      <td>ARUNACHAL PRADESH</td>\n",
       "      <td>SKU:  DN-0WDX-VYOT</td>\n",
       "      <td>Women's Set of 5 Multicolor Pure Leather Singl...</td>\n",
       "      <td>1</td>\n",
       "      <td>₹449.00</td>\n",
       "      <td>₹60.18</td>\n",
       "      <td>NaN</td>\n",
       "      <td>Delivered to buyer</td>\n",
       "    </tr>\n",
       "    <tr>\n",
       "      <th>3</th>\n",
       "      <td>405-3171677-9557154</td>\n",
       "      <td>Wed, 28 Jul, 2021, 4:06 am IST</td>\n",
       "      <td>aciya</td>\n",
       "      <td>DEVARAKONDA,</td>\n",
       "      <td>TELANGANA</td>\n",
       "      <td>SKU:  AH-J3AO-R7DN</td>\n",
       "      <td>Pure 100% Leather Block Print Rectangular Jewe...</td>\n",
       "      <td>1</td>\n",
       "      <td>NaN</td>\n",
       "      <td>NaN</td>\n",
       "      <td>Cash On Delivery</td>\n",
       "      <td>Delivered to buyer</td>\n",
       "    </tr>\n",
       "    <tr>\n",
       "      <th>4</th>\n",
       "      <td>402-8910771-1215552</td>\n",
       "      <td>Tue, 28 Sept, 2021, 2:50 pm IST</td>\n",
       "      <td>Susmita</td>\n",
       "      <td>MUMBAI,</td>\n",
       "      <td>MAHARASHTRA</td>\n",
       "      <td>SKU:  KL-7WAA-Z82I</td>\n",
       "      <td>Pure Leather Sling Bag with Multiple Pockets a...</td>\n",
       "      <td>1</td>\n",
       "      <td>₹1,099.00</td>\n",
       "      <td>₹84.96</td>\n",
       "      <td>NaN</td>\n",
       "      <td>Delivered to buyer</td>\n",
       "    </tr>\n",
       "  </tbody>\n",
       "</table>\n",
       "</div>"
      ],
      "text/plain": [
       "              order_no                       order_date       buyer  \\\n",
       "0  405-9763961-5211537  Sun, 18 Jul, 2021, 10:38 pm IST         Mr.   \n",
       "1  404-3964908-7850720   Tue, 19 Oct, 2021, 6:05 pm IST       Minam   \n",
       "2  171-8103182-4289117  Sun, 28 Nov, 2021, 10:20 pm IST  yatipertin   \n",
       "3  405-3171677-9557154   Wed, 28 Jul, 2021, 4:06 am IST       aciya   \n",
       "4  402-8910771-1215552  Tue, 28 Sept, 2021, 2:50 pm IST     Susmita   \n",
       "\n",
       "      ship_city         ship_state                 sku  \\\n",
       "0   CHANDIGARH,         CHANDIGARH  SKU:  2X-3C0F-KNJE   \n",
       "1     PASIGHAT,  ARUNACHAL PRADESH  SKU:  DN-0WDX-VYOT   \n",
       "2     PASIGHAT,  ARUNACHAL PRADESH  SKU:  DN-0WDX-VYOT   \n",
       "3  DEVARAKONDA,          TELANGANA  SKU:  AH-J3AO-R7DN   \n",
       "4       MUMBAI,        MAHARASHTRA  SKU:  KL-7WAA-Z82I   \n",
       "\n",
       "                                         description  quantity item_total  \\\n",
       "0  100% Leather Elephant Shaped Piggy Coin Bank |...         1    ₹449.00   \n",
       "1  Women's Set of 5 Multicolor Pure Leather Singl...         1    ₹449.00   \n",
       "2  Women's Set of 5 Multicolor Pure Leather Singl...         1    ₹449.00   \n",
       "3  Pure 100% Leather Block Print Rectangular Jewe...         1        NaN   \n",
       "4  Pure Leather Sling Bag with Multiple Pockets a...         1  ₹1,099.00   \n",
       "\n",
       "  shipping_fee               cod        order_status  \n",
       "0          NaN               NaN  Delivered to buyer  \n",
       "1       ₹60.18               NaN  Delivered to buyer  \n",
       "2       ₹60.18               NaN  Delivered to buyer  \n",
       "3          NaN  Cash On Delivery  Delivered to buyer  \n",
       "4       ₹84.96               NaN  Delivered to buyer  "
      ]
     },
     "execution_count": 12,
     "metadata": {},
     "output_type": "execute_result"
    }
   ],
   "source": [
    "data_ejercicio1.head(5)"
   ]
  },
  {
   "cell_type": "markdown",
   "metadata": {},
   "source": [
    "Realizando una revisión más profunda"
   ]
  },
  {
   "cell_type": "code",
   "execution_count": 13,
   "metadata": {},
   "outputs": [
    {
     "name": "stdout",
     "output_type": "stream",
     "text": [
      "<class 'pandas.core.frame.DataFrame'>\n",
      "RangeIndex: 171 entries, 0 to 170\n",
      "Data columns (total 12 columns):\n",
      " #   Column        Non-Null Count  Dtype \n",
      "---  ------        --------------  ----- \n",
      " 0   order_no      171 non-null    object\n",
      " 1   order_date    171 non-null    object\n",
      " 2   buyer         171 non-null    object\n",
      " 3   ship_city     171 non-null    object\n",
      " 4   ship_state    171 non-null    object\n",
      " 5   sku           171 non-null    object\n",
      " 6   description   171 non-null    object\n",
      " 7   quantity      171 non-null    int64 \n",
      " 8   item_total    153 non-null    object\n",
      " 9   shipping_fee  145 non-null    object\n",
      " 10  cod           47 non-null     object\n",
      " 11  order_status  171 non-null    object\n",
      "dtypes: int64(1), object(11)\n",
      "memory usage: 16.2+ KB\n"
     ]
    }
   ],
   "source": [
    "data_ejercicio1.info()"
   ]
  },
  {
   "cell_type": "markdown",
   "metadata": {},
   "source": [
    "Transformado item_total a numerico"
   ]
  },
  {
   "cell_type": "code",
   "execution_count": 14,
   "metadata": {},
   "outputs": [],
   "source": [
    "data_ejercicio1[\"item_total\"]=data_ejercicio1[\"item_total\"].str.replace(\"₹\",\"\")\n",
    "data_ejercicio1['item_total']=pd.to_numeric(data_ejercicio1['item_total'],errors='coerce')"
   ]
  },
  {
   "cell_type": "code",
   "execution_count": 15,
   "metadata": {},
   "outputs": [
    {
     "data": {
      "text/html": [
       "<div>\n",
       "<style scoped>\n",
       "    .dataframe tbody tr th:only-of-type {\n",
       "        vertical-align: middle;\n",
       "    }\n",
       "\n",
       "    .dataframe tbody tr th {\n",
       "        vertical-align: top;\n",
       "    }\n",
       "\n",
       "    .dataframe thead th {\n",
       "        text-align: right;\n",
       "    }\n",
       "</style>\n",
       "<table border=\"1\" class=\"dataframe\">\n",
       "  <thead>\n",
       "    <tr style=\"text-align: right;\">\n",
       "      <th></th>\n",
       "      <th>order_no</th>\n",
       "      <th>order_date</th>\n",
       "      <th>buyer</th>\n",
       "      <th>ship_city</th>\n",
       "      <th>ship_state</th>\n",
       "      <th>sku</th>\n",
       "      <th>description</th>\n",
       "      <th>quantity</th>\n",
       "      <th>item_total</th>\n",
       "      <th>shipping_fee</th>\n",
       "      <th>cod</th>\n",
       "      <th>order_status</th>\n",
       "    </tr>\n",
       "  </thead>\n",
       "  <tbody>\n",
       "    <tr>\n",
       "      <th>0</th>\n",
       "      <td>405-9763961-5211537</td>\n",
       "      <td>Sun, 18 Jul, 2021, 10:38 pm IST</td>\n",
       "      <td>Mr.</td>\n",
       "      <td>CHANDIGARH,</td>\n",
       "      <td>CHANDIGARH</td>\n",
       "      <td>SKU:  2X-3C0F-KNJE</td>\n",
       "      <td>100% Leather Elephant Shaped Piggy Coin Bank |...</td>\n",
       "      <td>1</td>\n",
       "      <td>449.0</td>\n",
       "      <td>NaN</td>\n",
       "      <td>NaN</td>\n",
       "      <td>Delivered to buyer</td>\n",
       "    </tr>\n",
       "    <tr>\n",
       "      <th>1</th>\n",
       "      <td>404-3964908-7850720</td>\n",
       "      <td>Tue, 19 Oct, 2021, 6:05 pm IST</td>\n",
       "      <td>Minam</td>\n",
       "      <td>PASIGHAT,</td>\n",
       "      <td>ARUNACHAL PRADESH</td>\n",
       "      <td>SKU:  DN-0WDX-VYOT</td>\n",
       "      <td>Women's Set of 5 Multicolor Pure Leather Singl...</td>\n",
       "      <td>1</td>\n",
       "      <td>449.0</td>\n",
       "      <td>₹60.18</td>\n",
       "      <td>NaN</td>\n",
       "      <td>Delivered to buyer</td>\n",
       "    </tr>\n",
       "    <tr>\n",
       "      <th>2</th>\n",
       "      <td>171-8103182-4289117</td>\n",
       "      <td>Sun, 28 Nov, 2021, 10:20 pm IST</td>\n",
       "      <td>yatipertin</td>\n",
       "      <td>PASIGHAT,</td>\n",
       "      <td>ARUNACHAL PRADESH</td>\n",
       "      <td>SKU:  DN-0WDX-VYOT</td>\n",
       "      <td>Women's Set of 5 Multicolor Pure Leather Singl...</td>\n",
       "      <td>1</td>\n",
       "      <td>449.0</td>\n",
       "      <td>₹60.18</td>\n",
       "      <td>NaN</td>\n",
       "      <td>Delivered to buyer</td>\n",
       "    </tr>\n",
       "    <tr>\n",
       "      <th>3</th>\n",
       "      <td>405-3171677-9557154</td>\n",
       "      <td>Wed, 28 Jul, 2021, 4:06 am IST</td>\n",
       "      <td>aciya</td>\n",
       "      <td>DEVARAKONDA,</td>\n",
       "      <td>TELANGANA</td>\n",
       "      <td>SKU:  AH-J3AO-R7DN</td>\n",
       "      <td>Pure 100% Leather Block Print Rectangular Jewe...</td>\n",
       "      <td>1</td>\n",
       "      <td>NaN</td>\n",
       "      <td>NaN</td>\n",
       "      <td>Cash On Delivery</td>\n",
       "      <td>Delivered to buyer</td>\n",
       "    </tr>\n",
       "    <tr>\n",
       "      <th>4</th>\n",
       "      <td>402-8910771-1215552</td>\n",
       "      <td>Tue, 28 Sept, 2021, 2:50 pm IST</td>\n",
       "      <td>Susmita</td>\n",
       "      <td>MUMBAI,</td>\n",
       "      <td>MAHARASHTRA</td>\n",
       "      <td>SKU:  KL-7WAA-Z82I</td>\n",
       "      <td>Pure Leather Sling Bag with Multiple Pockets a...</td>\n",
       "      <td>1</td>\n",
       "      <td>NaN</td>\n",
       "      <td>₹84.96</td>\n",
       "      <td>NaN</td>\n",
       "      <td>Delivered to buyer</td>\n",
       "    </tr>\n",
       "  </tbody>\n",
       "</table>\n",
       "</div>"
      ],
      "text/plain": [
       "              order_no                       order_date       buyer  \\\n",
       "0  405-9763961-5211537  Sun, 18 Jul, 2021, 10:38 pm IST         Mr.   \n",
       "1  404-3964908-7850720   Tue, 19 Oct, 2021, 6:05 pm IST       Minam   \n",
       "2  171-8103182-4289117  Sun, 28 Nov, 2021, 10:20 pm IST  yatipertin   \n",
       "3  405-3171677-9557154   Wed, 28 Jul, 2021, 4:06 am IST       aciya   \n",
       "4  402-8910771-1215552  Tue, 28 Sept, 2021, 2:50 pm IST     Susmita   \n",
       "\n",
       "      ship_city         ship_state                 sku  \\\n",
       "0   CHANDIGARH,         CHANDIGARH  SKU:  2X-3C0F-KNJE   \n",
       "1     PASIGHAT,  ARUNACHAL PRADESH  SKU:  DN-0WDX-VYOT   \n",
       "2     PASIGHAT,  ARUNACHAL PRADESH  SKU:  DN-0WDX-VYOT   \n",
       "3  DEVARAKONDA,          TELANGANA  SKU:  AH-J3AO-R7DN   \n",
       "4       MUMBAI,        MAHARASHTRA  SKU:  KL-7WAA-Z82I   \n",
       "\n",
       "                                         description  quantity  item_total  \\\n",
       "0  100% Leather Elephant Shaped Piggy Coin Bank |...         1       449.0   \n",
       "1  Women's Set of 5 Multicolor Pure Leather Singl...         1       449.0   \n",
       "2  Women's Set of 5 Multicolor Pure Leather Singl...         1       449.0   \n",
       "3  Pure 100% Leather Block Print Rectangular Jewe...         1         NaN   \n",
       "4  Pure Leather Sling Bag with Multiple Pockets a...         1         NaN   \n",
       "\n",
       "  shipping_fee               cod        order_status  \n",
       "0          NaN               NaN  Delivered to buyer  \n",
       "1       ₹60.18               NaN  Delivered to buyer  \n",
       "2       ₹60.18               NaN  Delivered to buyer  \n",
       "3          NaN  Cash On Delivery  Delivered to buyer  \n",
       "4       ₹84.96               NaN  Delivered to buyer  "
      ]
     },
     "execution_count": 15,
     "metadata": {},
     "output_type": "execute_result"
    }
   ],
   "source": [
    "data_ejercicio1.head(5)"
   ]
  },
  {
   "cell_type": "code",
   "execution_count": 16,
   "metadata": {},
   "outputs": [
    {
     "name": "stdout",
     "output_type": "stream",
     "text": [
      "<class 'pandas.core.frame.DataFrame'>\n",
      "RangeIndex: 171 entries, 0 to 170\n",
      "Data columns (total 12 columns):\n",
      " #   Column        Non-Null Count  Dtype  \n",
      "---  ------        --------------  -----  \n",
      " 0   order_no      171 non-null    object \n",
      " 1   order_date    171 non-null    object \n",
      " 2   buyer         171 non-null    object \n",
      " 3   ship_city     171 non-null    object \n",
      " 4   ship_state    171 non-null    object \n",
      " 5   sku           171 non-null    object \n",
      " 6   description   171 non-null    object \n",
      " 7   quantity      171 non-null    int64  \n",
      " 8   item_total    132 non-null    float64\n",
      " 9   shipping_fee  145 non-null    object \n",
      " 10  cod           47 non-null     object \n",
      " 11  order_status  171 non-null    object \n",
      "dtypes: float64(1), int64(1), object(10)\n",
      "memory usage: 16.2+ KB\n"
     ]
    }
   ],
   "source": [
    "data_ejercicio1.info()"
   ]
  },
  {
   "cell_type": "markdown",
   "metadata": {},
   "source": [
    "Gráficar el comprador vs el precio"
   ]
  },
  {
   "cell_type": "code",
   "execution_count": 19,
   "metadata": {},
   "outputs": [
    {
     "data": {
      "text/plain": [
       "Geetika            3\n",
       "Vadim              2\n",
       "Mitra              2\n",
       "Gargi              2\n",
       "maha               2\n",
       "                  ..\n",
       "Jitu               1\n",
       "Jolly              1\n",
       "swagata13051978    1\n",
       "Amala              1\n",
       "Varun              1\n",
       "Name: buyer, Length: 149, dtype: int64"
      ]
     },
     "execution_count": 19,
     "metadata": {},
     "output_type": "execute_result"
    }
   ],
   "source": [
    "data_ejercicio1['buyer'].value_counts()"
   ]
  },
  {
   "cell_type": "markdown",
   "metadata": {},
   "source": [
    "agrupando el top10 de los compradores "
   ]
  },
  {
   "cell_type": "code",
   "execution_count": 24,
   "metadata": {},
   "outputs": [
    {
     "data": {
      "text/plain": [
       "buyer\n",
       "Vadim        998.0\n",
       "chandrima    998.0\n",
       "J            899.0\n",
       "Paromita     898.0\n",
       "shilpin      898.0\n",
       "             ...  \n",
       "Apoorva        0.0\n",
       "aciya          0.0\n",
       "Yash           0.0\n",
       "Ashna          0.0\n",
       "Jolly          0.0\n",
       "Name: item_total, Length: 149, dtype: float64"
      ]
     },
     "execution_count": 24,
     "metadata": {},
     "output_type": "execute_result"
    }
   ],
   "source": [
    "First_aggrupation=data_ejercicio1.groupby('buyer')['item_total'].sum().sort_values(ascending=False)\n",
    "First_aggrupation"
   ]
  },
  {
   "cell_type": "code",
   "execution_count": 39,
   "metadata": {},
   "outputs": [
    {
     "data": {
      "text/plain": [
       "Index(['Vadim', 'chandrima', 'J', 'Paromita', 'shilpin', 'Dipali', 'Swathi',\n",
       "       'maha', 'Madhavi', 'Heena',\n",
       "       ...\n",
       "       'kritika', 'K', 'Kangana', 'Madhuparna', 'Hemant', 'Apoorva', 'aciya',\n",
       "       'Yash', 'Ashna', 'Jolly'],\n",
       "      dtype='object', name='buyer', length=149)"
      ]
     },
     "execution_count": 39,
     "metadata": {},
     "output_type": "execute_result"
    }
   ],
   "source": [
    "First_aggrupation.index"
   ]
  },
  {
   "cell_type": "code",
   "execution_count": 61,
   "metadata": {},
   "outputs": [],
   "source": [
    "totalitem=First_aggrupation.head(10).values"
   ]
  },
  {
   "cell_type": "code",
   "execution_count": 70,
   "metadata": {},
   "outputs": [
    {
     "data": {
      "image/png": "[encoded data removed]",
      "text/plain": [
       "<Figure size 432x720 with 1 Axes>"
      ]
     },
     "metadata": {
      "needs_background": "light"
     },
     "output_type": "display_data"
    }
   ],
   "source": [
    "f, ax = plt.subplots(figsize=(6, 10))\n",
    "bar= sns.barplot(x=First_aggrupation.head(10).values,y=First_aggrupation.head(10).index,\n",
    "            label=\"Total\",palette='husl')\n",
    "for i in range(len(totalitem)):\n",
    "    bar.text(totalitem[i]+0.25,i,str(totalitem[i]),\n",
    "    fontdict=dict(color='black',fontsize=12),\n",
    "    horizontalalignment='center')\n",
    "plt.xlabel('Item total')\n",
    "plt.ylabel('Top 10 buyer')\n",
    "plt.xticks(rotation=90)\n",
    "sns.despine(left=True, bottom=True)"
   ]
  },
  {
   "cell_type": "markdown",
   "metadata": {},
   "source": [
    "## Ejercicio 2"
   ]
  },
  {
   "cell_type": "markdown",
   "metadata": {},
   "source": []
  }
 ],
 "metadata": {
  "interpreter": {
   "hash": "97f7225dcf674d32e3840b94e0b97c696ce2dd48955058b7daa1a6e223346e32"
  },
  "kernelspec": {
   "display_name": "Python 3.9.7 ('base')",
   "language": "python",
   "name": "python3"
  },
  "language_info": {
   "codemirror_mode": {
    "name": "ipython",
    "version": 3
   },
   "file_extension": ".py",
   "mimetype": "text/x-python",
   "name": "python",
   "nbconvert_exporter": "python",
   "pygments_lexer": "ipython3",
   "version": "3.9.7"
  },
  "orig_nbformat": 4
 },
 "nbformat": 4,
 "nbformat_minor": 2
}
