{
 "cells": [
  {
   "cell_type": "markdown",
   "metadata": {},
   "source": [
    "### Ejercicio 1\n",
    "Escriba un programa que administre una cuenta bancaria, usando una bitácora de operaciones.\n",
    "La bitácora de operaciones tiene la siguiente forma:\n",
    "D 100\n",
    "R 50\n",
    "\n",
    "D 100 significa que depositó 100 pesos\n",
    "R 50 significa que retiró 50 pesos"
   ]
  },
  {
   "cell_type": "code",
   "execution_count": 5,
   "metadata": {},
   "outputs": [],
   "source": [
    "class User:\n",
    "    def __init__(self,username):\n",
    "        self.name=username\n",
    "        self.balance=0\n",
    "        \n",
    "\n",
    "    def hacer_D(self):\n",
    "        self.balance += 100\n",
    "        \n",
    "    def hacer_R(self):\n",
    "        self.balance -=50\n",
    "    \n",
    "    def display_user_balance(self):\n",
    "        print(self.name,self.balance)"
   ]
  },
  {
   "cell_type": "code",
   "execution_count": 6,
   "metadata": {},
   "outputs": [
    {
     "name": "stdout",
     "output_type": "stream",
     "text": [
      "Matías 350\n"
     ]
    }
   ],
   "source": [
    "matias=User(\"Matías\")\n",
    "matias.hacer_D()\n",
    "matias.hacer_D()\n",
    "matias.hacer_D()\n",
    "matias.hacer_D()\n",
    "matias.hacer_R()\n",
    "matias.display_user_balance()"
   ]
  },
  {
   "cell_type": "code",
   "execution_count": null,
   "metadata": {},
   "outputs": [],
   "source": [
    "transaccion = \"\"\n",
    "transacciones = []\n",
    "saldo = 0\n",
    "\n",
    "while transaccion.lower() != \"salir\":\n",
    "  transaccion = input(\"\\nIngrese la transacción, utilice la nomenclatura D ### para depositos y R ### para retiros.\\nEscriba SALIR para terminar el programa: \")\n",
    "\n",
    "  if transaccion.split(\" \")[0] == \"D\":\n",
    "    transacciones.append(float(transaccion.split(\" \")[1]))\n",
    "    saldo += float(transaccion.split(\" \")[1])\n",
    "\n",
    "  elif transaccion.split(\" \")[0] == \"R\":\n",
    "    transacciones.append(-float(transaccion.split(\" \")[1]))\n",
    "    saldo -= float(transaccion.split(\" \")[1])\n",
    "\n",
    "#print(saldo, transacciones)\n",
    "print(f\"\\nEl saldo de la cuenta es {saldo} y las transacciones fueron {transacciones}\")\n",
    "    "
   ]
  },
  {
   "cell_type": "markdown",
   "metadata": {},
   "source": [
    "## Ejercicio 2\n",
    "Escribí un programa que, dada una frase por el usuario, la muestre invertida."
   ]
  },
  {
   "cell_type": "code",
   "execution_count": 18,
   "metadata": {},
   "outputs": [],
   "source": [
    "def invertir_cadena(cadena):\n",
    "    cadena_invertida = \"\"\n",
    "    for letra in cadena:\n",
    "        cadena_invertida = letra + cadena_invertida\n",
    "    return cadena_invertida"
   ]
  },
  {
   "cell_type": "code",
   "execution_count": 19,
   "metadata": {},
   "outputs": [
    {
     "data": {
      "text/plain": [
       "'asac us rop ordep'"
      ]
     },
     "execution_count": 19,
     "metadata": {},
     "output_type": "execute_result"
    }
   ],
   "source": [
    "invertir_cadena(\"pedro por su casa\")"
   ]
  },
  {
   "cell_type": "code",
   "execution_count": 24,
   "metadata": {},
   "outputs": [
    {
     "name": "stdout",
     "output_type": "stream",
     "text": [
      "nauj\n"
     ]
    }
   ],
   "source": [
    "texto=input(\"Ingrese texto: \")\n",
    "for i in range(len(texto)-1,-1,-1):\n",
    "  print(texto[i],end=\"\") #sin el end=\"\", me mostraria el texto hacia abajo\n",
    "print()\n",
    "#print(texto[::-1]) imprime lo mismo"
   ]
  },
  {
   "cell_type": "code",
   "execution_count": 33,
   "metadata": {},
   "outputs": [
    {
     "name": "stdout",
     "output_type": "stream",
     "text": [
      "aloh\n"
     ]
    }
   ],
   "source": [
    "texto=input(\"Ingrese texto\")\n",
    "texto=texto[::-1]\n",
    "print(texto) #parte de 0 y como se va restando, va devolviendo el último digito\n"
   ]
  },
  {
   "cell_type": "markdown",
   "metadata": {},
   "source": [
    "## Ejercicio de compañeros\n",
    "1. Crea una función que reciba una cadena de texto y que retorne 2 arreglos con minúsculas y mayúsculas, cuente las letras repetidas y muestre el largo de cada lista\n",
    "2. Hacer una alarma. Para esto, se deberá fijar la hora actual y la hora deseada de la alarma. El programa deberá imprimir los minutos hasta que llegue la hora de la alarma y generará el siguiente mensaje: \"Está sonando la alarma\".\n",
    "3. Inventario Tienda\n",
    "\n",
    "Crear un programa que tenga un stock de productos almacenado en un diccionario, el diccionario tiene que contener el nombre, descripcion, stock, precio y en una lista dentro del diccionario guardar los colores o variacioens del producto, cada producto tienen que tener 3 variaciones.\n",
    "\n",
    "Para dejar de ingresar productos, escribir la palabra SALIR."
   ]
  },
  {
   "cell_type": "code",
   "execution_count": 27,
   "metadata": {},
   "outputs": [
    {
     "name": "stdout",
     "output_type": "stream",
     "text": [
      "{'t': 2, 'e': 1, 'x': 1, 'o': 1}\n"
     ]
    }
   ],
   "source": [
    "value=\"texto\"\n",
    "contador=0\n",
    "dic={}\n",
    "for i in value:\n",
    "    contador=value.count(i)\n",
    "    dic[i]=contador\n",
    "print(dic)"
   ]
  },
  {
   "cell_type": "code",
   "execution_count": null,
   "metadata": {},
   "outputs": [],
   "source": [
    "from datetime import datetime\n",
    "import time\n",
    "x=input(\"Ingrese la hora que sonara la alarma: \")\n",
    "while True:\n",
    "    try:\n",
    "        \n",
    "        data_x=datetime.strptime(x,\"%H:%M\")\n",
    "        y=time.strftime('%H:%M', time.localtime())\n",
    "        data_y=datetime.strptime(y,\"%H:%M\")\n",
    "        print (\"La hora actual es:\",y, \",Quedan\",int((data_x-data_y).seconds/60),\" minuto para que suene la alarma\")\n",
    "        if x==y:\n",
    "            print (\"La alarma esta sonando\")\n",
    "            \n",
    "            break\n",
    "    except ValueError:\n",
    "        print(\"Ingre un valor valido\")"
   ]
  },
  {
   "cell_type": "markdown",
   "metadata": {},
   "source": [
    "Hecho por mi"
   ]
  },
  {
   "cell_type": "code",
   "execution_count": 6,
   "metadata": {},
   "outputs": [
    {
     "name": "stdout",
     "output_type": "stream",
     "text": [
      "La hora actual es: 19:00:52 ,Quedan 0 minutos y 8  segundos para que suene la alarma\n"
     ]
    }
   ],
   "source": [
    "from datetime import datetime\n",
    "import time\n",
    "x=input(\"Ingrese la hora que sonara la alarma: \")\n",
    "while True:\n",
    "    try:\n",
    "        time.sleep(1) #Espera un segundo ante de volver a␣\n",
    "        data_x=datetime.strptime(x,\"%H:%M\") #Transformo el input a formato␣\n",
    "        data2_x=datetime.strftime(data_x,\"%H:%M:%S\") #Transformo el input a␣\n",
    "        y=time.strftime('%H:%M:%S', time.localtime()) #Obtengo la hora␣\n",
    "        data_y=datetime.strptime(y,\"%H:%M:%S\") #Transformo esta hora␣\n",
    "        print(\"La hora actual es:\",y, \",Quedan\",int((data_x-data_y).seconds/60), \"minutos y\",((data_x-data_y).seconds%60),\" segundos para que suene la alarma\")\n",
    "        if data2_x==y:\n",
    "            print(\"\\n La alarma esta sonando\")\n",
    "        break\n",
    "    except ValueError:\n",
    "        print(\"Ingre un valor valido\")"
   ]
  },
  {
   "cell_type": "code",
   "execution_count": null,
   "metadata": {},
   "outputs": [],
   "source": [
    "from datetime import datetime\n",
    "from datetime import timedelta\n",
    "import time\n",
    "horain=input(\"\\n Ingrese la hora de entrada con el formato HH:MM\")\n",
    "horaout=input(\"\\n Ingrese la hora que sonará la alarma con el formato HH:MM\")\n",
    "hora1=0\n",
    "hora2=0.1\n",
    "while hora1<hora2:\n",
    "        hora1=datetime.strptime(horain,'%H:%M')\n",
    "        hora11=datetime.strftime(hora1,'%H:%M:%S')\n",
    "        hora2=datetime.strptime(horaout,'%H:%M')\n",
    "        hora22=datetime.strftime(hora2,'%H:%M:%S')\n",
    "        print(\"la hora es: \",hora11, \"y quedan\", int((hora2-hora1).seconds/60),\"minutos para que suene\")\n",
    "        hora1=hora1+timedelta(minutes=1)\n",
    "        "
   ]
  },
  {
   "cell_type": "markdown",
   "metadata": {},
   "source": [
    "## ejercicio 1 propuesto por nosotros\n",
    "como se desarrolla propuesto por un compañero"
   ]
  },
  {
   "cell_type": "code",
   "execution_count": 35,
   "metadata": {},
   "outputs": [
    {
     "name": "stdout",
     "output_type": "stream",
     "text": [
      "Juan [4.0, 3.0, 3.0, 3.0, 3.0]\n"
     ]
    }
   ],
   "source": [
    "alumno = \"\"\n",
    "nota = \"\"\n",
    "notas = []\n",
    "alumnos = {}\n",
    "\n",
    "while alumno.lower() != \"salir\":\n",
    "  alumno = input(\"\\n Ingrese el nombre del alumno (esribir SALIR para terminar el programa): \")\n",
    "\n",
    "  if alumno.lower() != \"salir\":\n",
    "    while nota.lower() != \"salir\":\n",
    "      nota = input(\"\\n Ingrese la nota del alumno: (escribir SALIR para dejar de ingresar notas): \")\n",
    "\n",
    "      if nota.lower() != \"salir\":\n",
    "        notas.append(float(nota))\n",
    "\n",
    "    alumnos[alumno] = notas.copy()\n",
    "  notas.clear()\n",
    "  nota = \"\"\n",
    "\n",
    "for item in alumnos:\n",
    "  print(item, alumnos[item][::-1])"
   ]
  },
  {
   "cell_type": "markdown",
   "metadata": {},
   "source": [
    "como yo lo hice"
   ]
  },
  {
   "cell_type": "code",
   "execution_count": 41,
   "metadata": {},
   "outputs": [
    {
     "name": "stdout",
     "output_type": "stream",
     "text": [
      "Juan [7.0, 6.0, 5.0, 4.0, 3.0]\n",
      "maria [3.0, 4.0, 5.0, 6.0, 7.0]\n",
      "javiera [6.0, 5.0, 4.0, 3.0, 2.0, 1.0]\n"
     ]
    }
   ],
   "source": [
    "agregar=\"\"\n",
    "nota=\"\"\n",
    "notas=[]\n",
    "estudiantes={}\n",
    "\n",
    "while agregar.lower() != \"no\":\n",
    "    agregar=input(\"\\n desea agregar un alumno? si lo desea, escriba el nombre, sino solo escriba no.: \\n \") \n",
    "    if agregar.lower() != \"no\":\n",
    "        while nota.lower() != \"no\":\n",
    "            nota=input(\"\\n Desea agregar una nueva nota?\\n si es así escriba la nota, sino solo escriba no\\n:\")\n",
    "            if nota.lower() != \"no\":\n",
    "                notas.append(float(nota))\n",
    "        notas.reverse()\n",
    "        estudiantes[agregar]=notas.copy()\n",
    "        nota=\"\"\n",
    "        notas.clear()\n",
    "\n",
    "for valor in estudiantes:\n",
    "    print(valor, estudiantes[valor])\n",
    "\n"
   ]
  }
 ],
 "metadata": {
  "interpreter": {
   "hash": "97f7225dcf674d32e3840b94e0b97c696ce2dd48955058b7daa1a6e223346e32"
  },
  "kernelspec": {
   "display_name": "Python 3.9.7 ('base')",
   "language": "python",
   "name": "python3"
  },
  "language_info": {
   "codemirror_mode": {
    "name": "ipython",
    "version": 3
   },
   "file_extension": ".py",
   "mimetype": "text/x-python",
   "name": "python",
   "nbconvert_exporter": "python",
   "pygments_lexer": "ipython3",
   "version": "3.9.7"
  },
  "orig_nbformat": 4
 },
 "nbformat": 4,
 "nbformat_minor": 2
}
