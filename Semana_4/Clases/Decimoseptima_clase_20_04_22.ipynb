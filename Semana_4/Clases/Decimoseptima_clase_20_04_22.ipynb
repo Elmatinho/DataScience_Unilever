{
 "cells": [
  {
   "cell_type": "markdown",
   "metadata": {},
   "source": [
    "# Para hoy\n",
    "1. Especificidad\n",
    "2. Sensibilidad"
   ]
  },
  {
   "cell_type": "markdown",
   "metadata": {},
   "source": [
    "Cuando se hace una clasificación en un dataset con desbalanceo de clases se usa el recall o la sensibilidad y la specifity, no la presición. \n",
    "si hay balanceo de clases, se usa la precisión "
   ]
  },
  {
   "cell_type": "code",
   "execution_count": null,
   "metadata": {},
   "outputs": [],
   "source": []
  },
  {
   "cell_type": "code",
   "execution_count": null,
   "metadata": {},
   "outputs": [],
   "source": [
    "for i,j in "
   ]
  }
 ],
 "metadata": {
  "interpreter": {
   "hash": "82f297aed5a1f891a9c998abd3debcb12192d16a341539449b62f39c7e199530"
  },
  "kernelspec": {
   "display_name": "Python 3.9.11 ('myenv')",
   "language": "python",
   "name": "python3"
  },
  "language_info": {
   "codemirror_mode": {
    "name": "ipython",
    "version": 3
   },
   "file_extension": ".py",
   "mimetype": "text/x-python",
   "name": "python",
   "nbconvert_exporter": "python",
   "pygments_lexer": "ipython3",
   "version": "3.9.11"
  },
  "orig_nbformat": 4
 },
 "nbformat": 4,
 "nbformat_minor": 2
}
