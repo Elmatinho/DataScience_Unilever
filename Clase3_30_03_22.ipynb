{
  "nbformat": 4,
  "nbformat_minor": 0,
  "metadata": {
    "colab": {
      "name": "Clase3_30_03_22.ipynb",
      "provenance": [],
      "authorship_tag": "ABX9TyPbzaKkOPh6dQ76h6fScW0n",
      "include_colab_link": true
    },
    "kernelspec": {
      "name": "python3",
      "display_name": "Python 3"
    },
    "language_info": {
      "name": "python"
    }
  },
  "cells": [
    {
      "cell_type": "markdown",
      "metadata": {
        "id": "view-in-github",
        "colab_type": "text"
      },
      "source": [
        "<a href=\"https://colab.research.google.com/github/Elmatinho/DataScience_Unilever/blob/main/Clase3_30_03_22.ipynb\" target=\"_parent\"><img src=\"https://colab.research.google.com/assets/colab-badge.svg\" alt=\"Open In Colab\"/></a>"
      ]
    },
    {
      "cell_type": "markdown",
      "source": [
        "# Capitulo 3\n",
        "hoy se verá\n",
        "* Listas\n",
        "* Tuplas\n",
        "* Diccionarios\n",
        "* ciclos"
      ],
      "metadata": {
        "id": "BbtBpuT68-TW"
      }
    },
    {
      "cell_type": "markdown",
      "source": [
        "repaso de funciones"
      ],
      "metadata": {
        "id": "k0uS2h159M4V"
      }
    },
    {
      "cell_type": "code",
      "execution_count": null,
      "metadata": {
        "id": "KFWOG14Q83Vt"
      },
      "outputs": [],
      "source": [
        "def par(n):\n",
        "    if (n==0):\n",
        "        print(\"digito el numero 0\")\n",
        "    else:\n",
        "        x=n%2\n",
        "        if(x!=0):\n",
        "            print(\"numero impar\")\n",
        "            return x,n\n",
        "        else:\n",
        "            print(\"Numero par\")\n",
        "            return x,n "
      ]
    },
    {
      "cell_type": "markdown",
      "source": [
        "para devolver varias variables, solo se hace el return con los valores a retornar separados con coma.\n",
        "Es importante que siempre devuelva el valor, el return"
      ],
      "metadata": {
        "id": "pZ4ebnNo9PgF"
      }
    },
    {
      "cell_type": "markdown",
      "source": [
        "Ejercicio de la hipoteca con función"
      ],
      "metadata": {
        "id": "t3vNOJX-9VRO"
      }
    },
    {
      "cell_type": "code",
      "source": [
        "def pago_cuota():\n",
        "    prestamo=float(input(\"ingrese el monto solicitado \"))\n",
        "    tasa=float(input(\"ingrese la tasa del credito \"))\n",
        "    periodo=int(input(\"ingrese el periodo de su prestamo \"))\n",
        "    tasa=(tasa/100)/12\n",
        "    x= prestamo*tasa * (1+tasa)**periodo/((1+tasa)**periodo-1)\n",
        "    return x"
      ],
      "metadata": {
        "id": "x-XLTtl79TBB"
      },
      "execution_count": null,
      "outputs": []
    },
    {
      "cell_type": "code",
      "source": [
        "pago_cuota()"
      ],
      "metadata": {
        "colab": {
          "base_uri": "https://localhost:8080/"
        },
        "id": "QPayvQy49V7D",
        "outputId": "95f26296-030c-4a2c-8e66-a6aaa65c7752"
      },
      "execution_count": null,
      "outputs": [
        {
          "name": "stdout",
          "output_type": "stream",
          "text": [
            "ingrese el monto solicitado40000\n",
            "ingrese la tasa del credito3\n",
            "ingrese el periodo de su prestamo360\n"
          ]
        },
        {
          "output_type": "execute_result",
          "data": {
            "text/plain": [
              "168.6416134917824"
            ]
          },
          "metadata": {},
          "execution_count": 4
        }
      ]
    },
    {
      "cell_type": "markdown",
      "source": [
        "### Listas\n",
        "\n",
        "Las listas pueden contener una cantidad enorme de información, desde numeros, textos y listas(dentro de listas, aunq es mala practica)\n",
        "\n",
        "- Para acceder a los datos de las listas solo hay que nombrar la listas+ los [ ] con sus valores si los requiere\n",
        "- Son modificables :D \n",
        "- ademas si hacemos un doble corchete, entramos de por sí al dato\n",
        "- para reemplazar solo hay que poner el nombre de la lista+ la posición y esto lo igualamos al nuevo valor\n",
        "- para eliminar solo usar el .pop\n",
        "- para agregar el .append\n",
        "- para acceder a varios elementos hay que escribir el rango [x:y]\n",
        "-"
      ],
      "metadata": {
        "id": "7V_3Dbcd_WS7"
      }
    },
    {
      "cell_type": "markdown",
      "source": [
        "### Tuplas\n",
        "como las listas pero no modificables, se crea con ()\n",
        "* si tenemos una lista dentro de una tupla, se puede modificar"
      ],
      "metadata": {
        "id": "jHL7Y6j4C0nL"
      }
    },
    {
      "cell_type": "markdown",
      "source": [
        "Escribir un programa que almacene un lista y luego imprima un texto"
      ],
      "metadata": {
        "id": "eHphmG4NELAb"
      }
    },
    {
      "cell_type": "code",
      "source": [
        "lista_de_asignaturas=[]\n",
        "asignatura=input(\"Ingrese su asignatura\")\n",
        "lista_de_asignaturas.append(asignatura)\n",
        "print(\"Yo estudio\", lista_de_asignaturas)\n",
        "asignatura=input(\"Ingrese su asignatura\")\n",
        "lista_de_asignaturas.append(asignatura)\n",
        "print(\"Yo estudio\", lista_de_asignaturas)\n",
        "asignatura=input(\"Ingrese su asignatura\")\n",
        "lista_de_asignaturas.append(asignatura)\n",
        "print(\"Yo estudio\", lista_de_asignaturas[len(lista_de_asignaturas)-1])\n",
        "\n"
      ],
      "metadata": {
        "colab": {
          "base_uri": "https://localhost:8080/"
        },
        "id": "RARIzTnEEKKR",
        "outputId": "8e50a993-2a3b-47d2-e533-e46451dc7556"
      },
      "execution_count": null,
      "outputs": [
        {
          "output_type": "stream",
          "name": "stdout",
          "text": [
            "Ingrese su asignaturamate\n",
            "Yo estudio ['mate']\n",
            "Ingrese su asignaturaciencia\n",
            "Yo estudio ['mate', 'ciencia']\n",
            "Ingrese su asignaturalenguaje\n",
            "Yo estudio lenguaje\n"
          ]
        }
      ]
    },
    {
      "cell_type": "code",
      "source": [
        "len(lista_de_asignaturas)"
      ],
      "metadata": {
        "colab": {
          "base_uri": "https://localhost:8080/"
        },
        "id": "M3TqhHzBGqyF",
        "outputId": "481d9d48-e125-48a9-f8e1-bc5851d6dac6"
      },
      "execution_count": null,
      "outputs": [
        {
          "output_type": "execute_result",
          "data": {
            "text/plain": [
              "3"
            ]
          },
          "metadata": {},
          "execution_count": 12
        }
      ]
    },
    {
      "cell_type": "markdown",
      "source": [
        "Escribir un programa que almacene las asignaturas de un curso (6 asignaturas) en una lista, pregunte al usuario la nota que ha sacado en cada asignatura, y después las muestre por pantalla con el mensaje En has sacado donde es cada una des las asignaturas de la lista y cada una de las correspondientes notas introducidas por el usuario."
      ],
      "metadata": {
        "id": "q2OSaZV1HyHJ"
      }
    },
    {
      "cell_type": "code",
      "source": [
        "lista_de_asignaturas=[]\n",
        "notas_asignatura=[]\n",
        "asignatura=input(\"Ingrese su asignatura\")\n",
        "notas=input(\"ingrese su nota\")\n",
        "lista_de_asignaturas.append(asignatura)\n",
        "notas_asignatura.append(notas)\n",
        "print(\"Yo estudio\", lista_de_asignaturas[len(lista_de_asignaturas)-1], \"Y mi nota es \",notas_asignatura[len(notas_asignatura)-1])\n",
        "asignatura=input(\"Ingrese su asignatura\")\n",
        "notas=input(\"ingrese su nota\")\n",
        "lista_de_asignaturas.append(asignatura)\n",
        "notas_asignatura.append(notas)\n",
        "print(\"Yo estudio\", lista_de_asignaturas[len(lista_de_asignaturas)-1], \"Y mi nota es \",notas_asignatura[len(notas_asignatura)-1])\n"
      ],
      "metadata": {
        "colab": {
          "base_uri": "https://localhost:8080/"
        },
        "id": "XBVAV0qlHzPw",
        "outputId": "32690445-b765-4955-bcab-28ef545038c3"
      },
      "execution_count": null,
      "outputs": [
        {
          "output_type": "stream",
          "name": "stdout",
          "text": [
            "Ingrese su asignaturamate\n",
            "ingrese su nota9\n",
            "Yo estudio mate Y mi nota es  9\n",
            "Ingrese su asignaturaciencia\n",
            "ingrese su nota10\n",
            "Yo estudio ciencia Y mi nota es  10\n"
          ]
        }
      ]
    },
    {
      "cell_type": "code",
      "source": [
        "len(notas)"
      ],
      "metadata": {
        "colab": {
          "base_uri": "https://localhost:8080/"
        },
        "id": "hKtywr_7KZUf",
        "outputId": "96d76f14-28f0-467c-c01e-48bb2eb54c6a"
      },
      "execution_count": null,
      "outputs": [
        {
          "output_type": "execute_result",
          "data": {
            "text/plain": [
              "1"
            ]
          },
          "metadata": {},
          "execution_count": 22
        }
      ]
    },
    {
      "cell_type": "markdown",
      "source": [
        "Crear una contraseña de 4 digitos que no pueda ser cambiada, preguntar al usuario si es valida, decir contraseña ok, si no mostrar contraseña erronea."
      ],
      "metadata": {
        "id": "5utZGxlnJB_c"
      }
    },
    {
      "cell_type": "code",
      "source": [
        "contraseña=(5895)\n",
        "validar=input(\"ingrese su contraseña\")\n",
        "if validar==contraseña:\n",
        "  print(\"Ok\")\n",
        "else:\n",
        "  print(\"Erronea\")"
      ],
      "metadata": {
        "id": "eX3wFHsdJFgQ"
      },
      "execution_count": null,
      "outputs": []
    },
    {
      "cell_type": "markdown",
      "source": [
        "### Diccionarios\n",
        "Esto cada elemento que tenemos es un valor pero tienen llaves, que son los identificadores de ciertos valores,\n",
        "\n",
        "Los diccionarios nosotros usamos las llaves {} para poder crear un item dentro del diccionario\n",
        "\n",
        "las llaves no son modificables\n",
        "y para acceder a valores adentro de un diccionario es escalable con los [] \n",
        "\n",
        "El tipo type permite saber que cosa estamos trabajando, tipo de dato"
      ],
      "metadata": {
        "id": "P8v1vJTHOkWv"
      }
    },
    {
      "cell_type": "markdown",
      "source": [
        "## Estructura de control\n",
        "\n",
        "### IF, ELSE, ELIF\n",
        "Si una condición se cumple o no sigue el codigo\n",
        "\n",
        "### Ciclica\n",
        "\n",
        "Ciclos for y while\n",
        "\n",
        "con for el ciclo es\n",
        "\n",
        "**for variable in secuencia:**"
      ],
      "metadata": {
        "id": "E3rasrtzQOjC"
      }
    },
    {
      "cell_type": "code",
      "source": [
        "for i in range(0,5):\n",
        "  print(i)\n",
        "  if (i==3):\n",
        "    break"
      ],
      "metadata": {
        "colab": {
          "base_uri": "https://localhost:8080/"
        },
        "id": "ar5KZ2gDRE0Z",
        "outputId": "4a8ad7d4-28d3-45dd-ae17-d3660105213c"
      },
      "execution_count": null,
      "outputs": [
        {
          "output_type": "stream",
          "name": "stdout",
          "text": [
            "0\n",
            "1\n",
            "2\n",
            "3\n"
          ]
        }
      ]
    },
    {
      "cell_type": "code",
      "source": [
        "lista_prueba=[4,2,8,6,3,4]\n",
        "for i in lista_prueba:\n",
        "  print(\"Iterando\")\n",
        "  print(i)"
      ],
      "metadata": {
        "colab": {
          "base_uri": "https://localhost:8080/"
        },
        "id": "SMEPZZEURVih",
        "outputId": "2d90e0e8-8eef-4ca8-ec49-59d7d32890cf"
      },
      "execution_count": null,
      "outputs": [
        {
          "output_type": "stream",
          "name": "stdout",
          "text": [
            "Iterando\n",
            "4\n",
            "Iterando\n",
            "2\n",
            "Iterando\n",
            "8\n",
            "Iterando\n",
            "6\n",
            "Iterando\n",
            "3\n",
            "Iterando\n",
            "4\n"
          ]
        }
      ]
    },
    {
      "cell_type": "markdown",
      "source": [
        "### While\n",
        "\n",
        "Se ejecuta siempre cuando la condición se cumpla\n",
        "while <condición> :\n",
        "\n",
        "y esto es siempre infinito hasta que nosotros modifiquemos la variable de control dentro del ciclo"
      ],
      "metadata": {
        "id": "Y8v8uJwLSEIs"
      }
    },
    {
      "cell_type": "markdown",
      "source": [
        "##Ejercicio\n",
        "\n",
        "Cree una aplicación Python que entregue ciertas caracterı́sticas de un número solicitado. Para esto, el programa deberá realizar las siguientes tareas:\n",
        "        Solicitar al usuario un número entero positivo perteneciente al rango [2,1000]. Su programa debe verificar esta condición. En caso contrario, se debe pedir otro número hasta que se cumpla la condición.\n",
        "        Indicar las siguientes caracterı́sticas del número solicitado:\n",
        "        ¿Es un número par o impar?\n",
        "        ¿Es un número primo?\n",
        "        ¿Cuál es el conjunto de divisores del número? (Se dice que y es divisor de x si el resultado de x ÷ y es un número entero).\n",
        "        Una vez indicada las caracterı́sticas del número, el programa debe finalizar. Ejemplo de funcionamiento:\n",
        "\n",
        "\n",
        "Ingrese un número: 6\n",
        "Número par\n",
        "No es un número primo\n",
        "Conjunto de divisores:\n",
        "1\n",
        "2\n",
        "3\n",
        "6\n",
        "\n",
        "Compañero Cristofer"
      ],
      "metadata": {
        "id": "RAX2WX5wTO_-"
      }
    },
    {
      "cell_type": "code",
      "source": [
        "while True:\n",
        "\n",
        "  try:\n",
        "    x=int(input(\"ingrese el numero solicitado\"))\n",
        "    if(x>=2) and (x<=1000):\n",
        "      if x%2==0:\n",
        "        print(\"Es par\")\n",
        "      else:\n",
        "        print(\"es impar\")\n",
        "      for i in range(1,x+1):\n",
        "        conteo=0\n",
        "        if x%i==0:\n",
        "          conteo+=1\n",
        "          print(\"Es divisor de\",x,\": \",i)\n",
        "      if conteo>1:\n",
        "        print(\"No es primo\")\n",
        "      else:\n",
        "        print(\"Es primo\")\n",
        "      break\n",
        "    else:\n",
        "      print(\"No es un numero valido, ingrese uno nuevamente\")\n",
        "\n",
        "      \n",
        "\n",
        "  except ValueError:\n",
        "    print(\"Por favor, ingrese un numero valido\")"
      ],
      "metadata": {
        "colab": {
          "base_uri": "https://localhost:8080/"
        },
        "id": "dnT0J2guTTuq",
        "outputId": "d738d500-5cb3-4eca-c790-f15ee72f8bd8"
      },
      "execution_count": null,
      "outputs": [
        {
          "output_type": "stream",
          "name": "stdout",
          "text": [
            "ingrese el numero solicitado6\n",
            "Es par\n",
            "Es divisor de 6 :  1\n",
            "Es divisor de 6 :  2\n",
            "Es divisor de 6 :  3\n",
            "Es divisor de 6 :  6\n",
            "Es primo\n"
          ]
        }
      ]
    },
    {
      "cell_type": "markdown",
      "source": [
        "##Ejercicio 2\n",
        "\n",
        "Actividad 2\n",
        "\n",
        "Codifica un programa en python que nos permita guardar los nombres de los alumnos de una clase y las notas que han obtenido. Cada alumno puede tener distinta cantidad de notas. Guarda la información en un diccionario cuya claves serán los nombres de los alumnos y los valores serán listas con las notas de cada alumno.\n",
        "\n",
        "El programa pedirá el número de alumnos que vamos a introducir, pedirá su nombre e irá pidiendo sus notas hasta que introduzcamos un número negativo. Al final el programa nos mostrará la lista de alumnos y la nota media obtenida por cada uno de ellos. Nota: si se introduce el nombre de un alumno que ya existe el programa nos dará un error."
      ],
      "metadata": {
        "id": "NuWB2Oi2b25m"
      }
    },
    {
      "cell_type": "code",
      "source": [
        "Estudiantes={}\n",
        "\n",
        "Nombre_estudiantes=[]\n",
        "numero_de_alumnos=int(input(\"Ingrese el numero de estudiantes del curso \"))\n",
        "for i in range(1,numero_de_alumnos+1):\n",
        "  Nombre_estudiantes=Estudiantes.keys()\n",
        "  y=input(\"Ingrese el nombre del alumno \")\n",
        "  lista=[]\n",
        "  if y in Estudiantes:\n",
        "    print(\"Nombre encontrado\")\n",
        "    break\n",
        "  while True:\n",
        "    nota=int(input(\"ingrese la nota \"))\n",
        "    if nota>0:\n",
        "      lista.append(nota)\n",
        "    elif nota <=0:\n",
        "      break\n",
        "    Estudiantes[y]=lista\n",
        "print(Estudiantes)\n",
        "for i,j in Estudiantes.items():\n",
        "    print(i,sum(j)/len(j))\n",
        "      \n",
        "\n",
        "\n",
        "  \n"
      ],
      "metadata": {
        "id": "2HD_xReUb_db"
      },
      "execution_count": null,
      "outputs": []
    },
    {
      "cell_type": "code",
      "source": [
        "Estudiantes\n",
        "for i,j in Estudiantes.items():\n",
        "  print(i)\n",
        "  print(j)\n",
        "\n"
      ],
      "metadata": {
        "id": "_WQayDEDfDTl"
      },
      "execution_count": null,
      "outputs": []
    },
    {
      "cell_type": "markdown",
      "source": [
        "##Ejercicio 3\n",
        "\n",
        "Escribir un programa que implemente una agenda. En la agenda se podrán guardar nombres y números de teléfono. El programa nos dará el siguiente menú:\n",
        "\n",
        "Añadir/modificar: Nos pide un nombre. Si el nombre se encuentra en la agenda, debe mostrar el teléfono y, opcionalmente, permitir modificarlo si no es correcto. Si el nombre no se encuentra, debe permitir ingresar el teléfono correspondiente.\n",
        "Buscar: Nos pide una cadena de caracteres, y nos muestras todos los contactos cuyos nombres comiencen por dicha cadena.\n",
        "Borrar: Nos pide un nombre y si existe nos preguntará si queremos borrarlo de la agenda.\n",
        "Listar: Nos muestra todos los contactos de la agenda.\n",
        "\n",
        "Implementar el programa con un diccionario."
      ],
      "metadata": {
        "id": "0txAsahAb_5Q"
      }
    },
    {
      "cell_type": "code",
      "source": [
        ""
      ],
      "metadata": {
        "id": "sDo_x_h1cFuF"
      },
      "execution_count": null,
      "outputs": []
    },
    {
      "cell_type": "code",
      "source": [
        "Agenda={'Juan A':9900,'María':4400,'Juan T':2222}\n",
        "listado_tel=[]\n",
        "valor_menu=int(input(\"Favor seleccione lo que desea realizar\\n 1.Añadir/modificar\\n 2.Buscar\\n 3.Borrar\\n 4.Listar\\n\"))\n",
        "if valor_menu==1:\n",
        "  nombre=input(\"Ingrese el nombre\")\n",
        "  if nombre in Agenda.keys():\n",
        "    print(\"nombre existente\")\n",
        "    print(Agenda[nombre])\n",
        "    afirmación=int(input(\"Esta correcto el numero?\\n 1.sí\\n 2.no\\n\"))\n",
        "    if afirmación==2:\n",
        "      telefono=int(input(\"modifique telefono\"))\n",
        "      Agenda[nombre]=telefono\n",
        "  else:\n",
        "    telefono=int(input(\"ingrese telefono\"))\n",
        "    Agenda.update({nombre:telefono})\n",
        "  print(Agenda)\n",
        "\n",
        "if valor_menu==2:\n",
        "  nombre=input(\"Ingrese el nombre\")\n",
        "  def resta_string(lista,palabra):\n",
        "    for i in lista:\n",
        "      restita=len(i)-len(palabra)\n",
        "      comparando=i[0:-restita]\n",
        "      if palabra.lower() == comparando.lower():\n",
        "        print(i)\n",
        "        return True\n",
        "  resta_string(Agenda.keys(),nombre)\n",
        "\n",
        "\n",
        "if valor_menu==3:\n",
        "  nombre=input(\"Ingrese el nombre\")\n",
        "  if nombre in Agenda.keys():\n",
        "    print(\"nombre existente\")\n",
        "    afirmación=int(input(\"desea borrarlo?\\n 1.sí\\n 2.no\\n\"))\n",
        "    if afirmación==1:\n",
        "      Agenda.pop(nombre)\n",
        "      print(\"Nombre borrado\")\n",
        "      print(Agenda)\n",
        "    else:\n",
        "      print(\"Contacto no borrado\")\n",
        "\n",
        "\n",
        "if valor_menu==4:\n",
        "  print(Agenda)\n",
        "\n",
        "\n",
        "\n"
      ],
      "metadata": {
        "id": "U4V_-Kbbt9um"
      },
      "execution_count": null,
      "outputs": []
    },
    {
      "cell_type": "code",
      "source": [
        "x=\"pedro t\"\n",
        "z=[\"pedro i\",\"pedro j\", \"pepa\"]\n",
        "resta=len(x)-len(\"solas\")\n",
        "x=x[0:-resta]\n",
        "if \"pedro\"==x:\n",
        "  print(\"Well done\")\n",
        "else:\n",
        "  print(\"Fuck\")\n",
        "print(x)\n"
      ],
      "metadata": {
        "colab": {
          "base_uri": "https://localhost:8080/"
        },
        "id": "5N4yqKzKqVWh",
        "outputId": "367b6009-7142-4e2e-fa7c-5298f37cc909"
      },
      "execution_count": null,
      "outputs": [
        {
          "output_type": "stream",
          "name": "stdout",
          "text": [
            "Well done\n",
            "pedro\n"
          ]
        }
      ]
    },
    {
      "cell_type": "code",
      "source": [
        "z=[\"Pedro i\",\"pedro j\", \"pepa\"]\n",
        "def resta_string(lista,palabra):\n",
        "  for i in lista:\n",
        "    restita=len(i)-len(palabra)\n",
        "    comparando=i[0:-restita]\n",
        "    if palabra.lower() == comparando.lower():\n",
        "      print(\"Well done\")\n",
        "    else:\n",
        "      print(\"Fuck\")\n"
      ],
      "metadata": {
        "id": "UiwGGAnJvZJR"
      },
      "execution_count": null,
      "outputs": []
    },
    {
      "cell_type": "code",
      "source": [
        "resta_string(z,\"pedro\")"
      ],
      "metadata": {
        "colab": {
          "base_uri": "https://localhost:8080/"
        },
        "id": "NLBrXnGvwVQs",
        "outputId": "a0673f81-561f-427c-f269-861f5b1cbdb0"
      },
      "execution_count": null,
      "outputs": [
        {
          "output_type": "stream",
          "name": "stdout",
          "text": [
            "Well done\n",
            "Well done\n",
            "Fuck\n"
          ]
        }
      ]
    }
  ]
}