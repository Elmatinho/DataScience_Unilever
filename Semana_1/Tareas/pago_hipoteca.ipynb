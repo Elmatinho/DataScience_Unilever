{
  "nbformat": 4,
  "nbformat_minor": 0,
  "metadata": {
    "colab": {
      "name": "pago_hipoteca.ipynb",
      "provenance": [],
      "authorship_tag": "ABX9TyMbw1vwNXIO3Z9K9RDmou5M",
      "include_colab_link": true
    },
    "kernelspec": {
      "name": "python3",
      "display_name": "Python 3"
    },
    "language_info": {
      "name": "python"
    }
  },
  "cells": [
    {
      "cell_type": "markdown",
      "metadata": {
        "id": "view-in-github",
        "colab_type": "text"
      },
      "source": [
        "<a href=\"https://colab.research.google.com/github/Elmatinho/DataScience_Unilever/blob/main/pago_hipoteca.ipynb\" target=\"_parent\"><img src=\"https://colab.research.google.com/assets/colab-badge.svg\" alt=\"Open In Colab\"/></a>"
      ]
    },
    {
      "cell_type": "code",
      "execution_count": 14,
      "metadata": {
        "colab": {
          "base_uri": "https://localhost:8080/"
        },
        "id": "tg1QkuJN2Z9d",
        "outputId": "36004332-2885-4f6d-9708-dd0e28516bfc"
      },
      "outputs": [
        {
          "output_type": "execute_result",
          "data": {
            "text/plain": [
              "1686.4161349178241"
            ]
          },
          "metadata": {},
          "execution_count": 14
        }
      ],
      "source": [
        "p=400000\n",
        "r=3/1200\n",
        "n=360\n",
        "cuota= p*r * (1+r)**360/((1+r)**360-1)\n",
        "cuota"
      ]
    }
  ]
}